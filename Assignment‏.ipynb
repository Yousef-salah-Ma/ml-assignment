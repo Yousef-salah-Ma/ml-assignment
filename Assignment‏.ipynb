{
 "cells": [
  {
   "cell_type": "code",
   "execution_count": 134,
   "id": "73097569",
   "metadata": {},
   "outputs": [],
   "source": [
    "import pandas as pd\n",
    "import numpy as np\n",
    "import matplotlib.pyplot as plt\n",
    "import seaborn as sns\n",
    "import plotly.express as px\n",
    "from sklearn.linear_model import LinearRegression\n",
    "from sklearn.model_selection import train_test_split\n",
    "pd.set_option('display.max_columns', None)\n",
    "df = pd.read_excel(\"Data_Train.xlsx\")\n"
   ]
  },
  {
   "cell_type": "markdown",
   "id": "f0c1fbc2",
   "metadata": {},
   "source": [
    "# Data Exploration"
   ]
  },
  {
   "cell_type": "code",
   "execution_count": 135,
   "id": "4006364e",
   "metadata": {},
   "outputs": [
    {
     "data": {
      "text/html": [
       "<div>\n",
       "<style scoped>\n",
       "    .dataframe tbody tr th:only-of-type {\n",
       "        vertical-align: middle;\n",
       "    }\n",
       "\n",
       "    .dataframe tbody tr th {\n",
       "        vertical-align: top;\n",
       "    }\n",
       "\n",
       "    .dataframe thead th {\n",
       "        text-align: right;\n",
       "    }\n",
       "</style>\n",
       "<table border=\"1\" class=\"dataframe\">\n",
       "  <thead>\n",
       "    <tr style=\"text-align: right;\">\n",
       "      <th></th>\n",
       "      <th>Airline</th>\n",
       "      <th>Date_of_Journey</th>\n",
       "      <th>Source</th>\n",
       "      <th>Destination</th>\n",
       "      <th>Route</th>\n",
       "      <th>Dep_Time</th>\n",
       "      <th>Arrival_Time</th>\n",
       "      <th>Duration</th>\n",
       "      <th>Total_Stops</th>\n",
       "      <th>Additional_Info</th>\n",
       "      <th>Price</th>\n",
       "    </tr>\n",
       "  </thead>\n",
       "  <tbody>\n",
       "    <tr>\n",
       "      <th>0</th>\n",
       "      <td>IndiGo</td>\n",
       "      <td>24/03/2019</td>\n",
       "      <td>Banglore</td>\n",
       "      <td>New Delhi</td>\n",
       "      <td>BLR → DEL</td>\n",
       "      <td>22:20</td>\n",
       "      <td>01:10 22 Mar</td>\n",
       "      <td>2h 50m</td>\n",
       "      <td>non-stop</td>\n",
       "      <td>No info</td>\n",
       "      <td>3897</td>\n",
       "    </tr>\n",
       "    <tr>\n",
       "      <th>1</th>\n",
       "      <td>Air India</td>\n",
       "      <td>1/05/2019</td>\n",
       "      <td>Kolkata</td>\n",
       "      <td>Banglore</td>\n",
       "      <td>CCU → IXR → BBI → BLR</td>\n",
       "      <td>05:50</td>\n",
       "      <td>13:15</td>\n",
       "      <td>7h 25m</td>\n",
       "      <td>2 stops</td>\n",
       "      <td>No info</td>\n",
       "      <td>7662</td>\n",
       "    </tr>\n",
       "    <tr>\n",
       "      <th>2</th>\n",
       "      <td>Jet Airways</td>\n",
       "      <td>9/06/2019</td>\n",
       "      <td>Delhi</td>\n",
       "      <td>Cochin</td>\n",
       "      <td>DEL → LKO → BOM → COK</td>\n",
       "      <td>09:25</td>\n",
       "      <td>04:25 10 Jun</td>\n",
       "      <td>19h</td>\n",
       "      <td>2 stops</td>\n",
       "      <td>No info</td>\n",
       "      <td>13882</td>\n",
       "    </tr>\n",
       "    <tr>\n",
       "      <th>3</th>\n",
       "      <td>IndiGo</td>\n",
       "      <td>12/05/2019</td>\n",
       "      <td>Kolkata</td>\n",
       "      <td>Banglore</td>\n",
       "      <td>CCU → NAG → BLR</td>\n",
       "      <td>18:05</td>\n",
       "      <td>23:30</td>\n",
       "      <td>5h 25m</td>\n",
       "      <td>1 stop</td>\n",
       "      <td>No info</td>\n",
       "      <td>6218</td>\n",
       "    </tr>\n",
       "    <tr>\n",
       "      <th>4</th>\n",
       "      <td>IndiGo</td>\n",
       "      <td>01/03/2019</td>\n",
       "      <td>Banglore</td>\n",
       "      <td>New Delhi</td>\n",
       "      <td>BLR → NAG → DEL</td>\n",
       "      <td>16:50</td>\n",
       "      <td>21:35</td>\n",
       "      <td>4h 45m</td>\n",
       "      <td>1 stop</td>\n",
       "      <td>No info</td>\n",
       "      <td>13302</td>\n",
       "    </tr>\n",
       "  </tbody>\n",
       "</table>\n",
       "</div>"
      ],
      "text/plain": [
       "       Airline Date_of_Journey    Source Destination                  Route  \\\n",
       "0       IndiGo      24/03/2019  Banglore   New Delhi              BLR → DEL   \n",
       "1    Air India       1/05/2019   Kolkata    Banglore  CCU → IXR → BBI → BLR   \n",
       "2  Jet Airways       9/06/2019     Delhi      Cochin  DEL → LKO → BOM → COK   \n",
       "3       IndiGo      12/05/2019   Kolkata    Banglore        CCU → NAG → BLR   \n",
       "4       IndiGo      01/03/2019  Banglore   New Delhi        BLR → NAG → DEL   \n",
       "\n",
       "  Dep_Time  Arrival_Time Duration Total_Stops Additional_Info  Price  \n",
       "0    22:20  01:10 22 Mar   2h 50m    non-stop         No info   3897  \n",
       "1    05:50         13:15   7h 25m     2 stops         No info   7662  \n",
       "2    09:25  04:25 10 Jun      19h     2 stops         No info  13882  \n",
       "3    18:05         23:30   5h 25m      1 stop         No info   6218  \n",
       "4    16:50         21:35   4h 45m      1 stop         No info  13302  "
      ]
     },
     "execution_count": 135,
     "metadata": {},
     "output_type": "execute_result"
    }
   ],
   "source": [
    "df.head()"
   ]
  },
  {
   "cell_type": "code",
   "execution_count": 136,
   "id": "b3a4d09d",
   "metadata": {},
   "outputs": [
    {
     "data": {
      "text/plain": [
       "(10683, 11)"
      ]
     },
     "execution_count": 136,
     "metadata": {},
     "output_type": "execute_result"
    }
   ],
   "source": [
    "df.shape"
   ]
  },
  {
   "cell_type": "code",
   "execution_count": 137,
   "id": "29f99751",
   "metadata": {},
   "outputs": [
    {
     "name": "stdout",
     "output_type": "stream",
     "text": [
      "<class 'pandas.core.frame.DataFrame'>\n",
      "RangeIndex: 10683 entries, 0 to 10682\n",
      "Data columns (total 11 columns):\n",
      " #   Column           Non-Null Count  Dtype \n",
      "---  ------           --------------  ----- \n",
      " 0   Airline          10683 non-null  object\n",
      " 1   Date_of_Journey  10683 non-null  object\n",
      " 2   Source           10683 non-null  object\n",
      " 3   Destination      10683 non-null  object\n",
      " 4   Route            10682 non-null  object\n",
      " 5   Dep_Time         10683 non-null  object\n",
      " 6   Arrival_Time     10683 non-null  object\n",
      " 7   Duration         10683 non-null  object\n",
      " 8   Total_Stops      10682 non-null  object\n",
      " 9   Additional_Info  10683 non-null  object\n",
      " 10  Price            10683 non-null  int64 \n",
      "dtypes: int64(1), object(10)\n",
      "memory usage: 918.2+ KB\n"
     ]
    }
   ],
   "source": [
    "df.info()"
   ]
  },
  {
   "cell_type": "code",
   "execution_count": 138,
   "id": "1ad70b88",
   "metadata": {},
   "outputs": [
    {
     "data": {
      "text/html": [
       "<div>\n",
       "<style scoped>\n",
       "    .dataframe tbody tr th:only-of-type {\n",
       "        vertical-align: middle;\n",
       "    }\n",
       "\n",
       "    .dataframe tbody tr th {\n",
       "        vertical-align: top;\n",
       "    }\n",
       "\n",
       "    .dataframe thead th {\n",
       "        text-align: right;\n",
       "    }\n",
       "</style>\n",
       "<table border=\"1\" class=\"dataframe\">\n",
       "  <thead>\n",
       "    <tr style=\"text-align: right;\">\n",
       "      <th></th>\n",
       "      <th>Price</th>\n",
       "    </tr>\n",
       "  </thead>\n",
       "  <tbody>\n",
       "    <tr>\n",
       "      <th>count</th>\n",
       "      <td>10683.000000</td>\n",
       "    </tr>\n",
       "    <tr>\n",
       "      <th>mean</th>\n",
       "      <td>9087.064121</td>\n",
       "    </tr>\n",
       "    <tr>\n",
       "      <th>std</th>\n",
       "      <td>4611.359167</td>\n",
       "    </tr>\n",
       "    <tr>\n",
       "      <th>min</th>\n",
       "      <td>1759.000000</td>\n",
       "    </tr>\n",
       "    <tr>\n",
       "      <th>25%</th>\n",
       "      <td>5277.000000</td>\n",
       "    </tr>\n",
       "    <tr>\n",
       "      <th>50%</th>\n",
       "      <td>8372.000000</td>\n",
       "    </tr>\n",
       "    <tr>\n",
       "      <th>75%</th>\n",
       "      <td>12373.000000</td>\n",
       "    </tr>\n",
       "    <tr>\n",
       "      <th>max</th>\n",
       "      <td>79512.000000</td>\n",
       "    </tr>\n",
       "  </tbody>\n",
       "</table>\n",
       "</div>"
      ],
      "text/plain": [
       "              Price\n",
       "count  10683.000000\n",
       "mean    9087.064121\n",
       "std     4611.359167\n",
       "min     1759.000000\n",
       "25%     5277.000000\n",
       "50%     8372.000000\n",
       "75%    12373.000000\n",
       "max    79512.000000"
      ]
     },
     "execution_count": 138,
     "metadata": {},
     "output_type": "execute_result"
    }
   ],
   "source": [
    "df.describe()"
   ]
  },
  {
   "cell_type": "code",
   "execution_count": 139,
   "id": "78ece658",
   "metadata": {},
   "outputs": [
    {
     "data": {
      "text/html": [
       "<div>\n",
       "<style scoped>\n",
       "    .dataframe tbody tr th:only-of-type {\n",
       "        vertical-align: middle;\n",
       "    }\n",
       "\n",
       "    .dataframe tbody tr th {\n",
       "        vertical-align: top;\n",
       "    }\n",
       "\n",
       "    .dataframe thead th {\n",
       "        text-align: right;\n",
       "    }\n",
       "</style>\n",
       "<table border=\"1\" class=\"dataframe\">\n",
       "  <thead>\n",
       "    <tr style=\"text-align: right;\">\n",
       "      <th></th>\n",
       "      <th>Airline</th>\n",
       "      <th>Date_of_Journey</th>\n",
       "      <th>Source</th>\n",
       "      <th>Destination</th>\n",
       "      <th>Route</th>\n",
       "      <th>Dep_Time</th>\n",
       "      <th>Arrival_Time</th>\n",
       "      <th>Duration</th>\n",
       "      <th>Total_Stops</th>\n",
       "      <th>Additional_Info</th>\n",
       "    </tr>\n",
       "  </thead>\n",
       "  <tbody>\n",
       "    <tr>\n",
       "      <th>count</th>\n",
       "      <td>10683</td>\n",
       "      <td>10683</td>\n",
       "      <td>10683</td>\n",
       "      <td>10683</td>\n",
       "      <td>10682</td>\n",
       "      <td>10683</td>\n",
       "      <td>10683</td>\n",
       "      <td>10683</td>\n",
       "      <td>10682</td>\n",
       "      <td>10683</td>\n",
       "    </tr>\n",
       "    <tr>\n",
       "      <th>unique</th>\n",
       "      <td>12</td>\n",
       "      <td>44</td>\n",
       "      <td>5</td>\n",
       "      <td>6</td>\n",
       "      <td>128</td>\n",
       "      <td>222</td>\n",
       "      <td>1343</td>\n",
       "      <td>368</td>\n",
       "      <td>5</td>\n",
       "      <td>10</td>\n",
       "    </tr>\n",
       "    <tr>\n",
       "      <th>top</th>\n",
       "      <td>Jet Airways</td>\n",
       "      <td>18/05/2019</td>\n",
       "      <td>Delhi</td>\n",
       "      <td>Cochin</td>\n",
       "      <td>DEL → BOM → COK</td>\n",
       "      <td>18:55</td>\n",
       "      <td>19:00</td>\n",
       "      <td>2h 50m</td>\n",
       "      <td>1 stop</td>\n",
       "      <td>No info</td>\n",
       "    </tr>\n",
       "    <tr>\n",
       "      <th>freq</th>\n",
       "      <td>3849</td>\n",
       "      <td>504</td>\n",
       "      <td>4537</td>\n",
       "      <td>4537</td>\n",
       "      <td>2376</td>\n",
       "      <td>233</td>\n",
       "      <td>423</td>\n",
       "      <td>550</td>\n",
       "      <td>5625</td>\n",
       "      <td>8345</td>\n",
       "    </tr>\n",
       "  </tbody>\n",
       "</table>\n",
       "</div>"
      ],
      "text/plain": [
       "            Airline Date_of_Journey Source Destination            Route  \\\n",
       "count         10683           10683  10683       10683            10682   \n",
       "unique           12              44      5           6              128   \n",
       "top     Jet Airways      18/05/2019  Delhi      Cochin  DEL → BOM → COK   \n",
       "freq           3849             504   4537        4537             2376   \n",
       "\n",
       "       Dep_Time Arrival_Time Duration Total_Stops Additional_Info  \n",
       "count     10683        10683    10683       10682           10683  \n",
       "unique      222         1343      368           5              10  \n",
       "top       18:55        19:00   2h 50m      1 stop         No info  \n",
       "freq        233          423      550        5625            8345  "
      ]
     },
     "execution_count": 139,
     "metadata": {},
     "output_type": "execute_result"
    }
   ],
   "source": [
    "df.describe(include=\"object\")"
   ]
  },
  {
   "cell_type": "markdown",
   "id": "ace412a3",
   "metadata": {},
   "source": [
    "# Data Cleaning"
   ]
  },
  {
   "cell_type": "code",
   "execution_count": 140,
   "id": "3a62d4a9",
   "metadata": {},
   "outputs": [
    {
     "data": {
      "text/plain": [
       "Airline            0\n",
       "Date_of_Journey    0\n",
       "Source             0\n",
       "Destination        0\n",
       "Route              1\n",
       "Dep_Time           0\n",
       "Arrival_Time       0\n",
       "Duration           0\n",
       "Total_Stops        1\n",
       "Additional_Info    0\n",
       "Price              0\n",
       "dtype: int64"
      ]
     },
     "execution_count": 140,
     "metadata": {},
     "output_type": "execute_result"
    }
   ],
   "source": [
    "df.isna().sum()"
   ]
  },
  {
   "cell_type": "code",
   "execution_count": 141,
   "id": "c2ad2487",
   "metadata": {},
   "outputs": [],
   "source": [
    "df.dropna(inplace=True)"
   ]
  },
  {
   "cell_type": "code",
   "execution_count": 142,
   "id": "e71c27c1",
   "metadata": {},
   "outputs": [
    {
     "data": {
      "text/plain": [
       "Airline            0\n",
       "Date_of_Journey    0\n",
       "Source             0\n",
       "Destination        0\n",
       "Route              0\n",
       "Dep_Time           0\n",
       "Arrival_Time       0\n",
       "Duration           0\n",
       "Total_Stops        0\n",
       "Additional_Info    0\n",
       "Price              0\n",
       "dtype: int64"
      ]
     },
     "execution_count": 142,
     "metadata": {},
     "output_type": "execute_result"
    }
   ],
   "source": [
    "df.isna().sum()"
   ]
  },
  {
   "cell_type": "code",
   "execution_count": 143,
   "id": "bd917e67",
   "metadata": {},
   "outputs": [
    {
     "data": {
      "text/plain": [
       "np.int64(220)"
      ]
     },
     "execution_count": 143,
     "metadata": {},
     "output_type": "execute_result"
    }
   ],
   "source": [
    "df.duplicated().sum()\n"
   ]
  },
  {
   "cell_type": "code",
   "execution_count": 144,
   "id": "81a8e928",
   "metadata": {},
   "outputs": [],
   "source": [
    "df.drop_duplicates(inplace=True)"
   ]
  },
  {
   "cell_type": "code",
   "execution_count": 145,
   "id": "5c051a03",
   "metadata": {},
   "outputs": [
    {
     "data": {
      "text/html": [
       "<div>\n",
       "<style scoped>\n",
       "    .dataframe tbody tr th:only-of-type {\n",
       "        vertical-align: middle;\n",
       "    }\n",
       "\n",
       "    .dataframe tbody tr th {\n",
       "        vertical-align: top;\n",
       "    }\n",
       "\n",
       "    .dataframe thead th {\n",
       "        text-align: right;\n",
       "    }\n",
       "</style>\n",
       "<table border=\"1\" class=\"dataframe\">\n",
       "  <thead>\n",
       "    <tr style=\"text-align: right;\">\n",
       "      <th></th>\n",
       "      <th>Airline</th>\n",
       "      <th>Date_of_Journey</th>\n",
       "      <th>Source</th>\n",
       "      <th>Destination</th>\n",
       "      <th>Route</th>\n",
       "      <th>Dep_Time</th>\n",
       "      <th>Arrival_Time</th>\n",
       "      <th>Duration</th>\n",
       "      <th>Total_Stops</th>\n",
       "      <th>Additional_Info</th>\n",
       "      <th>Price</th>\n",
       "    </tr>\n",
       "  </thead>\n",
       "  <tbody>\n",
       "    <tr>\n",
       "      <th>0</th>\n",
       "      <td>IndiGo</td>\n",
       "      <td>24/03/2019</td>\n",
       "      <td>Banglore</td>\n",
       "      <td>New Delhi</td>\n",
       "      <td>BLR → DEL</td>\n",
       "      <td>22:20</td>\n",
       "      <td>01:10 22 Mar</td>\n",
       "      <td>2h 50m</td>\n",
       "      <td>non-stop</td>\n",
       "      <td>No info</td>\n",
       "      <td>3897</td>\n",
       "    </tr>\n",
       "    <tr>\n",
       "      <th>1</th>\n",
       "      <td>Air India</td>\n",
       "      <td>1/05/2019</td>\n",
       "      <td>Kolkata</td>\n",
       "      <td>Banglore</td>\n",
       "      <td>CCU → IXR → BBI → BLR</td>\n",
       "      <td>05:50</td>\n",
       "      <td>13:15</td>\n",
       "      <td>7h 25m</td>\n",
       "      <td>2 stops</td>\n",
       "      <td>No info</td>\n",
       "      <td>7662</td>\n",
       "    </tr>\n",
       "    <tr>\n",
       "      <th>2</th>\n",
       "      <td>Jet Airways</td>\n",
       "      <td>9/06/2019</td>\n",
       "      <td>Delhi</td>\n",
       "      <td>Cochin</td>\n",
       "      <td>DEL → LKO → BOM → COK</td>\n",
       "      <td>09:25</td>\n",
       "      <td>04:25 10 Jun</td>\n",
       "      <td>19h</td>\n",
       "      <td>2 stops</td>\n",
       "      <td>No info</td>\n",
       "      <td>13882</td>\n",
       "    </tr>\n",
       "    <tr>\n",
       "      <th>3</th>\n",
       "      <td>IndiGo</td>\n",
       "      <td>12/05/2019</td>\n",
       "      <td>Kolkata</td>\n",
       "      <td>Banglore</td>\n",
       "      <td>CCU → NAG → BLR</td>\n",
       "      <td>18:05</td>\n",
       "      <td>23:30</td>\n",
       "      <td>5h 25m</td>\n",
       "      <td>1 stop</td>\n",
       "      <td>No info</td>\n",
       "      <td>6218</td>\n",
       "    </tr>\n",
       "    <tr>\n",
       "      <th>4</th>\n",
       "      <td>IndiGo</td>\n",
       "      <td>01/03/2019</td>\n",
       "      <td>Banglore</td>\n",
       "      <td>New Delhi</td>\n",
       "      <td>BLR → NAG → DEL</td>\n",
       "      <td>16:50</td>\n",
       "      <td>21:35</td>\n",
       "      <td>4h 45m</td>\n",
       "      <td>1 stop</td>\n",
       "      <td>No info</td>\n",
       "      <td>13302</td>\n",
       "    </tr>\n",
       "    <tr>\n",
       "      <th>...</th>\n",
       "      <td>...</td>\n",
       "      <td>...</td>\n",
       "      <td>...</td>\n",
       "      <td>...</td>\n",
       "      <td>...</td>\n",
       "      <td>...</td>\n",
       "      <td>...</td>\n",
       "      <td>...</td>\n",
       "      <td>...</td>\n",
       "      <td>...</td>\n",
       "      <td>...</td>\n",
       "    </tr>\n",
       "    <tr>\n",
       "      <th>10678</th>\n",
       "      <td>Air Asia</td>\n",
       "      <td>9/04/2019</td>\n",
       "      <td>Kolkata</td>\n",
       "      <td>Banglore</td>\n",
       "      <td>CCU → BLR</td>\n",
       "      <td>19:55</td>\n",
       "      <td>22:25</td>\n",
       "      <td>2h 30m</td>\n",
       "      <td>non-stop</td>\n",
       "      <td>No info</td>\n",
       "      <td>4107</td>\n",
       "    </tr>\n",
       "    <tr>\n",
       "      <th>10679</th>\n",
       "      <td>Air India</td>\n",
       "      <td>27/04/2019</td>\n",
       "      <td>Kolkata</td>\n",
       "      <td>Banglore</td>\n",
       "      <td>CCU → BLR</td>\n",
       "      <td>20:45</td>\n",
       "      <td>23:20</td>\n",
       "      <td>2h 35m</td>\n",
       "      <td>non-stop</td>\n",
       "      <td>No info</td>\n",
       "      <td>4145</td>\n",
       "    </tr>\n",
       "    <tr>\n",
       "      <th>10680</th>\n",
       "      <td>Jet Airways</td>\n",
       "      <td>27/04/2019</td>\n",
       "      <td>Banglore</td>\n",
       "      <td>Delhi</td>\n",
       "      <td>BLR → DEL</td>\n",
       "      <td>08:20</td>\n",
       "      <td>11:20</td>\n",
       "      <td>3h</td>\n",
       "      <td>non-stop</td>\n",
       "      <td>No info</td>\n",
       "      <td>7229</td>\n",
       "    </tr>\n",
       "    <tr>\n",
       "      <th>10681</th>\n",
       "      <td>Vistara</td>\n",
       "      <td>01/03/2019</td>\n",
       "      <td>Banglore</td>\n",
       "      <td>New Delhi</td>\n",
       "      <td>BLR → DEL</td>\n",
       "      <td>11:30</td>\n",
       "      <td>14:10</td>\n",
       "      <td>2h 40m</td>\n",
       "      <td>non-stop</td>\n",
       "      <td>No info</td>\n",
       "      <td>12648</td>\n",
       "    </tr>\n",
       "    <tr>\n",
       "      <th>10682</th>\n",
       "      <td>Air India</td>\n",
       "      <td>9/05/2019</td>\n",
       "      <td>Delhi</td>\n",
       "      <td>Cochin</td>\n",
       "      <td>DEL → GOI → BOM → COK</td>\n",
       "      <td>10:55</td>\n",
       "      <td>19:15</td>\n",
       "      <td>8h 20m</td>\n",
       "      <td>2 stops</td>\n",
       "      <td>No info</td>\n",
       "      <td>11753</td>\n",
       "    </tr>\n",
       "  </tbody>\n",
       "</table>\n",
       "<p>10462 rows × 11 columns</p>\n",
       "</div>"
      ],
      "text/plain": [
       "           Airline Date_of_Journey    Source Destination  \\\n",
       "0           IndiGo      24/03/2019  Banglore   New Delhi   \n",
       "1        Air India       1/05/2019   Kolkata    Banglore   \n",
       "2      Jet Airways       9/06/2019     Delhi      Cochin   \n",
       "3           IndiGo      12/05/2019   Kolkata    Banglore   \n",
       "4           IndiGo      01/03/2019  Banglore   New Delhi   \n",
       "...            ...             ...       ...         ...   \n",
       "10678     Air Asia       9/04/2019   Kolkata    Banglore   \n",
       "10679    Air India      27/04/2019   Kolkata    Banglore   \n",
       "10680  Jet Airways      27/04/2019  Banglore       Delhi   \n",
       "10681      Vistara      01/03/2019  Banglore   New Delhi   \n",
       "10682    Air India       9/05/2019     Delhi      Cochin   \n",
       "\n",
       "                       Route Dep_Time  Arrival_Time Duration Total_Stops  \\\n",
       "0                  BLR → DEL    22:20  01:10 22 Mar   2h 50m    non-stop   \n",
       "1      CCU → IXR → BBI → BLR    05:50         13:15   7h 25m     2 stops   \n",
       "2      DEL → LKO → BOM → COK    09:25  04:25 10 Jun      19h     2 stops   \n",
       "3            CCU → NAG → BLR    18:05         23:30   5h 25m      1 stop   \n",
       "4            BLR → NAG → DEL    16:50         21:35   4h 45m      1 stop   \n",
       "...                      ...      ...           ...      ...         ...   \n",
       "10678              CCU → BLR    19:55         22:25   2h 30m    non-stop   \n",
       "10679              CCU → BLR    20:45         23:20   2h 35m    non-stop   \n",
       "10680              BLR → DEL    08:20         11:20       3h    non-stop   \n",
       "10681              BLR → DEL    11:30         14:10   2h 40m    non-stop   \n",
       "10682  DEL → GOI → BOM → COK    10:55         19:15   8h 20m     2 stops   \n",
       "\n",
       "      Additional_Info  Price  \n",
       "0             No info   3897  \n",
       "1             No info   7662  \n",
       "2             No info  13882  \n",
       "3             No info   6218  \n",
       "4             No info  13302  \n",
       "...               ...    ...  \n",
       "10678         No info   4107  \n",
       "10679         No info   4145  \n",
       "10680         No info   7229  \n",
       "10681         No info  12648  \n",
       "10682         No info  11753  \n",
       "\n",
       "[10462 rows x 11 columns]"
      ]
     },
     "execution_count": 145,
     "metadata": {},
     "output_type": "execute_result"
    }
   ],
   "source": [
    "df"
   ]
  },
  {
   "cell_type": "code",
   "execution_count": 146,
   "id": "fae0b1de",
   "metadata": {},
   "outputs": [
    {
     "name": "stderr",
     "output_type": "stream",
     "text": [
      "C:\\Users\\Root\\AppData\\Local\\Temp\\ipykernel_17688\\4110469324.py:1: UserWarning:\n",
      "\n",
      "Parsing dates in %d/%m/%Y format when dayfirst=False (the default) was specified. Pass `dayfirst=True` or specify a format to silence this warning.\n",
      "\n"
     ]
    }
   ],
   "source": [
    "df['Date_of_Journey'] = pd.to_datetime(df['Date_of_Journey'])"
   ]
  },
  {
   "cell_type": "code",
   "execution_count": 147,
   "id": "c28900e2",
   "metadata": {},
   "outputs": [],
   "source": [
    "df[\"Journey_Day\"] =df['Date_of_Journey'].dt.day"
   ]
  },
  {
   "cell_type": "code",
   "execution_count": 148,
   "id": "626a7b06",
   "metadata": {},
   "outputs": [],
   "source": [
    "df[\"Journey_Month\"] = df[\"Date_of_Journey\"].dt.month "
   ]
  },
  {
   "cell_type": "code",
   "execution_count": 149,
   "id": "efc08a6f",
   "metadata": {},
   "outputs": [],
   "source": [
    "df[\"Journey_Year\"] = df[\"Date_of_Journey\"].dt.year "
   ]
  },
  {
   "cell_type": "code",
   "execution_count": 150,
   "id": "77581fe9",
   "metadata": {},
   "outputs": [],
   "source": [
    "df[\"Journey_Weekday\"] = df[\"Date_of_Journey\"].dt.day_name()"
   ]
  },
  {
   "cell_type": "code",
   "execution_count": 151,
   "id": "8c7b0ff9",
   "metadata": {},
   "outputs": [],
   "source": [
    "df.drop('Date_of_Journey' , axis=1 , inplace=True)"
   ]
  },
  {
   "cell_type": "code",
   "execution_count": 152,
   "id": "ed4745a8",
   "metadata": {},
   "outputs": [
    {
     "data": {
      "text/html": [
       "<div>\n",
       "<style scoped>\n",
       "    .dataframe tbody tr th:only-of-type {\n",
       "        vertical-align: middle;\n",
       "    }\n",
       "\n",
       "    .dataframe tbody tr th {\n",
       "        vertical-align: top;\n",
       "    }\n",
       "\n",
       "    .dataframe thead th {\n",
       "        text-align: right;\n",
       "    }\n",
       "</style>\n",
       "<table border=\"1\" class=\"dataframe\">\n",
       "  <thead>\n",
       "    <tr style=\"text-align: right;\">\n",
       "      <th></th>\n",
       "      <th>Airline</th>\n",
       "      <th>Source</th>\n",
       "      <th>Destination</th>\n",
       "      <th>Route</th>\n",
       "      <th>Dep_Time</th>\n",
       "      <th>Arrival_Time</th>\n",
       "      <th>Duration</th>\n",
       "      <th>Total_Stops</th>\n",
       "      <th>Additional_Info</th>\n",
       "      <th>Price</th>\n",
       "      <th>Journey_Day</th>\n",
       "      <th>Journey_Month</th>\n",
       "      <th>Journey_Year</th>\n",
       "      <th>Journey_Weekday</th>\n",
       "    </tr>\n",
       "  </thead>\n",
       "  <tbody>\n",
       "    <tr>\n",
       "      <th>0</th>\n",
       "      <td>IndiGo</td>\n",
       "      <td>Banglore</td>\n",
       "      <td>New Delhi</td>\n",
       "      <td>BLR → DEL</td>\n",
       "      <td>22:20</td>\n",
       "      <td>01:10 22 Mar</td>\n",
       "      <td>2h 50m</td>\n",
       "      <td>non-stop</td>\n",
       "      <td>No info</td>\n",
       "      <td>3897</td>\n",
       "      <td>24</td>\n",
       "      <td>3</td>\n",
       "      <td>2019</td>\n",
       "      <td>Sunday</td>\n",
       "    </tr>\n",
       "    <tr>\n",
       "      <th>1</th>\n",
       "      <td>Air India</td>\n",
       "      <td>Kolkata</td>\n",
       "      <td>Banglore</td>\n",
       "      <td>CCU → IXR → BBI → BLR</td>\n",
       "      <td>05:50</td>\n",
       "      <td>13:15</td>\n",
       "      <td>7h 25m</td>\n",
       "      <td>2 stops</td>\n",
       "      <td>No info</td>\n",
       "      <td>7662</td>\n",
       "      <td>1</td>\n",
       "      <td>5</td>\n",
       "      <td>2019</td>\n",
       "      <td>Wednesday</td>\n",
       "    </tr>\n",
       "    <tr>\n",
       "      <th>2</th>\n",
       "      <td>Jet Airways</td>\n",
       "      <td>Delhi</td>\n",
       "      <td>Cochin</td>\n",
       "      <td>DEL → LKO → BOM → COK</td>\n",
       "      <td>09:25</td>\n",
       "      <td>04:25 10 Jun</td>\n",
       "      <td>19h</td>\n",
       "      <td>2 stops</td>\n",
       "      <td>No info</td>\n",
       "      <td>13882</td>\n",
       "      <td>9</td>\n",
       "      <td>6</td>\n",
       "      <td>2019</td>\n",
       "      <td>Sunday</td>\n",
       "    </tr>\n",
       "    <tr>\n",
       "      <th>3</th>\n",
       "      <td>IndiGo</td>\n",
       "      <td>Kolkata</td>\n",
       "      <td>Banglore</td>\n",
       "      <td>CCU → NAG → BLR</td>\n",
       "      <td>18:05</td>\n",
       "      <td>23:30</td>\n",
       "      <td>5h 25m</td>\n",
       "      <td>1 stop</td>\n",
       "      <td>No info</td>\n",
       "      <td>6218</td>\n",
       "      <td>12</td>\n",
       "      <td>5</td>\n",
       "      <td>2019</td>\n",
       "      <td>Sunday</td>\n",
       "    </tr>\n",
       "    <tr>\n",
       "      <th>4</th>\n",
       "      <td>IndiGo</td>\n",
       "      <td>Banglore</td>\n",
       "      <td>New Delhi</td>\n",
       "      <td>BLR → NAG → DEL</td>\n",
       "      <td>16:50</td>\n",
       "      <td>21:35</td>\n",
       "      <td>4h 45m</td>\n",
       "      <td>1 stop</td>\n",
       "      <td>No info</td>\n",
       "      <td>13302</td>\n",
       "      <td>1</td>\n",
       "      <td>3</td>\n",
       "      <td>2019</td>\n",
       "      <td>Friday</td>\n",
       "    </tr>\n",
       "    <tr>\n",
       "      <th>...</th>\n",
       "      <td>...</td>\n",
       "      <td>...</td>\n",
       "      <td>...</td>\n",
       "      <td>...</td>\n",
       "      <td>...</td>\n",
       "      <td>...</td>\n",
       "      <td>...</td>\n",
       "      <td>...</td>\n",
       "      <td>...</td>\n",
       "      <td>...</td>\n",
       "      <td>...</td>\n",
       "      <td>...</td>\n",
       "      <td>...</td>\n",
       "      <td>...</td>\n",
       "    </tr>\n",
       "    <tr>\n",
       "      <th>10678</th>\n",
       "      <td>Air Asia</td>\n",
       "      <td>Kolkata</td>\n",
       "      <td>Banglore</td>\n",
       "      <td>CCU → BLR</td>\n",
       "      <td>19:55</td>\n",
       "      <td>22:25</td>\n",
       "      <td>2h 30m</td>\n",
       "      <td>non-stop</td>\n",
       "      <td>No info</td>\n",
       "      <td>4107</td>\n",
       "      <td>9</td>\n",
       "      <td>4</td>\n",
       "      <td>2019</td>\n",
       "      <td>Tuesday</td>\n",
       "    </tr>\n",
       "    <tr>\n",
       "      <th>10679</th>\n",
       "      <td>Air India</td>\n",
       "      <td>Kolkata</td>\n",
       "      <td>Banglore</td>\n",
       "      <td>CCU → BLR</td>\n",
       "      <td>20:45</td>\n",
       "      <td>23:20</td>\n",
       "      <td>2h 35m</td>\n",
       "      <td>non-stop</td>\n",
       "      <td>No info</td>\n",
       "      <td>4145</td>\n",
       "      <td>27</td>\n",
       "      <td>4</td>\n",
       "      <td>2019</td>\n",
       "      <td>Saturday</td>\n",
       "    </tr>\n",
       "    <tr>\n",
       "      <th>10680</th>\n",
       "      <td>Jet Airways</td>\n",
       "      <td>Banglore</td>\n",
       "      <td>Delhi</td>\n",
       "      <td>BLR → DEL</td>\n",
       "      <td>08:20</td>\n",
       "      <td>11:20</td>\n",
       "      <td>3h</td>\n",
       "      <td>non-stop</td>\n",
       "      <td>No info</td>\n",
       "      <td>7229</td>\n",
       "      <td>27</td>\n",
       "      <td>4</td>\n",
       "      <td>2019</td>\n",
       "      <td>Saturday</td>\n",
       "    </tr>\n",
       "    <tr>\n",
       "      <th>10681</th>\n",
       "      <td>Vistara</td>\n",
       "      <td>Banglore</td>\n",
       "      <td>New Delhi</td>\n",
       "      <td>BLR → DEL</td>\n",
       "      <td>11:30</td>\n",
       "      <td>14:10</td>\n",
       "      <td>2h 40m</td>\n",
       "      <td>non-stop</td>\n",
       "      <td>No info</td>\n",
       "      <td>12648</td>\n",
       "      <td>1</td>\n",
       "      <td>3</td>\n",
       "      <td>2019</td>\n",
       "      <td>Friday</td>\n",
       "    </tr>\n",
       "    <tr>\n",
       "      <th>10682</th>\n",
       "      <td>Air India</td>\n",
       "      <td>Delhi</td>\n",
       "      <td>Cochin</td>\n",
       "      <td>DEL → GOI → BOM → COK</td>\n",
       "      <td>10:55</td>\n",
       "      <td>19:15</td>\n",
       "      <td>8h 20m</td>\n",
       "      <td>2 stops</td>\n",
       "      <td>No info</td>\n",
       "      <td>11753</td>\n",
       "      <td>9</td>\n",
       "      <td>5</td>\n",
       "      <td>2019</td>\n",
       "      <td>Thursday</td>\n",
       "    </tr>\n",
       "  </tbody>\n",
       "</table>\n",
       "<p>10462 rows × 14 columns</p>\n",
       "</div>"
      ],
      "text/plain": [
       "           Airline    Source Destination                  Route Dep_Time  \\\n",
       "0           IndiGo  Banglore   New Delhi              BLR → DEL    22:20   \n",
       "1        Air India   Kolkata    Banglore  CCU → IXR → BBI → BLR    05:50   \n",
       "2      Jet Airways     Delhi      Cochin  DEL → LKO → BOM → COK    09:25   \n",
       "3           IndiGo   Kolkata    Banglore        CCU → NAG → BLR    18:05   \n",
       "4           IndiGo  Banglore   New Delhi        BLR → NAG → DEL    16:50   \n",
       "...            ...       ...         ...                    ...      ...   \n",
       "10678     Air Asia   Kolkata    Banglore              CCU → BLR    19:55   \n",
       "10679    Air India   Kolkata    Banglore              CCU → BLR    20:45   \n",
       "10680  Jet Airways  Banglore       Delhi              BLR → DEL    08:20   \n",
       "10681      Vistara  Banglore   New Delhi              BLR → DEL    11:30   \n",
       "10682    Air India     Delhi      Cochin  DEL → GOI → BOM → COK    10:55   \n",
       "\n",
       "       Arrival_Time Duration Total_Stops Additional_Info  Price  Journey_Day  \\\n",
       "0      01:10 22 Mar   2h 50m    non-stop         No info   3897           24   \n",
       "1             13:15   7h 25m     2 stops         No info   7662            1   \n",
       "2      04:25 10 Jun      19h     2 stops         No info  13882            9   \n",
       "3             23:30   5h 25m      1 stop         No info   6218           12   \n",
       "4             21:35   4h 45m      1 stop         No info  13302            1   \n",
       "...             ...      ...         ...             ...    ...          ...   \n",
       "10678         22:25   2h 30m    non-stop         No info   4107            9   \n",
       "10679         23:20   2h 35m    non-stop         No info   4145           27   \n",
       "10680         11:20       3h    non-stop         No info   7229           27   \n",
       "10681         14:10   2h 40m    non-stop         No info  12648            1   \n",
       "10682         19:15   8h 20m     2 stops         No info  11753            9   \n",
       "\n",
       "       Journey_Month  Journey_Year Journey_Weekday  \n",
       "0                  3          2019          Sunday  \n",
       "1                  5          2019       Wednesday  \n",
       "2                  6          2019          Sunday  \n",
       "3                  5          2019          Sunday  \n",
       "4                  3          2019          Friday  \n",
       "...              ...           ...             ...  \n",
       "10678              4          2019         Tuesday  \n",
       "10679              4          2019        Saturday  \n",
       "10680              4          2019        Saturday  \n",
       "10681              3          2019          Friday  \n",
       "10682              5          2019        Thursday  \n",
       "\n",
       "[10462 rows x 14 columns]"
      ]
     },
     "execution_count": 152,
     "metadata": {},
     "output_type": "execute_result"
    }
   ],
   "source": [
    "df"
   ]
  },
  {
   "cell_type": "code",
   "execution_count": 153,
   "id": "8fefd2e3",
   "metadata": {},
   "outputs": [
    {
     "name": "stderr",
     "output_type": "stream",
     "text": [
      "C:\\Users\\Root\\AppData\\Local\\Temp\\ipykernel_17688\\923868241.py:1: UserWarning:\n",
      "\n",
      "Could not infer format, so each element will be parsed individually, falling back to `dateutil`. To ensure parsing is consistent and as-expected, please specify a format.\n",
      "\n"
     ]
    }
   ],
   "source": [
    "df[\"Dep_Hour\"]  = pd.to_datetime(df[\"Dep_Time\"]).dt.hour"
   ]
  },
  {
   "cell_type": "code",
   "execution_count": 154,
   "id": "ceb22251",
   "metadata": {},
   "outputs": [],
   "source": [
    "df.drop(\"Dep_Time\", axis=1, inplace=True )"
   ]
  },
  {
   "cell_type": "code",
   "execution_count": 155,
   "id": "31d48d81",
   "metadata": {},
   "outputs": [
    {
     "name": "stderr",
     "output_type": "stream",
     "text": [
      "C:\\Users\\Root\\AppData\\Local\\Temp\\ipykernel_17688\\2793151084.py:1: UserWarning:\n",
      "\n",
      "Could not infer format, so each element will be parsed individually, falling back to `dateutil`. To ensure parsing is consistent and as-expected, please specify a format.\n",
      "\n"
     ]
    }
   ],
   "source": [
    "df[\"Arrival_Hour\"] = pd.to_datetime(df[\"Arrival_Time\"], errors=\"coerce\").dt.hour\n"
   ]
  },
  {
   "cell_type": "code",
   "execution_count": 156,
   "id": "321854f6",
   "metadata": {},
   "outputs": [],
   "source": [
    "def convert_duration(x):\n",
    "    h, m = 0, 0\n",
    "    if \"h\" in x:\n",
    "        h = int(x.split(\"h\")[0])\n",
    "        if \"m\" in x:\n",
    "            m = int(x.split(\"h\")[1].replace(\"m\",\"\").strip())\n",
    "    else:\n",
    "        m = int(x.replace(\"m\",\"\").strip())\n",
    "    return h*60 + m\n",
    "\n",
    "df[\"Duration\"] = df[\"Duration\"].apply(convert_duration)"
   ]
  },
  {
   "cell_type": "code",
   "execution_count": 157,
   "id": "bd097939",
   "metadata": {},
   "outputs": [],
   "source": [
    "df.drop(\"Arrival_Time\", axis=1, inplace=True)"
   ]
  },
  {
   "cell_type": "code",
   "execution_count": 158,
   "id": "905d7803",
   "metadata": {},
   "outputs": [
    {
     "data": {
      "text/html": [
       "<div>\n",
       "<style scoped>\n",
       "    .dataframe tbody tr th:only-of-type {\n",
       "        vertical-align: middle;\n",
       "    }\n",
       "\n",
       "    .dataframe tbody tr th {\n",
       "        vertical-align: top;\n",
       "    }\n",
       "\n",
       "    .dataframe thead th {\n",
       "        text-align: right;\n",
       "    }\n",
       "</style>\n",
       "<table border=\"1\" class=\"dataframe\">\n",
       "  <thead>\n",
       "    <tr style=\"text-align: right;\">\n",
       "      <th></th>\n",
       "      <th>Airline</th>\n",
       "      <th>Source</th>\n",
       "      <th>Destination</th>\n",
       "      <th>Route</th>\n",
       "      <th>Duration</th>\n",
       "      <th>Total_Stops</th>\n",
       "      <th>Additional_Info</th>\n",
       "      <th>Price</th>\n",
       "      <th>Journey_Day</th>\n",
       "      <th>Journey_Month</th>\n",
       "      <th>Journey_Year</th>\n",
       "      <th>Journey_Weekday</th>\n",
       "      <th>Dep_Hour</th>\n",
       "      <th>Arrival_Hour</th>\n",
       "    </tr>\n",
       "  </thead>\n",
       "  <tbody>\n",
       "    <tr>\n",
       "      <th>0</th>\n",
       "      <td>IndiGo</td>\n",
       "      <td>Banglore</td>\n",
       "      <td>New Delhi</td>\n",
       "      <td>BLR → DEL</td>\n",
       "      <td>170</td>\n",
       "      <td>non-stop</td>\n",
       "      <td>No info</td>\n",
       "      <td>3897</td>\n",
       "      <td>24</td>\n",
       "      <td>3</td>\n",
       "      <td>2019</td>\n",
       "      <td>Sunday</td>\n",
       "      <td>22</td>\n",
       "      <td>1</td>\n",
       "    </tr>\n",
       "    <tr>\n",
       "      <th>1</th>\n",
       "      <td>Air India</td>\n",
       "      <td>Kolkata</td>\n",
       "      <td>Banglore</td>\n",
       "      <td>CCU → IXR → BBI → BLR</td>\n",
       "      <td>445</td>\n",
       "      <td>2 stops</td>\n",
       "      <td>No info</td>\n",
       "      <td>7662</td>\n",
       "      <td>1</td>\n",
       "      <td>5</td>\n",
       "      <td>2019</td>\n",
       "      <td>Wednesday</td>\n",
       "      <td>5</td>\n",
       "      <td>13</td>\n",
       "    </tr>\n",
       "    <tr>\n",
       "      <th>2</th>\n",
       "      <td>Jet Airways</td>\n",
       "      <td>Delhi</td>\n",
       "      <td>Cochin</td>\n",
       "      <td>DEL → LKO → BOM → COK</td>\n",
       "      <td>1140</td>\n",
       "      <td>2 stops</td>\n",
       "      <td>No info</td>\n",
       "      <td>13882</td>\n",
       "      <td>9</td>\n",
       "      <td>6</td>\n",
       "      <td>2019</td>\n",
       "      <td>Sunday</td>\n",
       "      <td>9</td>\n",
       "      <td>4</td>\n",
       "    </tr>\n",
       "    <tr>\n",
       "      <th>3</th>\n",
       "      <td>IndiGo</td>\n",
       "      <td>Kolkata</td>\n",
       "      <td>Banglore</td>\n",
       "      <td>CCU → NAG → BLR</td>\n",
       "      <td>325</td>\n",
       "      <td>1 stop</td>\n",
       "      <td>No info</td>\n",
       "      <td>6218</td>\n",
       "      <td>12</td>\n",
       "      <td>5</td>\n",
       "      <td>2019</td>\n",
       "      <td>Sunday</td>\n",
       "      <td>18</td>\n",
       "      <td>23</td>\n",
       "    </tr>\n",
       "    <tr>\n",
       "      <th>4</th>\n",
       "      <td>IndiGo</td>\n",
       "      <td>Banglore</td>\n",
       "      <td>New Delhi</td>\n",
       "      <td>BLR → NAG → DEL</td>\n",
       "      <td>285</td>\n",
       "      <td>1 stop</td>\n",
       "      <td>No info</td>\n",
       "      <td>13302</td>\n",
       "      <td>1</td>\n",
       "      <td>3</td>\n",
       "      <td>2019</td>\n",
       "      <td>Friday</td>\n",
       "      <td>16</td>\n",
       "      <td>21</td>\n",
       "    </tr>\n",
       "    <tr>\n",
       "      <th>...</th>\n",
       "      <td>...</td>\n",
       "      <td>...</td>\n",
       "      <td>...</td>\n",
       "      <td>...</td>\n",
       "      <td>...</td>\n",
       "      <td>...</td>\n",
       "      <td>...</td>\n",
       "      <td>...</td>\n",
       "      <td>...</td>\n",
       "      <td>...</td>\n",
       "      <td>...</td>\n",
       "      <td>...</td>\n",
       "      <td>...</td>\n",
       "      <td>...</td>\n",
       "    </tr>\n",
       "    <tr>\n",
       "      <th>10678</th>\n",
       "      <td>Air Asia</td>\n",
       "      <td>Kolkata</td>\n",
       "      <td>Banglore</td>\n",
       "      <td>CCU → BLR</td>\n",
       "      <td>150</td>\n",
       "      <td>non-stop</td>\n",
       "      <td>No info</td>\n",
       "      <td>4107</td>\n",
       "      <td>9</td>\n",
       "      <td>4</td>\n",
       "      <td>2019</td>\n",
       "      <td>Tuesday</td>\n",
       "      <td>19</td>\n",
       "      <td>22</td>\n",
       "    </tr>\n",
       "    <tr>\n",
       "      <th>10679</th>\n",
       "      <td>Air India</td>\n",
       "      <td>Kolkata</td>\n",
       "      <td>Banglore</td>\n",
       "      <td>CCU → BLR</td>\n",
       "      <td>155</td>\n",
       "      <td>non-stop</td>\n",
       "      <td>No info</td>\n",
       "      <td>4145</td>\n",
       "      <td>27</td>\n",
       "      <td>4</td>\n",
       "      <td>2019</td>\n",
       "      <td>Saturday</td>\n",
       "      <td>20</td>\n",
       "      <td>23</td>\n",
       "    </tr>\n",
       "    <tr>\n",
       "      <th>10680</th>\n",
       "      <td>Jet Airways</td>\n",
       "      <td>Banglore</td>\n",
       "      <td>Delhi</td>\n",
       "      <td>BLR → DEL</td>\n",
       "      <td>180</td>\n",
       "      <td>non-stop</td>\n",
       "      <td>No info</td>\n",
       "      <td>7229</td>\n",
       "      <td>27</td>\n",
       "      <td>4</td>\n",
       "      <td>2019</td>\n",
       "      <td>Saturday</td>\n",
       "      <td>8</td>\n",
       "      <td>11</td>\n",
       "    </tr>\n",
       "    <tr>\n",
       "      <th>10681</th>\n",
       "      <td>Vistara</td>\n",
       "      <td>Banglore</td>\n",
       "      <td>New Delhi</td>\n",
       "      <td>BLR → DEL</td>\n",
       "      <td>160</td>\n",
       "      <td>non-stop</td>\n",
       "      <td>No info</td>\n",
       "      <td>12648</td>\n",
       "      <td>1</td>\n",
       "      <td>3</td>\n",
       "      <td>2019</td>\n",
       "      <td>Friday</td>\n",
       "      <td>11</td>\n",
       "      <td>14</td>\n",
       "    </tr>\n",
       "    <tr>\n",
       "      <th>10682</th>\n",
       "      <td>Air India</td>\n",
       "      <td>Delhi</td>\n",
       "      <td>Cochin</td>\n",
       "      <td>DEL → GOI → BOM → COK</td>\n",
       "      <td>500</td>\n",
       "      <td>2 stops</td>\n",
       "      <td>No info</td>\n",
       "      <td>11753</td>\n",
       "      <td>9</td>\n",
       "      <td>5</td>\n",
       "      <td>2019</td>\n",
       "      <td>Thursday</td>\n",
       "      <td>10</td>\n",
       "      <td>19</td>\n",
       "    </tr>\n",
       "  </tbody>\n",
       "</table>\n",
       "<p>10462 rows × 14 columns</p>\n",
       "</div>"
      ],
      "text/plain": [
       "           Airline    Source Destination                  Route  Duration  \\\n",
       "0           IndiGo  Banglore   New Delhi              BLR → DEL       170   \n",
       "1        Air India   Kolkata    Banglore  CCU → IXR → BBI → BLR       445   \n",
       "2      Jet Airways     Delhi      Cochin  DEL → LKO → BOM → COK      1140   \n",
       "3           IndiGo   Kolkata    Banglore        CCU → NAG → BLR       325   \n",
       "4           IndiGo  Banglore   New Delhi        BLR → NAG → DEL       285   \n",
       "...            ...       ...         ...                    ...       ...   \n",
       "10678     Air Asia   Kolkata    Banglore              CCU → BLR       150   \n",
       "10679    Air India   Kolkata    Banglore              CCU → BLR       155   \n",
       "10680  Jet Airways  Banglore       Delhi              BLR → DEL       180   \n",
       "10681      Vistara  Banglore   New Delhi              BLR → DEL       160   \n",
       "10682    Air India     Delhi      Cochin  DEL → GOI → BOM → COK       500   \n",
       "\n",
       "      Total_Stops Additional_Info  Price  Journey_Day  Journey_Month  \\\n",
       "0        non-stop         No info   3897           24              3   \n",
       "1         2 stops         No info   7662            1              5   \n",
       "2         2 stops         No info  13882            9              6   \n",
       "3          1 stop         No info   6218           12              5   \n",
       "4          1 stop         No info  13302            1              3   \n",
       "...           ...             ...    ...          ...            ...   \n",
       "10678    non-stop         No info   4107            9              4   \n",
       "10679    non-stop         No info   4145           27              4   \n",
       "10680    non-stop         No info   7229           27              4   \n",
       "10681    non-stop         No info  12648            1              3   \n",
       "10682     2 stops         No info  11753            9              5   \n",
       "\n",
       "       Journey_Year Journey_Weekday  Dep_Hour  Arrival_Hour  \n",
       "0              2019          Sunday        22             1  \n",
       "1              2019       Wednesday         5            13  \n",
       "2              2019          Sunday         9             4  \n",
       "3              2019          Sunday        18            23  \n",
       "4              2019          Friday        16            21  \n",
       "...             ...             ...       ...           ...  \n",
       "10678          2019         Tuesday        19            22  \n",
       "10679          2019        Saturday        20            23  \n",
       "10680          2019        Saturday         8            11  \n",
       "10681          2019          Friday        11            14  \n",
       "10682          2019        Thursday        10            19  \n",
       "\n",
       "[10462 rows x 14 columns]"
      ]
     },
     "execution_count": 158,
     "metadata": {},
     "output_type": "execute_result"
    }
   ],
   "source": [
    "df"
   ]
  },
  {
   "cell_type": "code",
   "execution_count": 159,
   "id": "45a379c8",
   "metadata": {},
   "outputs": [
    {
     "name": "stdout",
     "output_type": "stream",
     "text": [
      "Airline\n",
      "12\n",
      "['IndiGo' 'Air India' 'Jet Airways' 'SpiceJet' 'Multiple carriers' 'GoAir'\n",
      " 'Vistara' 'Air Asia' 'Vistara Premium economy' 'Jet Airways Business'\n",
      " 'Multiple carriers Premium economy' 'Trujet']\n",
      "####################################################################################################\n",
      "Source\n",
      "5\n",
      "['Banglore' 'Kolkata' 'Delhi' 'Chennai' 'Mumbai']\n",
      "####################################################################################################\n",
      "Destination\n",
      "6\n",
      "['New Delhi' 'Banglore' 'Cochin' 'Kolkata' 'Delhi' 'Hyderabad']\n",
      "####################################################################################################\n",
      "Route\n",
      "128\n",
      "['BLR → DEL' 'CCU → IXR → BBI → BLR' 'DEL → LKO → BOM → COK'\n",
      " 'CCU → NAG → BLR' 'BLR → NAG → DEL' 'CCU → BLR' 'BLR → BOM → DEL'\n",
      " 'DEL → BOM → COK' 'DEL → BLR → COK' 'MAA → CCU' 'CCU → BOM → BLR'\n",
      " 'DEL → AMD → BOM → COK' 'DEL → PNQ → COK' 'DEL → CCU → BOM → COK'\n",
      " 'BLR → COK → DEL' 'DEL → IDR → BOM → COK' 'DEL → LKO → COK'\n",
      " 'CCU → GAU → DEL → BLR' 'DEL → NAG → BOM → COK' 'CCU → MAA → BLR'\n",
      " 'DEL → HYD → COK' 'CCU → HYD → BLR' 'DEL → COK' 'CCU → DEL → BLR'\n",
      " 'BLR → BOM → AMD → DEL' 'BOM → DEL → HYD' 'DEL → MAA → COK' 'BOM → HYD'\n",
      " 'DEL → BHO → BOM → COK' 'DEL → JAI → BOM → COK' 'DEL → ATQ → BOM → COK'\n",
      " 'DEL → JDH → BOM → COK' 'CCU → BBI → BOM → BLR' 'BLR → MAA → DEL'\n",
      " 'DEL → GOI → BOM → COK' 'DEL → BDQ → BOM → COK' 'CCU → JAI → BOM → BLR'\n",
      " 'CCU → BBI → BLR' 'BLR → HYD → DEL' 'DEL → TRV → COK'\n",
      " 'CCU → IXR → DEL → BLR' 'DEL → IXU → BOM → COK' 'CCU → IXB → BLR'\n",
      " 'BLR → BOM → JDH → DEL' 'DEL → UDR → BOM → COK' 'DEL → HYD → MAA → COK'\n",
      " 'CCU → BOM → COK → BLR' 'BLR → CCU → DEL' 'CCU → BOM → GOI → BLR'\n",
      " 'DEL → RPR → NAG → BOM → COK' 'DEL → HYD → BOM → COK'\n",
      " 'CCU → DEL → AMD → BLR' 'CCU → PNQ → BLR' 'BLR → CCU → GAU → DEL'\n",
      " 'CCU → DEL → COK → BLR' 'BLR → PNQ → DEL' 'BOM → JDH → DEL → HYD'\n",
      " 'BLR → BOM → BHO → DEL' 'DEL → AMD → COK' 'BLR → LKO → DEL'\n",
      " 'CCU → GAU → BLR' 'BOM → GOI → HYD' 'CCU → BOM → AMD → BLR'\n",
      " 'CCU → BBI → IXR → DEL → BLR' 'DEL → DED → BOM → COK'\n",
      " 'DEL → MAA → BOM → COK' 'BLR → AMD → DEL' 'BLR → VGA → DEL'\n",
      " 'CCU → JAI → DEL → BLR' 'CCU → AMD → BLR' 'CCU → VNS → DEL → BLR'\n",
      " 'BLR → BOM → IDR → DEL' 'BLR → BBI → DEL' 'BLR → GOI → DEL'\n",
      " 'BOM → AMD → ISK → HYD' 'BOM → DED → DEL → HYD' 'DEL → IXC → BOM → COK'\n",
      " 'CCU → PAT → BLR' 'BLR → CCU → BBI → DEL' 'CCU → BBI → HYD → BLR'\n",
      " 'BLR → BOM → NAG → DEL' 'BLR → CCU → BBI → HYD → DEL' 'BLR → GAU → DEL'\n",
      " 'BOM → BHO → DEL → HYD' 'BOM → JLR → HYD' 'BLR → HYD → VGA → DEL'\n",
      " 'CCU → KNU → BLR' 'CCU → BOM → PNQ → BLR' 'DEL → BBI → COK'\n",
      " 'BLR → VGA → HYD → DEL' 'BOM → JDH → JAI → DEL → HYD'\n",
      " 'DEL → GWL → IDR → BOM → COK' 'CCU → RPR → HYD → BLR' 'CCU → VTZ → BLR'\n",
      " 'CCU → DEL → VGA → BLR' 'BLR → BOM → IDR → GWL → DEL'\n",
      " 'CCU → DEL → COK → TRV → BLR' 'BOM → COK → MAA → HYD' 'BOM → NDC → HYD'\n",
      " 'BLR → BDQ → DEL' 'CCU → BOM → TRV → BLR' 'CCU → BOM → HBX → BLR'\n",
      " 'BOM → BDQ → DEL → HYD' 'BOM → CCU → HYD' 'BLR → TRV → COK → DEL'\n",
      " 'BLR → IDR → DEL' 'CCU → IXZ → MAA → BLR' 'CCU → GAU → IMF → DEL → BLR'\n",
      " 'BOM → GOI → PNQ → HYD' 'BOM → BLR → CCU → BBI → HYD' 'BOM → MAA → HYD'\n",
      " 'BLR → BOM → UDR → DEL' 'BOM → UDR → DEL → HYD' 'BLR → VGA → VTZ → DEL'\n",
      " 'BLR → HBX → BOM → BHO → DEL' 'CCU → IXA → BLR' 'BOM → RPR → VTZ → HYD'\n",
      " 'BLR → HBX → BOM → AMD → DEL' 'BOM → IDR → DEL → HYD' 'BOM → BLR → HYD'\n",
      " 'BLR → STV → DEL' 'CCU → IXB → DEL → BLR' 'BOM → JAI → DEL → HYD'\n",
      " 'BOM → VNS → DEL → HYD' 'BLR → HBX → BOM → NAG → DEL'\n",
      " 'BLR → BOM → IXC → DEL' 'BLR → CCU → BBI → HYD → VGA → DEL'\n",
      " 'BOM → BBI → HYD']\n",
      "####################################################################################################\n",
      "Total_Stops\n",
      "5\n",
      "['non-stop' '2 stops' '1 stop' '3 stops' '4 stops']\n",
      "####################################################################################################\n",
      "Additional_Info\n",
      "10\n",
      "['No info' 'In-flight meal not included' 'No check-in baggage included'\n",
      " '1 Short layover' 'No Info' '1 Long layover' 'Change airports'\n",
      " 'Business class' 'Red-eye flight' '2 Long layover']\n",
      "####################################################################################################\n",
      "Journey_Weekday\n",
      "7\n",
      "['Sunday' 'Wednesday' 'Friday' 'Monday' 'Tuesday' 'Saturday' 'Thursday']\n",
      "####################################################################################################\n"
     ]
    }
   ],
   "source": [
    "col_obj = df.select_dtypes(include=\"object\").columns\n",
    "\n",
    "\n",
    "for col in col_obj:\n",
    "    print(col)\n",
    "    print(df[col].nunique()) \n",
    "    print(df[col].unique()) \n",
    "    print('#' * 100)"
   ]
  },
  {
   "cell_type": "code",
   "execution_count": 160,
   "id": "71cd33c8",
   "metadata": {},
   "outputs": [],
   "source": [
    "num_col=df.select_dtypes(include='number')"
   ]
  },
  {
   "cell_type": "code",
   "execution_count": 161,
   "id": "fe2ba20b",
   "metadata": {},
   "outputs": [
    {
     "data": {
      "text/html": [
       "<div>\n",
       "<style scoped>\n",
       "    .dataframe tbody tr th:only-of-type {\n",
       "        vertical-align: middle;\n",
       "    }\n",
       "\n",
       "    .dataframe tbody tr th {\n",
       "        vertical-align: top;\n",
       "    }\n",
       "\n",
       "    .dataframe thead th {\n",
       "        text-align: right;\n",
       "    }\n",
       "</style>\n",
       "<table border=\"1\" class=\"dataframe\">\n",
       "  <thead>\n",
       "    <tr style=\"text-align: right;\">\n",
       "      <th></th>\n",
       "      <th>Airline</th>\n",
       "      <th>Source</th>\n",
       "      <th>Destination</th>\n",
       "      <th>Route</th>\n",
       "      <th>Duration</th>\n",
       "      <th>Total_Stops</th>\n",
       "      <th>Additional_Info</th>\n",
       "      <th>Price</th>\n",
       "      <th>Journey_Day</th>\n",
       "      <th>Journey_Month</th>\n",
       "      <th>Journey_Year</th>\n",
       "      <th>Journey_Weekday</th>\n",
       "      <th>Dep_Hour</th>\n",
       "      <th>Arrival_Hour</th>\n",
       "    </tr>\n",
       "  </thead>\n",
       "  <tbody>\n",
       "    <tr>\n",
       "      <th>0</th>\n",
       "      <td>IndiGo</td>\n",
       "      <td>Banglore</td>\n",
       "      <td>New Delhi</td>\n",
       "      <td>BLR → DEL</td>\n",
       "      <td>170</td>\n",
       "      <td>non-stop</td>\n",
       "      <td>No info</td>\n",
       "      <td>3897</td>\n",
       "      <td>24</td>\n",
       "      <td>3</td>\n",
       "      <td>2019</td>\n",
       "      <td>Sunday</td>\n",
       "      <td>22</td>\n",
       "      <td>1</td>\n",
       "    </tr>\n",
       "    <tr>\n",
       "      <th>1</th>\n",
       "      <td>Air India</td>\n",
       "      <td>Kolkata</td>\n",
       "      <td>Banglore</td>\n",
       "      <td>CCU → IXR → BBI → BLR</td>\n",
       "      <td>445</td>\n",
       "      <td>2 stops</td>\n",
       "      <td>No info</td>\n",
       "      <td>7662</td>\n",
       "      <td>1</td>\n",
       "      <td>5</td>\n",
       "      <td>2019</td>\n",
       "      <td>Wednesday</td>\n",
       "      <td>5</td>\n",
       "      <td>13</td>\n",
       "    </tr>\n",
       "    <tr>\n",
       "      <th>2</th>\n",
       "      <td>Jet Airways</td>\n",
       "      <td>Delhi</td>\n",
       "      <td>Cochin</td>\n",
       "      <td>DEL → LKO → BOM → COK</td>\n",
       "      <td>1140</td>\n",
       "      <td>2 stops</td>\n",
       "      <td>No info</td>\n",
       "      <td>13882</td>\n",
       "      <td>9</td>\n",
       "      <td>6</td>\n",
       "      <td>2019</td>\n",
       "      <td>Sunday</td>\n",
       "      <td>9</td>\n",
       "      <td>4</td>\n",
       "    </tr>\n",
       "    <tr>\n",
       "      <th>3</th>\n",
       "      <td>IndiGo</td>\n",
       "      <td>Kolkata</td>\n",
       "      <td>Banglore</td>\n",
       "      <td>CCU → NAG → BLR</td>\n",
       "      <td>325</td>\n",
       "      <td>1 stop</td>\n",
       "      <td>No info</td>\n",
       "      <td>6218</td>\n",
       "      <td>12</td>\n",
       "      <td>5</td>\n",
       "      <td>2019</td>\n",
       "      <td>Sunday</td>\n",
       "      <td>18</td>\n",
       "      <td>23</td>\n",
       "    </tr>\n",
       "    <tr>\n",
       "      <th>4</th>\n",
       "      <td>IndiGo</td>\n",
       "      <td>Banglore</td>\n",
       "      <td>New Delhi</td>\n",
       "      <td>BLR → NAG → DEL</td>\n",
       "      <td>285</td>\n",
       "      <td>1 stop</td>\n",
       "      <td>No info</td>\n",
       "      <td>13302</td>\n",
       "      <td>1</td>\n",
       "      <td>3</td>\n",
       "      <td>2019</td>\n",
       "      <td>Friday</td>\n",
       "      <td>16</td>\n",
       "      <td>21</td>\n",
       "    </tr>\n",
       "    <tr>\n",
       "      <th>...</th>\n",
       "      <td>...</td>\n",
       "      <td>...</td>\n",
       "      <td>...</td>\n",
       "      <td>...</td>\n",
       "      <td>...</td>\n",
       "      <td>...</td>\n",
       "      <td>...</td>\n",
       "      <td>...</td>\n",
       "      <td>...</td>\n",
       "      <td>...</td>\n",
       "      <td>...</td>\n",
       "      <td>...</td>\n",
       "      <td>...</td>\n",
       "      <td>...</td>\n",
       "    </tr>\n",
       "    <tr>\n",
       "      <th>10678</th>\n",
       "      <td>Air Asia</td>\n",
       "      <td>Kolkata</td>\n",
       "      <td>Banglore</td>\n",
       "      <td>CCU → BLR</td>\n",
       "      <td>150</td>\n",
       "      <td>non-stop</td>\n",
       "      <td>No info</td>\n",
       "      <td>4107</td>\n",
       "      <td>9</td>\n",
       "      <td>4</td>\n",
       "      <td>2019</td>\n",
       "      <td>Tuesday</td>\n",
       "      <td>19</td>\n",
       "      <td>22</td>\n",
       "    </tr>\n",
       "    <tr>\n",
       "      <th>10679</th>\n",
       "      <td>Air India</td>\n",
       "      <td>Kolkata</td>\n",
       "      <td>Banglore</td>\n",
       "      <td>CCU → BLR</td>\n",
       "      <td>155</td>\n",
       "      <td>non-stop</td>\n",
       "      <td>No info</td>\n",
       "      <td>4145</td>\n",
       "      <td>27</td>\n",
       "      <td>4</td>\n",
       "      <td>2019</td>\n",
       "      <td>Saturday</td>\n",
       "      <td>20</td>\n",
       "      <td>23</td>\n",
       "    </tr>\n",
       "    <tr>\n",
       "      <th>10680</th>\n",
       "      <td>Jet Airways</td>\n",
       "      <td>Banglore</td>\n",
       "      <td>Delhi</td>\n",
       "      <td>BLR → DEL</td>\n",
       "      <td>180</td>\n",
       "      <td>non-stop</td>\n",
       "      <td>No info</td>\n",
       "      <td>7229</td>\n",
       "      <td>27</td>\n",
       "      <td>4</td>\n",
       "      <td>2019</td>\n",
       "      <td>Saturday</td>\n",
       "      <td>8</td>\n",
       "      <td>11</td>\n",
       "    </tr>\n",
       "    <tr>\n",
       "      <th>10681</th>\n",
       "      <td>Vistara</td>\n",
       "      <td>Banglore</td>\n",
       "      <td>New Delhi</td>\n",
       "      <td>BLR → DEL</td>\n",
       "      <td>160</td>\n",
       "      <td>non-stop</td>\n",
       "      <td>No info</td>\n",
       "      <td>12648</td>\n",
       "      <td>1</td>\n",
       "      <td>3</td>\n",
       "      <td>2019</td>\n",
       "      <td>Friday</td>\n",
       "      <td>11</td>\n",
       "      <td>14</td>\n",
       "    </tr>\n",
       "    <tr>\n",
       "      <th>10682</th>\n",
       "      <td>Air India</td>\n",
       "      <td>Delhi</td>\n",
       "      <td>Cochin</td>\n",
       "      <td>DEL → GOI → BOM → COK</td>\n",
       "      <td>500</td>\n",
       "      <td>2 stops</td>\n",
       "      <td>No info</td>\n",
       "      <td>11753</td>\n",
       "      <td>9</td>\n",
       "      <td>5</td>\n",
       "      <td>2019</td>\n",
       "      <td>Thursday</td>\n",
       "      <td>10</td>\n",
       "      <td>19</td>\n",
       "    </tr>\n",
       "  </tbody>\n",
       "</table>\n",
       "<p>10462 rows × 14 columns</p>\n",
       "</div>"
      ],
      "text/plain": [
       "           Airline    Source Destination                  Route  Duration  \\\n",
       "0           IndiGo  Banglore   New Delhi              BLR → DEL       170   \n",
       "1        Air India   Kolkata    Banglore  CCU → IXR → BBI → BLR       445   \n",
       "2      Jet Airways     Delhi      Cochin  DEL → LKO → BOM → COK      1140   \n",
       "3           IndiGo   Kolkata    Banglore        CCU → NAG → BLR       325   \n",
       "4           IndiGo  Banglore   New Delhi        BLR → NAG → DEL       285   \n",
       "...            ...       ...         ...                    ...       ...   \n",
       "10678     Air Asia   Kolkata    Banglore              CCU → BLR       150   \n",
       "10679    Air India   Kolkata    Banglore              CCU → BLR       155   \n",
       "10680  Jet Airways  Banglore       Delhi              BLR → DEL       180   \n",
       "10681      Vistara  Banglore   New Delhi              BLR → DEL       160   \n",
       "10682    Air India     Delhi      Cochin  DEL → GOI → BOM → COK       500   \n",
       "\n",
       "      Total_Stops Additional_Info  Price  Journey_Day  Journey_Month  \\\n",
       "0        non-stop         No info   3897           24              3   \n",
       "1         2 stops         No info   7662            1              5   \n",
       "2         2 stops         No info  13882            9              6   \n",
       "3          1 stop         No info   6218           12              5   \n",
       "4          1 stop         No info  13302            1              3   \n",
       "...           ...             ...    ...          ...            ...   \n",
       "10678    non-stop         No info   4107            9              4   \n",
       "10679    non-stop         No info   4145           27              4   \n",
       "10680    non-stop         No info   7229           27              4   \n",
       "10681    non-stop         No info  12648            1              3   \n",
       "10682     2 stops         No info  11753            9              5   \n",
       "\n",
       "       Journey_Year Journey_Weekday  Dep_Hour  Arrival_Hour  \n",
       "0              2019          Sunday        22             1  \n",
       "1              2019       Wednesday         5            13  \n",
       "2              2019          Sunday         9             4  \n",
       "3              2019          Sunday        18            23  \n",
       "4              2019          Friday        16            21  \n",
       "...             ...             ...       ...           ...  \n",
       "10678          2019         Tuesday        19            22  \n",
       "10679          2019        Saturday        20            23  \n",
       "10680          2019        Saturday         8            11  \n",
       "10681          2019          Friday        11            14  \n",
       "10682          2019        Thursday        10            19  \n",
       "\n",
       "[10462 rows x 14 columns]"
      ]
     },
     "execution_count": 161,
     "metadata": {},
     "output_type": "execute_result"
    }
   ],
   "source": [
    "df"
   ]
  },
  {
   "cell_type": "code",
   "execution_count": 162,
   "id": "cff20547",
   "metadata": {},
   "outputs": [
    {
     "data": {
      "application/vnd.plotly.v1+json": {
       "config": {
        "plotlyServerURL": "https://plot.ly"
       },
       "data": [
        {
         "bingroup": "x",
         "hovertemplate": "Duration=%{x}<br>count=%{y}<extra></extra>",
         "legendgroup": "",
         "marker": {
          "color": "#636efa",
          "pattern": {
           "shape": ""
          }
         },
         "name": "",
         "orientation": "v",
         "showlegend": false,
         "type": "histogram",
         "x": {
          "bdata": "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",
          "dtype": "i2"
         },
         "xaxis": "x",
         "yaxis": "y"
        }
       ],
       "layout": {
        "barmode": "relative",
        "legend": {
         "tracegroupgap": 0
        },
        "margin": {
         "t": 60
        },
        "template": {
         "data": {
          "bar": [
           {
            "error_x": {
             "color": "#2a3f5f"
            },
            "error_y": {
             "color": "#2a3f5f"
            },
            "marker": {
             "line": {
              "color": "#E5ECF6",
              "width": 0.5
             },
             "pattern": {
              "fillmode": "overlay",
              "size": 10,
              "solidity": 0.2
             }
            },
            "type": "bar"
           }
          ],
          "barpolar": [
           {
            "marker": {
             "line": {
              "color": "#E5ECF6",
              "width": 0.5
             },
             "pattern": {
              "fillmode": "overlay",
              "size": 10,
              "solidity": 0.2
             }
            },
            "type": "barpolar"
           }
          ],
          "carpet": [
           {
            "aaxis": {
             "endlinecolor": "#2a3f5f",
             "gridcolor": "white",
             "linecolor": "white",
             "minorgridcolor": "white",
             "startlinecolor": "#2a3f5f"
            },
            "baxis": {
             "endlinecolor": "#2a3f5f",
             "gridcolor": "white",
             "linecolor": "white",
             "minorgridcolor": "white",
             "startlinecolor": "#2a3f5f"
            },
            "type": "carpet"
           }
          ],
          "choropleth": [
           {
            "colorbar": {
             "outlinewidth": 0,
             "ticks": ""
            },
            "type": "choropleth"
           }
          ],
          "contour": [
           {
            "colorbar": {
             "outlinewidth": 0,
             "ticks": ""
            },
            "colorscale": [
             [
              0,
              "#0d0887"
             ],
             [
              0.1111111111111111,
              "#46039f"
             ],
             [
              0.2222222222222222,
              "#7201a8"
             ],
             [
              0.3333333333333333,
              "#9c179e"
             ],
             [
              0.4444444444444444,
              "#bd3786"
             ],
             [
              0.5555555555555556,
              "#d8576b"
             ],
             [
              0.6666666666666666,
              "#ed7953"
             ],
             [
              0.7777777777777778,
              "#fb9f3a"
             ],
             [
              0.8888888888888888,
              "#fdca26"
             ],
             [
              1,
              "#f0f921"
             ]
            ],
            "type": "contour"
           }
          ],
          "contourcarpet": [
           {
            "colorbar": {
             "outlinewidth": 0,
             "ticks": ""
            },
            "type": "contourcarpet"
           }
          ],
          "heatmap": [
           {
            "colorbar": {
             "outlinewidth": 0,
             "ticks": ""
            },
            "colorscale": [
             [
              0,
              "#0d0887"
             ],
             [
              0.1111111111111111,
              "#46039f"
             ],
             [
              0.2222222222222222,
              "#7201a8"
             ],
             [
              0.3333333333333333,
              "#9c179e"
             ],
             [
              0.4444444444444444,
              "#bd3786"
             ],
             [
              0.5555555555555556,
              "#d8576b"
             ],
             [
              0.6666666666666666,
              "#ed7953"
             ],
             [
              0.7777777777777778,
              "#fb9f3a"
             ],
             [
              0.8888888888888888,
              "#fdca26"
             ],
             [
              1,
              "#f0f921"
             ]
            ],
            "type": "heatmap"
           }
          ],
          "histogram": [
           {
            "marker": {
             "pattern": {
              "fillmode": "overlay",
              "size": 10,
              "solidity": 0.2
             }
            },
            "type": "histogram"
           }
          ],
          "histogram2d": [
           {
            "colorbar": {
             "outlinewidth": 0,
             "ticks": ""
            },
            "colorscale": [
             [
              0,
              "#0d0887"
             ],
             [
              0.1111111111111111,
              "#46039f"
             ],
             [
              0.2222222222222222,
              "#7201a8"
             ],
             [
              0.3333333333333333,
              "#9c179e"
             ],
             [
              0.4444444444444444,
              "#bd3786"
             ],
             [
              0.5555555555555556,
              "#d8576b"
             ],
             [
              0.6666666666666666,
              "#ed7953"
             ],
             [
              0.7777777777777778,
              "#fb9f3a"
             ],
             [
              0.8888888888888888,
              "#fdca26"
             ],
             [
              1,
              "#f0f921"
             ]
            ],
            "type": "histogram2d"
           }
          ],
          "histogram2dcontour": [
           {
            "colorbar": {
             "outlinewidth": 0,
             "ticks": ""
            },
            "colorscale": [
             [
              0,
              "#0d0887"
             ],
             [
              0.1111111111111111,
              "#46039f"
             ],
             [
              0.2222222222222222,
              "#7201a8"
             ],
             [
              0.3333333333333333,
              "#9c179e"
             ],
             [
              0.4444444444444444,
              "#bd3786"
             ],
             [
              0.5555555555555556,
              "#d8576b"
             ],
             [
              0.6666666666666666,
              "#ed7953"
             ],
             [
              0.7777777777777778,
              "#fb9f3a"
             ],
             [
              0.8888888888888888,
              "#fdca26"
             ],
             [
              1,
              "#f0f921"
             ]
            ],
            "type": "histogram2dcontour"
           }
          ],
          "mesh3d": [
           {
            "colorbar": {
             "outlinewidth": 0,
             "ticks": ""
            },
            "type": "mesh3d"
           }
          ],
          "parcoords": [
           {
            "line": {
             "colorbar": {
              "outlinewidth": 0,
              "ticks": ""
             }
            },
            "type": "parcoords"
           }
          ],
          "pie": [
           {
            "automargin": true,
            "type": "pie"
           }
          ],
          "scatter": [
           {
            "fillpattern": {
             "fillmode": "overlay",
             "size": 10,
             "solidity": 0.2
            },
            "type": "scatter"
           }
          ],
          "scatter3d": [
           {
            "line": {
             "colorbar": {
              "outlinewidth": 0,
              "ticks": ""
             }
            },
            "marker": {
             "colorbar": {
              "outlinewidth": 0,
              "ticks": ""
             }
            },
            "type": "scatter3d"
           }
          ],
          "scattercarpet": [
           {
            "marker": {
             "colorbar": {
              "outlinewidth": 0,
              "ticks": ""
             }
            },
            "type": "scattercarpet"
           }
          ],
          "scattergeo": [
           {
            "marker": {
             "colorbar": {
              "outlinewidth": 0,
              "ticks": ""
             }
            },
            "type": "scattergeo"
           }
          ],
          "scattergl": [
           {
            "marker": {
             "colorbar": {
              "outlinewidth": 0,
              "ticks": ""
             }
            },
            "type": "scattergl"
           }
          ],
          "scattermap": [
           {
            "marker": {
             "colorbar": {
              "outlinewidth": 0,
              "ticks": ""
             }
            },
            "type": "scattermap"
           }
          ],
          "scattermapbox": [
           {
            "marker": {
             "colorbar": {
              "outlinewidth": 0,
              "ticks": ""
             }
            },
            "type": "scattermapbox"
           }
          ],
          "scatterpolar": [
           {
            "marker": {
             "colorbar": {
              "outlinewidth": 0,
              "ticks": ""
             }
            },
            "type": "scatterpolar"
           }
          ],
          "scatterpolargl": [
           {
            "marker": {
             "colorbar": {
              "outlinewidth": 0,
              "ticks": ""
             }
            },
            "type": "scatterpolargl"
           }
          ],
          "scatterternary": [
           {
            "marker": {
             "colorbar": {
              "outlinewidth": 0,
              "ticks": ""
             }
            },
            "type": "scatterternary"
           }
          ],
          "surface": [
           {
            "colorbar": {
             "outlinewidth": 0,
             "ticks": ""
            },
            "colorscale": [
             [
              0,
              "#0d0887"
             ],
             [
              0.1111111111111111,
              "#46039f"
             ],
             [
              0.2222222222222222,
              "#7201a8"
             ],
             [
              0.3333333333333333,
              "#9c179e"
             ],
             [
              0.4444444444444444,
              "#bd3786"
             ],
             [
              0.5555555555555556,
              "#d8576b"
             ],
             [
              0.6666666666666666,
              "#ed7953"
             ],
             [
              0.7777777777777778,
              "#fb9f3a"
             ],
             [
              0.8888888888888888,
              "#fdca26"
             ],
             [
              1,
              "#f0f921"
             ]
            ],
            "type": "surface"
           }
          ],
          "table": [
           {
            "cells": {
             "fill": {
              "color": "#EBF0F8"
             },
             "line": {
              "color": "white"
             }
            },
            "header": {
             "fill": {
              "color": "#C8D4E3"
             },
             "line": {
              "color": "white"
             }
            },
            "type": "table"
           }
          ]
         },
         "layout": {
          "annotationdefaults": {
           "arrowcolor": "#2a3f5f",
           "arrowhead": 0,
           "arrowwidth": 1
          },
          "autotypenumbers": "strict",
          "coloraxis": {
           "colorbar": {
            "outlinewidth": 0,
            "ticks": ""
           }
          },
          "colorscale": {
           "diverging": [
            [
             0,
             "#8e0152"
            ],
            [
             0.1,
             "#c51b7d"
            ],
            [
             0.2,
             "#de77ae"
            ],
            [
             0.3,
             "#f1b6da"
            ],
            [
             0.4,
             "#fde0ef"
            ],
            [
             0.5,
             "#f7f7f7"
            ],
            [
             0.6,
             "#e6f5d0"
            ],
            [
             0.7,
             "#b8e186"
            ],
            [
             0.8,
             "#7fbc41"
            ],
            [
             0.9,
             "#4d9221"
            ],
            [
             1,
             "#276419"
            ]
           ],
           "sequential": [
            [
             0,
             "#0d0887"
            ],
            [
             0.1111111111111111,
             "#46039f"
            ],
            [
             0.2222222222222222,
             "#7201a8"
            ],
            [
             0.3333333333333333,
             "#9c179e"
            ],
            [
             0.4444444444444444,
             "#bd3786"
            ],
            [
             0.5555555555555556,
             "#d8576b"
            ],
            [
             0.6666666666666666,
             "#ed7953"
            ],
            [
             0.7777777777777778,
             "#fb9f3a"
            ],
            [
             0.8888888888888888,
             "#fdca26"
            ],
            [
             1,
             "#f0f921"
            ]
           ],
           "sequentialminus": [
            [
             0,
             "#0d0887"
            ],
            [
             0.1111111111111111,
             "#46039f"
            ],
            [
             0.2222222222222222,
             "#7201a8"
            ],
            [
             0.3333333333333333,
             "#9c179e"
            ],
            [
             0.4444444444444444,
             "#bd3786"
            ],
            [
             0.5555555555555556,
             "#d8576b"
            ],
            [
             0.6666666666666666,
             "#ed7953"
            ],
            [
             0.7777777777777778,
             "#fb9f3a"
            ],
            [
             0.8888888888888888,
             "#fdca26"
            ],
            [
             1,
             "#f0f921"
            ]
           ]
          },
          "colorway": [
           "#636efa",
           "#EF553B",
           "#00cc96",
           "#ab63fa",
           "#FFA15A",
           "#19d3f3",
           "#FF6692",
           "#B6E880",
           "#FF97FF",
           "#FECB52"
          ],
          "font": {
           "color": "#2a3f5f"
          },
          "geo": {
           "bgcolor": "white",
           "lakecolor": "white",
           "landcolor": "#E5ECF6",
           "showlakes": true,
           "showland": true,
           "subunitcolor": "white"
          },
          "hoverlabel": {
           "align": "left"
          },
          "hovermode": "closest",
          "mapbox": {
           "style": "light"
          },
          "paper_bgcolor": "white",
          "plot_bgcolor": "#E5ECF6",
          "polar": {
           "angularaxis": {
            "gridcolor": "white",
            "linecolor": "white",
            "ticks": ""
           },
           "bgcolor": "#E5ECF6",
           "radialaxis": {
            "gridcolor": "white",
            "linecolor": "white",
            "ticks": ""
           }
          },
          "scene": {
           "xaxis": {
            "backgroundcolor": "#E5ECF6",
            "gridcolor": "white",
            "gridwidth": 2,
            "linecolor": "white",
            "showbackground": true,
            "ticks": "",
            "zerolinecolor": "white"
           },
           "yaxis": {
            "backgroundcolor": "#E5ECF6",
            "gridcolor": "white",
            "gridwidth": 2,
            "linecolor": "white",
            "showbackground": true,
            "ticks": "",
            "zerolinecolor": "white"
           },
           "zaxis": {
            "backgroundcolor": "#E5ECF6",
            "gridcolor": "white",
            "gridwidth": 2,
            "linecolor": "white",
            "showbackground": true,
            "ticks": "",
            "zerolinecolor": "white"
           }
          },
          "shapedefaults": {
           "line": {
            "color": "#2a3f5f"
           }
          },
          "ternary": {
           "aaxis": {
            "gridcolor": "white",
            "linecolor": "white",
            "ticks": ""
           },
           "baxis": {
            "gridcolor": "white",
            "linecolor": "white",
            "ticks": ""
           },
           "bgcolor": "#E5ECF6",
           "caxis": {
            "gridcolor": "white",
            "linecolor": "white",
            "ticks": ""
           }
          },
          "title": {
           "x": 0.05
          },
          "xaxis": {
           "automargin": true,
           "gridcolor": "white",
           "linecolor": "white",
           "ticks": "",
           "title": {
            "standoff": 15
           },
           "zerolinecolor": "white",
           "zerolinewidth": 2
          },
          "yaxis": {
           "automargin": true,
           "gridcolor": "white",
           "linecolor": "white",
           "ticks": "",
           "title": {
            "standoff": 15
           },
           "zerolinecolor": "white",
           "zerolinewidth": 2
          }
         }
        },
        "xaxis": {
         "anchor": "y",
         "domain": [
          0,
          1
         ],
         "title": {
          "text": "Duration"
         }
        },
        "yaxis": {
         "anchor": "x",
         "domain": [
          0,
          1
         ],
         "title": {
          "text": "count"
         }
        }
       }
      }
     },
     "metadata": {},
     "output_type": "display_data"
    },
    {
     "data": {
      "application/vnd.plotly.v1+json": {
       "config": {
        "plotlyServerURL": "https://plot.ly"
       },
       "data": [
        {
         "bingroup": "x",
         "hovertemplate": "Price=%{x}<br>count=%{y}<extra></extra>",
         "legendgroup": "",
         "marker": {
          "color": "#636efa",
          "pattern": {
           "shape": ""
          }
         },
         "name": "",
         "orientation": "v",
         "showlegend": false,
         "type": "histogram",
         "x": {
          "bdata": "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",
          "dtype": "i4"
         },
         "xaxis": "x",
         "yaxis": "y"
        }
       ],
       "layout": {
        "barmode": "relative",
        "legend": {
         "tracegroupgap": 0
        },
        "margin": {
         "t": 60
        },
        "template": {
         "data": {
          "bar": [
           {
            "error_x": {
             "color": "#2a3f5f"
            },
            "error_y": {
             "color": "#2a3f5f"
            },
            "marker": {
             "line": {
              "color": "#E5ECF6",
              "width": 0.5
             },
             "pattern": {
              "fillmode": "overlay",
              "size": 10,
              "solidity": 0.2
             }
            },
            "type": "bar"
           }
          ],
          "barpolar": [
           {
            "marker": {
             "line": {
              "color": "#E5ECF6",
              "width": 0.5
             },
             "pattern": {
              "fillmode": "overlay",
              "size": 10,
              "solidity": 0.2
             }
            },
            "type": "barpolar"
           }
          ],
          "carpet": [
           {
            "aaxis": {
             "endlinecolor": "#2a3f5f",
             "gridcolor": "white",
             "linecolor": "white",
             "minorgridcolor": "white",
             "startlinecolor": "#2a3f5f"
            },
            "baxis": {
             "endlinecolor": "#2a3f5f",
             "gridcolor": "white",
             "linecolor": "white",
             "minorgridcolor": "white",
             "startlinecolor": "#2a3f5f"
            },
            "type": "carpet"
           }
          ],
          "choropleth": [
           {
            "colorbar": {
             "outlinewidth": 0,
             "ticks": ""
            },
            "type": "choropleth"
           }
          ],
          "contour": [
           {
            "colorbar": {
             "outlinewidth": 0,
             "ticks": ""
            },
            "colorscale": [
             [
              0,
              "#0d0887"
             ],
             [
              0.1111111111111111,
              "#46039f"
             ],
             [
              0.2222222222222222,
              "#7201a8"
             ],
             [
              0.3333333333333333,
              "#9c179e"
             ],
             [
              0.4444444444444444,
              "#bd3786"
             ],
             [
              0.5555555555555556,
              "#d8576b"
             ],
             [
              0.6666666666666666,
              "#ed7953"
             ],
             [
              0.7777777777777778,
              "#fb9f3a"
             ],
             [
              0.8888888888888888,
              "#fdca26"
             ],
             [
              1,
              "#f0f921"
             ]
            ],
            "type": "contour"
           }
          ],
          "contourcarpet": [
           {
            "colorbar": {
             "outlinewidth": 0,
             "ticks": ""
            },
            "type": "contourcarpet"
           }
          ],
          "heatmap": [
           {
            "colorbar": {
             "outlinewidth": 0,
             "ticks": ""
            },
            "colorscale": [
             [
              0,
              "#0d0887"
             ],
             [
              0.1111111111111111,
              "#46039f"
             ],
             [
              0.2222222222222222,
              "#7201a8"
             ],
             [
              0.3333333333333333,
              "#9c179e"
             ],
             [
              0.4444444444444444,
              "#bd3786"
             ],
             [
              0.5555555555555556,
              "#d8576b"
             ],
             [
              0.6666666666666666,
              "#ed7953"
             ],
             [
              0.7777777777777778,
              "#fb9f3a"
             ],
             [
              0.8888888888888888,
              "#fdca26"
             ],
             [
              1,
              "#f0f921"
             ]
            ],
            "type": "heatmap"
           }
          ],
          "histogram": [
           {
            "marker": {
             "pattern": {
              "fillmode": "overlay",
              "size": 10,
              "solidity": 0.2
             }
            },
            "type": "histogram"
           }
          ],
          "histogram2d": [
           {
            "colorbar": {
             "outlinewidth": 0,
             "ticks": ""
            },
            "colorscale": [
             [
              0,
              "#0d0887"
             ],
             [
              0.1111111111111111,
              "#46039f"
             ],
             [
              0.2222222222222222,
              "#7201a8"
             ],
             [
              0.3333333333333333,
              "#9c179e"
             ],
             [
              0.4444444444444444,
              "#bd3786"
             ],
             [
              0.5555555555555556,
              "#d8576b"
             ],
             [
              0.6666666666666666,
              "#ed7953"
             ],
             [
              0.7777777777777778,
              "#fb9f3a"
             ],
             [
              0.8888888888888888,
              "#fdca26"
             ],
             [
              1,
              "#f0f921"
             ]
            ],
            "type": "histogram2d"
           }
          ],
          "histogram2dcontour": [
           {
            "colorbar": {
             "outlinewidth": 0,
             "ticks": ""
            },
            "colorscale": [
             [
              0,
              "#0d0887"
             ],
             [
              0.1111111111111111,
              "#46039f"
             ],
             [
              0.2222222222222222,
              "#7201a8"
             ],
             [
              0.3333333333333333,
              "#9c179e"
             ],
             [
              0.4444444444444444,
              "#bd3786"
             ],
             [
              0.5555555555555556,
              "#d8576b"
             ],
             [
              0.6666666666666666,
              "#ed7953"
             ],
             [
              0.7777777777777778,
              "#fb9f3a"
             ],
             [
              0.8888888888888888,
              "#fdca26"
             ],
             [
              1,
              "#f0f921"
             ]
            ],
            "type": "histogram2dcontour"
           }
          ],
          "mesh3d": [
           {
            "colorbar": {
             "outlinewidth": 0,
             "ticks": ""
            },
            "type": "mesh3d"
           }
          ],
          "parcoords": [
           {
            "line": {
             "colorbar": {
              "outlinewidth": 0,
              "ticks": ""
             }
            },
            "type": "parcoords"
           }
          ],
          "pie": [
           {
            "automargin": true,
            "type": "pie"
           }
          ],
          "scatter": [
           {
            "fillpattern": {
             "fillmode": "overlay",
             "size": 10,
             "solidity": 0.2
            },
            "type": "scatter"
           }
          ],
          "scatter3d": [
           {
            "line": {
             "colorbar": {
              "outlinewidth": 0,
              "ticks": ""
             }
            },
            "marker": {
             "colorbar": {
              "outlinewidth": 0,
              "ticks": ""
             }
            },
            "type": "scatter3d"
           }
          ],
          "scattercarpet": [
           {
            "marker": {
             "colorbar": {
              "outlinewidth": 0,
              "ticks": ""
             }
            },
            "type": "scattercarpet"
           }
          ],
          "scattergeo": [
           {
            "marker": {
             "colorbar": {
              "outlinewidth": 0,
              "ticks": ""
             }
            },
            "type": "scattergeo"
           }
          ],
          "scattergl": [
           {
            "marker": {
             "colorbar": {
              "outlinewidth": 0,
              "ticks": ""
             }
            },
            "type": "scattergl"
           }
          ],
          "scattermap": [
           {
            "marker": {
             "colorbar": {
              "outlinewidth": 0,
              "ticks": ""
             }
            },
            "type": "scattermap"
           }
          ],
          "scattermapbox": [
           {
            "marker": {
             "colorbar": {
              "outlinewidth": 0,
              "ticks": ""
             }
            },
            "type": "scattermapbox"
           }
          ],
          "scatterpolar": [
           {
            "marker": {
             "colorbar": {
              "outlinewidth": 0,
              "ticks": ""
             }
            },
            "type": "scatterpolar"
           }
          ],
          "scatterpolargl": [
           {
            "marker": {
             "colorbar": {
              "outlinewidth": 0,
              "ticks": ""
             }
            },
            "type": "scatterpolargl"
           }
          ],
          "scatterternary": [
           {
            "marker": {
             "colorbar": {
              "outlinewidth": 0,
              "ticks": ""
             }
            },
            "type": "scatterternary"
           }
          ],
          "surface": [
           {
            "colorbar": {
             "outlinewidth": 0,
             "ticks": ""
            },
            "colorscale": [
             [
              0,
              "#0d0887"
             ],
             [
              0.1111111111111111,
              "#46039f"
             ],
             [
              0.2222222222222222,
              "#7201a8"
             ],
             [
              0.3333333333333333,
              "#9c179e"
             ],
             [
              0.4444444444444444,
              "#bd3786"
             ],
             [
              0.5555555555555556,
              "#d8576b"
             ],
             [
              0.6666666666666666,
              "#ed7953"
             ],
             [
              0.7777777777777778,
              "#fb9f3a"
             ],
             [
              0.8888888888888888,
              "#fdca26"
             ],
             [
              1,
              "#f0f921"
             ]
            ],
            "type": "surface"
           }
          ],
          "table": [
           {
            "cells": {
             "fill": {
              "color": "#EBF0F8"
             },
             "line": {
              "color": "white"
             }
            },
            "header": {
             "fill": {
              "color": "#C8D4E3"
             },
             "line": {
              "color": "white"
             }
            },
            "type": "table"
           }
          ]
         },
         "layout": {
          "annotationdefaults": {
           "arrowcolor": "#2a3f5f",
           "arrowhead": 0,
           "arrowwidth": 1
          },
          "autotypenumbers": "strict",
          "coloraxis": {
           "colorbar": {
            "outlinewidth": 0,
            "ticks": ""
           }
          },
          "colorscale": {
           "diverging": [
            [
             0,
             "#8e0152"
            ],
            [
             0.1,
             "#c51b7d"
            ],
            [
             0.2,
             "#de77ae"
            ],
            [
             0.3,
             "#f1b6da"
            ],
            [
             0.4,
             "#fde0ef"
            ],
            [
             0.5,
             "#f7f7f7"
            ],
            [
             0.6,
             "#e6f5d0"
            ],
            [
             0.7,
             "#b8e186"
            ],
            [
             0.8,
             "#7fbc41"
            ],
            [
             0.9,
             "#4d9221"
            ],
            [
             1,
             "#276419"
            ]
           ],
           "sequential": [
            [
             0,
             "#0d0887"
            ],
            [
             0.1111111111111111,
             "#46039f"
            ],
            [
             0.2222222222222222,
             "#7201a8"
            ],
            [
             0.3333333333333333,
             "#9c179e"
            ],
            [
             0.4444444444444444,
             "#bd3786"
            ],
            [
             0.5555555555555556,
             "#d8576b"
            ],
            [
             0.6666666666666666,
             "#ed7953"
            ],
            [
             0.7777777777777778,
             "#fb9f3a"
            ],
            [
             0.8888888888888888,
             "#fdca26"
            ],
            [
             1,
             "#f0f921"
            ]
           ],
           "sequentialminus": [
            [
             0,
             "#0d0887"
            ],
            [
             0.1111111111111111,
             "#46039f"
            ],
            [
             0.2222222222222222,
             "#7201a8"
            ],
            [
             0.3333333333333333,
             "#9c179e"
            ],
            [
             0.4444444444444444,
             "#bd3786"
            ],
            [
             0.5555555555555556,
             "#d8576b"
            ],
            [
             0.6666666666666666,
             "#ed7953"
            ],
            [
             0.7777777777777778,
             "#fb9f3a"
            ],
            [
             0.8888888888888888,
             "#fdca26"
            ],
            [
             1,
             "#f0f921"
            ]
           ]
          },
          "colorway": [
           "#636efa",
           "#EF553B",
           "#00cc96",
           "#ab63fa",
           "#FFA15A",
           "#19d3f3",
           "#FF6692",
           "#B6E880",
           "#FF97FF",
           "#FECB52"
          ],
          "font": {
           "color": "#2a3f5f"
          },
          "geo": {
           "bgcolor": "white",
           "lakecolor": "white",
           "landcolor": "#E5ECF6",
           "showlakes": true,
           "showland": true,
           "subunitcolor": "white"
          },
          "hoverlabel": {
           "align": "left"
          },
          "hovermode": "closest",
          "mapbox": {
           "style": "light"
          },
          "paper_bgcolor": "white",
          "plot_bgcolor": "#E5ECF6",
          "polar": {
           "angularaxis": {
            "gridcolor": "white",
            "linecolor": "white",
            "ticks": ""
           },
           "bgcolor": "#E5ECF6",
           "radialaxis": {
            "gridcolor": "white",
            "linecolor": "white",
            "ticks": ""
           }
          },
          "scene": {
           "xaxis": {
            "backgroundcolor": "#E5ECF6",
            "gridcolor": "white",
            "gridwidth": 2,
            "linecolor": "white",
            "showbackground": true,
            "ticks": "",
            "zerolinecolor": "white"
           },
           "yaxis": {
            "backgroundcolor": "#E5ECF6",
            "gridcolor": "white",
            "gridwidth": 2,
            "linecolor": "white",
            "showbackground": true,
            "ticks": "",
            "zerolinecolor": "white"
           },
           "zaxis": {
            "backgroundcolor": "#E5ECF6",
            "gridcolor": "white",
            "gridwidth": 2,
            "linecolor": "white",
            "showbackground": true,
            "ticks": "",
            "zerolinecolor": "white"
           }
          },
          "shapedefaults": {
           "line": {
            "color": "#2a3f5f"
           }
          },
          "ternary": {
           "aaxis": {
            "gridcolor": "white",
            "linecolor": "white",
            "ticks": ""
           },
           "baxis": {
            "gridcolor": "white",
            "linecolor": "white",
            "ticks": ""
           },
           "bgcolor": "#E5ECF6",
           "caxis": {
            "gridcolor": "white",
            "linecolor": "white",
            "ticks": ""
           }
          },
          "title": {
           "x": 0.05
          },
          "xaxis": {
           "automargin": true,
           "gridcolor": "white",
           "linecolor": "white",
           "ticks": "",
           "title": {
            "standoff": 15
           },
           "zerolinecolor": "white",
           "zerolinewidth": 2
          },
          "yaxis": {
           "automargin": true,
           "gridcolor": "white",
           "linecolor": "white",
           "ticks": "",
           "title": {
            "standoff": 15
           },
           "zerolinecolor": "white",
           "zerolinewidth": 2
          }
         }
        },
        "xaxis": {
         "anchor": "y",
         "domain": [
          0,
          1
         ],
         "title": {
          "text": "Price"
         }
        },
        "yaxis": {
         "anchor": "x",
         "domain": [
          0,
          1
         ],
         "title": {
          "text": "count"
         }
        }
       }
      }
     },
     "metadata": {},
     "output_type": "display_data"
    },
    {
     "data": {
      "application/vnd.plotly.v1+json": {
       "config": {
        "plotlyServerURL": "https://plot.ly"
       },
       "data": [
        {
         "bingroup": "x",
         "hovertemplate": "Journey_Day=%{x}<br>count=%{y}<extra></extra>",
         "legendgroup": "",
         "marker": {
          "color": "#636efa",
          "pattern": {
           "shape": ""
          }
         },
         "name": "",
         "orientation": "v",
         "showlegend": false,
         "type": "histogram",
         "x": {
          "bdata": "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",
          "dtype": "i4"
         },
         "xaxis": "x",
         "yaxis": "y"
        }
       ],
       "layout": {
        "barmode": "relative",
        "legend": {
         "tracegroupgap": 0
        },
        "margin": {
         "t": 60
        },
        "template": {
         "data": {
          "bar": [
           {
            "error_x": {
             "color": "#2a3f5f"
            },
            "error_y": {
             "color": "#2a3f5f"
            },
            "marker": {
             "line": {
              "color": "#E5ECF6",
              "width": 0.5
             },
             "pattern": {
              "fillmode": "overlay",
              "size": 10,
              "solidity": 0.2
             }
            },
            "type": "bar"
           }
          ],
          "barpolar": [
           {
            "marker": {
             "line": {
              "color": "#E5ECF6",
              "width": 0.5
             },
             "pattern": {
              "fillmode": "overlay",
              "size": 10,
              "solidity": 0.2
             }
            },
            "type": "barpolar"
           }
          ],
          "carpet": [
           {
            "aaxis": {
             "endlinecolor": "#2a3f5f",
             "gridcolor": "white",
             "linecolor": "white",
             "minorgridcolor": "white",
             "startlinecolor": "#2a3f5f"
            },
            "baxis": {
             "endlinecolor": "#2a3f5f",
             "gridcolor": "white",
             "linecolor": "white",
             "minorgridcolor": "white",
             "startlinecolor": "#2a3f5f"
            },
            "type": "carpet"
           }
          ],
          "choropleth": [
           {
            "colorbar": {
             "outlinewidth": 0,
             "ticks": ""
            },
            "type": "choropleth"
           }
          ],
          "contour": [
           {
            "colorbar": {
             "outlinewidth": 0,
             "ticks": ""
            },
            "colorscale": [
             [
              0,
              "#0d0887"
             ],
             [
              0.1111111111111111,
              "#46039f"
             ],
             [
              0.2222222222222222,
              "#7201a8"
             ],
             [
              0.3333333333333333,
              "#9c179e"
             ],
             [
              0.4444444444444444,
              "#bd3786"
             ],
             [
              0.5555555555555556,
              "#d8576b"
             ],
             [
              0.6666666666666666,
              "#ed7953"
             ],
             [
              0.7777777777777778,
              "#fb9f3a"
             ],
             [
              0.8888888888888888,
              "#fdca26"
             ],
             [
              1,
              "#f0f921"
             ]
            ],
            "type": "contour"
           }
          ],
          "contourcarpet": [
           {
            "colorbar": {
             "outlinewidth": 0,
             "ticks": ""
            },
            "type": "contourcarpet"
           }
          ],
          "heatmap": [
           {
            "colorbar": {
             "outlinewidth": 0,
             "ticks": ""
            },
            "colorscale": [
             [
              0,
              "#0d0887"
             ],
             [
              0.1111111111111111,
              "#46039f"
             ],
             [
              0.2222222222222222,
              "#7201a8"
             ],
             [
              0.3333333333333333,
              "#9c179e"
             ],
             [
              0.4444444444444444,
              "#bd3786"
             ],
             [
              0.5555555555555556,
              "#d8576b"
             ],
             [
              0.6666666666666666,
              "#ed7953"
             ],
             [
              0.7777777777777778,
              "#fb9f3a"
             ],
             [
              0.8888888888888888,
              "#fdca26"
             ],
             [
              1,
              "#f0f921"
             ]
            ],
            "type": "heatmap"
           }
          ],
          "histogram": [
           {
            "marker": {
             "pattern": {
              "fillmode": "overlay",
              "size": 10,
              "solidity": 0.2
             }
            },
            "type": "histogram"
           }
          ],
          "histogram2d": [
           {
            "colorbar": {
             "outlinewidth": 0,
             "ticks": ""
            },
            "colorscale": [
             [
              0,
              "#0d0887"
             ],
             [
              0.1111111111111111,
              "#46039f"
             ],
             [
              0.2222222222222222,
              "#7201a8"
             ],
             [
              0.3333333333333333,
              "#9c179e"
             ],
             [
              0.4444444444444444,
              "#bd3786"
             ],
             [
              0.5555555555555556,
              "#d8576b"
             ],
             [
              0.6666666666666666,
              "#ed7953"
             ],
             [
              0.7777777777777778,
              "#fb9f3a"
             ],
             [
              0.8888888888888888,
              "#fdca26"
             ],
             [
              1,
              "#f0f921"
             ]
            ],
            "type": "histogram2d"
           }
          ],
          "histogram2dcontour": [
           {
            "colorbar": {
             "outlinewidth": 0,
             "ticks": ""
            },
            "colorscale": [
             [
              0,
              "#0d0887"
             ],
             [
              0.1111111111111111,
              "#46039f"
             ],
             [
              0.2222222222222222,
              "#7201a8"
             ],
             [
              0.3333333333333333,
              "#9c179e"
             ],
             [
              0.4444444444444444,
              "#bd3786"
             ],
             [
              0.5555555555555556,
              "#d8576b"
             ],
             [
              0.6666666666666666,
              "#ed7953"
             ],
             [
              0.7777777777777778,
              "#fb9f3a"
             ],
             [
              0.8888888888888888,
              "#fdca26"
             ],
             [
              1,
              "#f0f921"
             ]
            ],
            "type": "histogram2dcontour"
           }
          ],
          "mesh3d": [
           {
            "colorbar": {
             "outlinewidth": 0,
             "ticks": ""
            },
            "type": "mesh3d"
           }
          ],
          "parcoords": [
           {
            "line": {
             "colorbar": {
              "outlinewidth": 0,
              "ticks": ""
             }
            },
            "type": "parcoords"
           }
          ],
          "pie": [
           {
            "automargin": true,
            "type": "pie"
           }
          ],
          "scatter": [
           {
            "fillpattern": {
             "fillmode": "overlay",
             "size": 10,
             "solidity": 0.2
            },
            "type": "scatter"
           }
          ],
          "scatter3d": [
           {
            "line": {
             "colorbar": {
              "outlinewidth": 0,
              "ticks": ""
             }
            },
            "marker": {
             "colorbar": {
              "outlinewidth": 0,
              "ticks": ""
             }
            },
            "type": "scatter3d"
           }
          ],
          "scattercarpet": [
           {
            "marker": {
             "colorbar": {
              "outlinewidth": 0,
              "ticks": ""
             }
            },
            "type": "scattercarpet"
           }
          ],
          "scattergeo": [
           {
            "marker": {
             "colorbar": {
              "outlinewidth": 0,
              "ticks": ""
             }
            },
            "type": "scattergeo"
           }
          ],
          "scattergl": [
           {
            "marker": {
             "colorbar": {
              "outlinewidth": 0,
              "ticks": ""
             }
            },
            "type": "scattergl"
           }
          ],
          "scattermap": [
           {
            "marker": {
             "colorbar": {
              "outlinewidth": 0,
              "ticks": ""
             }
            },
            "type": "scattermap"
           }
          ],
          "scattermapbox": [
           {
            "marker": {
             "colorbar": {
              "outlinewidth": 0,
              "ticks": ""
             }
            },
            "type": "scattermapbox"
           }
          ],
          "scatterpolar": [
           {
            "marker": {
             "colorbar": {
              "outlinewidth": 0,
              "ticks": ""
             }
            },
            "type": "scatterpolar"
           }
          ],
          "scatterpolargl": [
           {
            "marker": {
             "colorbar": {
              "outlinewidth": 0,
              "ticks": ""
             }
            },
            "type": "scatterpolargl"
           }
          ],
          "scatterternary": [
           {
            "marker": {
             "colorbar": {
              "outlinewidth": 0,
              "ticks": ""
             }
            },
            "type": "scatterternary"
           }
          ],
          "surface": [
           {
            "colorbar": {
             "outlinewidth": 0,
             "ticks": ""
            },
            "colorscale": [
             [
              0,
              "#0d0887"
             ],
             [
              0.1111111111111111,
              "#46039f"
             ],
             [
              0.2222222222222222,
              "#7201a8"
             ],
             [
              0.3333333333333333,
              "#9c179e"
             ],
             [
              0.4444444444444444,
              "#bd3786"
             ],
             [
              0.5555555555555556,
              "#d8576b"
             ],
             [
              0.6666666666666666,
              "#ed7953"
             ],
             [
              0.7777777777777778,
              "#fb9f3a"
             ],
             [
              0.8888888888888888,
              "#fdca26"
             ],
             [
              1,
              "#f0f921"
             ]
            ],
            "type": "surface"
           }
          ],
          "table": [
           {
            "cells": {
             "fill": {
              "color": "#EBF0F8"
             },
             "line": {
              "color": "white"
             }
            },
            "header": {
             "fill": {
              "color": "#C8D4E3"
             },
             "line": {
              "color": "white"
             }
            },
            "type": "table"
           }
          ]
         },
         "layout": {
          "annotationdefaults": {
           "arrowcolor": "#2a3f5f",
           "arrowhead": 0,
           "arrowwidth": 1
          },
          "autotypenumbers": "strict",
          "coloraxis": {
           "colorbar": {
            "outlinewidth": 0,
            "ticks": ""
           }
          },
          "colorscale": {
           "diverging": [
            [
             0,
             "#8e0152"
            ],
            [
             0.1,
             "#c51b7d"
            ],
            [
             0.2,
             "#de77ae"
            ],
            [
             0.3,
             "#f1b6da"
            ],
            [
             0.4,
             "#fde0ef"
            ],
            [
             0.5,
             "#f7f7f7"
            ],
            [
             0.6,
             "#e6f5d0"
            ],
            [
             0.7,
             "#b8e186"
            ],
            [
             0.8,
             "#7fbc41"
            ],
            [
             0.9,
             "#4d9221"
            ],
            [
             1,
             "#276419"
            ]
           ],
           "sequential": [
            [
             0,
             "#0d0887"
            ],
            [
             0.1111111111111111,
             "#46039f"
            ],
            [
             0.2222222222222222,
             "#7201a8"
            ],
            [
             0.3333333333333333,
             "#9c179e"
            ],
            [
             0.4444444444444444,
             "#bd3786"
            ],
            [
             0.5555555555555556,
             "#d8576b"
            ],
            [
             0.6666666666666666,
             "#ed7953"
            ],
            [
             0.7777777777777778,
             "#fb9f3a"
            ],
            [
             0.8888888888888888,
             "#fdca26"
            ],
            [
             1,
             "#f0f921"
            ]
           ],
           "sequentialminus": [
            [
             0,
             "#0d0887"
            ],
            [
             0.1111111111111111,
             "#46039f"
            ],
            [
             0.2222222222222222,
             "#7201a8"
            ],
            [
             0.3333333333333333,
             "#9c179e"
            ],
            [
             0.4444444444444444,
             "#bd3786"
            ],
            [
             0.5555555555555556,
             "#d8576b"
            ],
            [
             0.6666666666666666,
             "#ed7953"
            ],
            [
             0.7777777777777778,
             "#fb9f3a"
            ],
            [
             0.8888888888888888,
             "#fdca26"
            ],
            [
             1,
             "#f0f921"
            ]
           ]
          },
          "colorway": [
           "#636efa",
           "#EF553B",
           "#00cc96",
           "#ab63fa",
           "#FFA15A",
           "#19d3f3",
           "#FF6692",
           "#B6E880",
           "#FF97FF",
           "#FECB52"
          ],
          "font": {
           "color": "#2a3f5f"
          },
          "geo": {
           "bgcolor": "white",
           "lakecolor": "white",
           "landcolor": "#E5ECF6",
           "showlakes": true,
           "showland": true,
           "subunitcolor": "white"
          },
          "hoverlabel": {
           "align": "left"
          },
          "hovermode": "closest",
          "mapbox": {
           "style": "light"
          },
          "paper_bgcolor": "white",
          "plot_bgcolor": "#E5ECF6",
          "polar": {
           "angularaxis": {
            "gridcolor": "white",
            "linecolor": "white",
            "ticks": ""
           },
           "bgcolor": "#E5ECF6",
           "radialaxis": {
            "gridcolor": "white",
            "linecolor": "white",
            "ticks": ""
           }
          },
          "scene": {
           "xaxis": {
            "backgroundcolor": "#E5ECF6",
            "gridcolor": "white",
            "gridwidth": 2,
            "linecolor": "white",
            "showbackground": true,
            "ticks": "",
            "zerolinecolor": "white"
           },
           "yaxis": {
            "backgroundcolor": "#E5ECF6",
            "gridcolor": "white",
            "gridwidth": 2,
            "linecolor": "white",
            "showbackground": true,
            "ticks": "",
            "zerolinecolor": "white"
           },
           "zaxis": {
            "backgroundcolor": "#E5ECF6",
            "gridcolor": "white",
            "gridwidth": 2,
            "linecolor": "white",
            "showbackground": true,
            "ticks": "",
            "zerolinecolor": "white"
           }
          },
          "shapedefaults": {
           "line": {
            "color": "#2a3f5f"
           }
          },
          "ternary": {
           "aaxis": {
            "gridcolor": "white",
            "linecolor": "white",
            "ticks": ""
           },
           "baxis": {
            "gridcolor": "white",
            "linecolor": "white",
            "ticks": ""
           },
           "bgcolor": "#E5ECF6",
           "caxis": {
            "gridcolor": "white",
            "linecolor": "white",
            "ticks": ""
           }
          },
          "title": {
           "x": 0.05
          },
          "xaxis": {
           "automargin": true,
           "gridcolor": "white",
           "linecolor": "white",
           "ticks": "",
           "title": {
            "standoff": 15
           },
           "zerolinecolor": "white",
           "zerolinewidth": 2
          },
          "yaxis": {
           "automargin": true,
           "gridcolor": "white",
           "linecolor": "white",
           "ticks": "",
           "title": {
            "standoff": 15
           },
           "zerolinecolor": "white",
           "zerolinewidth": 2
          }
         }
        },
        "xaxis": {
         "anchor": "y",
         "domain": [
          0,
          1
         ],
         "title": {
          "text": "Journey_Day"
         }
        },
        "yaxis": {
         "anchor": "x",
         "domain": [
          0,
          1
         ],
         "title": {
          "text": "count"
         }
        }
       }
      }
     },
     "metadata": {},
     "output_type": "display_data"
    },
    {
     "data": {
      "application/vnd.plotly.v1+json": {
       "config": {
        "plotlyServerURL": "https://plot.ly"
       },
       "data": [
        {
         "bingroup": "x",
         "hovertemplate": "Journey_Month=%{x}<br>count=%{y}<extra></extra>",
         "legendgroup": "",
         "marker": {
          "color": "#636efa",
          "pattern": {
           "shape": ""
          }
         },
         "name": "",
         "orientation": "v",
         "showlegend": false,
         "type": "histogram",
         "x": {
          "bdata": "AwAAAAUAAAAGAAAABQAAAAMAAAAGAAAAAwAAAAMAAAADAAAABQAAAAYAAAAEAAAABgAAAAUAAAAEAAAAAwAAAAQAAAAGAAAABgAAAAUAAAADAAAAAwAAAAQAAAAFAAAABQAAAAYAAAAGAAAABQAAAAYAAAAGAAAABgAAAAUAAAAEAAAABgAAAAUAAAAGAAAABQAAAAUAAAADAAAABgAAAAUAAAADAAAABQAAAAUAAAADAAAAAwAAAAUAAAAFAAAABQAAAAYAAAADAAAABQAAAAMAAAAGAAAABAAAAAMAAAADAAAAAwAAAAUAAAADAAAABgAAAAQAAAAGAAAABQAAAAUAAAAGAAAABAAAAAUAAAAFAAAAAwAAAAYAAAADAAAABgAAAAYAAAADAAAAAwAAAAQAAAAEAAAABgAAAAMAAAAGAAAAAwAAAAUAAAAGAAAABQAAAAMAAAAGAAAABgAAAAQAAAAFAAAABQAAAAMAAAADAAAAAwAAAAQAAAAGAAAABQAAAAYAAAAGAAAABgAAAAUAAAAGAAAABgAAAAUAAAAFAAAABQAAAAMAAAADAAAABQAAAAUAAAADAAAABAAAAAUAAAADAAAABgAAAAUAAAADAAAAAwAAAAYAAAAFAAAABAAAAAUAAAAFAAAAAwAAAAUAAAAFAAAABgAAAAUAAAAGAAAABgAAAAMAAAAGAAAABQAAAAYAAAAFAAAABQAAAAYAAAAGAAAABQAAAAMAAAAEAAAABgAAAAYAAAAGAAAABQAAAAUAAAAGAAAABAAAAAYAAAAGAAAABAAAAAMAAAAGAAAABQAAAAUAAAAFAAAABgAAAAMAAAAFAAAAAwAAAAUAAAADAAAABgAAAAUAAAAGAAAABQAAAAMAAAAFAAAAAwAAAAUAAAAEAAAABAAAAAYAAAAGAAAABQAAAAYAAAAEAAAABQAAAAUAAAAFAAAABgAAAAMAAAAFAAAABQAAAAUAAAAGAAAABgAAAAYAAAAGAAAABgAAAAMAAAADAAAABgAAAAYAAAADAAAABgAAAAYAAAAGAAAAAwAAAAMAAAADAAAABgAAAAQAAAAFAAAABgAAAAQAAAADAAAABgAAAAUAAAAFAAAABQAAAAYAAAAGAAAABgAAAAYAAAAGAAAABgAAAAYAAAAFAAAABgAAAAQAAAAGAAAAAwAAAAUAAAAGAAAABgAAAAMAAAAEAAAABQAAAAUAAAADAAAABAAAAAUAAAADAAAABQAAAAUAAAADAAAABQAAAAMAAAAGAAAAAwAAAAYAAAAGAAAABgAAAAMAAAAEAAAABgAAAAUAAAAGAAAABgAAAAMAAAAGAAAABQAAAAMAAAADAAAAAwAAAAUAAAAGAAAABgAAAAYAAAAGAAAAAwAAAAMAAAADAAAABQAAAAMAAAAGAAAABgAAAAMAAAADAAAABQAAAAYAAAAGAAAABgAAAAQAAAADAAAAAwAAAAYAAAADAAAABgAAAAYAAAADAAAABQAAAAYAAAAFAAAABQAAAAUAAAAGAAAABQAAAAMAAAADAAAAAwAAAAYAAAADAAAABQAAAAUAAAADAAAAAwAAAAYAAAAFAAAABQAAAAYAAAAFAAAABgAAAAMAAAADAAAAAwAAAAYAAAAGAAAABAAAAAUAAAAGAAAABgAAAAMAAAADAAAABgAAAAUAAAAGAAAABgAAAAMAAAAGAAAABgAAAAYAAAADAAAABQAAAAUAAAAFAAAAAwAAAAMAAAADAAAABgAAAAMAAAAEAAAAAwAAAAUAAAAFAAAABAAAAAYAAAAGAAAABQAAAAYAAAAFAAAABQAAAAYAAAAEAAAABgAAAAUAAAAGAAAABgAAAAQAAAAEAAAABQAAAAYAAAADAAAAAwAAAAYAAAADAAAAAwAAAAYAAAAGAAAABgAAAAMAAAAGAAAAAwAAAAMAAAAFAAAABgAAAAMAAAAEAAAAAwAAAAQAAAAFAAAABAAAAAQAAAAGAAAABQAAAAMAAAAGAAAAAwAAAAMAAAADAAAABQAAAAQAAAAFAAAABgAAAAMAAAAGAAAABgAAAAUAAAAFAAAABgAAAAUAAAAFAAAAAwAAAAUAAAAGAAAAAwAAAAYAAAADAAAABgAAAAMAAAAGAAAABgAAAAMAAAAGAAAABgAAAAUAAAAEAAAABgAAAAYAAAAFAAAABgAAAAUAAAADAAAABQAAAAMAAAAFAAAABQAAAAMAAAADAAAABQAAAAUAAAAFAAAABAAAAAUAAAAGAAAAAwAAAAUAAAAEAAAABQAAAAQAAAAFAAAABAAAAAQAAAAGAAAABQAAAAMAAAAEAAAABAAAAAYAAAAEAAAABQAAAAUAAAADAAAABgAAAAQAAAAGAAAABgAAAAUAAAAEAAAABgAAAAYAAAAGAAAABAAAAAYAAAAFAAAABAAAAAYAAAAFAAAABgAAAAYAAAAFAAAABAAAAAMAAAAGAAAABQAAAAMAAAAGAAAAAwAAAAUAAAADAAAABgAAAAYAAAADAAAAAwAAAAMAAAAGAAAABQAAAAQAAAAFAAAABgAAAAUAAAAFAAAABQAAAAQAAAADAAAAAwAAAAUAAAAGAAAAAwAAAAMAAAAEAAAAAwAAAAYAAAADAAAABQAAAAYAAAAEAAAABQAAAAYAAAAGAAAAAwAAAAUAAAAGAAAAAwAAAAUAAAADAAAABQAAAAUAAAAGAAAAAwAAAAMAAAADAAAABQAAAAYAAAADAAAABQAAAAUAAAADAAAABAAAAAMAAAAEAAAABQAAAAUAAAADAAAABQAAAAUAAAAFAAAABQAAAAQAAAAFAAAABgAAAAYAAAADAAAABQAAAAUAAAADAAAAAwAAAAQAAAAEAAAABQAAAAQAAAADAAAAAwAAAAMAAAADAAAABgAAAAYAAAAGAAAABQAAAAQAAAADAAAAAwAAAAMAAAAGAAAABAAAAAUAAAAGAAAABQAAAAUAAAAFAAAABAAAAAYAAAAEAAAABgAAAAYAAAADAAAABQAAAAYAAAADAAAABQAAAAQAAAADAAAAAwAAAAUAAAADAAAABgAAAAMAAAAGAAAABgAAAAQAAAAFAAAABAAAAAUAAAAEAAAABgAAAAUAAAADAAAABQAAAAMAAAAFAAAABgAAAAQAAAAFAAAABQAAAAUAAAADAAAAAwAAAAYAAAAEAAAABQAAAAQAAAAFAAAAAwAAAAYAAAADAAAABQAAAAQAAAAFAAAABQAAAAUAAAADAAAABgAAAAMAAAAEAAAABQAAAAUAAAADAAAABQAAAAUAAAADAAAAAwAAAAYAAAAGAAAAAwAAAAMAAAAFAAAAAwAAAAMAAAAFAAAAAwAAAAUAAAAGAAAABQAAAAUAAAADAAAAAwAAAAQAAAAFAAAABgAAAAUAAAAEAAAABgAAAAUAAAAFAAAABQAAAAMAAAADAAAABgAAAAYAAAAEAAAAAwAAAAMAAAAFAAAABgAAAAUAAAADAAAAAwAAAAUAAAAGAAAABAAAAAMAAAAGAAAABgAAAAQAAAAFAAAABAAAAAMAAAAFAAAABgAAAAYAAAAFAAAAAwAAAAYAAAAFAAAABQAAAAYAAAAGAAAABQAAAAUAAAAFAAAABQAAAAUAAAAFAAAABgAAAAMAAAAGAAAAAwAAAAYAAAAEAAAABgAAAAMAAAADAAAABQAAAAUAAAAEAAAAAwAAAAYAAAAFAAAABQAAAAUAAAAFAAAAAwAAAAUAAAADAAAABQAAAAUAAAADAAAABgAAAAYAAAAFAAAAAwAAAAMAAAADAAAABAAAAAMAAAADAAAABgAAAAMAAAADAAAABgAAAAUAAAAEAAAABQAAAAQAAAAGAAAAAwAAAAYAAAADAAAABQAAAAQAAAAEAAAABQAAAAYAAAAFAAAABgAAAAQAAAAFAAAABgAAAAUAAAAFAAAABgAAAAYAAAAGAAAAAwAAAAMAAAAEAAAABQAAAAYAAAAGAAAABgAAAAUAAAAGAAAABgAAAAQAAAAFAAAAAwAAAAYAAAAGAAAAAwAAAAYAAAAGAAAABgAAAAQAAAAFAAAABQAAAAUAAAAGAAAABQAAAAUAAAAFAAAAAwAAAAYAAAADAAAABQAAAAQAAAAFAAAABQAAAAYAAAAEAAAAAwAAAAYAAAAGAAAABgAAAAMAAAADAAAAAwAAAAUAAAADAAAABQAAAAYAAAAFAAAAAwAAAAUAAAADAAAABAAAAAUAAAAGAAAAAwAAAAMAAAAGAAAABgAAAAMAAAADAAAAAwAAAAUAAAAGAAAABQAAAAMAAAAFAAAABQAAAAUAAAAFAAAABgAAAAQAAAAFAAAABQAAAAMAAAAGAAAABgAAAAUAAAAFAAAABgAAAAMAAAAFAAAAAwAAAAUAAAAEAAAABQAAAAYAAAAFAAAABQAAAAQAAAADAAAABQAAAAYAAAADAAAABQAAAAYAAAAGAAAABgAAAAYAAAAFAAAABQAAAAMAAAAGAAAABgAAAAUAAAAFAAAABgAAAAUAAAAFAAAABgAAAAYAAAAGAAAABQAAAAMAAAAEAAAABQAAAAMAAAAEAAAABgAAAAYAAAAFAAAABQAAAAMAAAADAAAABgAAAAMAAAADAAAAAwAAAAUAAAAEAAAABgAAAAMAAAAGAAAABgAAAAMAAAAFAAAABgAAAAUAAAAGAAAABQAAAAUAAAAFAAAABgAAAAYAAAAFAAAABgAAAAMAAAADAAAAAwAAAAUAAAAFAAAAAwAAAAMAAAAFAAAAAwAAAAYAAAAFAAAABQAAAAMAAAAGAAAABQAAAAUAAAAEAAAABAAAAAUAAAAEAAAABQAAAAQAAAAFAAAABAAAAAYAAAAGAAAAAwAAAAYAAAAGAAAABQAAAAYAAAAFAAAAAwAAAAMAAAADAAAAAwAAAAMAAAADAAAAAwAAAAYAAAADAAAAAwAAAAMAAAADAAAAAwAAAAYAAAADAAAABQAAAAYAAAAGAAAABgAAAAYAAAAFAAAABQAAAAUAAAADAAAAAwAAAAUAAAAFAAAABQAAAAMAAAAGAAAABgAAAAMAAAAGAAAABQAAAAUAAAAEAAAABQAAAAMAAAAGAAAABQAAAAUAAAAGAAAABQAAAAQAAAAFAAAAAwAAAAYAAAADAAAAAwAAAAMAAAAGAAAAAwAAAAYAAAADAAAAAwAAAAQAAAAGAAAABQAAAAMAAAAGAAAABgAAAAYAAAADAAAABQAAAAYAAAAFAAAABQAAAAMAAAAGAAAAAwAAAAMAAAAEAAAABQAAAAQAAAAFAAAABQAAAAUAAAAFAAAAAwAAAAUAAAAGAAAABQAAAAUAAAAGAAAAAwAAAAYAAAAGAAAABgAAAAYAAAAFAAAAAwAAAAYAAAADAAAABgAAAAMAAAAEAAAABgAAAAYAAAAFAAAAAwAAAAYAAAAFAAAABQAAAAUAAAAEAAAABgAAAAUAAAAFAAAAAwAAAAUAAAAGAAAAAwAAAAQAAAAGAAAAAwAAAAUAAAAFAAAABgAAAAMAAAAFAAAAAwAAAAMAAAAGAAAABQAAAAYAAAAFAAAABQAAAAUAAAAGAAAABgAAAAUAAAAGAAAABgAAAAYAAAAFAAAABQAAAAMAAAAFAAAABQAAAAUAAAADAAAABgAAAAYAAAADAAAAAwAAAAYAAAAGAAAABQAAAAYAAAADAAAABgAAAAMAAAAFAAAABQAAAAMAAAADAAAABgAAAAYAAAAGAAAAAwAAAAYAAAAFAAAABAAAAAYAAAAFAAAABgAAAAMAAAADAAAABAAAAAYAAAAGAAAAAwAAAAYAAAAFAAAAAwAAAAUAAAAFAAAABQAAAAUAAAAFAAAABQAAAAYAAAAFAAAABgAAAAYAAAAGAAAABgAAAAUAAAAEAAAABgAAAAMAAAAFAAAAAwAAAAMAAAADAAAABQAAAAUAAAAGAAAAAwAAAAYAAAAGAAAABQAAAAMAAAAGAAAABgAAAAUAAAAGAAAABgAAAAMAAAADAAAABQAAAAUAAAAFAAAAAwAAAAYAAAAEAAAABQAAAAUAAAADAAAABgAAAAUAAAAEAAAABQAAAAUAAAAGAAAABQAAAAMAAAAFAAAAAwAAAAYAAAAGAAAABQAAAAUAAAAFAAAAAwAAAAMAAAAGAAAAAwAAAAQAAAAFAAAABQAAAAMAAAAFAAAABQAAAAQAAAADAAAABgAAAAYAAAAGAAAAAwAAAAQAAAAFAAAABQAAAAUAAAAFAAAAAwAAAAMAAAAGAAAABQAAAAUAAAADAAAABQAAAAMAAAAGAAAABQAAAAQAAAAFAAAABQAAAAUAAAAGAAAABQAAAAMAAAAGAAAAAwAAAAUAAAAGAAAAAwAAAAUAAAAFAAAAAwAAAAUAAAAFAAAABAAAAAUAAAAFAAAABgAAAAUAAAAFAAAABgAAAAYAAAAFAAAABQAAAAUAAAAEAAAABgAAAAYAAAAEAAAABAAAAAYAAAADAAAABQAAAAYAAAADAAAABQAAAAUAAAAGAAAABgAAAAUAAAAEAAAABgAAAAQAAAAFAAAABQAAAAQAAAADAAAABgAAAAUAAAAEAAAAAwAAAAMAAAAFAAAABQAAAAMAAAADAAAAAwAAAAUAAAAGAAAABQAAAAUAAAAGAAAABQAAAAYAAAAFAAAABQAAAAMAAAADAAAABQAAAAYAAAAFAAAABgAAAAUAAAAFAAAABgAAAAYAAAAGAAAAAwAAAAYAAAAFAAAABgAAAAUAAAAGAAAAAwAAAAUAAAAFAAAABgAAAAUAAAAGAAAAAwAAAAYAAAAFAAAABgAAAAMAAAAGAAAABAAAAAYAAAAFAAAABgAAAAMAAAAFAAAABgAAAAYAAAAGAAAABgAAAAYAAAAFAAAABQAAAAUAAAAGAAAABQAAAAUAAAAFAAAABgAAAAQAAAAFAAAABQAAAAUAAAAFAAAABQAAAAUAAAAGAAAAAwAAAAMAAAADAAAABQAAAAUAAAADAAAABQAAAAUAAAADAAAAAwAAAAMAAAAEAAAABAAAAAUAAAAFAAAAAwAAAAYAAAAGAAAAAwAAAAUAAAADAAAABQAAAAYAAAADAAAABAAAAAUAAAAFAAAABQAAAAMAAAADAAAABgAAAAYAAAAFAAAABgAAAAMAAAAGAAAABQAAAAUAAAAGAAAAAwAAAAMAAAAFAAAABgAAAAMAAAAEAAAABAAAAAYAAAAGAAAABQAAAAMAAAAFAAAAAwAAAAQAAAADAAAABQAAAAMAAAADAAAABQAAAAYAAAAFAAAABQAAAAUAAAAEAAAABgAAAAYAAAAGAAAABQAAAAQAAAADAAAABQAAAAYAAAAFAAAABgAAAAQAAAAEAAAABQAAAAUAAAAGAAAABgAAAAYAAAADAAAABgAAAAQAAAAGAAAABQAAAAMAAAADAAAABQAAAAUAAAAFAAAAAwAAAAUAAAAEAAAABQAAAAMAAAAGAAAABQAAAAMAAAADAAAABQAAAAUAAAADAAAAAwAAAAMAAAADAAAABQAAAAYAAAAEAAAABQAAAAMAAAAFAAAABAAAAAQAAAAFAAAAAwAAAAYAAAAGAAAABgAAAAYAAAAGAAAAAwAAAAMAAAADAAAAAwAAAAYAAAAGAAAABAAAAAMAAAAGAAAABQAAAAUAAAAGAAAABQAAAAYAAAAFAAAABAAAAAMAAAADAAAABgAAAAMAAAADAAAAAwAAAAYAAAAFAAAAAwAAAAUAAAADAAAABgAAAAYAAAAEAAAABgAAAAMAAAAGAAAAAwAAAAUAAAADAAAABgAAAAUAAAAFAAAABgAAAAUAAAAFAAAAAwAAAAMAAAAGAAAABQAAAAUAAAAFAAAABQAAAAYAAAADAAAABgAAAAUAAAAFAAAABQAAAAYAAAAEAAAABgAAAAUAAAADAAAABAAAAAMAAAADAAAABQAAAAYAAAAFAAAABQAAAAYAAAAFAAAABgAAAAYAAAAEAAAABQAAAAYAAAADAAAAAwAAAAMAAAAFAAAAAwAAAAMAAAAFAAAABQAAAAUAAAAFAAAABgAAAAUAAAADAAAAAwAAAAMAAAAFAAAABgAAAAYAAAADAAAABgAAAAYAAAAEAAAABgAAAAMAAAAGAAAAAwAAAAMAAAADAAAAAwAAAAMAAAAGAAAABgAAAAUAAAAGAAAABQAAAAUAAAAFAAAABQAAAAUAAAAEAAAABQAAAAUAAAADAAAAAwAAAAYAAAAGAAAABgAAAAUAAAAGAAAABQAAAAQAAAADAAAAAwAAAAMAAAAEAAAABgAAAAYAAAAGAAAABgAAAAUAAAAFAAAABQAAAAQAAAADAAAAAwAAAAYAAAAFAAAABgAAAAUAAAADAAAABQAAAAYAAAAGAAAABgAAAAUAAAAGAAAABgAAAAQAAAAEAAAABgAAAAYAAAAGAAAABgAAAAUAAAAGAAAABAAAAAUAAAAGAAAAAwAAAAMAAAAGAAAABQAAAAYAAAAFAAAABQAAAAQAAAADAAAAAwAAAAMAAAAFAAAABgAAAAUAAAAFAAAABAAAAAUAAAAFAAAABgAAAAUAAAAGAAAABAAAAAYAAAAFAAAABQAAAAQAAAAFAAAABgAAAAYAAAAGAAAABQAAAAUAAAADAAAABQAAAAYAAAAGAAAABQAAAAYAAAAFAAAABQAAAAYAAAAFAAAABQAAAAUAAAADAAAABgAAAAMAAAAGAAAABAAAAAMAAAAEAAAABQAAAAYAAAAFAAAABQAAAAUAAAAGAAAAAwAAAAYAAAADAAAABgAAAAMAAAAFAAAABQAAAAYAAAAFAAAAAwAAAAYAAAADAAAABAAAAAYAAAADAAAAAwAAAAYAAAAGAAAAAwAAAAYAAAADAAAAAwAAAAYAAAAFAAAABgAAAAMAAAAGAAAABgAAAAUAAAAGAAAABQAAAAUAAAAGAAAABgAAAAYAAAADAAAABgAAAAUAAAAEAAAAAwAAAAQAAAAGAAAABgAAAAYAAAAFAAAABQAAAAUAAAADAAAAAwAAAAUAAAAEAAAABgAAAAUAAAAFAAAABgAAAAMAAAADAAAABQAAAAUAAAAFAAAAAwAAAAUAAAADAAAAAwAAAAMAAAAGAAAABQAAAAMAAAAFAAAAAwAAAAYAAAAGAAAABQAAAAMAAAAFAAAAAwAAAAMAAAAEAAAABAAAAAYAAAAFAAAABQAAAAMAAAAFAAAABgAAAAYAAAAGAAAAAwAAAAMAAAAGAAAABgAAAAYAAAAGAAAABQAAAAUAAAAFAAAABgAAAAYAAAAGAAAABQAAAAUAAAAGAAAAAwAAAAMAAAAGAAAAAwAAAAYAAAAEAAAABQAAAAYAAAAFAAAABgAAAAYAAAAFAAAABQAAAAQAAAAEAAAABgAAAAUAAAAFAAAABAAAAAMAAAADAAAABgAAAAYAAAADAAAABgAAAAMAAAADAAAABgAAAAYAAAAFAAAABAAAAAYAAAADAAAABQAAAAYAAAADAAAABgAAAAUAAAAGAAAABgAAAAMAAAADAAAABgAAAAUAAAADAAAAAwAAAAMAAAADAAAAAwAAAAUAAAADAAAABAAAAAUAAAAFAAAABgAAAAYAAAAGAAAAAwAAAAYAAAAGAAAABAAAAAUAAAADAAAABQAAAAMAAAAFAAAAAwAAAAYAAAADAAAABgAAAAUAAAAEAAAAAwAAAAUAAAAGAAAABgAAAAMAAAADAAAABQAAAAMAAAAEAAAABgAAAAUAAAAGAAAAAwAAAAYAAAADAAAAAwAAAAQAAAAFAAAABgAAAAUAAAAGAAAABQAAAAQAAAAGAAAABQAAAAYAAAAGAAAABgAAAAUAAAAEAAAABgAAAAMAAAAGAAAABQAAAAYAAAAFAAAABQAAAAUAAAAEAAAAAwAAAAQAAAAFAAAAAwAAAAUAAAAFAAAABgAAAAUAAAAGAAAAAwAAAAYAAAAFAAAABgAAAAQAAAAGAAAABgAAAAMAAAAEAAAABgAAAAUAAAAGAAAABQAAAAYAAAAFAAAABQAAAAYAAAAGAAAAAwAAAAQAAAAFAAAABQAAAAQAAAAEAAAABQAAAAMAAAAFAAAABQAAAAYAAAADAAAABQAAAAYAAAAGAAAABQAAAAMAAAAEAAAABQAAAAMAAAADAAAABAAAAAYAAAAFAAAABgAAAAYAAAAGAAAABgAAAAMAAAAFAAAABQAAAAYAAAAGAAAABgAAAAYAAAAFAAAAAwAAAAMAAAAFAAAABgAAAAYAAAADAAAABgAAAAMAAAAFAAAAAwAAAAYAAAADAAAABQAAAAYAAAAEAAAABQAAAAUAAAAFAAAABgAAAAUAAAAEAAAAAwAAAAQAAAAFAAAAAwAAAAQAAAAFAAAAAwAAAAUAAAAFAAAABgAAAAQAAAAFAAAABgAAAAYAAAADAAAABgAAAAMAAAAGAAAABAAAAAYAAAAGAAAABQAAAAQAAAAGAAAABgAAAAQAAAAFAAAABQAAAAYAAAAGAAAAAwAAAAYAAAAFAAAABQAAAAYAAAAGAAAABgAAAAYAAAAFAAAABQAAAAYAAAAFAAAABQAAAAUAAAADAAAABQAAAAMAAAAFAAAABQAAAAQAAAADAAAABAAAAAMAAAAEAAAABQAAAAMAAAAFAAAABQAAAAMAAAADAAAABgAAAAUAAAAEAAAABQAAAAYAAAAFAAAAAwAAAAYAAAAEAAAABgAAAAYAAAAGAAAABgAAAAUAAAAGAAAABQAAAAYAAAAFAAAAAwAAAAYAAAAEAAAABgAAAAQAAAAFAAAABgAAAAYAAAADAAAABgAAAAQAAAAGAAAABgAAAAMAAAAFAAAABAAAAAUAAAADAAAABgAAAAMAAAADAAAABgAAAAYAAAAFAAAAAwAAAAYAAAAGAAAABgAAAAMAAAADAAAABgAAAAYAAAAEAAAABgAAAAYAAAADAAAABQAAAAUAAAAGAAAABgAAAAYAAAAFAAAABQAAAAMAAAAFAAAABQAAAAYAAAADAAAAAwAAAAMAAAAFAAAABQAAAAMAAAADAAAABQAAAAQAAAAGAAAABQAAAAMAAAAGAAAAAwAAAAUAAAADAAAAAwAAAAUAAAAGAAAABgAAAAYAAAADAAAAAwAAAAYAAAADAAAABAAAAAMAAAADAAAABQAAAAMAAAAGAAAAAwAAAAUAAAAEAAAABQAAAAYAAAAGAAAAAwAAAAYAAAAFAAAAAwAAAAYAAAAEAAAAAwAAAAQAAAAEAAAABQAAAAYAAAAFAAAABAAAAAYAAAAFAAAABgAAAAUAAAAFAAAAAwAAAAYAAAAFAAAABgAAAAYAAAAFAAAABgAAAAMAAAAGAAAABQAAAAQAAAADAAAABAAAAAMAAAAFAAAABgAAAAYAAAAEAAAABgAAAAMAAAAFAAAABgAAAAMAAAAFAAAAAwAAAAQAAAAFAAAABQAAAAYAAAAGAAAABAAAAAYAAAAGAAAABQAAAAYAAAADAAAAAwAAAAYAAAAEAAAABAAAAAMAAAAFAAAABgAAAAYAAAADAAAABQAAAAUAAAAGAAAAAwAAAAYAAAAGAAAAAwAAAAYAAAAFAAAABQAAAAUAAAAFAAAABgAAAAMAAAAFAAAABQAAAAUAAAAEAAAABgAAAAYAAAAGAAAABgAAAAYAAAAFAAAABQAAAAMAAAAEAAAABgAAAAMAAAAGAAAABAAAAAUAAAAGAAAAAwAAAAUAAAAFAAAAAwAAAAMAAAADAAAABAAAAAMAAAAFAAAABQAAAAMAAAAFAAAABQAAAAUAAAAGAAAABgAAAAMAAAAGAAAABgAAAAMAAAAGAAAAAwAAAAUAAAAGAAAABQAAAAUAAAAFAAAABAAAAAUAAAAFAAAABgAAAAMAAAAGAAAAAwAAAAUAAAAFAAAABgAAAAUAAAAEAAAABQAAAAMAAAADAAAABAAAAAQAAAADAAAABQAAAAUAAAAGAAAABAAAAAMAAAADAAAABQAAAAUAAAAEAAAABQAAAAYAAAAGAAAAAwAAAAMAAAAFAAAABgAAAAUAAAAFAAAAAwAAAAUAAAADAAAABgAAAAMAAAAGAAAABQAAAAMAAAAEAAAAAwAAAAUAAAAGAAAABQAAAAYAAAAFAAAABgAAAAUAAAAFAAAABgAAAAYAAAAFAAAABgAAAAUAAAAFAAAABAAAAAUAAAAEAAAABgAAAAYAAAADAAAABQAAAAUAAAAFAAAABQAAAAUAAAAFAAAABQAAAAYAAAAGAAAAAwAAAAYAAAADAAAABQAAAAYAAAAFAAAABgAAAAYAAAAFAAAAAwAAAAYAAAAGAAAABgAAAAYAAAADAAAABgAAAAYAAAAFAAAABQAAAAYAAAAFAAAAAwAAAAYAAAADAAAABQAAAAUAAAAGAAAABQAAAAUAAAADAAAABgAAAAYAAAADAAAABAAAAAMAAAAGAAAABgAAAAQAAAAGAAAAAwAAAAYAAAADAAAABQAAAAQAAAAFAAAAAwAAAAQAAAAGAAAABQAAAAYAAAAFAAAABgAAAAMAAAAFAAAABQAAAAMAAAAGAAAABQAAAAMAAAADAAAAAwAAAAYAAAAGAAAABQAAAAUAAAAGAAAABQAAAAYAAAAGAAAAAwAAAAYAAAAGAAAABAAAAAYAAAAEAAAABQAAAAYAAAAFAAAABAAAAAUAAAAFAAAABQAAAAMAAAADAAAABQAAAAMAAAADAAAABgAAAAYAAAAGAAAABQAAAAMAAAADAAAABQAAAAYAAAADAAAABQAAAAUAAAAGAAAABQAAAAUAAAAEAAAABgAAAAMAAAADAAAABAAAAAUAAAADAAAABQAAAAYAAAAFAAAABQAAAAUAAAAFAAAAAwAAAAUAAAAGAAAABQAAAAYAAAAEAAAAAwAAAAUAAAADAAAABQAAAAUAAAAGAAAABQAAAAYAAAAGAAAAAwAAAAYAAAADAAAAAwAAAAYAAAADAAAABgAAAAUAAAAGAAAAAwAAAAYAAAAFAAAABQAAAAMAAAAGAAAABAAAAAYAAAAFAAAABQAAAAYAAAADAAAAAwAAAAUAAAAEAAAABgAAAAYAAAAFAAAABgAAAAMAAAAGAAAABQAAAAYAAAAGAAAAAwAAAAUAAAAFAAAABgAAAAMAAAAFAAAAAwAAAAUAAAADAAAABQAAAAYAAAAGAAAABQAAAAMAAAADAAAABAAAAAMAAAAEAAAAAwAAAAYAAAADAAAABQAAAAYAAAADAAAABgAAAAUAAAAGAAAABgAAAAUAAAAEAAAABQAAAAQAAAAGAAAABQAAAAQAAAAGAAAABgAAAAUAAAAFAAAAAwAAAAYAAAAEAAAAAwAAAAYAAAAEAAAABgAAAAUAAAADAAAABgAAAAQAAAAFAAAABgAAAAUAAAADAAAABQAAAAYAAAADAAAABQAAAAUAAAAFAAAABgAAAAYAAAADAAAABAAAAAYAAAAEAAAABQAAAAMAAAAGAAAABgAAAAUAAAADAAAABQAAAAUAAAADAAAABAAAAAUAAAAFAAAAAwAAAAUAAAADAAAABQAAAAUAAAAFAAAAAwAAAAUAAAADAAAABAAAAAYAAAAFAAAABQAAAAUAAAAGAAAABQAAAAUAAAADAAAABQAAAAMAAAAFAAAAAwAAAAQAAAAGAAAAAwAAAAUAAAADAAAABAAAAAMAAAAFAAAABAAAAAMAAAAGAAAABgAAAAYAAAAFAAAABAAAAAMAAAAFAAAABAAAAAMAAAAFAAAABAAAAAUAAAAGAAAABQAAAAQAAAAFAAAABAAAAAYAAAAGAAAABgAAAAUAAAAFAAAABgAAAAQAAAAFAAAAAwAAAAMAAAAFAAAAAwAAAAUAAAADAAAABAAAAAMAAAAEAAAAAwAAAAMAAAADAAAABQAAAAMAAAAEAAAAAwAAAAMAAAADAAAABQAAAAMAAAAFAAAABgAAAAUAAAAEAAAABgAAAAYAAAAEAAAABQAAAAUAAAAFAAAABgAAAAMAAAAGAAAABgAAAAMAAAAEAAAAAwAAAAUAAAAGAAAABAAAAAYAAAAFAAAABgAAAAYAAAAEAAAAAwAAAAUAAAADAAAABQAAAAUAAAAGAAAABQAAAAUAAAADAAAABAAAAAYAAAADAAAABQAAAAYAAAAFAAAABgAAAAYAAAADAAAAAwAAAAUAAAAFAAAAAwAAAAYAAAAFAAAABQAAAAUAAAADAAAAAwAAAAMAAAAEAAAABQAAAAYAAAAGAAAABQAAAAUAAAADAAAABQAAAAQAAAAEAAAABgAAAAUAAAADAAAABgAAAAYAAAAFAAAAAwAAAAUAAAAEAAAABgAAAAYAAAADAAAABAAAAAMAAAADAAAAAwAAAAYAAAAFAAAABgAAAAUAAAADAAAABQAAAAMAAAAFAAAABgAAAAMAAAAFAAAABQAAAAMAAAADAAAABQAAAAYAAAAFAAAABQAAAAUAAAAFAAAABgAAAAQAAAAFAAAABQAAAAMAAAAFAAAABgAAAAYAAAAFAAAABQAAAAYAAAAFAAAABgAAAAUAAAAGAAAABgAAAAMAAAAGAAAAAwAAAAYAAAAFAAAABAAAAAYAAAAEAAAABQAAAAQAAAADAAAABgAAAAQAAAAFAAAABgAAAAUAAAADAAAABQAAAAYAAAADAAAAAwAAAAQAAAAGAAAAAwAAAAYAAAAFAAAAAwAAAAMAAAAEAAAABgAAAAYAAAADAAAABAAAAAMAAAAFAAAABQAAAAYAAAADAAAABAAAAAMAAAAGAAAABQAAAAUAAAADAAAABQAAAAMAAAAFAAAABQAAAAYAAAAFAAAABQAAAAMAAAAFAAAABQAAAAUAAAAFAAAABQAAAAMAAAAGAAAABQAAAAQAAAAFAAAABgAAAAQAAAAFAAAABQAAAAUAAAADAAAABgAAAAMAAAADAAAABQAAAAMAAAADAAAAAwAAAAYAAAAFAAAABAAAAAYAAAAFAAAAAwAAAAUAAAAFAAAABQAAAAMAAAAFAAAABQAAAAQAAAADAAAABQAAAAMAAAAGAAAABgAAAAYAAAADAAAABQAAAAQAAAAGAAAABQAAAAMAAAAFAAAABQAAAAUAAAAFAAAABQAAAAYAAAAGAAAABAAAAAMAAAAGAAAABAAAAAQAAAAFAAAABQAAAAYAAAAGAAAABgAAAAMAAAAEAAAAAwAAAAUAAAADAAAABQAAAAUAAAADAAAABQAAAAYAAAADAAAABQAAAAUAAAAFAAAABAAAAAMAAAAFAAAABQAAAAUAAAAGAAAAAwAAAAYAAAAGAAAABgAAAAMAAAAGAAAABgAAAAYAAAAFAAAABQAAAAYAAAAFAAAABQAAAAYAAAAGAAAABgAAAAUAAAAFAAAAAwAAAAUAAAAGAAAABgAAAAUAAAADAAAAAwAAAAQAAAAGAAAAAwAAAAUAAAADAAAABQAAAAYAAAADAAAABgAAAAQAAAAEAAAABQAAAAYAAAAFAAAAAwAAAAYAAAADAAAAAwAAAAQAAAAFAAAAAwAAAAUAAAADAAAABgAAAAYAAAAFAAAABQAAAAMAAAADAAAABQAAAAUAAAAEAAAAAwAAAAYAAAAFAAAABAAAAAUAAAAGAAAAAwAAAAYAAAAFAAAABgAAAAYAAAADAAAABQAAAAMAAAAGAAAABQAAAAQAAAAGAAAAAwAAAAYAAAAFAAAABgAAAAMAAAADAAAABgAAAAUAAAAGAAAABQAAAAQAAAAFAAAAAwAAAAYAAAAGAAAABgAAAAMAAAADAAAABgAAAAUAAAAEAAAAAwAAAAYAAAAFAAAABgAAAAUAAAAGAAAABAAAAAUAAAAFAAAABQAAAAQAAAAGAAAAAwAAAAUAAAADAAAABgAAAAMAAAAFAAAABQAAAAYAAAAFAAAABQAAAAMAAAADAAAABQAAAAUAAAAFAAAAAwAAAAUAAAADAAAABgAAAAUAAAAGAAAABgAAAAYAAAAGAAAABQAAAAMAAAADAAAABgAAAAYAAAAEAAAABQAAAAUAAAAGAAAABgAAAAUAAAADAAAABQAAAAUAAAAEAAAABQAAAAYAAAAFAAAABQAAAAYAAAADAAAABgAAAAMAAAAGAAAAAwAAAAYAAAAEAAAABQAAAAYAAAADAAAABgAAAAUAAAAFAAAABQAAAAYAAAAGAAAAAwAAAAMAAAAGAAAABQAAAAMAAAAFAAAABgAAAAYAAAAFAAAAAwAAAAYAAAAFAAAABQAAAAMAAAAGAAAABgAAAAMAAAAGAAAAAwAAAAMAAAAFAAAABgAAAAYAAAAFAAAABgAAAAYAAAAGAAAAAwAAAAYAAAAGAAAABgAAAAYAAAAFAAAABgAAAAYAAAADAAAABQAAAAUAAAAFAAAAAwAAAAMAAAAFAAAABAAAAAMAAAADAAAAAwAAAAUAAAAGAAAAAwAAAAYAAAAEAAAABgAAAAYAAAAGAAAABQAAAAYAAAAGAAAABAAAAAMAAAAGAAAABgAAAAYAAAADAAAABQAAAAUAAAADAAAABQAAAAUAAAAGAAAABAAAAAUAAAAFAAAABQAAAAUAAAAGAAAAAwAAAAUAAAAEAAAABQAAAAYAAAAGAAAABgAAAAMAAAAGAAAABAAAAAMAAAAEAAAABQAAAAUAAAAGAAAABgAAAAMAAAAFAAAABQAAAAUAAAAFAAAABQAAAAUAAAAGAAAABQAAAAMAAAADAAAABgAAAAMAAAAGAAAAAwAAAAYAAAADAAAABAAAAAYAAAAFAAAABQAAAAUAAAAGAAAABQAAAAYAAAAEAAAAAwAAAAUAAAADAAAABQAAAAMAAAAFAAAABAAAAAUAAAADAAAABAAAAAUAAAAGAAAABgAAAAYAAAADAAAABgAAAAMAAAADAAAABgAAAAYAAAAFAAAABgAAAAMAAAADAAAABAAAAAMAAAAGAAAABQAAAAYAAAAFAAAABAAAAAYAAAAFAAAABQAAAAQAAAAFAAAAAwAAAAMAAAAGAAAABgAAAAYAAAAGAAAABQAAAAMAAAAEAAAABgAAAAUAAAAEAAAABQAAAAMAAAADAAAABgAAAAYAAAADAAAABgAAAAYAAAAFAAAAAwAAAAYAAAADAAAAAwAAAAMAAAAEAAAAAwAAAAMAAAAEAAAAAwAAAAYAAAAGAAAAAwAAAAYAAAAFAAAABgAAAAYAAAAGAAAABgAAAAMAAAADAAAABgAAAAYAAAAGAAAABgAAAAYAAAAGAAAAAwAAAAUAAAAFAAAABgAAAAYAAAADAAAABgAAAAYAAAAGAAAABgAAAAYAAAAGAAAAAwAAAAYAAAADAAAAAwAAAAQAAAAEAAAABgAAAAUAAAAGAAAAAwAAAAYAAAAGAAAABgAAAAUAAAADAAAABgAAAAMAAAAGAAAABgAAAAMAAAAGAAAAAwAAAAYAAAAGAAAABAAAAAMAAAAGAAAAAwAAAAUAAAAEAAAABQAAAAYAAAADAAAABgAAAAYAAAADAAAABgAAAAMAAAAFAAAABQAAAAUAAAAGAAAAAwAAAAYAAAAFAAAABgAAAAMAAAAGAAAABgAAAAUAAAAFAAAABgAAAAMAAAAFAAAABgAAAAUAAAAGAAAABQAAAAUAAAADAAAABQAAAAYAAAAFAAAABgAAAAQAAAAFAAAAAwAAAAMAAAAEAAAABQAAAAUAAAAFAAAABQAAAAUAAAAGAAAABgAAAAMAAAADAAAABQAAAAYAAAAGAAAABQAAAAQAAAAGAAAABQAAAAUAAAAFAAAABgAAAAMAAAAFAAAABAAAAAUAAAADAAAABgAAAAUAAAADAAAABgAAAAMAAAAFAAAAAwAAAAYAAAAGAAAABgAAAAUAAAAGAAAABQAAAAMAAAAFAAAAAwAAAAUAAAAGAAAABQAAAAQAAAADAAAAAwAAAAMAAAAFAAAABgAAAAMAAAAEAAAABQAAAAYAAAADAAAAAwAAAAUAAAADAAAABgAAAAYAAAAGAAAABgAAAAUAAAAGAAAAAwAAAAUAAAAFAAAABQAAAAMAAAAFAAAABgAAAAUAAAADAAAABQAAAAMAAAAGAAAABgAAAAUAAAAFAAAABAAAAAUAAAAGAAAAAwAAAAUAAAAGAAAAAwAAAAMAAAADAAAABgAAAAMAAAAFAAAABgAAAAMAAAAFAAAAAwAAAAUAAAAGAAAABgAAAAUAAAAEAAAAAwAAAAUAAAAGAAAABgAAAAUAAAAGAAAABQAAAAMAAAAFAAAABQAAAAUAAAADAAAABgAAAAUAAAAGAAAABgAAAAUAAAADAAAABQAAAAUAAAADAAAABAAAAAYAAAADAAAABQAAAAUAAAAFAAAABQAAAAUAAAADAAAABgAAAAUAAAAFAAAABgAAAAUAAAAFAAAABQAAAAUAAAAFAAAAAwAAAAMAAAAGAAAABQAAAAMAAAAFAAAAAwAAAAUAAAAFAAAABQAAAAUAAAAGAAAABQAAAAUAAAAFAAAABQAAAAUAAAAGAAAABAAAAAUAAAAGAAAABQAAAAQAAAAGAAAABgAAAAUAAAADAAAABgAAAAMAAAAFAAAABAAAAAMAAAAFAAAABQAAAAYAAAAFAAAABAAAAAYAAAAFAAAABgAAAAMAAAAGAAAAAwAAAAUAAAAGAAAABgAAAAYAAAAGAAAAAwAAAAYAAAADAAAABQAAAAUAAAAFAAAABAAAAAYAAAAFAAAABQAAAAMAAAAFAAAABAAAAAUAAAAGAAAABgAAAAYAAAAFAAAABQAAAAYAAAAGAAAAAwAAAAYAAAAEAAAAAwAAAAUAAAAFAAAAAwAAAAYAAAAFAAAABgAAAAMAAAAGAAAAAwAAAAQAAAAEAAAAAwAAAAMAAAAGAAAABgAAAAQAAAAFAAAABgAAAAUAAAADAAAABAAAAAYAAAAFAAAABQAAAAQAAAAGAAAABgAAAAUAAAADAAAABQAAAAUAAAADAAAABgAAAAYAAAAGAAAAAwAAAAQAAAAGAAAABQAAAAUAAAAFAAAABgAAAAMAAAAGAAAABgAAAAQAAAAFAAAABQAAAAYAAAAGAAAABgAAAAUAAAAFAAAABQAAAAUAAAAGAAAABQAAAAUAAAAFAAAABAAAAAMAAAAGAAAAAwAAAAYAAAADAAAAAwAAAAUAAAAFAAAAAwAAAAMAAAADAAAABQAAAAQAAAAGAAAABgAAAAYAAAAEAAAAAwAAAAYAAAAFAAAAAwAAAAMAAAAGAAAAAwAAAAYAAAAGAAAABQAAAAMAAAAEAAAABAAAAAYAAAAGAAAABAAAAAYAAAADAAAABgAAAAUAAAADAAAABgAAAAUAAAAGAAAABQAAAAQAAAAFAAAAAwAAAAYAAAADAAAABQAAAAQAAAAGAAAABQAAAAUAAAAGAAAABQAAAAYAAAAFAAAABQAAAAYAAAAGAAAABQAAAAMAAAADAAAABgAAAAQAAAAFAAAABgAAAAUAAAADAAAABQAAAAMAAAAGAAAABgAAAAYAAAAFAAAABQAAAAMAAAAFAAAABQAAAAUAAAAFAAAAAwAAAAUAAAAGAAAABQAAAAYAAAAFAAAABAAAAAUAAAADAAAABAAAAAYAAAAGAAAABQAAAAUAAAAGAAAABgAAAAYAAAAFAAAABgAAAAYAAAADAAAABgAAAAYAAAAGAAAABQAAAAMAAAAFAAAABQAAAAUAAAAEAAAABgAAAAUAAAAEAAAABgAAAAMAAAADAAAABQAAAAMAAAAGAAAABQAAAAYAAAAGAAAABQAAAAUAAAADAAAABQAAAAYAAAAEAAAABQAAAAYAAAADAAAABgAAAAUAAAADAAAABQAAAAQAAAAFAAAABgAAAAQAAAAFAAAAAwAAAAUAAAAFAAAAAwAAAAYAAAADAAAAAwAAAAYAAAAFAAAAAwAAAAYAAAAGAAAABQAAAAUAAAADAAAAAwAAAAQAAAADAAAABQAAAAQAAAAGAAAABgAAAAYAAAAGAAAABgAAAAYAAAADAAAAAwAAAAYAAAAEAAAABQAAAAYAAAAGAAAABgAAAAUAAAADAAAABQAAAAUAAAAGAAAABAAAAAUAAAAFAAAAAwAAAAUAAAAGAAAABgAAAAYAAAAFAAAAAwAAAAQAAAAGAAAABQAAAAMAAAAGAAAABgAAAAUAAAAGAAAABQAAAAUAAAAFAAAAAwAAAAYAAAADAAAAAwAAAAUAAAAGAAAABgAAAAMAAAADAAAABgAAAAUAAAAGAAAAAwAAAAMAAAAGAAAABQAAAAMAAAADAAAABAAAAAMAAAAFAAAABQAAAAMAAAAFAAAABQAAAAYAAAAFAAAABgAAAAUAAAAEAAAABAAAAAMAAAAFAAAABQAAAAYAAAAGAAAABAAAAAMAAAAFAAAAAwAAAAMAAAAFAAAAAwAAAAUAAAAFAAAABgAAAAQAAAADAAAABgAAAAUAAAAFAAAAAwAAAAUAAAAFAAAABQAAAAYAAAADAAAABgAAAAYAAAAGAAAAAwAAAAYAAAAGAAAABgAAAAMAAAAEAAAABQAAAAYAAAAGAAAABgAAAAYAAAAGAAAAAwAAAAUAAAADAAAAAwAAAAMAAAAFAAAAAwAAAAMAAAAFAAAABgAAAAYAAAAEAAAAAwAAAAQAAAAFAAAABgAAAAMAAAAGAAAABgAAAAYAAAAGAAAABgAAAAYAAAADAAAAAwAAAAUAAAADAAAABgAAAAMAAAADAAAABgAAAAUAAAAGAAAAAwAAAAYAAAAGAAAABAAAAAUAAAADAAAABgAAAAUAAAAFAAAABgAAAAMAAAAFAAAAAwAAAAUAAAADAAAAAwAAAAMAAAADAAAAAwAAAAQAAAAFAAAABQAAAAYAAAADAAAAAwAAAAUAAAAGAAAABgAAAAUAAAADAAAABgAAAAYAAAAFAAAABQAAAAUAAAAGAAAABQAAAAYAAAAGAAAABgAAAAMAAAADAAAABQAAAAMAAAADAAAABQAAAAYAAAAGAAAAAwAAAAUAAAADAAAABQAAAAMAAAAFAAAABgAAAAUAAAADAAAAAwAAAAMAAAAGAAAABAAAAAMAAAAFAAAABQAAAAUAAAAGAAAAAwAAAAYAAAADAAAAAwAAAAMAAAADAAAABQAAAAMAAAAGAAAABQAAAAYAAAADAAAABgAAAAUAAAAGAAAABQAAAAYAAAAGAAAABgAAAAYAAAAGAAAABQAAAAYAAAAEAAAABgAAAAUAAAAFAAAABQAAAAYAAAADAAAABgAAAAUAAAAFAAAABQAAAAQAAAAGAAAABgAAAAQAAAAGAAAABQAAAAUAAAAFAAAABAAAAAMAAAAEAAAAAwAAAAUAAAAFAAAAAwAAAAUAAAAFAAAABQAAAAUAAAAGAAAAAwAAAAYAAAAFAAAAAwAAAAMAAAADAAAABgAAAAUAAAAFAAAABAAAAAYAAAAFAAAABQAAAAYAAAAFAAAABQAAAAUAAAAFAAAABgAAAAYAAAADAAAABAAAAAUAAAAEAAAABQAAAAYAAAAEAAAAAwAAAAYAAAAGAAAABQAAAAUAAAADAAAAAwAAAAUAAAAGAAAAAwAAAAUAAAAFAAAABQAAAAUAAAAGAAAABQAAAAYAAAAGAAAAAwAAAAMAAAAEAAAABgAAAAMAAAAFAAAAAwAAAAMAAAAGAAAAAwAAAAYAAAAFAAAAAwAAAAQAAAAGAAAABQAAAAMAAAAGAAAAAwAAAAQAAAADAAAABgAAAAMAAAAFAAAAAwAAAAQAAAADAAAABQAAAAYAAAAEAAAABQAAAAMAAAAFAAAAAwAAAAYAAAAFAAAABgAAAAMAAAAFAAAABQAAAAMAAAAFAAAABAAAAAYAAAAGAAAABQAAAAUAAAADAAAAAwAAAAMAAAADAAAABgAAAAYAAAAGAAAABQAAAAUAAAAEAAAAAwAAAAYAAAADAAAABgAAAAYAAAAFAAAABQAAAAMAAAADAAAABgAAAAYAAAAGAAAAAwAAAAYAAAAGAAAABgAAAAMAAAAEAAAAAwAAAAMAAAAGAAAABgAAAAQAAAADAAAABgAAAAUAAAADAAAABgAAAAQAAAADAAAABgAAAAMAAAADAAAABQAAAAUAAAAGAAAABgAAAAUAAAAEAAAABgAAAAMAAAADAAAAAwAAAAYAAAADAAAABgAAAAMAAAAGAAAABgAAAAUAAAADAAAABAAAAAYAAAAGAAAABgAAAAQAAAAFAAAABAAAAAYAAAAGAAAABgAAAAMAAAADAAAABQAAAAUAAAAFAAAABgAAAAUAAAAGAAAABgAAAAUAAAAGAAAABQAAAAYAAAAGAAAABgAAAAYAAAADAAAABQAAAAYAAAAGAAAABQAAAAUAAAAGAAAABQAAAAUAAAAFAAAABQAAAAMAAAAFAAAABQAAAAMAAAADAAAABQAAAAUAAAAGAAAABQAAAAUAAAAFAAAABAAAAAYAAAAGAAAABQAAAAYAAAAGAAAABQAAAAMAAAADAAAABQAAAAQAAAAGAAAABQAAAAQAAAAEAAAABQAAAAUAAAAFAAAAAwAAAAYAAAAFAAAABQAAAAMAAAAGAAAABgAAAAQAAAAGAAAABgAAAAYAAAAFAAAAAwAAAAUAAAAFAAAABgAAAAYAAAAGAAAABgAAAAYAAAAGAAAAAwAAAAUAAAAGAAAABAAAAAYAAAAFAAAABQAAAAYAAAAGAAAABgAAAAMAAAAFAAAABQAAAAMAAAAFAAAAAwAAAAYAAAAFAAAABQAAAAQAAAAFAAAABgAAAAYAAAADAAAABQAAAAUAAAAFAAAABgAAAAMAAAAFAAAAAwAAAAUAAAAGAAAABgAAAAQAAAAEAAAABgAAAAMAAAAFAAAABgAAAAMAAAAFAAAABAAAAAMAAAAGAAAABQAAAAQAAAAGAAAABgAAAAUAAAAFAAAABQAAAAYAAAAEAAAABAAAAAUAAAADAAAABgAAAAYAAAADAAAABQAAAAUAAAADAAAABgAAAAMAAAAGAAAABgAAAAYAAAAFAAAABQAAAAMAAAADAAAABgAAAAYAAAAFAAAABgAAAAMAAAAGAAAAAwAAAAYAAAAGAAAABgAAAAMAAAADAAAABQAAAAMAAAADAAAABQAAAAQAAAAGAAAABQAAAAUAAAAFAAAABQAAAAYAAAADAAAAAwAAAAUAAAAFAAAABQAAAAUAAAAFAAAABQAAAAYAAAADAAAABQAAAAYAAAAGAAAAAwAAAAYAAAAGAAAABAAAAAYAAAAGAAAAAwAAAAUAAAAFAAAAAwAAAAUAAAAEAAAAAwAAAAUAAAAFAAAABQAAAAUAAAAGAAAABAAAAAYAAAAEAAAABQAAAAUAAAAGAAAABQAAAAUAAAAFAAAABQAAAAQAAAAGAAAAAwAAAAUAAAADAAAABQAAAAUAAAAEAAAABgAAAAUAAAAFAAAABgAAAAYAAAADAAAABQAAAAYAAAADAAAABQAAAAYAAAAGAAAABgAAAAUAAAADAAAABAAAAAUAAAAFAAAAAwAAAAMAAAADAAAAAwAAAAMAAAAFAAAAAwAAAAYAAAAGAAAABQAAAAQAAAAFAAAABgAAAAUAAAAFAAAAAwAAAAUAAAAGAAAAAwAAAAYAAAAFAAAABQAAAAUAAAAEAAAABQAAAAUAAAAEAAAABAAAAAUAAAAGAAAABgAAAAMAAAAFAAAABgAAAAYAAAAGAAAABQAAAAMAAAAGAAAABgAAAAYAAAAGAAAABgAAAAUAAAADAAAABQAAAAMAAAAFAAAAAwAAAAMAAAAFAAAAAwAAAAMAAAAGAAAABgAAAAYAAAAFAAAABgAAAAMAAAAFAAAABgAAAAUAAAAEAAAABgAAAAYAAAADAAAABgAAAAYAAAADAAAABQAAAAYAAAADAAAABQAAAAUAAAADAAAABAAAAAYAAAADAAAABgAAAAQAAAAFAAAABQAAAAMAAAAFAAAABAAAAAYAAAADAAAAAwAAAAYAAAAGAAAAAwAAAAUAAAAEAAAABgAAAAQAAAAFAAAABgAAAAMAAAADAAAAAwAAAAUAAAAFAAAABgAAAAUAAAAGAAAABQAAAAMAAAADAAAABgAAAAUAAAAEAAAAAwAAAAYAAAADAAAABgAAAAMAAAADAAAAAwAAAAQAAAAEAAAABAAAAAQAAAAEAAAABQAAAAYAAAAGAAAAAwAAAAQAAAAGAAAABQAAAAYAAAAFAAAABgAAAAQAAAAGAAAAAwAAAAQAAAADAAAABgAAAAYAAAADAAAAAwAAAAUAAAADAAAABgAAAAYAAAAFAAAABgAAAAUAAAAFAAAABgAAAAYAAAADAAAABQAAAAMAAAADAAAABgAAAAUAAAAGAAAAAwAAAAMAAAAFAAAABAAAAAUAAAAEAAAABAAAAAMAAAADAAAABQAAAAUAAAADAAAAAwAAAAYAAAAGAAAABgAAAAMAAAADAAAABQAAAAUAAAAGAAAABgAAAAYAAAAGAAAABgAAAAUAAAADAAAABQAAAAUAAAAFAAAABAAAAAUAAAAFAAAABAAAAAYAAAADAAAABgAAAAMAAAAFAAAAAwAAAAYAAAAGAAAABgAAAAMAAAAFAAAABQAAAAUAAAADAAAAAwAAAAYAAAAFAAAABgAAAAYAAAAFAAAAAwAAAAMAAAADAAAABQAAAAYAAAAFAAAABQAAAAUAAAADAAAABAAAAAYAAAADAAAABgAAAAYAAAAFAAAAAwAAAAYAAAADAAAAAwAAAAUAAAAGAAAABQAAAAQAAAAGAAAAAwAAAAMAAAAFAAAABQAAAAYAAAAFAAAAAwAAAAUAAAADAAAABgAAAAMAAAADAAAABgAAAAMAAAAGAAAABgAAAAUAAAAFAAAABAAAAAYAAAAFAAAABgAAAAMAAAAFAAAABAAAAAYAAAADAAAABQAAAAUAAAAGAAAAAwAAAAUAAAAGAAAABgAAAAQAAAAFAAAAAwAAAAYAAAAGAAAAAwAAAAUAAAADAAAABgAAAAMAAAAGAAAABgAAAAUAAAADAAAABgAAAAMAAAADAAAABQAAAAMAAAADAAAABQAAAAUAAAAFAAAABQAAAAYAAAADAAAABQAAAAYAAAAGAAAABgAAAAQAAAAGAAAABQAAAAQAAAADAAAAAwAAAAUAAAAFAAAABQAAAAMAAAAGAAAABQAAAAMAAAAGAAAAAwAAAAMAAAAFAAAABQAAAAMAAAAEAAAABgAAAAUAAAAGAAAABAAAAAMAAAADAAAAAwAAAAUAAAADAAAAAwAAAAQAAAAGAAAAAwAAAAMAAAAGAAAABQAAAAMAAAAGAAAABQAAAAMAAAADAAAABgAAAAQAAAAFAAAAAwAAAAYAAAAFAAAABgAAAAUAAAAGAAAABAAAAAYAAAAFAAAAAwAAAAMAAAAGAAAABgAAAAYAAAAEAAAABgAAAAUAAAAGAAAABgAAAAQAAAADAAAABQAAAAMAAAADAAAAAwAAAAMAAAADAAAAAwAAAAMAAAAGAAAABAAAAAMAAAADAAAABQAAAAYAAAAFAAAABQAAAAMAAAADAAAABgAAAAUAAAAGAAAAAwAAAAMAAAADAAAABQAAAAMAAAAEAAAABQAAAAYAAAAFAAAABgAAAAYAAAADAAAAAwAAAAYAAAAGAAAABQAAAAYAAAADAAAABAAAAAYAAAAGAAAABQAAAAMAAAADAAAABgAAAAQAAAAFAAAAAwAAAAYAAAAFAAAABgAAAAMAAAAFAAAAAwAAAAMAAAAGAAAABQAAAAYAAAAFAAAABQAAAAUAAAAFAAAABgAAAAMAAAAEAAAABQAAAAMAAAADAAAAAwAAAAMAAAADAAAABQAAAAQAAAAFAAAABgAAAAYAAAAFAAAABgAAAAQAAAADAAAABAAAAAUAAAAFAAAABQAAAAYAAAAFAAAAAwAAAAYAAAAEAAAABgAAAAYAAAAFAAAABgAAAAUAAAAEAAAABQAAAAMAAAADAAAABgAAAAMAAAAEAAAABQAAAAYAAAADAAAAAwAAAAUAAAAFAAAABAAAAAMAAAADAAAABQAAAAUAAAAGAAAABgAAAAYAAAAGAAAAAwAAAAUAAAAGAAAABQAAAAUAAAADAAAAAwAAAAQAAAAFAAAABgAAAAYAAAAEAAAABAAAAAQAAAAGAAAABQAAAAMAAAAFAAAABgAAAAUAAAAFAAAABAAAAAUAAAAFAAAAAwAAAAYAAAAFAAAABgAAAAUAAAAEAAAAAwAAAAUAAAADAAAABgAAAAUAAAAGAAAABgAAAAYAAAAFAAAAAwAAAAMAAAAGAAAAAwAAAAYAAAAGAAAABAAAAAUAAAAEAAAABQAAAAUAAAADAAAABgAAAAMAAAAGAAAABgAAAAYAAAADAAAABQAAAAUAAAAGAAAABQAAAAYAAAAEAAAABQAAAAQAAAADAAAABgAAAAQAAAAEAAAABQAAAAUAAAAFAAAABgAAAAYAAAAGAAAAAwAAAAMAAAAGAAAABQAAAAYAAAADAAAAAwAAAAYAAAAFAAAABgAAAAUAAAAFAAAABAAAAAYAAAAFAAAABQAAAAUAAAAFAAAABQAAAAYAAAAFAAAABQAAAAYAAAADAAAABAAAAAMAAAAGAAAABgAAAAMAAAADAAAAAwAAAAUAAAAFAAAABgAAAAMAAAAGAAAABAAAAAYAAAAGAAAABgAAAAMAAAAFAAAABQAAAAYAAAADAAAABQAAAAMAAAAGAAAAAwAAAAUAAAAEAAAABgAAAAMAAAAEAAAAAwAAAAYAAAAGAAAABgAAAAUAAAADAAAABgAAAAUAAAAFAAAABQAAAAYAAAAFAAAABAAAAAUAAAADAAAABgAAAAMAAAADAAAABQAAAAYAAAAFAAAABgAAAAQAAAAEAAAABQAAAAUAAAADAAAABQAAAAYAAAAFAAAABQAAAAYAAAAFAAAAAwAAAAYAAAADAAAABgAAAAMAAAAGAAAABAAAAAMAAAAFAAAABgAAAAMAAAAFAAAABgAAAAUAAAAEAAAABQAAAAYAAAAFAAAABgAAAAUAAAAGAAAABQAAAAYAAAAGAAAABAAAAAMAAAAEAAAABQAAAAUAAAAFAAAAAwAAAAUAAAAFAAAABgAAAAMAAAAFAAAAAwAAAAYAAAAFAAAABQAAAAYAAAAEAAAAAwAAAAUAAAAGAAAABgAAAAYAAAAFAAAAAwAAAAMAAAAFAAAABgAAAAMAAAAFAAAABAAAAAYAAAADAAAABQAAAAYAAAADAAAABgAAAAQAAAAGAAAAAwAAAAUAAAAFAAAABQAAAAMAAAAGAAAABQAAAAUAAAAFAAAABgAAAAUAAAAFAAAABQAAAAYAAAADAAAABgAAAAYAAAAEAAAABQAAAAQAAAAFAAAABQAAAAYAAAADAAAABAAAAAMAAAAGAAAABgAAAAUAAAADAAAABgAAAAUAAAAGAAAAAwAAAAYAAAADAAAABQAAAAUAAAAGAAAAAwAAAAMAAAAEAAAABAAAAAUAAAAFAAAABQAAAAQAAAADAAAABQAAAAYAAAAGAAAABQAAAAMAAAAGAAAAAwAAAAUAAAAFAAAABgAAAAMAAAAFAAAABgAAAAMAAAADAAAABgAAAAYAAAAEAAAABgAAAAUAAAAFAAAABgAAAAQAAAADAAAABQAAAAYAAAAGAAAABAAAAAUAAAAGAAAABQAAAAYAAAAGAAAABQAAAAUAAAAFAAAABAAAAAQAAAAGAAAABgAAAAUAAAAFAAAABAAAAAUAAAAGAAAABgAAAAYAAAADAAAABgAAAAUAAAADAAAABQAAAAQAAAAFAAAABQAAAAUAAAADAAAABAAAAAUAAAAEAAAABgAAAAYAAAAGAAAABQAAAAUAAAAFAAAABQAAAAMAAAAGAAAABgAAAAYAAAADAAAAAwAAAAMAAAAFAAAABAAAAAUAAAAFAAAABQAAAAYAAAADAAAABgAAAAUAAAAGAAAABAAAAAYAAAAFAAAABQAAAAYAAAAFAAAABAAAAAMAAAAFAAAABQAAAAUAAAAFAAAABQAAAAUAAAADAAAABgAAAAYAAAAFAAAABgAAAAUAAAAEAAAABgAAAAQAAAAGAAAAAwAAAAMAAAAFAAAAAwAAAAQAAAAFAAAABQAAAAYAAAAFAAAABQAAAAMAAAAGAAAABgAAAAMAAAAGAAAABQAAAAYAAAAGAAAABgAAAAQAAAADAAAABQAAAAYAAAADAAAAAwAAAAYAAAAGAAAABQAAAAYAAAADAAAABQAAAAUAAAAEAAAABQAAAAQAAAAFAAAAAwAAAAMAAAADAAAAAwAAAAUAAAAFAAAABQAAAAYAAAAGAAAABgAAAAUAAAAGAAAABgAAAAMAAAAGAAAABAAAAAYAAAADAAAAAwAAAAUAAAAFAAAABQAAAAMAAAADAAAABQAAAAUAAAAFAAAABQAAAAYAAAAGAAAABQAAAAUAAAADAAAAAwAAAAYAAAAFAAAABAAAAAYAAAAFAAAABQAAAAQAAAAFAAAABQAAAAUAAAAFAAAABQAAAAQAAAAEAAAABQAAAAUAAAAFAAAABQAAAAYAAAADAAAAAwAAAAMAAAAGAAAABAAAAAYAAAADAAAABgAAAAQAAAADAAAABQAAAAYAAAAEAAAABQAAAAYAAAAGAAAABgAAAAMAAAAEAAAABQAAAAYAAAAFAAAABgAAAAYAAAADAAAABgAAAAMAAAADAAAAAwAAAAUAAAAGAAAABQAAAAUAAAAFAAAAAwAAAAMAAAADAAAABgAAAAUAAAADAAAABQAAAAMAAAAFAAAABQAAAAYAAAADAAAABQAAAAMAAAAFAAAABQAAAAQAAAADAAAABgAAAAYAAAADAAAAAwAAAAQAAAAGAAAABQAAAAUAAAAGAAAABgAAAAUAAAAGAAAABAAAAAMAAAAGAAAAAwAAAAQAAAAGAAAAAwAAAAUAAAAGAAAAAwAAAAQAAAAGAAAABgAAAAQAAAADAAAABgAAAAMAAAAGAAAABgAAAAMAAAADAAAAAwAAAAMAAAADAAAABgAAAAMAAAAFAAAAAwAAAAUAAAADAAAABQAAAAYAAAADAAAABgAAAAUAAAAFAAAABgAAAAUAAAADAAAAAwAAAAUAAAADAAAAAwAAAAUAAAAFAAAABgAAAAUAAAAFAAAAAwAAAAMAAAADAAAABAAAAAYAAAAGAAAABgAAAAYAAAAGAAAABQAAAAUAAAAEAAAABgAAAAQAAAAGAAAAAwAAAAYAAAAGAAAAAwAAAAYAAAAFAAAABQAAAAUAAAAFAAAAAwAAAAYAAAAEAAAAAwAAAAYAAAAFAAAABAAAAAYAAAAGAAAABQAAAAYAAAAGAAAAAwAAAAQAAAAFAAAAAwAAAAUAAAAEAAAAAwAAAAMAAAAFAAAABQAAAAMAAAAEAAAABQAAAAMAAAAFAAAAAwAAAAUAAAAGAAAAAwAAAAUAAAADAAAABgAAAAYAAAAGAAAABQAAAAYAAAAGAAAAAwAAAAUAAAAGAAAABQAAAAYAAAAGAAAABQAAAAYAAAAFAAAABQAAAAYAAAAGAAAABQAAAAYAAAAGAAAABgAAAAUAAAAEAAAAAwAAAAQAAAADAAAAAwAAAAMAAAAGAAAABAAAAAUAAAADAAAABgAAAAQAAAADAAAABAAAAAMAAAAGAAAABQAAAAMAAAAFAAAABgAAAAQAAAAGAAAABgAAAAUAAAAEAAAABAAAAAMAAAADAAAABQAAAAUAAAAGAAAABAAAAAYAAAAFAAAABgAAAAQAAAADAAAABgAAAAMAAAAEAAAABQAAAAUAAAAFAAAABQAAAAMAAAAFAAAAAwAAAAMAAAADAAAAAwAAAAMAAAAGAAAABQAAAAQAAAAEAAAABAAAAAMAAAAFAAAABQAAAAYAAAAFAAAABQAAAAYAAAAGAAAABgAAAAYAAAADAAAABgAAAAMAAAAFAAAABgAAAAUAAAAGAAAAAwAAAAYAAAADAAAAAwAAAAYAAAAFAAAABgAAAAUAAAAGAAAABgAAAAUAAAADAAAAAwAAAAQAAAAEAAAAAwAAAAYAAAAFAAAAAwAAAAMAAAAFAAAABQAAAAUAAAAFAAAABgAAAAQAAAADAAAAAwAAAAUAAAAGAAAAAwAAAAUAAAAGAAAABQAAAAUAAAADAAAABgAAAAMAAAAGAAAAAwAAAAUAAAAFAAAAAwAAAAYAAAAFAAAAAwAAAAUAAAAFAAAABAAAAAYAAAADAAAABgAAAAUAAAADAAAAAwAAAAYAAAAGAAAAAwAAAAUAAAAFAAAABQAAAAUAAAAGAAAAAwAAAAYAAAAEAAAABQAAAAUAAAAGAAAABgAAAAYAAAAGAAAABQAAAAYAAAADAAAABgAAAAMAAAAGAAAABgAAAAUAAAAFAAAABgAAAAMAAAAFAAAABgAAAAMAAAAGAAAABgAAAAMAAAAFAAAABgAAAAYAAAAFAAAABQAAAAYAAAADAAAABgAAAAUAAAAFAAAABQAAAAYAAAAGAAAAAwAAAAUAAAAFAAAABQAAAAMAAAAGAAAAAwAAAAUAAAADAAAABQAAAAUAAAADAAAABgAAAAUAAAAFAAAABQAAAAYAAAAFAAAABgAAAAYAAAAGAAAABgAAAAUAAAAGAAAAAwAAAAYAAAADAAAABAAAAAYAAAAFAAAABQAAAAMAAAAFAAAABgAAAAMAAAADAAAABQAAAAUAAAADAAAAAwAAAAYAAAADAAAABAAAAAUAAAADAAAAAwAAAAYAAAAGAAAABgAAAAMAAAADAAAABAAAAAMAAAAGAAAABQAAAAMAAAAEAAAABQAAAAMAAAAEAAAABQAAAAYAAAAEAAAABgAAAAYAAAADAAAABQAAAAMAAAAGAAAABgAAAAQAAAAGAAAAAwAAAAUAAAAFAAAABQAAAAYAAAADAAAAAwAAAAYAAAAFAAAABQAAAAQAAAADAAAABQAAAAQAAAADAAAABQAAAAUAAAAEAAAAAwAAAAMAAAADAAAAAwAAAAUAAAAFAAAABgAAAAYAAAAGAAAABQAAAAMAAAAFAAAABgAAAAYAAAAFAAAABQAAAAUAAAAEAAAABgAAAAQAAAADAAAABgAAAAMAAAAFAAAAAwAAAAYAAAAEAAAABQAAAAUAAAAFAAAAAwAAAAMAAAAFAAAABgAAAAMAAAAFAAAABgAAAAYAAAADAAAABgAAAAMAAAAFAAAABgAAAAMAAAAGAAAABQAAAAMAAAAFAAAAAwAAAAMAAAAEAAAABAAAAAYAAAAFAAAABAAAAAMAAAADAAAABQAAAAQAAAADAAAAAwAAAAUAAAAFAAAAAwAAAAUAAAAEAAAABgAAAAUAAAAFAAAABQAAAAUAAAAGAAAAAwAAAAUAAAAFAAAAAwAAAAUAAAAFAAAABAAAAAYAAAADAAAAAwAAAAUAAAAGAAAAAwAAAAYAAAAEAAAABQAAAAYAAAAGAAAABAAAAAMAAAAGAAAAAwAAAAMAAAAFAAAABQAAAAMAAAAGAAAAAwAAAAUAAAAGAAAABQAAAAYAAAAFAAAAAwAAAAYAAAAFAAAABQAAAAMAAAAFAAAABgAAAAQAAAADAAAABQAAAAUAAAAGAAAABQAAAAQAAAADAAAABgAAAAYAAAADAAAABgAAAAYAAAAGAAAAAwAAAAYAAAAGAAAABQAAAAMAAAAGAAAAAwAAAAYAAAAGAAAABQAAAAYAAAAFAAAABgAAAAYAAAAFAAAABAAAAAMAAAAFAAAAAwAAAAQAAAAFAAAABgAAAAYAAAAFAAAABgAAAAYAAAAFAAAAAwAAAAUAAAAFAAAAAwAAAAUAAAAFAAAABgAAAAMAAAAEAAAABQAAAAYAAAADAAAABQAAAAUAAAAGAAAABgAAAAUAAAAFAAAABgAAAAYAAAAFAAAAAwAAAAMAAAADAAAAAwAAAAMAAAADAAAAAwAAAAUAAAADAAAABgAAAAYAAAAGAAAABQAAAAMAAAAFAAAABQAAAAYAAAADAAAABQAAAAYAAAADAAAABAAAAAYAAAAGAAAABQAAAAYAAAAFAAAABgAAAAMAAAAGAAAABQAAAAUAAAADAAAABgAAAAUAAAAFAAAABgAAAAUAAAAEAAAAAwAAAAQAAAAGAAAABgAAAAYAAAAFAAAABQAAAAUAAAADAAAABQAAAAUAAAAGAAAAAwAAAAYAAAAGAAAABgAAAAUAAAAFAAAABQAAAAYAAAADAAAABQAAAAYAAAADAAAABAAAAAMAAAAFAAAAAwAAAAYAAAAGAAAABAAAAAUAAAAGAAAABgAAAAMAAAAEAAAABAAAAAMAAAAEAAAABQAAAAUAAAAFAAAABQAAAAMAAAADAAAAAwAAAAUAAAAGAAAABgAAAAMAAAAFAAAAAwAAAAMAAAAFAAAABAAAAAYAAAAGAAAABQAAAAMAAAAFAAAABgAAAAUAAAADAAAABQAAAAUAAAAFAAAABQAAAAYAAAAGAAAABgAAAAYAAAADAAAAAwAAAAMAAAAFAAAAAwAAAAYAAAAEAAAAAwAAAAUAAAADAAAABgAAAAMAAAAFAAAABgAAAAUAAAADAAAAAwAAAAMAAAAEAAAABQAAAAQAAAAFAAAABAAAAAUAAAADAAAAAwAAAAMAAAAGAAAABQAAAAMAAAAFAAAAAwAAAAMAAAAGAAAABQAAAAYAAAAFAAAABgAAAAMAAAAGAAAAAwAAAAUAAAAGAAAABQAAAAQAAAAGAAAAAwAAAAMAAAADAAAABgAAAAYAAAAFAAAAAwAAAAUAAAAFAAAABAAAAAUAAAAFAAAABQAAAAYAAAADAAAABQAAAAMAAAAGAAAABQAAAAMAAAAGAAAABgAAAAYAAAAGAAAABQAAAAMAAAAGAAAABgAAAAQAAAAGAAAABQAAAAQAAAAFAAAAAwAAAAUAAAAGAAAABAAAAAYAAAAFAAAABgAAAAMAAAAFAAAABQAAAAUAAAAGAAAABgAAAAMAAAAFAAAABAAAAAYAAAAGAAAAAwAAAAMAAAAFAAAABgAAAAYAAAADAAAAAwAAAAUAAAAFAAAABgAAAAYAAAADAAAABQAAAAYAAAADAAAABQAAAAYAAAAEAAAABgAAAAMAAAAGAAAABgAAAAYAAAAGAAAAAwAAAAYAAAAFAAAABAAAAAMAAAAFAAAABQAAAAMAAAAFAAAABQAAAAMAAAADAAAABgAAAAYAAAADAAAABgAAAAUAAAAGAAAABQAAAAYAAAAEAAAABgAAAAMAAAAGAAAABgAAAAMAAAADAAAABQAAAAYAAAADAAAABAAAAAUAAAAGAAAABQAAAAUAAAAGAAAABAAAAAYAAAAEAAAABQAAAAMAAAAFAAAABQAAAAMAAAADAAAABgAAAAUAAAAGAAAABQAAAAQAAAAGAAAABAAAAAQAAAAGAAAABgAAAAUAAAAEAAAABgAAAAMAAAAGAAAABAAAAAYAAAAFAAAAAwAAAAYAAAADAAAAAwAAAAMAAAAFAAAABgAAAAYAAAAFAAAABQAAAAUAAAAFAAAABQAAAAYAAAAFAAAABQAAAAYAAAAEAAAABAAAAAQAAAAFAAAABgAAAAYAAAADAAAAAwAAAAYAAAAGAAAAAwAAAAMAAAADAAAABQAAAAMAAAADAAAABgAAAAUAAAAEAAAABgAAAAUAAAADAAAABQAAAAMAAAAFAAAABAAAAAYAAAAGAAAABgAAAAMAAAADAAAABQAAAAQAAAAGAAAABQAAAAUAAAAFAAAABgAAAAYAAAADAAAABQAAAAMAAAAFAAAABgAAAAUAAAAEAAAABgAAAAYAAAAFAAAABgAAAAYAAAAEAAAABQAAAAYAAAAFAAAABgAAAAUAAAAFAAAABgAAAAYAAAAEAAAAAwAAAAUAAAAGAAAABQAAAAUAAAAFAAAABgAAAAYAAAAGAAAABQAAAAMAAAAFAAAAAwAAAAUAAAAFAAAABQAAAAMAAAADAAAAAwAAAAUAAAADAAAABgAAAAMAAAADAAAAAwAAAAMAAAAFAAAABQAAAAYAAAADAAAAAwAAAAQAAAAGAAAABgAAAAMAAAAEAAAAAwAAAAMAAAAGAAAAAwAAAAQAAAAFAAAAAwAAAAUAAAAEAAAABAAAAAUAAAAGAAAAAwAAAAMAAAADAAAAAwAAAAUAAAAGAAAABgAAAAYAAAAFAAAAAwAAAAYAAAAFAAAABAAAAAQAAAAGAAAABAAAAAUAAAAFAAAAAwAAAAMAAAAGAAAABgAAAAUAAAAFAAAABgAAAAUAAAAGAAAABgAAAAMAAAAFAAAABQAAAAUAAAAFAAAABQAAAAQAAAAGAAAABAAAAAYAAAAFAAAAAwAAAAYAAAAGAAAABgAAAAYAAAADAAAABAAAAAMAAAAFAAAABgAAAAUAAAADAAAABQAAAAYAAAAFAAAABQAAAAUAAAAGAAAAAwAAAAUAAAADAAAAAwAAAAUAAAAGAAAAAwAAAAMAAAAGAAAABQAAAAUAAAADAAAABQAAAAUAAAADAAAABAAAAAQAAAAGAAAABQAAAAYAAAAFAAAABgAAAAUAAAADAAAABAAAAAMAAAADAAAAAwAAAAUAAAAFAAAAAwAAAAYAAAAGAAAAAwAAAAYAAAADAAAAAwAAAAYAAAAFAAAABQAAAAMAAAAGAAAABAAAAAUAAAAGAAAAAwAAAAUAAAAFAAAABAAAAAYAAAADAAAABQAAAAUAAAAGAAAABgAAAAMAAAADAAAABgAAAAYAAAAGAAAABAAAAAYAAAAFAAAABQAAAAQAAAAFAAAABAAAAAUAAAAEAAAABgAAAAQAAAAFAAAABQAAAAYAAAAEAAAABQAAAAMAAAAGAAAABQAAAAMAAAADAAAABgAAAAYAAAAGAAAAAwAAAAUAAAAGAAAABQAAAAUAAAAFAAAAAwAAAAYAAAAFAAAAAwAAAAQAAAADAAAAAwAAAAYAAAAGAAAABQAAAAMAAAAFAAAABQAAAAMAAAADAAAABAAAAAYAAAAGAAAABQAAAAMAAAADAAAABQAAAAUAAAAGAAAABgAAAAUAAAADAAAABgAAAAYAAAAGAAAABAAAAAYAAAAFAAAABQAAAAMAAAAEAAAABgAAAAMAAAAEAAAABQAAAAMAAAAGAAAABgAAAAUAAAAFAAAABQAAAAYAAAAFAAAABgAAAAUAAAAGAAAAAwAAAAUAAAAEAAAABgAAAAMAAAAGAAAABQAAAAUAAAAFAAAABAAAAAUAAAAGAAAABgAAAAMAAAAFAAAABQAAAAYAAAADAAAABgAAAAUAAAAGAAAABQAAAAUAAAAEAAAABQAAAAYAAAADAAAABgAAAAUAAAADAAAABAAAAAMAAAADAAAABQAAAAMAAAAGAAAABQAAAAYAAAAEAAAABgAAAAYAAAAGAAAAAwAAAAUAAAAGAAAABgAAAAUAAAAFAAAABQAAAAYAAAAGAAAABAAAAAUAAAAGAAAAAwAAAAUAAAAEAAAABQAAAAYAAAAFAAAAAwAAAAMAAAAEAAAABAAAAAMAAAAFAAAAAwAAAAMAAAADAAAABQAAAAYAAAAFAAAABAAAAAMAAAAFAAAABQAAAAMAAAAGAAAAAwAAAAYAAAAGAAAABQAAAAMAAAAEAAAABQAAAAMAAAAFAAAAAwAAAAMAAAAFAAAABgAAAAQAAAADAAAABQAAAAMAAAAGAAAABQAAAAYAAAAGAAAAAwAAAAMAAAAEAAAABQAAAAUAAAAFAAAABQAAAAUAAAADAAAABgAAAAYAAAAFAAAABAAAAAMAAAAFAAAABgAAAAUAAAAFAAAABgAAAAMAAAADAAAABAAAAAMAAAAGAAAAAwAAAAMAAAAGAAAABgAAAAUAAAAFAAAABgAAAAUAAAADAAAAAwAAAAMAAAAFAAAABQAAAAUAAAAGAAAAAwAAAAMAAAAGAAAABQAAAAYAAAADAAAAAwAAAAMAAAADAAAABgAAAAUAAAADAAAABAAAAAUAAAAEAAAABAAAAAMAAAAEAAAAAwAAAAYAAAAGAAAAAwAAAAQAAAADAAAAAwAAAAYAAAAFAAAAAwAAAAYAAAAFAAAAAwAAAAUAAAADAAAAAwAAAAYAAAADAAAABQAAAAYAAAADAAAABAAAAAQAAAAGAAAABQAAAAYAAAAFAAAABQAAAAMAAAAGAAAABgAAAAMAAAADAAAABQAAAAYAAAAEAAAABAAAAAQAAAADAAAAAwAAAAQAAAAFAAAABgAAAAQAAAAFAAAABQAAAAYAAAADAAAAAwAAAAYAAAAFAAAABgAAAAYAAAAFAAAABQAAAAMAAAAEAAAABQAAAAYAAAAGAAAABgAAAAMAAAAFAAAAAwAAAAQAAAAGAAAAAwAAAAUAAAAGAAAABgAAAAMAAAAGAAAABQAAAAUAAAAGAAAAAwAAAAYAAAAFAAAABgAAAAYAAAADAAAABQAAAAYAAAADAAAABQAAAAUAAAAFAAAAAwAAAAUAAAAFAAAAAwAAAAYAAAADAAAABQAAAAUAAAAGAAAABgAAAAYAAAAGAAAABgAAAAUAAAAGAAAAAwAAAAUAAAAGAAAAAwAAAAUAAAAGAAAABAAAAAMAAAAEAAAABgAAAAUAAAAEAAAABgAAAAMAAAAGAAAABQAAAAYAAAAFAAAABQAAAAUAAAADAAAABQAAAAUAAAADAAAABgAAAAUAAAAGAAAAAwAAAAYAAAAEAAAAAwAAAAYAAAAFAAAABgAAAAUAAAADAAAABQAAAAYAAAAGAAAABQAAAAYAAAAGAAAABgAAAAMAAAAGAAAAAwAAAAYAAAAGAAAABgAAAAUAAAADAAAABQAAAAQAAAAGAAAABQAAAAUAAAAFAAAABQAAAAMAAAADAAAABQAAAAYAAAAGAAAAAwAAAAYAAAAGAAAAAwAAAAUAAAAEAAAABgAAAAYAAAADAAAAAwAAAAQAAAAGAAAAAwAAAAMAAAAGAAAABgAAAAMAAAAGAAAABAAAAAYAAAADAAAABAAAAAUAAAAGAAAABQAAAAYAAAAGAAAABQAAAAUAAAAEAAAABQAAAAYAAAAGAAAABQAAAAMAAAAFAAAABQAAAAUAAAAFAAAABgAAAAQAAAAFAAAAAwAAAAQAAAADAAAABQAAAAUAAAAGAAAAAwAAAAUAAAADAAAABgAAAAMAAAAGAAAABAAAAAMAAAADAAAABQAAAAUAAAAFAAAABAAAAAYAAAAFAAAABQAAAAUAAAAFAAAABQAAAAQAAAAGAAAABgAAAAYAAAADAAAABQAAAAUAAAAGAAAABAAAAAMAAAAFAAAABgAAAAYAAAAGAAAAAwAAAAQAAAAEAAAABgAAAAMAAAAFAAAAAwAAAAYAAAAFAAAABgAAAAUAAAAFAAAAAwAAAAUAAAAEAAAABgAAAAMAAAADAAAAAwAAAAUAAAAEAAAABQAAAAYAAAAEAAAABAAAAAMAAAAFAAAAAwAAAAMAAAAGAAAAAwAAAAQAAAAFAAAABAAAAAYAAAAFAAAABgAAAAYAAAAFAAAABAAAAAYAAAAGAAAABQAAAAMAAAAFAAAABgAAAAMAAAADAAAABgAAAAUAAAAGAAAAAwAAAAUAAAAGAAAABQAAAAYAAAAFAAAABAAAAAMAAAAGAAAABgAAAAYAAAAGAAAABQAAAAYAAAAFAAAAAwAAAAMAAAAGAAAABQAAAAUAAAAFAAAABAAAAAUAAAADAAAABgAAAAUAAAADAAAABQAAAAYAAAAEAAAABAAAAAMAAAADAAAABgAAAAUAAAADAAAABQAAAAUAAAAFAAAAAwAAAAMAAAAGAAAABQAAAAUAAAAGAAAABAAAAAUAAAAFAAAABgAAAAMAAAAGAAAABAAAAAUAAAADAAAABgAAAAUAAAAEAAAABAAAAAMAAAADAAAABAAAAAMAAAADAAAABQAAAAMAAAADAAAABgAAAAUAAAAGAAAABQAAAAMAAAAGAAAAAwAAAAYAAAAEAAAABgAAAAYAAAADAAAABQAAAAUAAAAFAAAAAwAAAAMAAAADAAAAAwAAAAYAAAAFAAAABgAAAAYAAAADAAAAAwAAAAUAAAAGAAAABAAAAAMAAAAGAAAABgAAAAMAAAAFAAAABQAAAAUAAAAGAAAABQAAAAYAAAAEAAAABgAAAAMAAAAGAAAABQAAAAQAAAAGAAAABQAAAAQAAAADAAAABgAAAAYAAAAFAAAAAwAAAAUAAAAGAAAABgAAAAYAAAADAAAABQAAAAYAAAAFAAAABQAAAAYAAAAFAAAABQAAAAMAAAAGAAAABQAAAAUAAAAEAAAAAwAAAAUAAAAFAAAAAwAAAAYAAAADAAAABQAAAAYAAAAGAAAABgAAAAMAAAAGAAAABQAAAAQAAAAGAAAABgAAAAUAAAADAAAAAwAAAAUAAAAGAAAABgAAAAMAAAAFAAAAAwAAAAUAAAADAAAABAAAAAYAAAADAAAABgAAAAUAAAAGAAAAAwAAAAMAAAADAAAABgAAAAYAAAAGAAAAAwAAAAUAAAAFAAAABQAAAAYAAAADAAAAAwAAAAYAAAAFAAAABAAAAAUAAAAFAAAABQAAAAYAAAAGAAAABgAAAAUAAAAFAAAABgAAAAYAAAADAAAABAAAAAYAAAADAAAABAAAAAYAAAADAAAAAwAAAAUAAAAEAAAAAwAAAAUAAAAEAAAABgAAAAYAAAAFAAAABQAAAAUAAAAGAAAAAwAAAAYAAAADAAAAAwAAAAQAAAADAAAAAwAAAAQAAAAGAAAAAwAAAAYAAAADAAAABgAAAAYAAAAEAAAAAwAAAAYAAAADAAAABgAAAAYAAAAGAAAABQAAAAUAAAAEAAAABQAAAAMAAAADAAAABAAAAAUAAAAGAAAABQAAAAYAAAAFAAAABAAAAAYAAAADAAAAAwAAAAMAAAAGAAAABQAAAAMAAAAFAAAABQAAAAYAAAAGAAAABgAAAAQAAAAGAAAABQAAAAYAAAAGAAAABQAAAAMAAAAFAAAABQAAAAMAAAAGAAAABgAAAAMAAAAFAAAABgAAAAUAAAAFAAAABQAAAAUAAAADAAAABgAAAAYAAAADAAAAAwAAAAMAAAAEAAAAAwAAAAYAAAAFAAAABQAAAAMAAAAGAAAABgAAAAYAAAAGAAAAAwAAAAUAAAAGAAAABQAAAAYAAAAEAAAABgAAAAMAAAAGAAAAAwAAAAUAAAADAAAABgAAAAUAAAAFAAAABQAAAAYAAAADAAAAAwAAAAUAAAAFAAAAAwAAAAUAAAAFAAAAAwAAAAMAAAAFAAAAAwAAAAUAAAAGAAAABQAAAAYAAAAGAAAABgAAAAMAAAAFAAAABQAAAAMAAAAFAAAABgAAAAYAAAAFAAAABgAAAAMAAAAFAAAABgAAAAYAAAAFAAAABQAAAAUAAAAGAAAAAwAAAAYAAAAFAAAAAwAAAAUAAAAEAAAABgAAAAQAAAAFAAAABQAAAAYAAAAFAAAABQAAAAMAAAAFAAAABgAAAAQAAAAGAAAABQAAAAUAAAADAAAABQAAAAYAAAAFAAAABQAAAAMAAAAFAAAABQAAAAYAAAADAAAAAwAAAAMAAAAGAAAABgAAAAMAAAAGAAAABQAAAAYAAAAGAAAABgAAAAUAAAADAAAAAwAAAAUAAAAGAAAABQAAAAUAAAAEAAAABQAAAAMAAAAGAAAABgAAAAUAAAADAAAABgAAAAYAAAAFAAAABQAAAAYAAAADAAAAAwAAAAYAAAAFAAAAAwAAAAYAAAAEAAAAAwAAAAQAAAAGAAAABgAAAAUAAAAFAAAAAwAAAAYAAAADAAAABQAAAAMAAAAFAAAAAwAAAAMAAAAFAAAABgAAAAYAAAAFAAAABgAAAAUAAAADAAAABQAAAAYAAAAGAAAAAwAAAAMAAAAGAAAABQAAAAUAAAAFAAAABQAAAAQAAAAFAAAABgAAAAMAAAAFAAAABQAAAAUAAAAFAAAABgAAAAYAAAADAAAABQAAAAYAAAAFAAAABgAAAAUAAAAGAAAABQAAAAYAAAADAAAABgAAAAYAAAAGAAAABQAAAAUAAAAFAAAABQAAAAUAAAAFAAAABgAAAAYAAAAGAAAABgAAAAMAAAAFAAAABgAAAAUAAAAFAAAAAwAAAAYAAAADAAAABgAAAAMAAAAEAAAAAwAAAAMAAAAEAAAABgAAAAMAAAAGAAAABQAAAAYAAAADAAAABQAAAAQAAAADAAAABgAAAAMAAAAFAAAABQAAAAYAAAAFAAAABAAAAAYAAAAGAAAAAwAAAAUAAAAGAAAABgAAAAYAAAAFAAAABQAAAAQAAAADAAAABgAAAAMAAAAGAAAAAwAAAAYAAAAFAAAABAAAAAYAAAAFAAAABAAAAAMAAAAFAAAABQAAAAMAAAAGAAAABAAAAAMAAAAFAAAABQAAAAYAAAAEAAAABQAAAAUAAAAGAAAAAwAAAAUAAAAEAAAABgAAAAQAAAAGAAAABQAAAAQAAAAFAAAABgAAAAYAAAAEAAAAAwAAAAYAAAADAAAAAwAAAAYAAAAFAAAABQAAAAYAAAAFAAAABgAAAAMAAAADAAAAAwAAAAMAAAADAAAABgAAAAUAAAAFAAAAAwAAAAUAAAAFAAAAAwAAAAUAAAAGAAAABgAAAAQAAAADAAAABgAAAAYAAAAGAAAABQAAAAYAAAAFAAAABQAAAAYAAAAEAAAABQAAAAUAAAAGAAAABgAAAAUAAAAGAAAAAwAAAAUAAAAFAAAABgAAAAYAAAAFAAAABgAAAAMAAAADAAAABQAAAAMAAAADAAAABQAAAAUAAAAFAAAABgAAAAYAAAAFAAAABgAAAAMAAAADAAAABAAAAAMAAAAEAAAABQAAAAMAAAADAAAAAwAAAAMAAAADAAAABgAAAAUAAAAEAAAABgAAAAMAAAAGAAAAAwAAAAMAAAADAAAABgAAAAYAAAAFAAAABAAAAAUAAAADAAAAAwAAAAYAAAAGAAAABQAAAAUAAAAEAAAABgAAAAMAAAADAAAAAwAAAAUAAAAGAAAABgAAAAMAAAAEAAAABQAAAAUAAAADAAAABgAAAAYAAAAEAAAAAwAAAAYAAAADAAAAAwAAAAYAAAAFAAAABgAAAAYAAAADAAAABQAAAAMAAAAFAAAABQAAAAUAAAAEAAAABQAAAAUAAAAGAAAABAAAAAUAAAAFAAAAAwAAAAYAAAAGAAAAAwAAAAQAAAAFAAAAAwAAAAMAAAAGAAAABQAAAAMAAAAEAAAAAwAAAAMAAAAGAAAABAAAAAUAAAADAAAABgAAAAMAAAAFAAAABgAAAAUAAAAFAAAABgAAAAMAAAADAAAABQAAAAYAAAAEAAAABgAAAAUAAAAEAAAAAwAAAAMAAAAGAAAABgAAAAUAAAADAAAABgAAAAYAAAAFAAAAAwAAAAMAAAADAAAAAwAAAAYAAAAGAAAABgAAAAYAAAADAAAAAwAAAAUAAAAFAAAABQAAAAUAAAAFAAAAAwAAAAYAAAAEAAAAAwAAAAQAAAAEAAAABgAAAAYAAAAEAAAABgAAAAMAAAAFAAAAAwAAAAUAAAAGAAAABAAAAAYAAAAGAAAABgAAAAMAAAADAAAABQAAAAUAAAAGAAAABQAAAAYAAAAGAAAAAwAAAAUAAAADAAAABQAAAAYAAAAGAAAABQAAAAYAAAADAAAAAwAAAAYAAAAFAAAABAAAAAUAAAAFAAAAAwAAAAYAAAAFAAAAAwAAAAUAAAAGAAAAAwAAAAQAAAAFAAAABQAAAAMAAAAFAAAABQAAAAMAAAAGAAAABQAAAAYAAAAEAAAABQAAAAYAAAADAAAABQAAAAYAAAAFAAAABgAAAAYAAAAEAAAABAAAAAUAAAAGAAAAAwAAAAYAAAADAAAABAAAAAMAAAAEAAAAAwAAAAMAAAAFAAAABgAAAAQAAAAGAAAABgAAAAQAAAAGAAAABQAAAAMAAAAFAAAAAwAAAAMAAAADAAAABgAAAAUAAAAFAAAABgAAAAMAAAADAAAABQAAAAUAAAADAAAABgAAAAUAAAAGAAAABgAAAAMAAAAGAAAABQAAAAMAAAAFAAAABgAAAAMAAAAFAAAABgAAAAUAAAADAAAABgAAAAUAAAAGAAAABQAAAAUAAAADAAAAAwAAAAYAAAAGAAAABAAAAAMAAAADAAAABAAAAAUAAAADAAAABQAAAAMAAAADAAAABgAAAAMAAAAFAAAABQAAAAMAAAAGAAAABgAAAAQAAAAFAAAABgAAAAUAAAAFAAAABgAAAAYAAAAEAAAAAwAAAAYAAAAGAAAAAwAAAAUAAAAFAAAABgAAAAUAAAAFAAAAAwAAAAUAAAAEAAAABQAAAAUAAAAFAAAABQAAAAMAAAAGAAAABgAAAAYAAAAGAAAABgAAAAUAAAAFAAAABgAAAAUAAAAGAAAABQAAAAYAAAADAAAABQAAAAUAAAAFAAAABgAAAAMAAAADAAAAAwAAAAMAAAAGAAAABgAAAAMAAAAGAAAAAwAAAAMAAAAFAAAABgAAAAUAAAAFAAAABQAAAAMAAAAFAAAABQAAAAQAAAAFAAAABQAAAAUAAAAGAAAABQAAAAYAAAADAAAABAAAAAYAAAAGAAAABQAAAAMAAAAFAAAABgAAAAUAAAAFAAAABQAAAAYAAAAFAAAABgAAAAYAAAAGAAAABgAAAAMAAAAGAAAABgAAAAUAAAAFAAAAAwAAAAYAAAAFAAAABAAAAAYAAAAFAAAAAwAAAAMAAAAFAAAABQAAAAUAAAAFAAAABgAAAAUAAAAGAAAAAwAAAAYAAAADAAAAAwAAAAMAAAAEAAAAAwAAAAMAAAAGAAAABQAAAAYAAAAFAAAABgAAAAUAAAAGAAAAAwAAAAYAAAAGAAAABgAAAAQAAAAFAAAABgAAAAYAAAAGAAAABQAAAAYAAAAGAAAABQAAAAUAAAAFAAAABQAAAAUAAAAGAAAABQAAAAUAAAAEAAAABgAAAAYAAAAEAAAABQAAAAUAAAAGAAAAAwAAAAMAAAAFAAAAAwAAAAMAAAAGAAAAAwAAAAMAAAAGAAAABgAAAAUAAAAFAAAABQAAAAUAAAAFAAAABAAAAAQAAAAGAAAAAwAAAAYAAAAFAAAABgAAAAUAAAADAAAABgAAAAMAAAAGAAAABAAAAAUAAAADAAAABAAAAAUAAAAFAAAABAAAAAQAAAADAAAABAAAAAUAAAAFAAAABQAAAAUAAAADAAAABgAAAAYAAAAEAAAABgAAAAYAAAADAAAABgAAAAYAAAAGAAAABQAAAAUAAAADAAAABAAAAAUAAAADAAAABgAAAAYAAAAGAAAABgAAAAMAAAAFAAAABgAAAAMAAAAGAAAABQAAAAYAAAAEAAAABgAAAAYAAAAGAAAABgAAAAQAAAAFAAAABgAAAAYAAAAFAAAAAwAAAAYAAAAGAAAABgAAAAQAAAADAAAABgAAAAQAAAADAAAABgAAAAYAAAAEAAAABgAAAAYAAAADAAAABgAAAAMAAAAGAAAABgAAAAUAAAAFAAAABQAAAAUAAAADAAAABgAAAAUAAAAGAAAABgAAAAUAAAAEAAAABgAAAAYAAAAGAAAAAwAAAAMAAAAFAAAABgAAAAQAAAADAAAABQAAAAUAAAAFAAAAAwAAAAYAAAAFAAAABgAAAAUAAAADAAAABgAAAAUAAAADAAAAAwAAAAYAAAAFAAAABgAAAAUAAAAFAAAABQAAAAMAAAAGAAAAAwAAAAYAAAADAAAABAAAAAMAAAADAAAABQAAAAMAAAADAAAABgAAAAUAAAAEAAAABgAAAAMAAAAFAAAAAwAAAAUAAAAFAAAABgAAAAQAAAAGAAAABAAAAAUAAAAGAAAAAwAAAAMAAAAEAAAABgAAAAYAAAADAAAABgAAAAQAAAAFAAAAAwAAAAUAAAAGAAAABQAAAAYAAAAFAAAAAwAAAAUAAAADAAAABAAAAAUAAAADAAAABQAAAAMAAAAEAAAAAwAAAAUAAAAEAAAAAwAAAAUAAAAEAAAAAwAAAAUAAAAEAAAABQAAAAYAAAAGAAAABAAAAAMAAAADAAAABgAAAAYAAAADAAAAAwAAAAYAAAAGAAAABgAAAAUAAAAFAAAABQAAAAYAAAADAAAAAwAAAAUAAAAFAAAABgAAAAYAAAADAAAAAwAAAAMAAAADAAAABAAAAAUAAAAGAAAABQAAAAMAAAAGAAAABgAAAAQAAAADAAAABgAAAAYAAAADAAAAAwAAAAYAAAAGAAAAAwAAAAUAAAADAAAABQAAAAMAAAAGAAAABQAAAAQAAAAGAAAAAwAAAAMAAAAGAAAABgAAAAQAAAADAAAABgAAAAUAAAAFAAAABgAAAAMAAAADAAAABQAAAAYAAAADAAAAAwAAAAMAAAAEAAAABAAAAAQAAAAFAAAABQAAAAMAAAADAAAAAwAAAAYAAAAFAAAABQAAAAUAAAAGAAAAAwAAAAUAAAAFAAAABgAAAAUAAAAEAAAABQAAAAUAAAAGAAAABgAAAAYAAAADAAAABgAAAAYAAAAEAAAABQAAAAYAAAADAAAABQAAAAUAAAAFAAAABQAAAAYAAAAFAAAAAwAAAAMAAAAGAAAAAwAAAAQAAAAGAAAABQAAAAMAAAAFAAAABQAAAAUAAAAFAAAABQAAAAUAAAADAAAABgAAAAYAAAAFAAAAAwAAAAQAAAADAAAAAwAAAAMAAAADAAAABQAAAAYAAAADAAAABgAAAAUAAAAFAAAABQAAAAYAAAADAAAABgAAAAYAAAAGAAAABQAAAAYAAAAGAAAABgAAAAUAAAADAAAABQAAAAYAAAAFAAAAAwAAAAMAAAADAAAABQAAAAQAAAADAAAABQAAAAUAAAAEAAAABgAAAAUAAAAFAAAABgAAAAYAAAAFAAAABQAAAAMAAAAFAAAABQAAAAUAAAADAAAABQAAAAUAAAAFAAAABQAAAAYAAAAGAAAABQAAAAMAAAAEAAAABgAAAAUAAAAEAAAABAAAAAYAAAAGAAAAAwAAAAUAAAADAAAAAwAAAAMAAAAEAAAAAwAAAAUAAAADAAAABAAAAAMAAAAGAAAABQAAAAYAAAAGAAAABAAAAAMAAAAGAAAABgAAAAUAAAADAAAABQAAAAUAAAADAAAABgAAAAYAAAAGAAAABAAAAAUAAAAGAAAABAAAAAYAAAAGAAAABQAAAAUAAAAEAAAABgAAAAYAAAAGAAAABQAAAAYAAAADAAAAAwAAAAYAAAAGAAAABgAAAAYAAAAFAAAABQAAAAYAAAAGAAAABQAAAAYAAAAEAAAABQAAAAYAAAAFAAAABQAAAAUAAAAFAAAAAwAAAAYAAAAFAAAABgAAAAYAAAAEAAAABgAAAAMAAAAGAAAABAAAAAMAAAADAAAABgAAAAMAAAADAAAAAwAAAAMAAAADAAAABQAAAAQAAAAFAAAABgAAAAUAAAAGAAAABgAAAAMAAAAFAAAABQAAAAYAAAAGAAAABQAAAAMAAAADAAAABQAAAAMAAAADAAAAAwAAAAUAAAAGAAAABAAAAAYAAAAGAAAABgAAAAQAAAAFAAAABgAAAAUAAAAFAAAABgAAAAMAAAAGAAAAAwAAAAUAAAAGAAAABQAAAAUAAAAGAAAABQAAAAYAAAAGAAAABQAAAAYAAAAFAAAABQAAAAYAAAAGAAAABgAAAAYAAAAFAAAABAAAAAYAAAAFAAAABQAAAAUAAAAFAAAABQAAAAQAAAAGAAAABQAAAAQAAAAFAAAABQAAAAYAAAAFAAAABAAAAAYAAAAFAAAABgAAAAQAAAAGAAAABAAAAAYAAAAGAAAABgAAAAMAAAADAAAABQAAAAQAAAAGAAAABQAAAAUAAAAEAAAAAwAAAAYAAAAFAAAABQAAAAMAAAADAAAABQAAAAUAAAAFAAAABgAAAAYAAAAGAAAABgAAAAMAAAAGAAAAAwAAAAMAAAADAAAABAAAAAMAAAADAAAABgAAAAUAAAAFAAAABQAAAAYAAAADAAAABgAAAAUAAAAEAAAABAAAAAUAAAAFAAAABgAAAAMAAAAGAAAABAAAAAUAAAAGAAAABgAAAAYAAAADAAAABAAAAAYAAAADAAAABQAAAAYAAAAGAAAABAAAAAUAAAAGAAAABgAAAAQAAAAGAAAABQAAAAUAAAAGAAAABgAAAAMAAAAGAAAABgAAAAMAAAAEAAAABQAAAAUAAAAFAAAAAwAAAAUAAAADAAAABgAAAAYAAAADAAAABQAAAAMAAAAGAAAABQAAAAUAAAAGAAAAAwAAAAYAAAAGAAAABgAAAAQAAAAFAAAABgAAAAYAAAAGAAAABAAAAAQAAAAFAAAAAwAAAAUAAAAGAAAABAAAAAUAAAADAAAABgAAAAMAAAAGAAAAAwAAAAMAAAAFAAAABgAAAAUAAAADAAAABgAAAAYAAAADAAAABgAAAAYAAAADAAAABQAAAAMAAAADAAAABQAAAAMAAAAGAAAABgAAAAMAAAAFAAAAAwAAAAQAAAADAAAABgAAAAMAAAAEAAAABgAAAAQAAAAGAAAAAwAAAAMAAAAFAAAABQAAAAYAAAADAAAABQAAAAYAAAAFAAAABAAAAAYAAAADAAAABgAAAAYAAAADAAAABQAAAAUAAAADAAAABQAAAAUAAAADAAAABgAAAAUAAAAEAAAABQAAAAUAAAAGAAAABgAAAAUAAAAGAAAAAwAAAAMAAAADAAAAAwAAAAYAAAAFAAAABgAAAAMAAAAGAAAAAwAAAAQAAAAGAAAABgAAAAMAAAAGAAAAAwAAAAMAAAAFAAAABQAAAAYAAAAGAAAABQAAAAMAAAAGAAAABgAAAAUAAAADAAAABQAAAAMAAAAGAAAABQAAAAUAAAADAAAAAwAAAAYAAAADAAAABAAAAAMAAAADAAAABgAAAAMAAAAGAAAABgAAAAMAAAAFAAAAAwAAAAUAAAAEAAAABgAAAAMAAAAFAAAAAwAAAAQAAAAFAAAABQAAAAYAAAAGAAAAAwAAAAUAAAAFAAAAAwAAAAYAAAAGAAAAAwAAAAQAAAAFAAAABgAAAAMAAAAGAAAAAwAAAAUAAAAGAAAABQAAAAUAAAAGAAAAAwAAAAMAAAAFAAAABQAAAAUAAAAGAAAABAAAAAYAAAADAAAABgAAAAMAAAAFAAAABQAAAAMAAAAFAAAABQAAAAUAAAADAAAABgAAAAQAAAAGAAAABQAAAAMAAAAEAAAAAwAAAAYAAAADAAAAAwAAAAYAAAAFAAAAAwAAAAMAAAAGAAAABgAAAAUAAAAGAAAABgAAAAYAAAAFAAAABQAAAAUAAAADAAAABgAAAAMAAAAGAAAABgAAAAYAAAAFAAAABgAAAAYAAAAEAAAABgAAAAUAAAAFAAAABAAAAAMAAAAGAAAABQAAAAYAAAAGAAAABgAAAAMAAAAGAAAABgAAAAQAAAAFAAAABQAAAAYAAAAEAAAAAwAAAAYAAAAFAAAABQAAAAMAAAAFAAAABQAAAAMAAAAGAAAABQAAAAUAAAAFAAAABgAAAAUAAAAFAAAABgAAAAUAAAAFAAAABgAAAAUAAAAFAAAAAwAAAAUAAAADAAAABgAAAAYAAAAGAAAABgAAAAMAAAAFAAAABgAAAAUAAAADAAAABAAAAAYAAAAGAAAABgAAAAUAAAAGAAAABAAAAAUAAAADAAAABQAAAAQAAAAGAAAAAwAAAAYAAAAGAAAABAAAAAYAAAAGAAAAAwAAAAYAAAAGAAAABgAAAAUAAAAFAAAABgAAAAYAAAAFAAAABgAAAAUAAAAFAAAABgAAAAYAAAAFAAAABQAAAAQAAAAGAAAAAwAAAAQAAAAGAAAAAwAAAAMAAAAGAAAABAAAAAYAAAADAAAABAAAAAUAAAAFAAAABQAAAAUAAAAFAAAABQAAAAMAAAAFAAAAAwAAAAYAAAADAAAAAwAAAAMAAAADAAAABgAAAAUAAAAGAAAABgAAAAYAAAAGAAAABQAAAAYAAAADAAAABQAAAAMAAAAFAAAABQAAAAUAAAADAAAABgAAAAYAAAAFAAAABgAAAAMAAAAGAAAABQAAAAYAAAADAAAABgAAAAYAAAAFAAAABQAAAAYAAAADAAAABAAAAAYAAAAGAAAAAwAAAAUAAAADAAAABQAAAAMAAAAGAAAABAAAAAYAAAAFAAAABQAAAAMAAAAGAAAAAwAAAAYAAAADAAAABgAAAAUAAAAEAAAAAwAAAAQAAAAFAAAABgAAAAYAAAAFAAAAAwAAAAUAAAAGAAAABQAAAAYAAAAFAAAAAwAAAAMAAAAEAAAABQAAAAYAAAADAAAABAAAAAQAAAAFAAAABQAAAAMAAAAFAAAABAAAAAMAAAAFAAAABAAAAAMAAAAGAAAABgAAAAYAAAADAAAABAAAAAUAAAAEAAAABQAAAAUAAAAEAAAABQAAAAYAAAAFAAAAAwAAAAYAAAAFAAAABQAAAAQAAAAGAAAABQAAAAMAAAAGAAAAAwAAAAYAAAAGAAAABQAAAAUAAAADAAAAAwAAAAUAAAAFAAAAAwAAAAYAAAADAAAABQAAAAUAAAAEAAAABAAAAAMAAAAGAAAABgAAAAYAAAAFAAAABQAAAAUAAAAEAAAABQAAAAUAAAAGAAAABgAAAAYAAAAFAAAABgAAAAYAAAAEAAAAAwAAAAUAAAADAAAAAwAAAAUAAAAFAAAABgAAAAMAAAADAAAABQAAAAUAAAAGAAAAAwAAAAYAAAAGAAAABQAAAAYAAAAFAAAABgAAAAYAAAAFAAAABQAAAAQAAAAFAAAABgAAAAQAAAADAAAABQAAAAYAAAAEAAAAAwAAAAYAAAADAAAABgAAAAUAAAAGAAAAAwAAAAYAAAAFAAAABgAAAAMAAAAGAAAABQAAAAYAAAAFAAAAAwAAAAMAAAAEAAAABQAAAAQAAAAEAAAAAwAAAAMAAAADAAAABAAAAAMAAAADAAAABgAAAAUAAAAFAAAABAAAAAYAAAADAAAABAAAAAYAAAAFAAAABQAAAAMAAAAFAAAABgAAAAUAAAAFAAAAAwAAAAMAAAAFAAAABQAAAAMAAAADAAAABAAAAAUAAAAFAAAAAwAAAAYAAAAGAAAABgAAAAUAAAAGAAAABgAAAAUAAAAGAAAABQAAAAUAAAAFAAAABgAAAAYAAAAFAAAAAwAAAAYAAAADAAAABgAAAAUAAAAFAAAABgAAAAYAAAADAAAABQAAAAUAAAADAAAABAAAAAMAAAADAAAABQAAAAUAAAAEAAAABQAAAAYAAAAGAAAABQAAAAUAAAAGAAAABAAAAAMAAAAFAAAAAwAAAAMAAAAFAAAABgAAAAYAAAADAAAABgAAAAUAAAADAAAABgAAAAUAAAAGAAAABgAAAAUAAAAFAAAABQAAAAMAAAAGAAAABQAAAAQAAAAFAAAAAwAAAAUAAAAGAAAAAwAAAAYAAAAGAAAABQAAAAUAAAAGAAAABQAAAAQAAAAFAAAABgAAAAQAAAAGAAAABQAAAAUAAAAGAAAAAwAAAAUAAAADAAAABgAAAAMAAAAGAAAABQAAAAYAAAAGAAAAAwAAAAYAAAAFAAAABAAAAAYAAAAGAAAABQAAAAUAAAADAAAAAwAAAAUAAAAGAAAAAwAAAAUAAAAEAAAABQAAAAUAAAAFAAAABQAAAAQAAAAGAAAABAAAAAUAAAAGAAAAAwAAAAMAAAAGAAAAAwAAAAUAAAADAAAAAwAAAAQAAAADAAAAAwAAAAMAAAAGAAAABgAAAAYAAAADAAAABAAAAAYAAAAGAAAABQAAAAQAAAAGAAAABgAAAAUAAAADAAAABQAAAAYAAAAFAAAABgAAAAYAAAAFAAAAAwAAAAMAAAAGAAAABgAAAAUAAAADAAAABQAAAAYAAAADAAAABAAAAAUAAAAGAAAABgAAAAQAAAAFAAAAAwAAAAQAAAADAAAABQAAAAYAAAAFAAAABAAAAAUAAAAGAAAABgAAAAUAAAAGAAAAAwAAAAYAAAADAAAABgAAAAUAAAAFAAAAAwAAAAYAAAAFAAAAAwAAAAUAAAAGAAAAAwAAAAMAAAAGAAAAAwAAAAMAAAAGAAAABQAAAAUAAAAFAAAABAAAAAYAAAAGAAAAAwAAAAUAAAAGAAAAAwAAAAUAAAAGAAAABAAAAAYAAAAGAAAABgAAAAUAAAAEAAAAAwAAAAYAAAAFAAAABgAAAAUAAAAGAAAAAwAAAAYAAAAFAAAABQAAAAMAAAAFAAAAAwAAAAYAAAADAAAABQAAAAUAAAAGAAAABgAAAAYAAAAFAAAABgAAAAMAAAADAAAABgAAAAUAAAAFAAAAAwAAAAUAAAAFAAAAAwAAAAMAAAADAAAABgAAAAUAAAAGAAAABQAAAAYAAAADAAAABgAAAAYAAAAFAAAABgAAAAYAAAADAAAABgAAAAQAAAADAAAAAwAAAAYAAAAEAAAABgAAAAUAAAAFAAAABQAAAAUAAAAGAAAABQAAAAMAAAAFAAAABQAAAAYAAAAFAAAABgAAAAUAAAADAAAABQAAAAMAAAAGAAAAAwAAAAYAAAAFAAAAAwAAAAMAAAAFAAAABgAAAAUAAAAFAAAABQAAAAUAAAAGAAAAAwAAAAYAAAAEAAAABQAAAAMAAAAEAAAABQAAAAMAAAAGAAAABAAAAAMAAAAFAAAABQAAAAUAAAAEAAAABgAAAAUAAAADAAAABQAAAAYAAAAGAAAAAwAAAAUAAAAEAAAABgAAAAYAAAADAAAAAwAAAAMAAAADAAAABgAAAAQAAAAGAAAABgAAAAQAAAAFAAAABQAAAAYAAAADAAAABgAAAAUAAAAGAAAAAwAAAAUAAAAGAAAABQAAAAMAAAAGAAAABQAAAAMAAAADAAAABgAAAAUAAAAGAAAABAAAAAMAAAAGAAAABQAAAAQAAAAGAAAABgAAAAMAAAAGAAAABQAAAAUAAAAGAAAABgAAAAUAAAAGAAAABgAAAAUAAAAGAAAABgAAAAYAAAAGAAAAAwAAAAMAAAAFAAAABQAAAAYAAAAGAAAABQAAAAYAAAAFAAAABQAAAAYAAAAFAAAABgAAAAYAAAAGAAAAAwAAAAUAAAADAAAABQAAAAUAAAAEAAAABQAAAAMAAAAFAAAAAwAAAAQAAAAEAAAABQAAAAYAAAADAAAAAwAAAAYAAAAEAAAABQAAAAQAAAAGAAAABQAAAAYAAAAGAAAAAwAAAAMAAAAFAAAAAwAAAAUAAAAGAAAAAwAAAAQAAAADAAAABAAAAAUAAAAFAAAABQAAAAUAAAADAAAABAAAAAMAAAAEAAAABAAAAAUAAAAFAAAAAwAAAAUAAAAFAAAABgAAAAYAAAADAAAAAwAAAAYAAAADAAAABgAAAAUAAAADAAAABgAAAAYAAAAEAAAABAAAAAMAAAAFAAAABgAAAAUAAAAGAAAABgAAAAMAAAAFAAAABgAAAAMAAAAGAAAABgAAAAUAAAAFAAAABQAAAAYAAAAEAAAABgAAAAUAAAAFAAAABQAAAAYAAAAFAAAABgAAAAMAAAAEAAAABQAAAAYAAAAGAAAABQAAAAYAAAAGAAAABgAAAAUAAAAFAAAABgAAAAUAAAAFAAAABgAAAAMAAAAGAAAAAwAAAAMAAAAFAAAAAwAAAAMAAAAGAAAABgAAAAQAAAAEAAAABgAAAAUAAAAFAAAAAwAAAAUAAAAEAAAAAwAAAAYAAAAGAAAABAAAAAYAAAAGAAAABgAAAAYAAAAFAAAABgAAAAMAAAAGAAAABQAAAAYAAAADAAAABgAAAAMAAAAGAAAAAwAAAAMAAAAFAAAABQAAAAYAAAAGAAAAAwAAAAQAAAAFAAAAAwAAAAYAAAAFAAAAAwAAAAMAAAAEAAAABQAAAAMAAAAFAAAABQAAAAQAAAAGAAAABQAAAAUAAAADAAAABgAAAAUAAAAGAAAABQAAAAMAAAAEAAAABgAAAAUAAAAFAAAABgAAAAUAAAAFAAAABAAAAAUAAAAFAAAAAwAAAAMAAAADAAAABQAAAAYAAAAFAAAABQAAAAMAAAAFAAAABgAAAAMAAAAGAAAABAAAAAYAAAAGAAAABQAAAAYAAAAGAAAABQAAAAMAAAAGAAAABQAAAAUAAAAGAAAAAwAAAAMAAAAFAAAABgAAAAYAAAAEAAAAAwAAAAUAAAAGAAAABAAAAAUAAAAFAAAABgAAAAUAAAAFAAAABQAAAAMAAAAGAAAABAAAAAUAAAAGAAAAAwAAAAMAAAAFAAAABgAAAAYAAAADAAAABAAAAAYAAAADAAAABgAAAAYAAAAFAAAABAAAAAYAAAAGAAAABAAAAAQAAAAGAAAAAwAAAAYAAAAGAAAABQAAAAYAAAADAAAABAAAAAUAAAAFAAAABAAAAAYAAAAGAAAABQAAAAUAAAAGAAAABQAAAAYAAAAGAAAABgAAAAYAAAAFAAAABQAAAAUAAAAEAAAABAAAAAYAAAAEAAAABQAAAAMAAAADAAAAAwAAAAUAAAAGAAAAAwAAAAUAAAADAAAABAAAAAUAAAAFAAAABQAAAAMAAAADAAAABQAAAAUAAAAGAAAAAwAAAAQAAAAEAAAABQAAAAQAAAADAAAABQAAAAMAAAAGAAAABAAAAAUAAAAGAAAABQAAAAMAAAAFAAAAAwAAAAYAAAAFAAAABgAAAAUAAAAGAAAABgAAAAMAAAAFAAAAAwAAAAYAAAAGAAAAAwAAAAQAAAAEAAAABQAAAAYAAAADAAAABAAAAAMAAAAFAAAAAwAAAAQAAAAFAAAABQAAAAUAAAADAAAABAAAAAUAAAAGAAAAAwAAAAUAAAADAAAAAwAAAAUAAAAGAAAABgAAAAMAAAAGAAAABgAAAAYAAAAGAAAABQAAAAYAAAADAAAABgAAAAQAAAAFAAAABgAAAAYAAAADAAAABgAAAAMAAAADAAAABQAAAAUAAAADAAAABQAAAAMAAAAEAAAABQAAAAUAAAAGAAAABQAAAAUAAAAFAAAAAwAAAAUAAAAFAAAAAwAAAAUAAAAGAAAAAwAAAAMAAAAFAAAAAwAAAAYAAAADAAAABQAAAAYAAAADAAAABQAAAAUAAAADAAAABgAAAAUAAAAGAAAABQAAAAMAAAAFAAAABAAAAAMAAAADAAAAAwAAAAMAAAADAAAABQAAAAUAAAAFAAAAAwAAAAUAAAADAAAABgAAAAQAAAAGAAAABgAAAAUAAAADAAAABgAAAAUAAAADAAAABgAAAAYAAAADAAAABQAAAAYAAAAFAAAABgAAAAUAAAAFAAAABQAAAAMAAAAGAAAABgAAAAQAAAAGAAAAAwAAAAYAAAAEAAAABgAAAAMAAAADAAAABQAAAAQAAAAGAAAAAwAAAAMAAAAFAAAABgAAAAYAAAAFAAAAAwAAAAUAAAAFAAAAAwAAAAYAAAAGAAAABgAAAAMAAAAGAAAABQAAAAYAAAADAAAAAwAAAAYAAAAEAAAAAwAAAAUAAAAGAAAABQAAAAYAAAADAAAABgAAAAQAAAADAAAABgAAAAQAAAAGAAAABQAAAAYAAAADAAAABgAAAAYAAAAEAAAABQAAAAMAAAAFAAAABAAAAAMAAAAFAAAABgAAAAYAAAAFAAAAAwAAAAMAAAADAAAABAAAAAQAAAADAAAABgAAAAYAAAADAAAABQAAAAMAAAAFAAAABAAAAAUAAAAFAAAABgAAAAMAAAAFAAAABgAAAAMAAAAFAAAABAAAAAUAAAAGAAAABQAAAAYAAAAFAAAAAwAAAAMAAAADAAAAAwAAAAMAAAAGAAAABQAAAAYAAAADAAAABQAAAAYAAAADAAAABgAAAAMAAAAEAAAAAwAAAAYAAAADAAAAAwAAAAMAAAAFAAAABQAAAAUAAAAGAAAABgAAAAYAAAADAAAABgAAAAYAAAADAAAABQAAAAUAAAADAAAABQAAAAYAAAAFAAAABQAAAAYAAAAFAAAABgAAAAUAAAAGAAAAAwAAAAYAAAAFAAAABQAAAAUAAAADAAAABgAAAAUAAAAGAAAAAwAAAAYAAAAFAAAABQAAAAMAAAADAAAABQAAAAMAAAAFAAAABgAAAAUAAAAEAAAABAAAAAQAAAAGAAAABgAAAAUAAAAGAAAABAAAAAMAAAAEAAAABgAAAAMAAAAFAAAABgAAAAYAAAAFAAAAAwAAAAUAAAAFAAAABQAAAAUAAAAGAAAABQAAAAMAAAADAAAAAwAAAAQAAAADAAAABQAAAAYAAAAGAAAABAAAAAYAAAADAAAABQAAAAUAAAADAAAABgAAAAYAAAADAAAAAwAAAAMAAAAFAAAAAwAAAAQAAAAGAAAAAwAAAAMAAAAGAAAAAwAAAAUAAAAFAAAABQAAAAQAAAAGAAAABgAAAAUAAAAGAAAAAwAAAAYAAAADAAAABgAAAAYAAAADAAAABgAAAAMAAAAFAAAAAwAAAAUAAAAGAAAABQAAAAMAAAAGAAAABgAAAAYAAAADAAAABgAAAAMAAAAFAAAABQAAAAUAAAAEAAAABQAAAAYAAAAFAAAAAwAAAAYAAAADAAAAAwAAAAUAAAAGAAAABQAAAAMAAAADAAAABgAAAAMAAAAGAAAABAAAAAYAAAAGAAAABQAAAAYAAAAGAAAABgAAAAQAAAAFAAAAAwAAAAYAAAAFAAAAAwAAAAQAAAADAAAABgAAAAYAAAAEAAAABQAAAAYAAAADAAAABQAAAAUAAAAGAAAAAwAAAAMAAAAEAAAABgAAAAQAAAAFAAAABgAAAAYAAAADAAAABQAAAAUAAAAFAAAABQAAAAMAAAAGAAAABQAAAAUAAAAFAAAAAwAAAAUAAAAFAAAABQAAAAQAAAAEAAAABgAAAAQAAAAGAAAABQAAAAUAAAAGAAAABQAAAAQAAAAGAAAABQAAAAUAAAADAAAAAwAAAAYAAAAFAAAABgAAAAYAAAAFAAAABQAAAAMAAAAFAAAAAwAAAAYAAAAFAAAABgAAAAYAAAAGAAAABAAAAAUAAAAFAAAABgAAAAMAAAAFAAAABgAAAAUAAAADAAAABQAAAAMAAAAFAAAABQAAAAUAAAAFAAAAAwAAAAYAAAADAAAABAAAAAUAAAAEAAAABAAAAAQAAAAGAAAABQAAAAQAAAAGAAAABQAAAAMAAAAFAAAABQAAAAMAAAADAAAABQAAAAYAAAAFAAAABgAAAAUAAAAEAAAAAwAAAAYAAAADAAAAAwAAAAUAAAAFAAAABgAAAAMAAAAGAAAABgAAAAYAAAADAAAABQAAAAYAAAADAAAABQAAAAYAAAAFAAAABAAAAAUAAAAGAAAABQAAAAMAAAAFAAAAAwAAAAYAAAAEAAAABAAAAAYAAAADAAAABQAAAAYAAAAFAAAABgAAAAMAAAAGAAAABQAAAAUAAAAEAAAABAAAAAQAAAADAAAABQAAAA==",
          "dtype": "i4"
         },
         "xaxis": "x",
         "yaxis": "y"
        }
       ],
       "layout": {
        "barmode": "relative",
        "legend": {
         "tracegroupgap": 0
        },
        "margin": {
         "t": 60
        },
        "template": {
         "data": {
          "bar": [
           {
            "error_x": {
             "color": "#2a3f5f"
            },
            "error_y": {
             "color": "#2a3f5f"
            },
            "marker": {
             "line": {
              "color": "#E5ECF6",
              "width": 0.5
             },
             "pattern": {
              "fillmode": "overlay",
              "size": 10,
              "solidity": 0.2
             }
            },
            "type": "bar"
           }
          ],
          "barpolar": [
           {
            "marker": {
             "line": {
              "color": "#E5ECF6",
              "width": 0.5
             },
             "pattern": {
              "fillmode": "overlay",
              "size": 10,
              "solidity": 0.2
             }
            },
            "type": "barpolar"
           }
          ],
          "carpet": [
           {
            "aaxis": {
             "endlinecolor": "#2a3f5f",
             "gridcolor": "white",
             "linecolor": "white",
             "minorgridcolor": "white",
             "startlinecolor": "#2a3f5f"
            },
            "baxis": {
             "endlinecolor": "#2a3f5f",
             "gridcolor": "white",
             "linecolor": "white",
             "minorgridcolor": "white",
             "startlinecolor": "#2a3f5f"
            },
            "type": "carpet"
           }
          ],
          "choropleth": [
           {
            "colorbar": {
             "outlinewidth": 0,
             "ticks": ""
            },
            "type": "choropleth"
           }
          ],
          "contour": [
           {
            "colorbar": {
             "outlinewidth": 0,
             "ticks": ""
            },
            "colorscale": [
             [
              0,
              "#0d0887"
             ],
             [
              0.1111111111111111,
              "#46039f"
             ],
             [
              0.2222222222222222,
              "#7201a8"
             ],
             [
              0.3333333333333333,
              "#9c179e"
             ],
             [
              0.4444444444444444,
              "#bd3786"
             ],
             [
              0.5555555555555556,
              "#d8576b"
             ],
             [
              0.6666666666666666,
              "#ed7953"
             ],
             [
              0.7777777777777778,
              "#fb9f3a"
             ],
             [
              0.8888888888888888,
              "#fdca26"
             ],
             [
              1,
              "#f0f921"
             ]
            ],
            "type": "contour"
           }
          ],
          "contourcarpet": [
           {
            "colorbar": {
             "outlinewidth": 0,
             "ticks": ""
            },
            "type": "contourcarpet"
           }
          ],
          "heatmap": [
           {
            "colorbar": {
             "outlinewidth": 0,
             "ticks": ""
            },
            "colorscale": [
             [
              0,
              "#0d0887"
             ],
             [
              0.1111111111111111,
              "#46039f"
             ],
             [
              0.2222222222222222,
              "#7201a8"
             ],
             [
              0.3333333333333333,
              "#9c179e"
             ],
             [
              0.4444444444444444,
              "#bd3786"
             ],
             [
              0.5555555555555556,
              "#d8576b"
             ],
             [
              0.6666666666666666,
              "#ed7953"
             ],
             [
              0.7777777777777778,
              "#fb9f3a"
             ],
             [
              0.8888888888888888,
              "#fdca26"
             ],
             [
              1,
              "#f0f921"
             ]
            ],
            "type": "heatmap"
           }
          ],
          "histogram": [
           {
            "marker": {
             "pattern": {
              "fillmode": "overlay",
              "size": 10,
              "solidity": 0.2
             }
            },
            "type": "histogram"
           }
          ],
          "histogram2d": [
           {
            "colorbar": {
             "outlinewidth": 0,
             "ticks": ""
            },
            "colorscale": [
             [
              0,
              "#0d0887"
             ],
             [
              0.1111111111111111,
              "#46039f"
             ],
             [
              0.2222222222222222,
              "#7201a8"
             ],
             [
              0.3333333333333333,
              "#9c179e"
             ],
             [
              0.4444444444444444,
              "#bd3786"
             ],
             [
              0.5555555555555556,
              "#d8576b"
             ],
             [
              0.6666666666666666,
              "#ed7953"
             ],
             [
              0.7777777777777778,
              "#fb9f3a"
             ],
             [
              0.8888888888888888,
              "#fdca26"
             ],
             [
              1,
              "#f0f921"
             ]
            ],
            "type": "histogram2d"
           }
          ],
          "histogram2dcontour": [
           {
            "colorbar": {
             "outlinewidth": 0,
             "ticks": ""
            },
            "colorscale": [
             [
              0,
              "#0d0887"
             ],
             [
              0.1111111111111111,
              "#46039f"
             ],
             [
              0.2222222222222222,
              "#7201a8"
             ],
             [
              0.3333333333333333,
              "#9c179e"
             ],
             [
              0.4444444444444444,
              "#bd3786"
             ],
             [
              0.5555555555555556,
              "#d8576b"
             ],
             [
              0.6666666666666666,
              "#ed7953"
             ],
             [
              0.7777777777777778,
              "#fb9f3a"
             ],
             [
              0.8888888888888888,
              "#fdca26"
             ],
             [
              1,
              "#f0f921"
             ]
            ],
            "type": "histogram2dcontour"
           }
          ],
          "mesh3d": [
           {
            "colorbar": {
             "outlinewidth": 0,
             "ticks": ""
            },
            "type": "mesh3d"
           }
          ],
          "parcoords": [
           {
            "line": {
             "colorbar": {
              "outlinewidth": 0,
              "ticks": ""
             }
            },
            "type": "parcoords"
           }
          ],
          "pie": [
           {
            "automargin": true,
            "type": "pie"
           }
          ],
          "scatter": [
           {
            "fillpattern": {
             "fillmode": "overlay",
             "size": 10,
             "solidity": 0.2
            },
            "type": "scatter"
           }
          ],
          "scatter3d": [
           {
            "line": {
             "colorbar": {
              "outlinewidth": 0,
              "ticks": ""
             }
            },
            "marker": {
             "colorbar": {
              "outlinewidth": 0,
              "ticks": ""
             }
            },
            "type": "scatter3d"
           }
          ],
          "scattercarpet": [
           {
            "marker": {
             "colorbar": {
              "outlinewidth": 0,
              "ticks": ""
             }
            },
            "type": "scattercarpet"
           }
          ],
          "scattergeo": [
           {
            "marker": {
             "colorbar": {
              "outlinewidth": 0,
              "ticks": ""
             }
            },
            "type": "scattergeo"
           }
          ],
          "scattergl": [
           {
            "marker": {
             "colorbar": {
              "outlinewidth": 0,
              "ticks": ""
             }
            },
            "type": "scattergl"
           }
          ],
          "scattermap": [
           {
            "marker": {
             "colorbar": {
              "outlinewidth": 0,
              "ticks": ""
             }
            },
            "type": "scattermap"
           }
          ],
          "scattermapbox": [
           {
            "marker": {
             "colorbar": {
              "outlinewidth": 0,
              "ticks": ""
             }
            },
            "type": "scattermapbox"
           }
          ],
          "scatterpolar": [
           {
            "marker": {
             "colorbar": {
              "outlinewidth": 0,
              "ticks": ""
             }
            },
            "type": "scatterpolar"
           }
          ],
          "scatterpolargl": [
           {
            "marker": {
             "colorbar": {
              "outlinewidth": 0,
              "ticks": ""
             }
            },
            "type": "scatterpolargl"
           }
          ],
          "scatterternary": [
           {
            "marker": {
             "colorbar": {
              "outlinewidth": 0,
              "ticks": ""
             }
            },
            "type": "scatterternary"
           }
          ],
          "surface": [
           {
            "colorbar": {
             "outlinewidth": 0,
             "ticks": ""
            },
            "colorscale": [
             [
              0,
              "#0d0887"
             ],
             [
              0.1111111111111111,
              "#46039f"
             ],
             [
              0.2222222222222222,
              "#7201a8"
             ],
             [
              0.3333333333333333,
              "#9c179e"
             ],
             [
              0.4444444444444444,
              "#bd3786"
             ],
             [
              0.5555555555555556,
              "#d8576b"
             ],
             [
              0.6666666666666666,
              "#ed7953"
             ],
             [
              0.7777777777777778,
              "#fb9f3a"
             ],
             [
              0.8888888888888888,
              "#fdca26"
             ],
             [
              1,
              "#f0f921"
             ]
            ],
            "type": "surface"
           }
          ],
          "table": [
           {
            "cells": {
             "fill": {
              "color": "#EBF0F8"
             },
             "line": {
              "color": "white"
             }
            },
            "header": {
             "fill": {
              "color": "#C8D4E3"
             },
             "line": {
              "color": "white"
             }
            },
            "type": "table"
           }
          ]
         },
         "layout": {
          "annotationdefaults": {
           "arrowcolor": "#2a3f5f",
           "arrowhead": 0,
           "arrowwidth": 1
          },
          "autotypenumbers": "strict",
          "coloraxis": {
           "colorbar": {
            "outlinewidth": 0,
            "ticks": ""
           }
          },
          "colorscale": {
           "diverging": [
            [
             0,
             "#8e0152"
            ],
            [
             0.1,
             "#c51b7d"
            ],
            [
             0.2,
             "#de77ae"
            ],
            [
             0.3,
             "#f1b6da"
            ],
            [
             0.4,
             "#fde0ef"
            ],
            [
             0.5,
             "#f7f7f7"
            ],
            [
             0.6,
             "#e6f5d0"
            ],
            [
             0.7,
             "#b8e186"
            ],
            [
             0.8,
             "#7fbc41"
            ],
            [
             0.9,
             "#4d9221"
            ],
            [
             1,
             "#276419"
            ]
           ],
           "sequential": [
            [
             0,
             "#0d0887"
            ],
            [
             0.1111111111111111,
             "#46039f"
            ],
            [
             0.2222222222222222,
             "#7201a8"
            ],
            [
             0.3333333333333333,
             "#9c179e"
            ],
            [
             0.4444444444444444,
             "#bd3786"
            ],
            [
             0.5555555555555556,
             "#d8576b"
            ],
            [
             0.6666666666666666,
             "#ed7953"
            ],
            [
             0.7777777777777778,
             "#fb9f3a"
            ],
            [
             0.8888888888888888,
             "#fdca26"
            ],
            [
             1,
             "#f0f921"
            ]
           ],
           "sequentialminus": [
            [
             0,
             "#0d0887"
            ],
            [
             0.1111111111111111,
             "#46039f"
            ],
            [
             0.2222222222222222,
             "#7201a8"
            ],
            [
             0.3333333333333333,
             "#9c179e"
            ],
            [
             0.4444444444444444,
             "#bd3786"
            ],
            [
             0.5555555555555556,
             "#d8576b"
            ],
            [
             0.6666666666666666,
             "#ed7953"
            ],
            [
             0.7777777777777778,
             "#fb9f3a"
            ],
            [
             0.8888888888888888,
             "#fdca26"
            ],
            [
             1,
             "#f0f921"
            ]
           ]
          },
          "colorway": [
           "#636efa",
           "#EF553B",
           "#00cc96",
           "#ab63fa",
           "#FFA15A",
           "#19d3f3",
           "#FF6692",
           "#B6E880",
           "#FF97FF",
           "#FECB52"
          ],
          "font": {
           "color": "#2a3f5f"
          },
          "geo": {
           "bgcolor": "white",
           "lakecolor": "white",
           "landcolor": "#E5ECF6",
           "showlakes": true,
           "showland": true,
           "subunitcolor": "white"
          },
          "hoverlabel": {
           "align": "left"
          },
          "hovermode": "closest",
          "mapbox": {
           "style": "light"
          },
          "paper_bgcolor": "white",
          "plot_bgcolor": "#E5ECF6",
          "polar": {
           "angularaxis": {
            "gridcolor": "white",
            "linecolor": "white",
            "ticks": ""
           },
           "bgcolor": "#E5ECF6",
           "radialaxis": {
            "gridcolor": "white",
            "linecolor": "white",
            "ticks": ""
           }
          },
          "scene": {
           "xaxis": {
            "backgroundcolor": "#E5ECF6",
            "gridcolor": "white",
            "gridwidth": 2,
            "linecolor": "white",
            "showbackground": true,
            "ticks": "",
            "zerolinecolor": "white"
           },
           "yaxis": {
            "backgroundcolor": "#E5ECF6",
            "gridcolor": "white",
            "gridwidth": 2,
            "linecolor": "white",
            "showbackground": true,
            "ticks": "",
            "zerolinecolor": "white"
           },
           "zaxis": {
            "backgroundcolor": "#E5ECF6",
            "gridcolor": "white",
            "gridwidth": 2,
            "linecolor": "white",
            "showbackground": true,
            "ticks": "",
            "zerolinecolor": "white"
           }
          },
          "shapedefaults": {
           "line": {
            "color": "#2a3f5f"
           }
          },
          "ternary": {
           "aaxis": {
            "gridcolor": "white",
            "linecolor": "white",
            "ticks": ""
           },
           "baxis": {
            "gridcolor": "white",
            "linecolor": "white",
            "ticks": ""
           },
           "bgcolor": "#E5ECF6",
           "caxis": {
            "gridcolor": "white",
            "linecolor": "white",
            "ticks": ""
           }
          },
          "title": {
           "x": 0.05
          },
          "xaxis": {
           "automargin": true,
           "gridcolor": "white",
           "linecolor": "white",
           "ticks": "",
           "title": {
            "standoff": 15
           },
           "zerolinecolor": "white",
           "zerolinewidth": 2
          },
          "yaxis": {
           "automargin": true,
           "gridcolor": "white",
           "linecolor": "white",
           "ticks": "",
           "title": {
            "standoff": 15
           },
           "zerolinecolor": "white",
           "zerolinewidth": 2
          }
         }
        },
        "xaxis": {
         "anchor": "y",
         "domain": [
          0,
          1
         ],
         "title": {
          "text": "Journey_Month"
         }
        },
        "yaxis": {
         "anchor": "x",
         "domain": [
          0,
          1
         ],
         "title": {
          "text": "count"
         }
        }
       }
      }
     },
     "metadata": {},
     "output_type": "display_data"
    },
    {
     "data": {
      "application/vnd.plotly.v1+json": {
       "config": {
        "plotlyServerURL": "https://plot.ly"
       },
       "data": [
        {
         "bingroup": "x",
         "hovertemplate": "Journey_Year=%{x}<br>count=%{y}<extra></extra>",
         "legendgroup": "",
         "marker": {
          "color": "#636efa",
          "pattern": {
           "shape": ""
          }
         },
         "name": "",
         "orientation": "v",
         "showlegend": false,
         "type": "histogram",
         "x": {
          "bdata": "4wcAAOMHAADjBwAA4wcAAOMHAADjBwAA4wcAAOMHAADjBwAA4wcAAOMHAADjBwAA4wcAAOMHAADjBwAA4wcAAOMHAADjBwAA4wcAAOMHAADjBwAA4wcAAOMHAADjBwAA4wcAAOMHAADjBwAA4wcAAOMHAADjBwAA4wcAAOMHAADjBwAA4wcAAOMHAADjBwAA4wcAAOMHAADjBwAA4wcAAOMHAADjBwAA4wcAAOMHAADjBwAA4wcAAOMHAADjBwAA4wcAAOMHAADjBwAA4wcAAOMHAADjBwAA4wcAAOMHAADjBwAA4wcAAOMHAADjBwAA4wcAAOMHAADjBwAA4wcAAOMHAADjBwAA4wcAAOMHAADjBwAA4wcAAOMHAADjBwAA4wcAAOMHAADjBwAA4wcAAOMHAADjBwAA4wcAAOMHAADjBwAA4wcAAOMHAADjBwAA4wcAAOMHAADjBwAA4wcAAOMHAADjBwAA4wcAAOMHAADjBwAA4wcAAOMHAADjBwAA4wcAAOMHAADjBwAA4wcAAOMHAADjBwAA4wcAAOMHAADjBwAA4wcAAOMHAADjBwAA4wcAAOMHAADjBwAA4wcAAOMHAADjBwAA4wcAAOMHAADjBwAA4wcAAOMHAADjBwAA4wcAAOMHAADjBwAA4wcAAOMHAADjBwAA4wcAAOMHAADjBwAA4wcAAOMHAADjBwAA4wcAAOMHAADjBwAA4wcAAOMHAADjBwAA4wcAAOMHAADjBwAA4wcAAOMHAADjBwAA4wcAAOMHAADjBwAA4wcAAOMHAADjBwAA4wcAAOMHAADjBwAA4wcAAOMHAADjBwAA4wcAAOMHAADjBwAA4wcAAOMHAADjBwAA4wcAAOMHAADjBwAA4wcAAOMHAADjBwAA4wcAAOMHAADjBwAA4wcAAOMHAADjBwAA4wcAAOMHAADjBwAA4wcAAOMHAADjBwAA4wcAAOMHAADjBwAA4wcAAOMHAADjBwAA4wcAAOMHAADjBwAA4wcAAOMHAADjBwAA4wcAAOMHAADjBwAA4wcAAOMHAADjBwAA4wcAAOMHAADjBwAA4wcAAOMHAADjBwAA4wcAAOMHAADjBwAA4wcAAOMHAADjBwAA4wcAAOMHAADjBwAA4wcAAOMHAADjBwAA4wcAAOMHAADjBwAA4wcAAOMHAADjBwAA4wcAAOMHAADjBwAA4wcAAOMHAADjBwAA4wcAAOMHAADjBwAA4wcAAOMHAADjBwAA4wcAAOMHAADjBwAA4wcAAOMHAADjBwAA4wcAAOMHAADjBwAA4wcAAOMHAADjBwAA4wcAAOMHAADjBwAA4wcAAOMHAADjBwAA4wcAAOMHAADjBwAA4wcAAOMHAADjBwAA4wcAAOMHAADjBwAA4wcAAOMHAADjBwAA4wcAAOMHAADjBwAA4wcAAOMHAADjBwAA4wcAAOMHAADjBwAA4wcAAOMHAADjBwAA4wcAAOMHAADjBwAA4wcAAOMHAADjBwAA4wcAAOMHAADjBwAA4wcAAOMHAADjBwAA4wcAAOMHAADjBwAA4wcAAOMHAADjBwAA4wcAAOMHAADjBwAA4wcAAOMHAADjBwAA4wcAAOMHAADjBwAA4wcAAOMHAADjBwAA4wcAAOMHAADjBwAA4wcAAOMHAADjBwAA4wcAAOMHAADjBwAA4wcAAOMHAADjBwAA4wcAAOMHAADjBwAA4wcAAOMHAADjBwAA4wcAAOMHAADjBwAA4wcAAOMHAADjBwAA4wcAAOMHAADjBwAA4wcAAOMHAADjBwAA4wcAAOMHAADjBwAA4wcAAOMHAADjBwAA4wcAAOMHAADjBwAA4wcAAOMHAADjBwAA4wcAAOMHAADjBwAA4wcAAOMHAADjBwAA4wcAAOMHAADjBwAA4wcAAOMHAADjBwAA4wcAAOMHAADjBwAA4wcAAOMHAADjBwAA4wcAAOMHAADjBwAA4wcAAOMHAADjBwAA4wcAAOMHAADjBwAA4wcAAOMHAADjBwAA4wcAAOMHAADjBwAA4wcAAOMHAADjBwAA4wcAAOMHAADjBwAA4wcAAOMHAADjBwAA4wcAAOMHAADjBwAA4wcAAOMHAADjBwAA4wcAAOMHAADjBwAA4wcAAOMHAADjBwAA4wcAAOMHAADjBwAA4wcAAOMHAADjBwAA4wcAAOMHAADjBwAA4wcAAOMHAADjBwAA4wcAAOMHAADjBwAA4wcAAOMHAADjBwAA4wcAAOMHAADjBwAA4wcAAOMHAADjBwAA4wcAAOMHAADjBwAA4wcAAOMHAADjBwAA4wcAAOMHAADjBwAA4wcAAOMHAADjBwAA4wcAAOMHAADjBwAA4wcAAOMHAADjBwAA4wcAAOMHAADjBwAA4wcAAOMHAADjBwAA4wcAAOMHAADjBwAA4wcAAOMHAADjBwAA4wcAAOMHAADjBwAA4wcAAOMHAADjBwAA4wcAAOMHAADjBwAA4wcAAOMHAADjBwAA4wcAAOMHAADjBwAA4wcAAOMHAADjBwAA4wcAAOMHAADjBwAA4wcAAOMHAADjBwAA4wcAAOMHAADjBwAA4wcAAOMHAADjBwAA4wcAAOMHAADjBwAA4wcAAOMHAADjBwAA4wcAAOMHAADjBwAA4wcAAOMHAADjBwAA4wcAAOMHAADjBwAA4wcAAOMHAADjBwAA4wcAAOMHAADjBwAA4wcAAOMHAADjBwAA4wcAAOMHAADjBwAA4wcAAOMHAADjBwAA4wcAAOMHAADjBwAA4wcAAOMHAADjBwAA4wcAAOMHAADjBwAA4wcAAOMHAADjBwAA4wcAAOMHAADjBwAA4wcAAOMHAADjBwAA4wcAAOMHAADjBwAA4wcAAOMHAADjBwAA4wcAAOMHAADjBwAA4wcAAOMHAADjBwAA4wcAAOMHAADjBwAA4wcAAOMHAADjBwAA4wcAAOMHAADjBwAA4wcAAOMHAADjBwAA4wcAAOMHAADjBwAA4wcAAOMHAADjBwAA4wcAAOMHAADjBwAA4wcAAOMHAADjBwAA4wcAAOMHAADjBwAA4wcAAOMHAADjBwAA4wcAAOMHAADjBwAA4wcAAOMHAADjBwAA4wcAAOMHAADjBwAA4wcAAOMHAADjBwAA4wcAAOMHAADjBwAA4wcAAOMHAADjBwAA4wcAAOMHAADjBwAA4wcAAOMHAADjBwAA4wcAAOMHAADjBwAA4wcAAOMHAADjBwAA4wcAAOMHAADjBwAA4wcAAOMHAADjBwAA4wcAAOMHAADjBwAA4wcAAOMHAADjBwAA4wcAAOMHAADjBwAA4wcAAOMHAADjBwAA4wcAAOMHAADjBwAA4wcAAOMHAADjBwAA4wcAAOMHAADjBwAA4wcAAOMHAADjBwAA4wcAAOMHAADjBwAA4wcAAOMHAADjBwAA4wcAAOMHAADjBwAA4wcAAOMHAADjBwAA4wcAAOMHAADjBwAA4wcAAOMHAADjBwAA4wcAAOMHAADjBwAA4wcAAOMHAADjBwAA4wcAAOMHAADjBwAA4wcAAOMHAADjBwAA4wcAAOMHAADjBwAA4wcAAOMHAADjBwAA4wcAAOMHAADjBwAA4wcAAOMHAADjBwAA4wcAAOMHAADjBwAA4wcAAOMHAADjBwAA4wcAAOMHAADjBwAA4wcAAOMHAADjBwAA4wcAAOMHAADjBwAA4wcAAOMHAADjBwAA4wcAAOMHAADjBwAA4wcAAOMHAADjBwAA4wcAAOMHAADjBwAA4wcAAOMHAADjBwAA4wcAAOMHAADjBwAA4wcAAOMHAADjBwAA4wcAAOMHAADjBwAA4wcAAOMHAADjBwAA4wcAAOMHAADjBwAA4wcAAOMHAADjBwAA4wcAAOMHAADjBwAA4wcAAOMHAADjBwAA4wcAAOMHAADjBwAA4wcAAOMHAADjBwAA4wcAAOMHAADjBwAA4wcAAOMHAADjBwAA4wcAAOMHAADjBwAA4wcAAOMHAADjBwAA4wcAAOMHAADjBwAA4wcAAOMHAADjBwAA4wcAAOMHAADjBwAA4wcAAOMHAADjBwAA4wcAAOMHAADjBwAA4wcAAOMHAADjBwAA4wcAAOMHAADjBwAA4wcAAOMHAADjBwAA4wcAAOMHAADjBwAA4wcAAOMHAADjBwAA4wcAAOMHAADjBwAA4wcAAOMHAADjBwAA4wcAAOMHAADjBwAA4wcAAOMHAADjBwAA4wcAAOMHAADjBwAA4wcAAOMHAADjBwAA4wcAAOMHAADjBwAA4wcAAOMHAADjBwAA4wcAAOMHAADjBwAA4wcAAOMHAADjBwAA4wcAAOMHAADjBwAA4wcAAOMHAADjBwAA4wcAAOMHAADjBwAA4wcAAOMHAADjBwAA4wcAAOMHAADjBwAA4wcAAOMHAADjBwAA4wcAAOMHAADjBwAA4wcAAOMHAADjBwAA4wcAAOMHAADjBwAA4wcAAOMHAADjBwAA4wcAAOMHAADjBwAA4wcAAOMHAADjBwAA4wcAAOMHAADjBwAA4wcAAOMHAADjBwAA4wcAAOMHAADjBwAA4wcAAOMHAADjBwAA4wcAAOMHAADjBwAA4wcAAOMHAADjBwAA4wcAAOMHAADjBwAA4wcAAOMHAADjBwAA4wcAAOMHAADjBwAA4wcAAOMHAADjBwAA4wcAAOMHAADjBwAA4wcAAOMHAADjBwAA4wcAAOMHAADjBwAA4wcAAOMHAADjBwAA4wcAAOMHAADjBwAA4wcAAOMHAADjBwAA4wcAAOMHAADjBwAA4wcAAOMHAADjBwAA4wcAAOMHAADjBwAA4wcAAOMHAADjBwAA4wcAAOMHAADjBwAA4wcAAOMHAADjBwAA4wcAAOMHAADjBwAA4wcAAOMHAADjBwAA4wcAAOMHAADjBwAA4wcAAOMHAADjBwAA4wcAAOMHAADjBwAA4wcAAOMHAADjBwAA4wcAAOMHAADjBwAA4wcAAOMHAADjBwAA4wcAAOMHAADjBwAA4wcAAOMHAADjBwAA4wcAAOMHAADjBwAA4wcAAOMHAADjBwAA4wcAAOMHAADjBwAA4wcAAOMHAADjBwAA4wcAAOMHAADjBwAA4wcAAOMHAADjBwAA4wcAAOMHAADjBwAA4wcAAOMHAADjBwAA4wcAAOMHAADjBwAA4wcAAOMHAADjBwAA4wcAAOMHAADjBwAA4wcAAOMHAADjBwAA4wcAAOMHAADjBwAA4wcAAOMHAADjBwAA4wcAAOMHAADjBwAA4wcAAOMHAADjBwAA4wcAAOMHAADjBwAA4wcAAOMHAADjBwAA4wcAAOMHAADjBwAA4wcAAOMHAADjBwAA4wcAAOMHAADjBwAA4wcAAOMHAADjBwAA4wcAAOMHAADjBwAA4wcAAOMHAADjBwAA4wcAAOMHAADjBwAA4wcAAOMHAADjBwAA4wcAAOMHAADjBwAA4wcAAOMHAADjBwAA4wcAAOMHAADjBwAA4wcAAOMHAADjBwAA4wcAAOMHAADjBwAA4wcAAOMHAADjBwAA4wcAAOMHAADjBwAA4wcAAOMHAADjBwAA4wcAAOMHAADjBwAA4wcAAOMHAADjBwAA4wcAAOMHAADjBwAA4wcAAOMHAADjBwAA4wcAAOMHAADjBwAA4wcAAOMHAADjBwAA4wcAAOMHAADjBwAA4wcAAOMHAADjBwAA4wcAAOMHAADjBwAA4wcAAOMHAADjBwAA4wcAAOMHAADjBwAA4wcAAOMHAADjBwAA4wcAAOMHAADjBwAA4wcAAOMHAADjBwAA4wcAAOMHAADjBwAA4wcAAOMHAADjBwAA4wcAAOMHAADjBwAA4wcAAOMHAADjBwAA4wcAAOMHAADjBwAA4wcAAOMHAADjBwAA4wcAAOMHAADjBwAA4wcAAOMHAADjBwAA4wcAAOMHAADjBwAA4wcAAOMHAADjBwAA4wcAAOMHAADjBwAA4wcAAOMHAADjBwAA4wcAAOMHAADjBwAA4wcAAOMHAADjBwAA4wcAAOMHAADjBwAA4wcAAOMHAADjBwAA4wcAAOMHAADjBwAA4wcAAOMHAADjBwAA4wcAAOMHAADjBwAA4wcAAOMHAADjBwAA4wcAAOMHAADjBwAA4wcAAOMHAADjBwAA4wcAAOMHAADjBwAA4wcAAOMHAADjBwAA4wcAAOMHAADjBwAA4wcAAOMHAADjBwAA4wcAAOMHAADjBwAA4wcAAOMHAADjBwAA4wcAAOMHAADjBwAA4wcAAOMHAADjBwAA4wcAAOMHAADjBwAA4wcAAOMHAADjBwAA4wcAAOMHAADjBwAA4wcAAOMHAADjBwAA4wcAAOMHAADjBwAA4wcAAOMHAADjBwAA4wcAAOMHAADjBwAA4wcAAOMHAADjBwAA4wcAAOMHAADjBwAA4wcAAOMHAADjBwAA4wcAAOMHAADjBwAA4wcAAOMHAADjBwAA4wcAAOMHAADjBwAA4wcAAOMHAADjBwAA4wcAAOMHAADjBwAA4wcAAOMHAADjBwAA4wcAAOMHAADjBwAA4wcAAOMHAADjBwAA4wcAAOMHAADjBwAA4wcAAOMHAADjBwAA4wcAAOMHAADjBwAA4wcAAOMHAADjBwAA4wcAAOMHAADjBwAA4wcAAOMHAADjBwAA4wcAAOMHAADjBwAA4wcAAOMHAADjBwAA4wcAAOMHAADjBwAA4wcAAOMHAADjBwAA4wcAAOMHAADjBwAA4wcAAOMHAADjBwAA4wcAAOMHAADjBwAA4wcAAOMHAADjBwAA4wcAAOMHAADjBwAA4wcAAOMHAADjBwAA4wcAAOMHAADjBwAA4wcAAOMHAADjBwAA4wcAAOMHAADjBwAA4wcAAOMHAADjBwAA4wcAAOMHAADjBwAA4wcAAOMHAADjBwAA4wcAAOMHAADjBwAA4wcAAOMHAADjBwAA4wcAAOMHAADjBwAA4wcAAOMHAADjBwAA4wcAAOMHAADjBwAA4wcAAOMHAADjBwAA4wcAAOMHAADjBwAA4wcAAOMHAADjBwAA4wcAAOMHAADjBwAA4wcAAOMHAADjBwAA4wcAAOMHAADjBwAA4wcAAOMHAADjBwAA4wcAAOMHAADjBwAA4wcAAOMHAADjBwAA4wcAAOMHAADjBwAA4wcAAOMHAADjBwAA4wcAAOMHAADjBwAA4wcAAOMHAADjBwAA4wcAAOMHAADjBwAA4wcAAOMHAADjBwAA4wcAAOMHAADjBwAA4wcAAOMHAADjBwAA4wcAAOMHAADjBwAA4wcAAOMHAADjBwAA4wcAAOMHAADjBwAA4wcAAOMHAADjBwAA4wcAAOMHAADjBwAA4wcAAOMHAADjBwAA4wcAAOMHAADjBwAA4wcAAOMHAADjBwAA4wcAAOMHAADjBwAA4wcAAOMHAADjBwAA4wcAAOMHAADjBwAA4wcAAOMHAADjBwAA4wcAAOMHAADjBwAA4wcAAOMHAADjBwAA4wcAAOMHAADjBwAA4wcAAOMHAADjBwAA4wcAAOMHAADjBwAA4wcAAOMHAADjBwAA4wcAAOMHAADjBwAA4wcAAOMHAADjBwAA4wcAAOMHAADjBwAA4wcAAOMHAADjBwAA4wcAAOMHAADjBwAA4wcAAOMHAADjBwAA4wcAAOMHAADjBwAA4wcAAOMHAADjBwAA4wcAAOMHAADjBwAA4wcAAOMHAADjBwAA4wcAAOMHAADjBwAA4wcAAOMHAADjBwAA4wcAAOMHAADjBwAA4wcAAOMHAADjBwAA4wcAAOMHAADjBwAA4wcAAOMHAADjBwAA4wcAAOMHAADjBwAA4wcAAOMHAADjBwAA4wcAAOMHAADjBwAA4wcAAOMHAADjBwAA4wcAAOMHAADjBwAA4wcAAOMHAADjBwAA4wcAAOMHAADjBwAA4wcAAOMHAADjBwAA4wcAAOMHAADjBwAA4wcAAOMHAADjBwAA4wcAAOMHAADjBwAA4wcAAOMHAADjBwAA4wcAAOMHAADjBwAA4wcAAOMHAADjBwAA4wcAAOMHAADjBwAA4wcAAOMHAADjBwAA4wcAAOMHAADjBwAA4wcAAOMHAADjBwAA4wcAAOMHAADjBwAA4wcAAOMHAADjBwAA4wcAAOMHAADjBwAA4wcAAOMHAADjBwAA4wcAAOMHAADjBwAA4wcAAOMHAADjBwAA4wcAAOMHAADjBwAA4wcAAOMHAADjBwAA4wcAAOMHAADjBwAA4wcAAOMHAADjBwAA4wcAAOMHAADjBwAA4wcAAOMHAADjBwAA4wcAAOMHAADjBwAA4wcAAOMHAADjBwAA4wcAAOMHAADjBwAA4wcAAOMHAADjBwAA4wcAAOMHAADjBwAA4wcAAOMHAADjBwAA4wcAAOMHAADjBwAA4wcAAOMHAADjBwAA4wcAAOMHAADjBwAA4wcAAOMHAADjBwAA4wcAAOMHAADjBwAA4wcAAOMHAADjBwAA4wcAAOMHAADjBwAA4wcAAOMHAADjBwAA4wcAAOMHAADjBwAA4wcAAOMHAADjBwAA4wcAAOMHAADjBwAA4wcAAOMHAADjBwAA4wcAAOMHAADjBwAA4wcAAOMHAADjBwAA4wcAAOMHAADjBwAA4wcAAOMHAADjBwAA4wcAAOMHAADjBwAA4wcAAOMHAADjBwAA4wcAAOMHAADjBwAA4wcAAOMHAADjBwAA4wcAAOMHAADjBwAA4wcAAOMHAADjBwAA4wcAAOMHAADjBwAA4wcAAOMHAADjBwAA4wcAAOMHAADjBwAA4wcAAOMHAADjBwAA4wcAAOMHAADjBwAA4wcAAOMHAADjBwAA4wcAAOMHAADjBwAA4wcAAOMHAADjBwAA4wcAAOMHAADjBwAA4wcAAOMHAADjBwAA4wcAAOMHAADjBwAA4wcAAOMHAADjBwAA4wcAAOMHAADjBwAA4wcAAOMHAADjBwAA4wcAAOMHAADjBwAA4wcAAOMHAADjBwAA4wcAAOMHAADjBwAA4wcAAOMHAADjBwAA4wcAAOMHAADjBwAA4wcAAOMHAADjBwAA4wcAAOMHAADjBwAA4wcAAOMHAADjBwAA4wcAAOMHAADjBwAA4wcAAOMHAADjBwAA4wcAAOMHAADjBwAA4wcAAOMHAADjBwAA4wcAAOMHAADjBwAA4wcAAOMHAADjBwAA4wcAAOMHAADjBwAA4wcAAOMHAADjBwAA4wcAAOMHAADjBwAA4wcAAOMHAADjBwAA4wcAAOMHAADjBwAA4wcAAOMHAADjBwAA4wcAAOMHAADjBwAA4wcAAOMHAADjBwAA4wcAAOMHAADjBwAA4wcAAOMHAADjBwAA4wcAAOMHAADjBwAA4wcAAOMHAADjBwAA4wcAAOMHAADjBwAA4wcAAOMHAADjBwAA4wcAAOMHAADjBwAA4wcAAOMHAADjBwAA4wcAAOMHAADjBwAA4wcAAOMHAADjBwAA4wcAAOMHAADjBwAA4wcAAOMHAADjBwAA4wcAAOMHAADjBwAA4wcAAOMHAADjBwAA4wcAAOMHAADjBwAA4wcAAOMHAADjBwAA4wcAAOMHAADjBwAA4wcAAOMHAADjBwAA4wcAAOMHAADjBwAA4wcAAOMHAADjBwAA4wcAAOMHAADjBwAA4wcAAOMHAADjBwAA4wcAAOMHAADjBwAA4wcAAOMHAADjBwAA4wcAAOMHAADjBwAA4wcAAOMHAADjBwAA4wcAAOMHAADjBwAA4wcAAOMHAADjBwAA4wcAAOMHAADjBwAA4wcAAOMHAADjBwAA4wcAAOMHAADjBwAA4wcAAOMHAADjBwAA4wcAAOMHAADjBwAA4wcAAOMHAADjBwAA4wcAAOMHAADjBwAA4wcAAOMHAADjBwAA4wcAAOMHAADjBwAA4wcAAOMHAADjBwAA4wcAAOMHAADjBwAA4wcAAOMHAADjBwAA4wcAAOMHAADjBwAA4wcAAOMHAADjBwAA4wcAAOMHAADjBwAA4wcAAOMHAADjBwAA4wcAAOMHAADjBwAA4wcAAOMHAADjBwAA4wcAAOMHAADjBwAA4wcAAOMHAADjBwAA4wcAAOMHAADjBwAA4wcAAOMHAADjBwAA4wcAAOMHAADjBwAA4wcAAOMHAADjBwAA4wcAAOMHAADjBwAA4wcAAOMHAADjBwAA4wcAAOMHAADjBwAA4wcAAOMHAADjBwAA4wcAAOMHAADjBwAA4wcAAOMHAADjBwAA4wcAAOMHAADjBwAA4wcAAOMHAADjBwAA4wcAAOMHAADjBwAA4wcAAOMHAADjBwAA4wcAAOMHAADjBwAA4wcAAOMHAADjBwAA4wcAAOMHAADjBwAA4wcAAOMHAADjBwAA4wcAAOMHAADjBwAA4wcAAOMHAADjBwAA4wcAAOMHAADjBwAA4wcAAOMHAADjBwAA4wcAAOMHAADjBwAA4wcAAOMHAADjBwAA4wcAAOMHAADjBwAA4wcAAOMHAADjBwAA4wcAAOMHAADjBwAA4wcAAOMHAADjBwAA4wcAAOMHAADjBwAA4wcAAOMHAADjBwAA4wcAAOMHAADjBwAA4wcAAOMHAADjBwAA4wcAAOMHAADjBwAA4wcAAOMHAADjBwAA4wcAAOMHAADjBwAA4wcAAOMHAADjBwAA4wcAAOMHAADjBwAA4wcAAOMHAADjBwAA4wcAAOMHAADjBwAA4wcAAOMHAADjBwAA4wcAAOMHAADjBwAA4wcAAOMHAADjBwAA4wcAAOMHAADjBwAA4wcAAOMHAADjBwAA4wcAAOMHAADjBwAA4wcAAOMHAADjBwAA4wcAAOMHAADjBwAA4wcAAOMHAADjBwAA4wcAAOMHAADjBwAA4wcAAOMHAADjBwAA4wcAAOMHAADjBwAA4wcAAOMHAADjBwAA4wcAAOMHAADjBwAA4wcAAOMHAADjBwAA4wcAAOMHAADjBwAA4wcAAOMHAADjBwAA4wcAAOMHAADjBwAA4wcAAOMHAADjBwAA4wcAAOMHAADjBwAA4wcAAOMHAADjBwAA4wcAAOMHAADjBwAA4wcAAOMHAADjBwAA4wcAAOMHAADjBwAA4wcAAOMHAADjBwAA4wcAAOMHAADjBwAA4wcAAOMHAADjBwAA4wcAAOMHAADjBwAA4wcAAOMHAADjBwAA4wcAAOMHAADjBwAA4wcAAOMHAADjBwAA4wcAAOMHAADjBwAA4wcAAOMHAADjBwAA4wcAAOMHAADjBwAA4wcAAOMHAADjBwAA4wcAAOMHAADjBwAA4wcAAOMHAADjBwAA4wcAAOMHAADjBwAA4wcAAOMHAADjBwAA4wcAAOMHAADjBwAA4wcAAOMHAADjBwAA4wcAAOMHAADjBwAA4wcAAOMHAADjBwAA4wcAAOMHAADjBwAA4wcAAOMHAADjBwAA4wcAAOMHAADjBwAA4wcAAOMHAADjBwAA4wcAAOMHAADjBwAA4wcAAOMHAADjBwAA4wcAAOMHAADjBwAA4wcAAOMHAADjBwAA4wcAAOMHAADjBwAA4wcAAOMHAADjBwAA4wcAAOMHAADjBwAA4wcAAOMHAADjBwAA4wcAAOMHAADjBwAA4wcAAOMHAADjBwAA4wcAAOMHAADjBwAA4wcAAOMHAADjBwAA4wcAAOMHAADjBwAA4wcAAOMHAADjBwAA4wcAAOMHAADjBwAA4wcAAOMHAADjBwAA4wcAAOMHAADjBwAA4wcAAOMHAADjBwAA4wcAAOMHAADjBwAA4wcAAOMHAADjBwAA4wcAAOMHAADjBwAA4wcAAOMHAADjBwAA4wcAAOMHAADjBwAA4wcAAOMHAADjBwAA4wcAAOMHAADjBwAA4wcAAOMHAADjBwAA4wcAAOMHAADjBwAA4wcAAOMHAADjBwAA4wcAAOMHAADjBwAA4wcAAOMHAADjBwAA4wcAAOMHAADjBwAA4wcAAOMHAADjBwAA4wcAAOMHAADjBwAA4wcAAOMHAADjBwAA4wcAAOMHAADjBwAA4wcAAOMHAADjBwAA4wcAAOMHAADjBwAA4wcAAOMHAADjBwAA4wcAAOMHAADjBwAA4wcAAOMHAADjBwAA4wcAAOMHAADjBwAA4wcAAOMHAADjBwAA4wcAAOMHAADjBwAA4wcAAOMHAADjBwAA4wcAAOMHAADjBwAA4wcAAOMHAADjBwAA4wcAAOMHAADjBwAA4wcAAOMHAADjBwAA4wcAAOMHAADjBwAA4wcAAOMHAADjBwAA4wcAAOMHAADjBwAA4wcAAOMHAADjBwAA4wcAAOMHAADjBwAA4wcAAOMHAADjBwAA4wcAAOMHAADjBwAA4wcAAOMHAADjBwAA4wcAAOMHAADjBwAA4wcAAOMHAADjBwAA4wcAAOMHAADjBwAA4wcAAOMHAADjBwAA4wcAAOMHAADjBwAA4wcAAOMHAADjBwAA4wcAAOMHAADjBwAA4wcAAOMHAADjBwAA4wcAAOMHAADjBwAA4wcAAOMHAADjBwAA4wcAAOMHAADjBwAA4wcAAOMHAADjBwAA4wcAAOMHAADjBwAA4wcAAOMHAADjBwAA4wcAAOMHAADjBwAA4wcAAOMHAADjBwAA4wcAAOMHAADjBwAA4wcAAOMHAADjBwAA4wcAAOMHAADjBwAA4wcAAOMHAADjBwAA4wcAAOMHAADjBwAA4wcAAOMHAADjBwAA4wcAAOMHAADjBwAA4wcAAOMHAADjBwAA4wcAAOMHAADjBwAA4wcAAOMHAADjBwAA4wcAAOMHAADjBwAA4wcAAOMHAADjBwAA4wcAAOMHAADjBwAA4wcAAOMHAADjBwAA4wcAAOMHAADjBwAA4wcAAOMHAADjBwAA4wcAAOMHAADjBwAA4wcAAOMHAADjBwAA4wcAAOMHAADjBwAA4wcAAOMHAADjBwAA4wcAAOMHAADjBwAA4wcAAOMHAADjBwAA4wcAAOMHAADjBwAA4wcAAOMHAADjBwAA4wcAAOMHAADjBwAA4wcAAOMHAADjBwAA4wcAAOMHAADjBwAA4wcAAOMHAADjBwAA4wcAAOMHAADjBwAA4wcAAOMHAADjBwAA4wcAAOMHAADjBwAA4wcAAOMHAADjBwAA4wcAAOMHAADjBwAA4wcAAOMHAADjBwAA4wcAAOMHAADjBwAA4wcAAOMHAADjBwAA4wcAAOMHAADjBwAA4wcAAOMHAADjBwAA4wcAAOMHAADjBwAA4wcAAOMHAADjBwAA4wcAAOMHAADjBwAA4wcAAOMHAADjBwAA4wcAAOMHAADjBwAA4wcAAOMHAADjBwAA4wcAAOMHAADjBwAA4wcAAOMHAADjBwAA4wcAAOMHAADjBwAA4wcAAOMHAADjBwAA4wcAAOMHAADjBwAA4wcAAOMHAADjBwAA4wcAAOMHAADjBwAA4wcAAOMHAADjBwAA4wcAAOMHAADjBwAA4wcAAOMHAADjBwAA4wcAAOMHAADjBwAA4wcAAOMHAADjBwAA4wcAAOMHAADjBwAA4wcAAOMHAADjBwAA4wcAAOMHAADjBwAA4wcAAOMHAADjBwAA4wcAAOMHAADjBwAA4wcAAOMHAADjBwAA4wcAAOMHAADjBwAA4wcAAOMHAADjBwAA4wcAAOMHAADjBwAA4wcAAOMHAADjBwAA4wcAAOMHAADjBwAA4wcAAOMHAADjBwAA4wcAAOMHAADjBwAA4wcAAOMHAADjBwAA4wcAAOMHAADjBwAA4wcAAOMHAADjBwAA4wcAAOMHAADjBwAA4wcAAOMHAADjBwAA4wcAAOMHAADjBwAA4wcAAOMHAADjBwAA4wcAAOMHAADjBwAA4wcAAOMHAADjBwAA4wcAAOMHAADjBwAA4wcAAOMHAADjBwAA4wcAAOMHAADjBwAA4wcAAOMHAADjBwAA4wcAAOMHAADjBwAA4wcAAOMHAADjBwAA4wcAAOMHAADjBwAA4wcAAOMHAADjBwAA4wcAAOMHAADjBwAA4wcAAOMHAADjBwAA4wcAAOMHAADjBwAA4wcAAOMHAADjBwAA4wcAAOMHAADjBwAA4wcAAOMHAADjBwAA4wcAAOMHAADjBwAA4wcAAOMHAADjBwAA4wcAAOMHAADjBwAA4wcAAOMHAADjBwAA4wcAAOMHAADjBwAA4wcAAOMHAADjBwAA4wcAAOMHAADjBwAA4wcAAOMHAADjBwAA4wcAAOMHAADjBwAA4wcAAOMHAADjBwAA4wcAAOMHAADjBwAA4wcAAOMHAADjBwAA4wcAAOMHAADjBwAA4wcAAOMHAADjBwAA4wcAAOMHAADjBwAA4wcAAOMHAADjBwAA4wcAAOMHAADjBwAA4wcAAOMHAADjBwAA4wcAAOMHAADjBwAA4wcAAOMHAADjBwAA4wcAAOMHAADjBwAA4wcAAOMHAADjBwAA4wcAAOMHAADjBwAA4wcAAOMHAADjBwAA4wcAAOMHAADjBwAA4wcAAOMHAADjBwAA4wcAAOMHAADjBwAA4wcAAOMHAADjBwAA4wcAAOMHAADjBwAA4wcAAOMHAADjBwAA4wcAAOMHAADjBwAA4wcAAOMHAADjBwAA4wcAAOMHAADjBwAA4wcAAOMHAADjBwAA4wcAAOMHAADjBwAA4wcAAOMHAADjBwAA4wcAAOMHAADjBwAA4wcAAOMHAADjBwAA4wcAAOMHAADjBwAA4wcAAOMHAADjBwAA4wcAAOMHAADjBwAA4wcAAOMHAADjBwAA4wcAAOMHAADjBwAA4wcAAOMHAADjBwAA4wcAAOMHAADjBwAA4wcAAOMHAADjBwAA4wcAAOMHAADjBwAA4wcAAOMHAADjBwAA4wcAAOMHAADjBwAA4wcAAOMHAADjBwAA4wcAAOMHAADjBwAA4wcAAOMHAADjBwAA4wcAAOMHAADjBwAA4wcAAOMHAADjBwAA4wcAAOMHAADjBwAA4wcAAOMHAADjBwAA4wcAAOMHAADjBwAA4wcAAOMHAADjBwAA4wcAAOMHAADjBwAA4wcAAOMHAADjBwAA4wcAAOMHAADjBwAA4wcAAOMHAADjBwAA4wcAAOMHAADjBwAA4wcAAOMHAADjBwAA4wcAAOMHAADjBwAA4wcAAOMHAADjBwAA4wcAAOMHAADjBwAA4wcAAOMHAADjBwAA4wcAAOMHAADjBwAA4wcAAOMHAADjBwAA4wcAAOMHAADjBwAA4wcAAOMHAADjBwAA4wcAAOMHAADjBwAA4wcAAOMHAADjBwAA4wcAAOMHAADjBwAA4wcAAOMHAADjBwAA4wcAAOMHAADjBwAA4wcAAOMHAADjBwAA4wcAAOMHAADjBwAA4wcAAOMHAADjBwAA4wcAAOMHAADjBwAA4wcAAOMHAADjBwAA4wcAAOMHAADjBwAA4wcAAOMHAADjBwAA4wcAAOMHAADjBwAA4wcAAOMHAADjBwAA4wcAAOMHAADjBwAA4wcAAOMHAADjBwAA4wcAAOMHAADjBwAA4wcAAOMHAADjBwAA4wcAAOMHAADjBwAA4wcAAOMHAADjBwAA4wcAAOMHAADjBwAA4wcAAOMHAADjBwAA4wcAAOMHAADjBwAA4wcAAOMHAADjBwAA4wcAAOMHAADjBwAA4wcAAOMHAADjBwAA4wcAAOMHAADjBwAA4wcAAOMHAADjBwAA4wcAAOMHAADjBwAA4wcAAOMHAADjBwAA4wcAAOMHAADjBwAA4wcAAOMHAADjBwAA4wcAAOMHAADjBwAA4wcAAOMHAADjBwAA4wcAAOMHAADjBwAA4wcAAOMHAADjBwAA4wcAAOMHAADjBwAA4wcAAOMHAADjBwAA4wcAAOMHAADjBwAA4wcAAOMHAADjBwAA4wcAAOMHAADjBwAA4wcAAOMHAADjBwAA4wcAAOMHAADjBwAA4wcAAOMHAADjBwAA4wcAAOMHAADjBwAA4wcAAOMHAADjBwAA4wcAAOMHAADjBwAA4wcAAOMHAADjBwAA4wcAAOMHAADjBwAA4wcAAOMHAADjBwAA4wcAAOMHAADjBwAA4wcAAOMHAADjBwAA4wcAAOMHAADjBwAA4wcAAOMHAADjBwAA4wcAAOMHAADjBwAA4wcAAOMHAADjBwAA4wcAAOMHAADjBwAA4wcAAOMHAADjBwAA4wcAAOMHAADjBwAA4wcAAOMHAADjBwAA4wcAAOMHAADjBwAA4wcAAOMHAADjBwAA4wcAAOMHAADjBwAA4wcAAOMHAADjBwAA4wcAAOMHAADjBwAA4wcAAOMHAADjBwAA4wcAAOMHAADjBwAA4wcAAOMHAADjBwAA4wcAAOMHAADjBwAA4wcAAOMHAADjBwAA4wcAAOMHAADjBwAA4wcAAOMHAADjBwAA4wcAAOMHAADjBwAA4wcAAOMHAADjBwAA4wcAAOMHAADjBwAA4wcAAOMHAADjBwAA4wcAAOMHAADjBwAA4wcAAOMHAADjBwAA4wcAAOMHAADjBwAA4wcAAOMHAADjBwAA4wcAAOMHAADjBwAA4wcAAOMHAADjBwAA4wcAAOMHAADjBwAA4wcAAOMHAADjBwAA4wcAAOMHAADjBwAA4wcAAOMHAADjBwAA4wcAAOMHAADjBwAA4wcAAOMHAADjBwAA4wcAAOMHAADjBwAA4wcAAOMHAADjBwAA4wcAAOMHAADjBwAA4wcAAOMHAADjBwAA4wcAAOMHAADjBwAA4wcAAOMHAADjBwAA4wcAAOMHAADjBwAA4wcAAOMHAADjBwAA4wcAAOMHAADjBwAA4wcAAOMHAADjBwAA4wcAAOMHAADjBwAA4wcAAOMHAADjBwAA4wcAAOMHAADjBwAA4wcAAOMHAADjBwAA4wcAAOMHAADjBwAA4wcAAOMHAADjBwAA4wcAAOMHAADjBwAA4wcAAOMHAADjBwAA4wcAAOMHAADjBwAA4wcAAOMHAADjBwAA4wcAAOMHAADjBwAA4wcAAOMHAADjBwAA4wcAAOMHAADjBwAA4wcAAOMHAADjBwAA4wcAAOMHAADjBwAA4wcAAOMHAADjBwAA4wcAAOMHAADjBwAA4wcAAOMHAADjBwAA4wcAAOMHAADjBwAA4wcAAOMHAADjBwAA4wcAAOMHAADjBwAA4wcAAOMHAADjBwAA4wcAAOMHAADjBwAA4wcAAOMHAADjBwAA4wcAAOMHAADjBwAA4wcAAOMHAADjBwAA4wcAAOMHAADjBwAA4wcAAOMHAADjBwAA4wcAAOMHAADjBwAA4wcAAOMHAADjBwAA4wcAAOMHAADjBwAA4wcAAOMHAADjBwAA4wcAAOMHAADjBwAA4wcAAOMHAADjBwAA4wcAAOMHAADjBwAA4wcAAOMHAADjBwAA4wcAAOMHAADjBwAA4wcAAOMHAADjBwAA4wcAAOMHAADjBwAA4wcAAOMHAADjBwAA4wcAAOMHAADjBwAA4wcAAOMHAADjBwAA4wcAAOMHAADjBwAA4wcAAOMHAADjBwAA4wcAAOMHAADjBwAA4wcAAOMHAADjBwAA4wcAAOMHAADjBwAA4wcAAOMHAADjBwAA4wcAAOMHAADjBwAA4wcAAOMHAADjBwAA4wcAAOMHAADjBwAA4wcAAOMHAADjBwAA4wcAAOMHAADjBwAA4wcAAOMHAADjBwAA4wcAAOMHAADjBwAA4wcAAOMHAADjBwAA4wcAAOMHAADjBwAA4wcAAOMHAADjBwAA4wcAAOMHAADjBwAA4wcAAOMHAADjBwAA4wcAAOMHAADjBwAA4wcAAOMHAADjBwAA4wcAAOMHAADjBwAA4wcAAOMHAADjBwAA4wcAAOMHAADjBwAA4wcAAOMHAADjBwAA4wcAAOMHAADjBwAA4wcAAOMHAADjBwAA4wcAAOMHAADjBwAA4wcAAOMHAADjBwAA4wcAAOMHAADjBwAA4wcAAOMHAADjBwAA4wcAAOMHAADjBwAA4wcAAOMHAADjBwAA4wcAAOMHAADjBwAA4wcAAOMHAADjBwAA4wcAAOMHAADjBwAA4wcAAOMHAADjBwAA4wcAAOMHAADjBwAA4wcAAOMHAADjBwAA4wcAAOMHAADjBwAA4wcAAOMHAADjBwAA4wcAAOMHAADjBwAA4wcAAOMHAADjBwAA4wcAAOMHAADjBwAA4wcAAOMHAADjBwAA4wcAAOMHAADjBwAA4wcAAOMHAADjBwAA4wcAAOMHAADjBwAA4wcAAOMHAADjBwAA4wcAAOMHAADjBwAA4wcAAOMHAADjBwAA4wcAAOMHAADjBwAA4wcAAOMHAADjBwAA4wcAAOMHAADjBwAA4wcAAOMHAADjBwAA4wcAAOMHAADjBwAA4wcAAOMHAADjBwAA4wcAAOMHAADjBwAA4wcAAOMHAADjBwAA4wcAAOMHAADjBwAA4wcAAOMHAADjBwAA4wcAAOMHAADjBwAA4wcAAOMHAADjBwAA4wcAAOMHAADjBwAA4wcAAOMHAADjBwAA4wcAAOMHAADjBwAA4wcAAOMHAADjBwAA4wcAAOMHAADjBwAA4wcAAOMHAADjBwAA4wcAAOMHAADjBwAA4wcAAOMHAADjBwAA4wcAAOMHAADjBwAA4wcAAOMHAADjBwAA4wcAAOMHAADjBwAA4wcAAOMHAADjBwAA4wcAAOMHAADjBwAA4wcAAOMHAADjBwAA4wcAAOMHAADjBwAA4wcAAOMHAADjBwAA4wcAAOMHAADjBwAA4wcAAOMHAADjBwAA4wcAAOMHAADjBwAA4wcAAOMHAADjBwAA4wcAAOMHAADjBwAA4wcAAOMHAADjBwAA4wcAAOMHAADjBwAA4wcAAOMHAADjBwAA4wcAAOMHAADjBwAA4wcAAOMHAADjBwAA4wcAAOMHAADjBwAA4wcAAOMHAADjBwAA4wcAAOMHAADjBwAA4wcAAOMHAADjBwAA4wcAAOMHAADjBwAA4wcAAOMHAADjBwAA4wcAAOMHAADjBwAA4wcAAOMHAADjBwAA4wcAAOMHAADjBwAA4wcAAOMHAADjBwAA4wcAAOMHAADjBwAA4wcAAOMHAADjBwAA4wcAAOMHAADjBwAA4wcAAOMHAADjBwAA4wcAAOMHAADjBwAA4wcAAOMHAADjBwAA4wcAAOMHAADjBwAA4wcAAOMHAADjBwAA4wcAAOMHAADjBwAA4wcAAOMHAADjBwAA4wcAAOMHAADjBwAA4wcAAOMHAADjBwAA4wcAAOMHAADjBwAA4wcAAOMHAADjBwAA4wcAAOMHAADjBwAA4wcAAOMHAADjBwAA4wcAAOMHAADjBwAA4wcAAOMHAADjBwAA4wcAAOMHAADjBwAA4wcAAOMHAADjBwAA4wcAAOMHAADjBwAA4wcAAOMHAADjBwAA4wcAAOMHAADjBwAA4wcAAOMHAADjBwAA4wcAAOMHAADjBwAA4wcAAOMHAADjBwAA4wcAAOMHAADjBwAA4wcAAOMHAADjBwAA4wcAAOMHAADjBwAA4wcAAOMHAADjBwAA4wcAAOMHAADjBwAA4wcAAOMHAADjBwAA4wcAAOMHAADjBwAA4wcAAOMHAADjBwAA4wcAAOMHAADjBwAA4wcAAOMHAADjBwAA4wcAAOMHAADjBwAA4wcAAOMHAADjBwAA4wcAAOMHAADjBwAA4wcAAOMHAADjBwAA4wcAAOMHAADjBwAA4wcAAOMHAADjBwAA4wcAAOMHAADjBwAA4wcAAOMHAADjBwAA4wcAAOMHAADjBwAA4wcAAOMHAADjBwAA4wcAAOMHAADjBwAA4wcAAOMHAADjBwAA4wcAAOMHAADjBwAA4wcAAOMHAADjBwAA4wcAAOMHAADjBwAA4wcAAOMHAADjBwAA4wcAAOMHAADjBwAA4wcAAOMHAADjBwAA4wcAAOMHAADjBwAA4wcAAOMHAADjBwAA4wcAAOMHAADjBwAA4wcAAOMHAADjBwAA4wcAAOMHAADjBwAA4wcAAOMHAADjBwAA4wcAAOMHAADjBwAA4wcAAOMHAADjBwAA4wcAAOMHAADjBwAA4wcAAOMHAADjBwAA4wcAAOMHAADjBwAA4wcAAOMHAADjBwAA4wcAAOMHAADjBwAA4wcAAOMHAADjBwAA4wcAAOMHAADjBwAA4wcAAOMHAADjBwAA4wcAAOMHAADjBwAA4wcAAOMHAADjBwAA4wcAAOMHAADjBwAA4wcAAOMHAADjBwAA4wcAAOMHAADjBwAA4wcAAOMHAADjBwAA4wcAAOMHAADjBwAA4wcAAOMHAADjBwAA4wcAAOMHAADjBwAA4wcAAOMHAADjBwAA4wcAAOMHAADjBwAA4wcAAOMHAADjBwAA4wcAAOMHAADjBwAA4wcAAOMHAADjBwAA4wcAAOMHAADjBwAA4wcAAOMHAADjBwAA4wcAAOMHAADjBwAA4wcAAOMHAADjBwAA4wcAAOMHAADjBwAA4wcAAOMHAADjBwAA4wcAAOMHAADjBwAA4wcAAOMHAADjBwAA4wcAAOMHAADjBwAA4wcAAOMHAADjBwAA4wcAAOMHAADjBwAA4wcAAOMHAADjBwAA4wcAAOMHAADjBwAA4wcAAOMHAADjBwAA4wcAAOMHAADjBwAA4wcAAOMHAADjBwAA4wcAAOMHAADjBwAA4wcAAOMHAADjBwAA4wcAAOMHAADjBwAA4wcAAOMHAADjBwAA4wcAAOMHAADjBwAA4wcAAOMHAADjBwAA4wcAAOMHAADjBwAA4wcAAOMHAADjBwAA4wcAAOMHAADjBwAA4wcAAOMHAADjBwAA4wcAAOMHAADjBwAA4wcAAOMHAADjBwAA4wcAAOMHAADjBwAA4wcAAOMHAADjBwAA4wcAAOMHAADjBwAA4wcAAOMHAADjBwAA4wcAAOMHAADjBwAA4wcAAOMHAADjBwAA4wcAAOMHAADjBwAA4wcAAOMHAADjBwAA4wcAAOMHAADjBwAA4wcAAOMHAADjBwAA4wcAAOMHAADjBwAA4wcAAOMHAADjBwAA4wcAAOMHAADjBwAA4wcAAOMHAADjBwAA4wcAAOMHAADjBwAA4wcAAOMHAADjBwAA4wcAAOMHAADjBwAA4wcAAOMHAADjBwAA4wcAAOMHAADjBwAA4wcAAOMHAADjBwAA4wcAAOMHAADjBwAA4wcAAOMHAADjBwAA4wcAAOMHAADjBwAA4wcAAOMHAADjBwAA4wcAAOMHAADjBwAA4wcAAOMHAADjBwAA4wcAAOMHAADjBwAA4wcAAOMHAADjBwAA4wcAAOMHAADjBwAA4wcAAOMHAADjBwAA4wcAAOMHAADjBwAA4wcAAOMHAADjBwAA4wcAAOMHAADjBwAA4wcAAOMHAADjBwAA4wcAAOMHAADjBwAA4wcAAOMHAADjBwAA4wcAAOMHAADjBwAA4wcAAOMHAADjBwAA4wcAAOMHAADjBwAA4wcAAOMHAADjBwAA4wcAAOMHAADjBwAA4wcAAOMHAADjBwAA4wcAAOMHAADjBwAA4wcAAOMHAADjBwAA4wcAAOMHAADjBwAA4wcAAOMHAADjBwAA4wcAAOMHAADjBwAA4wcAAOMHAADjBwAA4wcAAOMHAADjBwAA4wcAAOMHAADjBwAA4wcAAOMHAADjBwAA4wcAAOMHAADjBwAA4wcAAOMHAADjBwAA4wcAAOMHAADjBwAA4wcAAOMHAADjBwAA4wcAAOMHAADjBwAA4wcAAOMHAADjBwAA4wcAAOMHAADjBwAA4wcAAOMHAADjBwAA4wcAAOMHAADjBwAA4wcAAOMHAADjBwAA4wcAAOMHAADjBwAA4wcAAOMHAADjBwAA4wcAAOMHAADjBwAA4wcAAOMHAADjBwAA4wcAAOMHAADjBwAA4wcAAOMHAADjBwAA4wcAAOMHAADjBwAA4wcAAOMHAADjBwAA4wcAAOMHAADjBwAA4wcAAOMHAADjBwAA4wcAAOMHAADjBwAA4wcAAOMHAADjBwAA4wcAAOMHAADjBwAA4wcAAOMHAADjBwAA4wcAAOMHAADjBwAA4wcAAOMHAADjBwAA4wcAAOMHAADjBwAA4wcAAOMHAADjBwAA4wcAAOMHAADjBwAA4wcAAOMHAADjBwAA4wcAAOMHAADjBwAA4wcAAOMHAADjBwAA4wcAAOMHAADjBwAA4wcAAOMHAADjBwAA4wcAAOMHAADjBwAA4wcAAOMHAADjBwAA4wcAAOMHAADjBwAA4wcAAOMHAADjBwAA4wcAAOMHAADjBwAA4wcAAOMHAADjBwAA4wcAAOMHAADjBwAA4wcAAOMHAADjBwAA4wcAAOMHAADjBwAA4wcAAOMHAADjBwAA4wcAAOMHAADjBwAA4wcAAOMHAADjBwAA4wcAAOMHAADjBwAA4wcAAOMHAADjBwAA4wcAAOMHAADjBwAA4wcAAOMHAADjBwAA4wcAAOMHAADjBwAA4wcAAOMHAADjBwAA4wcAAOMHAADjBwAA4wcAAOMHAADjBwAA4wcAAOMHAADjBwAA4wcAAOMHAADjBwAA4wcAAOMHAADjBwAA4wcAAOMHAADjBwAA4wcAAOMHAADjBwAA4wcAAOMHAADjBwAA4wcAAOMHAADjBwAA4wcAAOMHAADjBwAA4wcAAOMHAADjBwAA4wcAAOMHAADjBwAA4wcAAOMHAADjBwAA4wcAAOMHAADjBwAA4wcAAOMHAADjBwAA4wcAAOMHAADjBwAA4wcAAOMHAADjBwAA4wcAAOMHAADjBwAA4wcAAOMHAADjBwAA4wcAAOMHAADjBwAA4wcAAOMHAADjBwAA4wcAAOMHAADjBwAA4wcAAOMHAADjBwAA4wcAAOMHAADjBwAA4wcAAOMHAADjBwAA4wcAAOMHAADjBwAA4wcAAOMHAADjBwAA4wcAAOMHAADjBwAA4wcAAOMHAADjBwAA4wcAAOMHAADjBwAA4wcAAOMHAADjBwAA4wcAAOMHAADjBwAA4wcAAOMHAADjBwAA4wcAAOMHAADjBwAA4wcAAOMHAADjBwAA4wcAAOMHAADjBwAA4wcAAOMHAADjBwAA4wcAAOMHAADjBwAA4wcAAOMHAADjBwAA4wcAAOMHAADjBwAA4wcAAOMHAADjBwAA4wcAAOMHAADjBwAA4wcAAOMHAADjBwAA4wcAAOMHAADjBwAA4wcAAOMHAADjBwAA4wcAAOMHAADjBwAA4wcAAOMHAADjBwAA4wcAAOMHAADjBwAA4wcAAOMHAADjBwAA4wcAAOMHAADjBwAA4wcAAOMHAADjBwAA4wcAAOMHAADjBwAA4wcAAOMHAADjBwAA4wcAAOMHAADjBwAA4wcAAOMHAADjBwAA4wcAAOMHAADjBwAA4wcAAOMHAADjBwAA4wcAAOMHAADjBwAA4wcAAOMHAADjBwAA4wcAAOMHAADjBwAA4wcAAOMHAADjBwAA4wcAAOMHAADjBwAA4wcAAOMHAADjBwAA4wcAAOMHAADjBwAA4wcAAOMHAADjBwAA4wcAAOMHAADjBwAA4wcAAOMHAADjBwAA4wcAAOMHAADjBwAA4wcAAOMHAADjBwAA4wcAAOMHAADjBwAA4wcAAOMHAADjBwAA4wcAAOMHAADjBwAA4wcAAOMHAADjBwAA4wcAAOMHAADjBwAA4wcAAOMHAADjBwAA4wcAAOMHAADjBwAA4wcAAOMHAADjBwAA4wcAAOMHAADjBwAA4wcAAOMHAADjBwAA4wcAAOMHAADjBwAA4wcAAOMHAADjBwAA4wcAAOMHAADjBwAA4wcAAOMHAADjBwAA4wcAAOMHAADjBwAA4wcAAOMHAADjBwAA4wcAAOMHAADjBwAA4wcAAOMHAADjBwAA4wcAAOMHAADjBwAA4wcAAOMHAADjBwAA4wcAAOMHAADjBwAA4wcAAOMHAADjBwAA4wcAAOMHAADjBwAA4wcAAOMHAADjBwAA4wcAAOMHAADjBwAA4wcAAOMHAADjBwAA4wcAAOMHAADjBwAA4wcAAOMHAADjBwAA4wcAAOMHAADjBwAA4wcAAOMHAADjBwAA4wcAAOMHAADjBwAA4wcAAOMHAADjBwAA4wcAAOMHAADjBwAA4wcAAOMHAADjBwAA4wcAAOMHAADjBwAA4wcAAOMHAADjBwAA4wcAAOMHAADjBwAA4wcAAOMHAADjBwAA4wcAAOMHAADjBwAA4wcAAOMHAADjBwAA4wcAAOMHAADjBwAA4wcAAOMHAADjBwAA4wcAAOMHAADjBwAA4wcAAOMHAADjBwAA4wcAAOMHAADjBwAA4wcAAOMHAADjBwAA4wcAAOMHAADjBwAA4wcAAOMHAADjBwAA4wcAAOMHAADjBwAA4wcAAOMHAADjBwAA4wcAAOMHAADjBwAA4wcAAOMHAADjBwAA4wcAAOMHAADjBwAA4wcAAOMHAADjBwAA4wcAAOMHAADjBwAA4wcAAOMHAADjBwAA4wcAAOMHAADjBwAA4wcAAOMHAADjBwAA4wcAAOMHAADjBwAA4wcAAOMHAADjBwAA4wcAAOMHAADjBwAA4wcAAOMHAADjBwAA4wcAAOMHAADjBwAA4wcAAOMHAADjBwAA4wcAAOMHAADjBwAA4wcAAOMHAADjBwAA4wcAAOMHAADjBwAA4wcAAOMHAADjBwAA4wcAAOMHAADjBwAA4wcAAOMHAADjBwAA4wcAAOMHAADjBwAA4wcAAOMHAADjBwAA4wcAAOMHAADjBwAA4wcAAOMHAADjBwAA4wcAAOMHAADjBwAA4wcAAOMHAADjBwAA4wcAAOMHAADjBwAA4wcAAOMHAADjBwAA4wcAAOMHAADjBwAA4wcAAOMHAADjBwAA4wcAAOMHAADjBwAA4wcAAOMHAADjBwAA4wcAAOMHAADjBwAA4wcAAOMHAADjBwAA4wcAAOMHAADjBwAA4wcAAOMHAADjBwAA4wcAAOMHAADjBwAA4wcAAOMHAADjBwAA4wcAAOMHAADjBwAA4wcAAOMHAADjBwAA4wcAAOMHAADjBwAA4wcAAOMHAADjBwAA4wcAAOMHAADjBwAA4wcAAOMHAADjBwAA4wcAAOMHAADjBwAA4wcAAOMHAADjBwAA4wcAAOMHAADjBwAA4wcAAOMHAADjBwAA4wcAAOMHAADjBwAA4wcAAOMHAADjBwAA4wcAAOMHAADjBwAA4wcAAOMHAADjBwAA4wcAAOMHAADjBwAA4wcAAOMHAADjBwAA4wcAAOMHAADjBwAA4wcAAOMHAADjBwAA4wcAAOMHAADjBwAA4wcAAOMHAADjBwAA4wcAAOMHAADjBwAA4wcAAOMHAADjBwAA4wcAAOMHAADjBwAA4wcAAOMHAADjBwAA4wcAAOMHAADjBwAA4wcAAOMHAADjBwAA4wcAAOMHAADjBwAA4wcAAOMHAADjBwAA4wcAAOMHAADjBwAA4wcAAOMHAADjBwAA4wcAAOMHAADjBwAA4wcAAOMHAADjBwAA4wcAAOMHAADjBwAA4wcAAOMHAADjBwAA4wcAAOMHAADjBwAA4wcAAOMHAADjBwAA4wcAAOMHAADjBwAA4wcAAOMHAADjBwAA4wcAAOMHAADjBwAA4wcAAOMHAADjBwAA4wcAAOMHAADjBwAA4wcAAOMHAADjBwAA4wcAAOMHAADjBwAA4wcAAOMHAADjBwAA4wcAAOMHAADjBwAA4wcAAOMHAADjBwAA4wcAAOMHAADjBwAA4wcAAOMHAADjBwAA4wcAAOMHAADjBwAA4wcAAOMHAADjBwAA4wcAAOMHAADjBwAA4wcAAOMHAADjBwAA4wcAAOMHAADjBwAA4wcAAOMHAADjBwAA4wcAAOMHAADjBwAA4wcAAOMHAADjBwAA4wcAAOMHAADjBwAA4wcAAOMHAADjBwAA4wcAAOMHAADjBwAA4wcAAOMHAADjBwAA4wcAAOMHAADjBwAA4wcAAOMHAADjBwAA4wcAAOMHAADjBwAA4wcAAOMHAADjBwAA4wcAAOMHAADjBwAA4wcAAOMHAADjBwAA4wcAAOMHAADjBwAA4wcAAOMHAADjBwAA4wcAAOMHAADjBwAA4wcAAOMHAADjBwAA4wcAAOMHAADjBwAA4wcAAOMHAADjBwAA4wcAAOMHAADjBwAA4wcAAOMHAADjBwAA4wcAAOMHAADjBwAA4wcAAOMHAADjBwAA4wcAAOMHAADjBwAA4wcAAOMHAADjBwAA4wcAAOMHAADjBwAA4wcAAOMHAADjBwAA4wcAAOMHAADjBwAA4wcAAOMHAADjBwAA4wcAAOMHAADjBwAA4wcAAOMHAADjBwAA4wcAAOMHAADjBwAA4wcAAOMHAADjBwAA4wcAAOMHAADjBwAA4wcAAOMHAADjBwAA4wcAAOMHAADjBwAA4wcAAOMHAADjBwAA4wcAAOMHAADjBwAA4wcAAOMHAADjBwAA4wcAAOMHAADjBwAA4wcAAOMHAADjBwAA4wcAAOMHAADjBwAA4wcAAOMHAADjBwAA4wcAAOMHAADjBwAA4wcAAOMHAADjBwAA4wcAAOMHAADjBwAA4wcAAOMHAADjBwAA4wcAAOMHAADjBwAA4wcAAOMHAADjBwAA4wcAAOMHAADjBwAA4wcAAOMHAADjBwAA4wcAAOMHAADjBwAA4wcAAOMHAADjBwAA4wcAAOMHAADjBwAA4wcAAOMHAADjBwAA4wcAAOMHAADjBwAA4wcAAOMHAADjBwAA4wcAAOMHAADjBwAA4wcAAOMHAADjBwAA4wcAAOMHAADjBwAA4wcAAOMHAADjBwAA4wcAAOMHAADjBwAA4wcAAOMHAADjBwAA4wcAAOMHAADjBwAA4wcAAOMHAADjBwAA4wcAAOMHAADjBwAA4wcAAOMHAADjBwAA4wcAAOMHAADjBwAA4wcAAOMHAADjBwAA4wcAAOMHAADjBwAA4wcAAOMHAADjBwAA4wcAAOMHAADjBwAA4wcAAOMHAADjBwAA4wcAAOMHAADjBwAA4wcAAOMHAADjBwAA4wcAAOMHAADjBwAA4wcAAOMHAADjBwAA4wcAAOMHAADjBwAA4wcAAOMHAADjBwAA4wcAAOMHAADjBwAA4wcAAOMHAADjBwAA4wcAAOMHAADjBwAA4wcAAOMHAADjBwAA4wcAAOMHAADjBwAA4wcAAOMHAADjBwAA4wcAAOMHAADjBwAA4wcAAOMHAADjBwAA4wcAAOMHAADjBwAA4wcAAOMHAADjBwAA4wcAAOMHAADjBwAA4wcAAOMHAADjBwAA4wcAAOMHAADjBwAA4wcAAOMHAADjBwAA4wcAAOMHAADjBwAA4wcAAOMHAADjBwAA4wcAAOMHAADjBwAA4wcAAOMHAADjBwAA4wcAAOMHAADjBwAA4wcAAOMHAADjBwAA4wcAAOMHAADjBwAA4wcAAOMHAADjBwAA4wcAAOMHAADjBwAA4wcAAOMHAADjBwAA4wcAAOMHAADjBwAA4wcAAOMHAADjBwAA4wcAAOMHAADjBwAA4wcAAOMHAADjBwAA4wcAAOMHAADjBwAA4wcAAOMHAADjBwAA4wcAAOMHAADjBwAA4wcAAOMHAADjBwAA4wcAAOMHAADjBwAA4wcAAOMHAADjBwAA4wcAAOMHAADjBwAA4wcAAOMHAADjBwAA4wcAAOMHAADjBwAA4wcAAOMHAADjBwAA4wcAAOMHAADjBwAA4wcAAOMHAADjBwAA4wcAAOMHAADjBwAA4wcAAOMHAADjBwAA4wcAAOMHAADjBwAA4wcAAOMHAADjBwAA4wcAAOMHAADjBwAA4wcAAOMHAADjBwAA4wcAAOMHAADjBwAA4wcAAOMHAADjBwAA4wcAAOMHAADjBwAA4wcAAOMHAADjBwAA4wcAAOMHAADjBwAA4wcAAOMHAADjBwAA4wcAAOMHAADjBwAA4wcAAOMHAADjBwAA4wcAAOMHAADjBwAA4wcAAOMHAADjBwAA4wcAAOMHAADjBwAA4wcAAOMHAADjBwAA4wcAAOMHAADjBwAA4wcAAOMHAADjBwAA4wcAAOMHAADjBwAA4wcAAOMHAADjBwAA4wcAAOMHAADjBwAA4wcAAOMHAADjBwAA4wcAAOMHAADjBwAA4wcAAOMHAADjBwAA4wcAAOMHAADjBwAA4wcAAOMHAADjBwAA4wcAAOMHAADjBwAA4wcAAOMHAADjBwAA4wcAAOMHAADjBwAA4wcAAOMHAADjBwAA4wcAAOMHAADjBwAA4wcAAOMHAADjBwAA4wcAAOMHAADjBwAA4wcAAOMHAADjBwAA4wcAAOMHAADjBwAA4wcAAOMHAADjBwAA4wcAAOMHAADjBwAA4wcAAOMHAADjBwAA4wcAAOMHAADjBwAA4wcAAOMHAADjBwAA4wcAAOMHAADjBwAA4wcAAOMHAADjBwAA4wcAAOMHAADjBwAA4wcAAOMHAADjBwAA4wcAAOMHAADjBwAA4wcAAOMHAADjBwAA4wcAAOMHAADjBwAA4wcAAOMHAADjBwAA4wcAAOMHAADjBwAA4wcAAOMHAADjBwAA4wcAAOMHAADjBwAA4wcAAOMHAADjBwAA4wcAAOMHAADjBwAA4wcAAOMHAADjBwAA4wcAAOMHAADjBwAA4wcAAOMHAADjBwAA4wcAAOMHAADjBwAA4wcAAOMHAADjBwAA4wcAAOMHAADjBwAA4wcAAOMHAADjBwAA4wcAAOMHAADjBwAA4wcAAOMHAADjBwAA4wcAAOMHAADjBwAA4wcAAOMHAADjBwAA4wcAAOMHAADjBwAA4wcAAOMHAADjBwAA4wcAAOMHAADjBwAA4wcAAOMHAADjBwAA4wcAAOMHAADjBwAA4wcAAOMHAADjBwAA4wcAAOMHAADjBwAA4wcAAOMHAADjBwAA4wcAAOMHAADjBwAA4wcAAOMHAADjBwAA4wcAAOMHAADjBwAA4wcAAOMHAADjBwAA4wcAAOMHAADjBwAA4wcAAOMHAADjBwAA4wcAAOMHAADjBwAA4wcAAOMHAADjBwAA4wcAAOMHAADjBwAA4wcAAOMHAADjBwAA4wcAAOMHAADjBwAA4wcAAOMHAADjBwAA4wcAAOMHAADjBwAA4wcAAOMHAADjBwAA4wcAAOMHAADjBwAA4wcAAOMHAADjBwAA4wcAAOMHAADjBwAA4wcAAOMHAADjBwAA4wcAAOMHAADjBwAA4wcAAOMHAADjBwAA4wcAAOMHAADjBwAA4wcAAOMHAADjBwAA4wcAAOMHAADjBwAA4wcAAOMHAADjBwAA4wcAAOMHAADjBwAA4wcAAOMHAADjBwAA4wcAAOMHAADjBwAA4wcAAOMHAADjBwAA4wcAAOMHAADjBwAA4wcAAOMHAADjBwAA4wcAAOMHAADjBwAA4wcAAOMHAADjBwAA4wcAAOMHAADjBwAA4wcAAOMHAADjBwAA4wcAAOMHAADjBwAA4wcAAOMHAADjBwAA4wcAAOMHAADjBwAA4wcAAOMHAADjBwAA4wcAAOMHAADjBwAA4wcAAOMHAADjBwAA4wcAAOMHAADjBwAA4wcAAOMHAADjBwAA4wcAAOMHAADjBwAA4wcAAOMHAADjBwAA4wcAAOMHAADjBwAA4wcAAOMHAADjBwAA4wcAAOMHAADjBwAA4wcAAOMHAADjBwAA4wcAAOMHAADjBwAA4wcAAOMHAADjBwAA4wcAAOMHAADjBwAA4wcAAOMHAADjBwAA4wcAAOMHAADjBwAA4wcAAOMHAADjBwAA4wcAAOMHAADjBwAA4wcAAOMHAADjBwAA4wcAAOMHAADjBwAA4wcAAOMHAADjBwAA4wcAAOMHAADjBwAA4wcAAOMHAADjBwAA4wcAAOMHAADjBwAA4wcAAOMHAADjBwAA4wcAAOMHAADjBwAA4wcAAOMHAADjBwAA4wcAAOMHAADjBwAA4wcAAOMHAADjBwAA4wcAAOMHAADjBwAA4wcAAOMHAADjBwAA4wcAAOMHAADjBwAA4wcAAOMHAADjBwAA4wcAAOMHAADjBwAA4wcAAOMHAADjBwAA4wcAAOMHAADjBwAA4wcAAOMHAADjBwAA4wcAAOMHAADjBwAA4wcAAOMHAADjBwAA4wcAAOMHAADjBwAA4wcAAOMHAADjBwAA4wcAAOMHAADjBwAA4wcAAOMHAADjBwAA4wcAAOMHAADjBwAA4wcAAOMHAADjBwAA4wcAAOMHAADjBwAA4wcAAOMHAADjBwAA4wcAAOMHAADjBwAA4wcAAOMHAADjBwAA4wcAAOMHAADjBwAA4wcAAOMHAADjBwAA4wcAAOMHAADjBwAA4wcAAOMHAADjBwAA4wcAAOMHAADjBwAA4wcAAOMHAADjBwAA4wcAAOMHAADjBwAA4wcAAOMHAADjBwAA4wcAAOMHAADjBwAA4wcAAOMHAADjBwAA4wcAAOMHAADjBwAA4wcAAOMHAADjBwAA4wcAAOMHAADjBwAA4wcAAOMHAADjBwAA4wcAAOMHAADjBwAA4wcAAOMHAADjBwAA4wcAAOMHAADjBwAA4wcAAOMHAADjBwAA4wcAAOMHAADjBwAA4wcAAOMHAADjBwAA4wcAAOMHAADjBwAA4wcAAOMHAADjBwAA4wcAAOMHAADjBwAA4wcAAOMHAADjBwAA4wcAAOMHAADjBwAA4wcAAOMHAADjBwAA4wcAAOMHAADjBwAA4wcAAOMHAADjBwAA4wcAAOMHAADjBwAA4wcAAOMHAADjBwAA4wcAAOMHAADjBwAA4wcAAOMHAADjBwAA4wcAAOMHAADjBwAA4wcAAOMHAADjBwAA4wcAAOMHAADjBwAA4wcAAOMHAADjBwAA4wcAAOMHAADjBwAA4wcAAOMHAADjBwAA4wcAAOMHAADjBwAA4wcAAOMHAADjBwAA4wcAAOMHAADjBwAA4wcAAOMHAADjBwAA4wcAAOMHAADjBwAA4wcAAOMHAADjBwAA4wcAAOMHAADjBwAA4wcAAOMHAADjBwAA4wcAAOMHAADjBwAA4wcAAOMHAADjBwAA4wcAAOMHAADjBwAA4wcAAOMHAADjBwAA4wcAAOMHAADjBwAA4wcAAOMHAADjBwAA4wcAAOMHAADjBwAA4wcAAOMHAADjBwAA4wcAAOMHAADjBwAA4wcAAOMHAADjBwAA4wcAAOMHAADjBwAA4wcAAOMHAADjBwAA4wcAAOMHAADjBwAA4wcAAOMHAADjBwAA4wcAAOMHAADjBwAA4wcAAOMHAADjBwAA4wcAAOMHAADjBwAA4wcAAOMHAADjBwAA4wcAAOMHAADjBwAA4wcAAOMHAADjBwAA4wcAAOMHAADjBwAA4wcAAOMHAADjBwAA4wcAAOMHAADjBwAA4wcAAOMHAADjBwAA4wcAAOMHAADjBwAA4wcAAOMHAADjBwAA4wcAAOMHAADjBwAA4wcAAOMHAADjBwAA4wcAAOMHAADjBwAA4wcAAOMHAADjBwAA4wcAAOMHAADjBwAA4wcAAOMHAADjBwAA4wcAAOMHAADjBwAA4wcAAOMHAADjBwAA4wcAAOMHAADjBwAA4wcAAOMHAADjBwAA4wcAAOMHAADjBwAA4wcAAOMHAADjBwAA4wcAAOMHAADjBwAA4wcAAOMHAADjBwAA4wcAAOMHAADjBwAA4wcAAOMHAADjBwAA4wcAAOMHAADjBwAA4wcAAOMHAADjBwAA4wcAAOMHAADjBwAA4wcAAOMHAADjBwAA4wcAAOMHAADjBwAA4wcAAOMHAADjBwAA4wcAAOMHAADjBwAA4wcAAOMHAADjBwAA4wcAAOMHAADjBwAA4wcAAOMHAADjBwAA4wcAAOMHAADjBwAA4wcAAOMHAADjBwAA4wcAAOMHAADjBwAA4wcAAOMHAADjBwAA4wcAAOMHAADjBwAA4wcAAOMHAADjBwAA4wcAAOMHAADjBwAA4wcAAOMHAADjBwAA4wcAAOMHAADjBwAA4wcAAOMHAADjBwAA4wcAAOMHAADjBwAA4wcAAOMHAADjBwAA4wcAAOMHAADjBwAA4wcAAOMHAADjBwAA4wcAAOMHAADjBwAA4wcAAOMHAADjBwAA4wcAAOMHAADjBwAA4wcAAOMHAADjBwAA4wcAAOMHAADjBwAA4wcAAOMHAADjBwAA4wcAAOMHAADjBwAA4wcAAOMHAADjBwAA4wcAAOMHAADjBwAA4wcAAOMHAADjBwAA4wcAAOMHAADjBwAA4wcAAOMHAADjBwAA4wcAAOMHAADjBwAA4wcAAOMHAADjBwAA4wcAAOMHAADjBwAA4wcAAOMHAADjBwAA4wcAAOMHAADjBwAA4wcAAOMHAADjBwAA4wcAAOMHAADjBwAA4wcAAOMHAADjBwAA4wcAAOMHAADjBwAA4wcAAOMHAADjBwAA4wcAAOMHAADjBwAA4wcAAOMHAADjBwAA4wcAAOMHAADjBwAA4wcAAOMHAADjBwAA4wcAAOMHAADjBwAA4wcAAOMHAADjBwAA4wcAAOMHAADjBwAA4wcAAOMHAADjBwAA4wcAAOMHAADjBwAA4wcAAOMHAADjBwAA4wcAAOMHAADjBwAA4wcAAOMHAADjBwAA4wcAAOMHAADjBwAA4wcAAOMHAADjBwAA4wcAAOMHAADjBwAA4wcAAOMHAADjBwAA4wcAAOMHAADjBwAA4wcAAOMHAADjBwAA4wcAAOMHAADjBwAA4wcAAOMHAADjBwAA4wcAAOMHAADjBwAA4wcAAOMHAADjBwAA4wcAAOMHAADjBwAA4wcAAOMHAADjBwAA4wcAAOMHAADjBwAA4wcAAOMHAADjBwAA4wcAAOMHAADjBwAA4wcAAOMHAADjBwAA4wcAAOMHAADjBwAA4wcAAOMHAADjBwAA4wcAAOMHAADjBwAA4wcAAOMHAADjBwAA4wcAAOMHAADjBwAA4wcAAOMHAADjBwAA4wcAAOMHAADjBwAA4wcAAOMHAADjBwAA4wcAAOMHAADjBwAA4wcAAOMHAADjBwAA4wcAAOMHAADjBwAA4wcAAOMHAADjBwAA4wcAAOMHAADjBwAA4wcAAOMHAADjBwAA4wcAAOMHAADjBwAA4wcAAOMHAADjBwAA4wcAAOMHAADjBwAA4wcAAOMHAADjBwAA4wcAAOMHAADjBwAA4wcAAOMHAADjBwAA4wcAAOMHAADjBwAA4wcAAOMHAADjBwAA4wcAAOMHAADjBwAA4wcAAOMHAADjBwAA4wcAAOMHAADjBwAA4wcAAOMHAADjBwAA4wcAAOMHAADjBwAA4wcAAOMHAADjBwAA4wcAAOMHAADjBwAA4wcAAOMHAADjBwAA4wcAAOMHAADjBwAA4wcAAOMHAADjBwAA4wcAAOMHAADjBwAA4wcAAOMHAADjBwAA4wcAAOMHAADjBwAA4wcAAOMHAADjBwAA4wcAAOMHAADjBwAA4wcAAOMHAADjBwAA4wcAAOMHAADjBwAA4wcAAOMHAADjBwAA4wcAAOMHAADjBwAA4wcAAOMHAADjBwAA4wcAAOMHAADjBwAA4wcAAOMHAADjBwAA4wcAAOMHAADjBwAA4wcAAOMHAADjBwAA4wcAAOMHAADjBwAA4wcAAOMHAADjBwAA4wcAAOMHAADjBwAA4wcAAOMHAADjBwAA4wcAAOMHAADjBwAA4wcAAOMHAADjBwAA4wcAAOMHAADjBwAA4wcAAOMHAADjBwAA4wcAAOMHAADjBwAA4wcAAOMHAADjBwAA4wcAAOMHAADjBwAA4wcAAOMHAADjBwAA4wcAAOMHAADjBwAA4wcAAOMHAADjBwAA4wcAAOMHAADjBwAA4wcAAOMHAADjBwAA4wcAAOMHAADjBwAA4wcAAOMHAADjBwAA4wcAAOMHAADjBwAA4wcAAOMHAADjBwAA4wcAAOMHAADjBwAA4wcAAOMHAADjBwAA4wcAAOMHAADjBwAA4wcAAOMHAADjBwAA4wcAAOMHAADjBwAA4wcAAOMHAADjBwAA4wcAAOMHAADjBwAA4wcAAOMHAADjBwAA4wcAAOMHAADjBwAA4wcAAOMHAADjBwAA4wcAAOMHAADjBwAA4wcAAOMHAADjBwAA4wcAAOMHAADjBwAA4wcAAOMHAADjBwAA4wcAAOMHAADjBwAA4wcAAOMHAADjBwAA4wcAAOMHAADjBwAA4wcAAOMHAADjBwAA4wcAAOMHAADjBwAA4wcAAOMHAADjBwAA4wcAAOMHAADjBwAA4wcAAOMHAADjBwAA4wcAAOMHAADjBwAA4wcAAOMHAADjBwAA4wcAAOMHAADjBwAA4wcAAOMHAADjBwAA4wcAAOMHAADjBwAA4wcAAOMHAADjBwAA4wcAAOMHAADjBwAA4wcAAOMHAADjBwAA4wcAAOMHAADjBwAA4wcAAOMHAADjBwAA4wcAAOMHAADjBwAA4wcAAOMHAADjBwAA4wcAAOMHAADjBwAA4wcAAOMHAADjBwAA4wcAAOMHAADjBwAA4wcAAOMHAADjBwAA4wcAAOMHAADjBwAA4wcAAOMHAADjBwAA4wcAAOMHAADjBwAA4wcAAOMHAADjBwAA4wcAAOMHAADjBwAA4wcAAOMHAADjBwAA4wcAAOMHAADjBwAA4wcAAOMHAADjBwAA4wcAAOMHAADjBwAA4wcAAOMHAADjBwAA4wcAAOMHAADjBwAA4wcAAOMHAADjBwAA4wcAAOMHAADjBwAA4wcAAOMHAADjBwAA4wcAAOMHAADjBwAA4wcAAOMHAADjBwAA4wcAAOMHAADjBwAA4wcAAOMHAADjBwAA4wcAAOMHAADjBwAA4wcAAOMHAADjBwAA4wcAAOMHAADjBwAA4wcAAOMHAADjBwAA4wcAAOMHAADjBwAA4wcAAOMHAADjBwAA4wcAAOMHAADjBwAA4wcAAOMHAADjBwAA4wcAAOMHAADjBwAA4wcAAOMHAADjBwAA4wcAAOMHAADjBwAA4wcAAOMHAADjBwAA4wcAAOMHAADjBwAA4wcAAOMHAADjBwAA4wcAAOMHAADjBwAA4wcAAOMHAADjBwAA4wcAAOMHAADjBwAA4wcAAOMHAADjBwAA4wcAAOMHAADjBwAA4wcAAOMHAADjBwAA4wcAAOMHAADjBwAA4wcAAOMHAADjBwAA4wcAAOMHAADjBwAA4wcAAOMHAADjBwAA4wcAAOMHAADjBwAA4wcAAOMHAADjBwAA4wcAAOMHAADjBwAA4wcAAOMHAADjBwAA4wcAAOMHAADjBwAA4wcAAOMHAADjBwAA4wcAAOMHAADjBwAA4wcAAOMHAADjBwAA4wcAAOMHAADjBwAA4wcAAOMHAADjBwAA4wcAAOMHAADjBwAA4wcAAOMHAADjBwAA4wcAAOMHAADjBwAA4wcAAOMHAADjBwAA4wcAAOMHAADjBwAA4wcAAOMHAADjBwAA4wcAAOMHAADjBwAA4wcAAOMHAADjBwAA4wcAAOMHAADjBwAA4wcAAOMHAADjBwAA4wcAAOMHAADjBwAA4wcAAOMHAADjBwAA4wcAAOMHAADjBwAA4wcAAOMHAADjBwAA4wcAAOMHAADjBwAA4wcAAOMHAADjBwAA4wcAAOMHAADjBwAA4wcAAOMHAADjBwAA4wcAAOMHAADjBwAA4wcAAOMHAADjBwAA4wcAAOMHAADjBwAA4wcAAOMHAADjBwAA4wcAAOMHAADjBwAA4wcAAOMHAADjBwAA4wcAAOMHAADjBwAA4wcAAOMHAADjBwAA4wcAAOMHAADjBwAA4wcAAOMHAADjBwAA4wcAAOMHAADjBwAA4wcAAOMHAADjBwAA4wcAAOMHAADjBwAA4wcAAOMHAADjBwAA4wcAAOMHAADjBwAA4wcAAOMHAADjBwAA4wcAAOMHAADjBwAA4wcAAOMHAADjBwAA4wcAAOMHAADjBwAA4wcAAOMHAADjBwAA4wcAAOMHAADjBwAA4wcAAOMHAADjBwAA4wcAAOMHAADjBwAA4wcAAOMHAADjBwAA4wcAAOMHAADjBwAA4wcAAOMHAADjBwAA4wcAAOMHAADjBwAA4wcAAOMHAADjBwAA4wcAAOMHAADjBwAA4wcAAOMHAADjBwAA4wcAAOMHAADjBwAA4wcAAOMHAADjBwAA4wcAAOMHAADjBwAA4wcAAOMHAADjBwAA4wcAAOMHAADjBwAA4wcAAOMHAADjBwAA4wcAAOMHAADjBwAA4wcAAOMHAADjBwAA4wcAAOMHAADjBwAA4wcAAOMHAADjBwAA4wcAAOMHAADjBwAA4wcAAOMHAADjBwAA4wcAAOMHAADjBwAA4wcAAOMHAADjBwAA4wcAAOMHAADjBwAA4wcAAOMHAADjBwAA4wcAAOMHAADjBwAA4wcAAOMHAADjBwAA4wcAAOMHAADjBwAA4wcAAOMHAADjBwAA4wcAAOMHAADjBwAA4wcAAOMHAADjBwAA4wcAAOMHAADjBwAA4wcAAOMHAADjBwAA4wcAAOMHAADjBwAA4wcAAOMHAADjBwAA4wcAAOMHAADjBwAA4wcAAOMHAADjBwAA4wcAAOMHAADjBwAA4wcAAOMHAADjBwAA4wcAAOMHAADjBwAA4wcAAOMHAADjBwAA4wcAAOMHAADjBwAA4wcAAOMHAADjBwAA4wcAAOMHAADjBwAA4wcAAOMHAADjBwAA4wcAAOMHAADjBwAA4wcAAOMHAADjBwAA4wcAAOMHAADjBwAA4wcAAOMHAADjBwAA4wcAAOMHAADjBwAA4wcAAOMHAADjBwAA4wcAAOMHAADjBwAA4wcAAOMHAADjBwAA4wcAAOMHAADjBwAA4wcAAOMHAADjBwAA4wcAAOMHAADjBwAA4wcAAOMHAADjBwAA4wcAAOMHAADjBwAA4wcAAOMHAADjBwAA4wcAAOMHAADjBwAA4wcAAOMHAADjBwAA4wcAAOMHAADjBwAA4wcAAOMHAADjBwAA4wcAAOMHAADjBwAA4wcAAOMHAADjBwAA4wcAAOMHAADjBwAA4wcAAOMHAADjBwAA4wcAAOMHAADjBwAA4wcAAOMHAADjBwAA4wcAAOMHAADjBwAA4wcAAOMHAADjBwAA4wcAAOMHAADjBwAA4wcAAOMHAADjBwAA4wcAAOMHAADjBwAA4wcAAOMHAADjBwAA4wcAAOMHAADjBwAA4wcAAOMHAADjBwAA4wcAAOMHAADjBwAA4wcAAOMHAADjBwAA4wcAAOMHAADjBwAA4wcAAOMHAADjBwAA4wcAAOMHAADjBwAA4wcAAOMHAADjBwAA4wcAAOMHAADjBwAA4wcAAOMHAADjBwAA4wcAAOMHAADjBwAA4wcAAOMHAADjBwAA4wcAAOMHAADjBwAA4wcAAOMHAADjBwAA4wcAAOMHAADjBwAA4wcAAOMHAADjBwAA4wcAAOMHAADjBwAA4wcAAOMHAADjBwAA4wcAAOMHAADjBwAA4wcAAOMHAADjBwAA4wcAAOMHAADjBwAA4wcAAOMHAADjBwAA4wcAAOMHAADjBwAA4wcAAOMHAADjBwAA4wcAAOMHAADjBwAA4wcAAOMHAADjBwAA4wcAAOMHAADjBwAA4wcAAOMHAADjBwAA4wcAAOMHAADjBwAA4wcAAOMHAADjBwAA4wcAAOMHAADjBwAA4wcAAOMHAADjBwAA4wcAAOMHAADjBwAA4wcAAOMHAADjBwAA4wcAAOMHAADjBwAA4wcAAOMHAADjBwAA4wcAAOMHAADjBwAA4wcAAOMHAADjBwAA4wcAAOMHAADjBwAA4wcAAOMHAADjBwAA4wcAAOMHAADjBwAA4wcAAOMHAADjBwAA4wcAAOMHAADjBwAA4wcAAOMHAADjBwAA4wcAAOMHAADjBwAA4wcAAOMHAADjBwAA4wcAAOMHAADjBwAA4wcAAOMHAADjBwAA4wcAAOMHAADjBwAA4wcAAOMHAADjBwAA4wcAAOMHAADjBwAA4wcAAOMHAADjBwAA4wcAAOMHAADjBwAA4wcAAOMHAADjBwAA4wcAAOMHAADjBwAA4wcAAOMHAADjBwAA4wcAAOMHAADjBwAA4wcAAOMHAADjBwAA4wcAAOMHAADjBwAA4wcAAOMHAADjBwAA4wcAAOMHAADjBwAA4wcAAOMHAADjBwAA4wcAAOMHAADjBwAA4wcAAOMHAADjBwAA4wcAAOMHAADjBwAA4wcAAOMHAADjBwAA4wcAAOMHAADjBwAA4wcAAOMHAADjBwAA4wcAAOMHAADjBwAA4wcAAOMHAADjBwAA4wcAAOMHAADjBwAA4wcAAOMHAADjBwAA4wcAAOMHAADjBwAA4wcAAOMHAADjBwAA4wcAAOMHAADjBwAA4wcAAOMHAADjBwAA4wcAAOMHAADjBwAA4wcAAOMHAADjBwAA4wcAAOMHAADjBwAA4wcAAOMHAADjBwAA4wcAAOMHAADjBwAA4wcAAOMHAADjBwAA4wcAAOMHAADjBwAA4wcAAOMHAADjBwAA4wcAAOMHAADjBwAA4wcAAOMHAADjBwAA4wcAAOMHAADjBwAA4wcAAOMHAADjBwAA4wcAAOMHAADjBwAA4wcAAOMHAADjBwAA4wcAAOMHAADjBwAA4wcAAOMHAADjBwAA4wcAAOMHAADjBwAA4wcAAOMHAADjBwAA4wcAAOMHAADjBwAA4wcAAOMHAADjBwAA4wcAAOMHAADjBwAA4wcAAOMHAADjBwAA4wcAAOMHAADjBwAA4wcAAOMHAADjBwAA4wcAAOMHAADjBwAA4wcAAOMHAADjBwAA4wcAAOMHAADjBwAA4wcAAOMHAADjBwAA4wcAAOMHAADjBwAA4wcAAOMHAADjBwAA4wcAAOMHAADjBwAA4wcAAOMHAADjBwAA4wcAAOMHAADjBwAA4wcAAOMHAADjBwAA4wcAAOMHAADjBwAA4wcAAOMHAADjBwAA4wcAAOMHAADjBwAA4wcAAOMHAADjBwAA4wcAAOMHAADjBwAA4wcAAOMHAADjBwAA4wcAAOMHAADjBwAA4wcAAOMHAADjBwAA4wcAAOMHAADjBwAA4wcAAOMHAADjBwAA4wcAAOMHAADjBwAA4wcAAOMHAADjBwAA4wcAAOMHAADjBwAA4wcAAOMHAADjBwAA4wcAAOMHAADjBwAA4wcAAOMHAADjBwAA4wcAAOMHAADjBwAA4wcAAOMHAADjBwAA4wcAAOMHAADjBwAA4wcAAOMHAADjBwAA4wcAAOMHAADjBwAA4wcAAOMHAADjBwAA4wcAAOMHAADjBwAA4wcAAOMHAADjBwAA4wcAAOMHAADjBwAA4wcAAOMHAADjBwAA4wcAAOMHAADjBwAA4wcAAOMHAADjBwAA4wcAAOMHAADjBwAA4wcAAOMHAADjBwAA4wcAAOMHAADjBwAA4wcAAOMHAADjBwAA4wcAAOMHAADjBwAA4wcAAOMHAADjBwAA4wcAAOMHAADjBwAA4wcAAOMHAADjBwAA4wcAAOMHAADjBwAA4wcAAOMHAADjBwAA4wcAAOMHAADjBwAA4wcAAOMHAADjBwAA4wcAAOMHAADjBwAA4wcAAOMHAADjBwAA4wcAAOMHAADjBwAA4wcAAOMHAADjBwAA4wcAAOMHAADjBwAA4wcAAOMHAADjBwAA4wcAAOMHAADjBwAA4wcAAOMHAADjBwAA4wcAAOMHAADjBwAA4wcAAOMHAADjBwAA4wcAAOMHAADjBwAA4wcAAOMHAADjBwAA4wcAAOMHAADjBwAA4wcAAOMHAADjBwAA4wcAAOMHAADjBwAA4wcAAOMHAADjBwAA4wcAAOMHAADjBwAA4wcAAOMHAADjBwAA4wcAAOMHAADjBwAA4wcAAOMHAADjBwAA4wcAAOMHAADjBwAA4wcAAOMHAADjBwAA4wcAAOMHAADjBwAA4wcAAOMHAADjBwAA4wcAAOMHAADjBwAA4wcAAOMHAADjBwAA4wcAAOMHAADjBwAA4wcAAOMHAADjBwAA4wcAAOMHAADjBwAA4wcAAOMHAADjBwAA4wcAAOMHAADjBwAA4wcAAOMHAADjBwAA4wcAAOMHAADjBwAA4wcAAOMHAADjBwAA4wcAAOMHAADjBwAA4wcAAOMHAADjBwAA4wcAAOMHAADjBwAA4wcAAOMHAADjBwAA4wcAAOMHAADjBwAA4wcAAOMHAADjBwAA4wcAAOMHAADjBwAA4wcAAOMHAADjBwAA4wcAAOMHAADjBwAA4wcAAOMHAADjBwAA4wcAAOMHAADjBwAA4wcAAOMHAADjBwAA4wcAAOMHAADjBwAA4wcAAOMHAADjBwAA4wcAAOMHAADjBwAA4wcAAOMHAADjBwAA4wcAAOMHAADjBwAA4wcAAOMHAADjBwAA4wcAAOMHAADjBwAA4wcAAOMHAADjBwAA4wcAAOMHAADjBwAA4wcAAOMHAADjBwAA4wcAAOMHAADjBwAA4wcAAOMHAADjBwAA4wcAAOMHAADjBwAA4wcAAOMHAADjBwAA4wcAAOMHAADjBwAA4wcAAOMHAADjBwAA4wcAAOMHAADjBwAA4wcAAOMHAADjBwAA4wcAAOMHAADjBwAA4wcAAOMHAADjBwAA4wcAAOMHAADjBwAA4wcAAOMHAADjBwAA4wcAAOMHAADjBwAA4wcAAOMHAADjBwAA4wcAAOMHAADjBwAA4wcAAOMHAADjBwAA4wcAAOMHAADjBwAA4wcAAOMHAADjBwAA4wcAAOMHAADjBwAA4wcAAOMHAADjBwAA4wcAAOMHAADjBwAA4wcAAOMHAADjBwAA4wcAAOMHAADjBwAA4wcAAOMHAADjBwAA4wcAAOMHAADjBwAA4wcAAOMHAADjBwAA4wcAAOMHAADjBwAA4wcAAOMHAADjBwAA4wcAAOMHAADjBwAA4wcAAOMHAADjBwAA4wcAAOMHAADjBwAA4wcAAOMHAADjBwAA4wcAAOMHAADjBwAA4wcAAOMHAADjBwAA4wcAAOMHAADjBwAA4wcAAOMHAADjBwAA4wcAAOMHAADjBwAA4wcAAOMHAADjBwAA4wcAAOMHAADjBwAA4wcAAOMHAADjBwAA4wcAAOMHAADjBwAA4wcAAOMHAADjBwAA4wcAAOMHAADjBwAA4wcAAOMHAADjBwAA4wcAAOMHAADjBwAA4wcAAOMHAADjBwAA4wcAAOMHAADjBwAA4wcAAOMHAADjBwAA4wcAAOMHAADjBwAA4wcAAOMHAADjBwAA4wcAAOMHAADjBwAA4wcAAOMHAADjBwAA4wcAAOMHAADjBwAA4wcAAOMHAADjBwAA4wcAAOMHAADjBwAA4wcAAOMHAADjBwAA4wcAAOMHAADjBwAA4wcAAOMHAADjBwAA4wcAAOMHAADjBwAA4wcAAOMHAADjBwAA4wcAAOMHAADjBwAA4wcAAOMHAADjBwAA4wcAAOMHAADjBwAA4wcAAOMHAADjBwAA4wcAAOMHAADjBwAA4wcAAOMHAADjBwAA4wcAAOMHAADjBwAA4wcAAOMHAADjBwAA4wcAAOMHAADjBwAA4wcAAOMHAADjBwAA4wcAAOMHAADjBwAA4wcAAOMHAADjBwAA4wcAAOMHAADjBwAA4wcAAOMHAADjBwAA4wcAAOMHAADjBwAA4wcAAOMHAADjBwAA4wcAAOMHAADjBwAA4wcAAOMHAADjBwAA4wcAAOMHAADjBwAA4wcAAOMHAADjBwAA4wcAAOMHAADjBwAA4wcAAOMHAADjBwAA4wcAAOMHAADjBwAA4wcAAOMHAADjBwAA4wcAAOMHAADjBwAA4wcAAOMHAADjBwAA4wcAAOMHAADjBwAA4wcAAOMHAADjBwAA4wcAAOMHAADjBwAA4wcAAOMHAADjBwAA4wcAAOMHAADjBwAA4wcAAOMHAADjBwAA4wcAAOMHAADjBwAA4wcAAOMHAADjBwAA4wcAAOMHAADjBwAA4wcAAOMHAADjBwAA4wcAAOMHAADjBwAA4wcAAOMHAADjBwAA4wcAAOMHAADjBwAA4wcAAOMHAADjBwAA4wcAAOMHAADjBwAA4wcAAOMHAADjBwAA4wcAAOMHAADjBwAA4wcAAOMHAADjBwAA4wcAAOMHAADjBwAA4wcAAOMHAADjBwAA4wcAAOMHAADjBwAA4wcAAOMHAADjBwAA4wcAAOMHAADjBwAA4wcAAOMHAADjBwAA4wcAAOMHAADjBwAA4wcAAOMHAADjBwAA4wcAAOMHAADjBwAA4wcAAOMHAADjBwAA4wcAAOMHAADjBwAA4wcAAOMHAADjBwAA4wcAAOMHAADjBwAA4wcAAOMHAADjBwAA4wcAAOMHAADjBwAA4wcAAOMHAADjBwAA4wcAAOMHAADjBwAA4wcAAOMHAADjBwAA4wcAAOMHAADjBwAA4wcAAOMHAADjBwAA4wcAAOMHAADjBwAA4wcAAOMHAADjBwAA4wcAAOMHAADjBwAA4wcAAOMHAADjBwAA4wcAAOMHAADjBwAA4wcAAOMHAADjBwAA4wcAAOMHAADjBwAA4wcAAOMHAADjBwAA4wcAAOMHAADjBwAA4wcAAOMHAADjBwAA4wcAAOMHAADjBwAA4wcAAOMHAADjBwAA4wcAAOMHAADjBwAA4wcAAOMHAADjBwAA4wcAAOMHAADjBwAA4wcAAOMHAADjBwAA4wcAAOMHAADjBwAA4wcAAOMHAADjBwAA4wcAAOMHAADjBwAA4wcAAOMHAADjBwAA4wcAAOMHAADjBwAA4wcAAOMHAADjBwAA4wcAAOMHAADjBwAA4wcAAOMHAADjBwAA4wcAAOMHAADjBwAA4wcAAOMHAADjBwAA4wcAAOMHAADjBwAA4wcAAOMHAADjBwAA4wcAAOMHAADjBwAA4wcAAOMHAADjBwAA4wcAAOMHAADjBwAA4wcAAOMHAADjBwAA4wcAAOMHAADjBwAA4wcAAOMHAADjBwAA4wcAAOMHAADjBwAA4wcAAOMHAADjBwAA4wcAAOMHAADjBwAA4wcAAOMHAADjBwAA4wcAAOMHAADjBwAA4wcAAOMHAADjBwAA4wcAAOMHAADjBwAA4wcAAOMHAADjBwAA4wcAAOMHAADjBwAA4wcAAOMHAADjBwAA4wcAAOMHAADjBwAA4wcAAOMHAADjBwAA4wcAAOMHAADjBwAA4wcAAOMHAADjBwAA4wcAAOMHAADjBwAA4wcAAOMHAADjBwAA4wcAAOMHAADjBwAA4wcAAOMHAADjBwAA4wcAAOMHAADjBwAA4wcAAOMHAADjBwAA4wcAAOMHAADjBwAA4wcAAOMHAADjBwAA4wcAAOMHAADjBwAA4wcAAOMHAADjBwAA4wcAAOMHAADjBwAA4wcAAOMHAADjBwAA4wcAAOMHAADjBwAA4wcAAOMHAADjBwAA4wcAAOMHAADjBwAA4wcAAOMHAADjBwAA4wcAAOMHAADjBwAA4wcAAOMHAADjBwAA4wcAAOMHAADjBwAA4wcAAOMHAADjBwAA4wcAAOMHAADjBwAA4wcAAOMHAADjBwAA4wcAAOMHAADjBwAA4wcAAOMHAADjBwAA4wcAAOMHAADjBwAA4wcAAOMHAADjBwAA4wcAAOMHAADjBwAA4wcAAOMHAADjBwAA4wcAAOMHAADjBwAA4wcAAOMHAADjBwAA4wcAAOMHAADjBwAA4wcAAOMHAADjBwAA4wcAAOMHAADjBwAA4wcAAOMHAADjBwAA4wcAAOMHAADjBwAA4wcAAOMHAADjBwAA4wcAAOMHAADjBwAA4wcAAOMHAADjBwAA4wcAAOMHAADjBwAA4wcAAOMHAADjBwAA4wcAAOMHAADjBwAA4wcAAOMHAADjBwAA4wcAAOMHAADjBwAA4wcAAOMHAADjBwAA4wcAAOMHAADjBwAA4wcAAOMHAADjBwAA4wcAAOMHAADjBwAA4wcAAOMHAADjBwAA4wcAAOMHAADjBwAA4wcAAOMHAADjBwAA4wcAAOMHAADjBwAA4wcAAOMHAADjBwAA4wcAAOMHAADjBwAA4wcAAOMHAADjBwAA4wcAAOMHAADjBwAA4wcAAOMHAADjBwAA4wcAAOMHAADjBwAA4wcAAOMHAADjBwAA4wcAAOMHAADjBwAA4wcAAOMHAADjBwAA4wcAAOMHAADjBwAA4wcAAOMHAADjBwAA4wcAAOMHAADjBwAA4wcAAOMHAADjBwAA4wcAAOMHAADjBwAA4wcAAOMHAADjBwAA4wcAAOMHAADjBwAA4wcAAOMHAADjBwAA4wcAAOMHAADjBwAA4wcAAOMHAADjBwAA4wcAAOMHAADjBwAA4wcAAOMHAADjBwAA4wcAAOMHAADjBwAA4wcAAOMHAADjBwAA4wcAAOMHAADjBwAA4wcAAOMHAADjBwAA4wcAAOMHAADjBwAA4wcAAOMHAADjBwAA4wcAAOMHAADjBwAA4wcAAOMHAADjBwAA4wcAAOMHAADjBwAA4wcAAOMHAADjBwAA4wcAAOMHAADjBwAA4wcAAOMHAADjBwAA4wcAAOMHAADjBwAA4wcAAOMHAADjBwAA4wcAAOMHAADjBwAA4wcAAOMHAADjBwAA4wcAAOMHAADjBwAA4wcAAOMHAADjBwAA4wcAAOMHAADjBwAA4wcAAOMHAADjBwAA4wcAAOMHAADjBwAA4wcAAOMHAADjBwAA4wcAAOMHAADjBwAA4wcAAOMHAADjBwAA4wcAAOMHAADjBwAA4wcAAOMHAADjBwAA4wcAAOMHAADjBwAA4wcAAOMHAADjBwAA4wcAAOMHAADjBwAA4wcAAOMHAADjBwAA4wcAAOMHAADjBwAA4wcAAOMHAADjBwAA4wcAAOMHAADjBwAA4wcAAOMHAADjBwAA4wcAAOMHAADjBwAA4wcAAOMHAADjBwAA4wcAAOMHAADjBwAA4wcAAOMHAADjBwAA4wcAAOMHAADjBwAA4wcAAOMHAADjBwAA4wcAAOMHAADjBwAA4wcAAOMHAADjBwAA4wcAAOMHAADjBwAA4wcAAOMHAADjBwAA4wcAAOMHAADjBwAA4wcAAOMHAADjBwAA4wcAAOMHAADjBwAA4wcAAOMHAADjBwAA4wcAAOMHAADjBwAA4wcAAOMHAADjBwAA4wcAAOMHAADjBwAA4wcAAOMHAADjBwAA4wcAAOMHAADjBwAA4wcAAOMHAADjBwAA4wcAAOMHAADjBwAA4wcAAOMHAADjBwAA4wcAAOMHAADjBwAA4wcAAOMHAADjBwAA4wcAAOMHAADjBwAA4wcAAOMHAADjBwAA4wcAAOMHAADjBwAA4wcAAOMHAADjBwAA4wcAAOMHAADjBwAA4wcAAOMHAADjBwAA4wcAAOMHAADjBwAA4wcAAOMHAADjBwAA4wcAAOMHAADjBwAA4wcAAOMHAADjBwAA4wcAAOMHAADjBwAA4wcAAOMHAADjBwAA4wcAAOMHAADjBwAA4wcAAOMHAADjBwAA4wcAAOMHAADjBwAA4wcAAOMHAADjBwAA4wcAAOMHAADjBwAA4wcAAOMHAADjBwAA4wcAAOMHAADjBwAA4wcAAOMHAADjBwAA4wcAAOMHAADjBwAA4wcAAOMHAADjBwAA4wcAAOMHAADjBwAA4wcAAOMHAADjBwAA4wcAAOMHAADjBwAA4wcAAOMHAADjBwAA4wcAAOMHAADjBwAA4wcAAOMHAADjBwAA4wcAAOMHAADjBwAA4wcAAOMHAADjBwAA4wcAAOMHAADjBwAA4wcAAOMHAADjBwAA4wcAAOMHAADjBwAA4wcAAOMHAADjBwAA4wcAAOMHAADjBwAA4wcAAOMHAADjBwAA4wcAAOMHAADjBwAA4wcAAOMHAADjBwAA4wcAAOMHAADjBwAA4wcAAOMHAADjBwAA4wcAAOMHAADjBwAA4wcAAOMHAADjBwAA4wcAAOMHAADjBwAA4wcAAOMHAADjBwAA4wcAAOMHAADjBwAA4wcAAOMHAADjBwAA4wcAAOMHAADjBwAA4wcAAOMHAADjBwAA4wcAAOMHAADjBwAA4wcAAOMHAADjBwAA4wcAAOMHAADjBwAA4wcAAOMHAADjBwAA4wcAAOMHAADjBwAA4wcAAOMHAADjBwAA4wcAAOMHAADjBwAA4wcAAOMHAADjBwAA4wcAAOMHAADjBwAA4wcAAOMHAADjBwAA4wcAAOMHAADjBwAA4wcAAOMHAADjBwAA4wcAAOMHAADjBwAA4wcAAOMHAADjBwAA4wcAAOMHAADjBwAA4wcAAOMHAADjBwAA4wcAAOMHAADjBwAA4wcAAOMHAADjBwAA4wcAAOMHAADjBwAA4wcAAOMHAADjBwAA4wcAAOMHAADjBwAA4wcAAOMHAADjBwAA4wcAAOMHAADjBwAA4wcAAOMHAADjBwAA4wcAAOMHAADjBwAA4wcAAOMHAADjBwAA4wcAAOMHAADjBwAA4wcAAOMHAADjBwAA4wcAAOMHAADjBwAA4wcAAOMHAADjBwAA4wcAAOMHAADjBwAA4wcAAOMHAADjBwAA4wcAAOMHAADjBwAA4wcAAOMHAADjBwAA4wcAAOMHAADjBwAA4wcAAOMHAADjBwAA4wcAAOMHAADjBwAA4wcAAOMHAADjBwAA4wcAAOMHAADjBwAA4wcAAOMHAADjBwAA4wcAAOMHAADjBwAA4wcAAOMHAADjBwAA4wcAAOMHAADjBwAA4wcAAOMHAADjBwAA4wcAAOMHAADjBwAA4wcAAOMHAADjBwAA4wcAAOMHAADjBwAA4wcAAOMHAADjBwAA4wcAAOMHAADjBwAA4wcAAOMHAADjBwAA4wcAAOMHAADjBwAA4wcAAOMHAADjBwAA4wcAAOMHAADjBwAA4wcAAOMHAADjBwAA4wcAAOMHAADjBwAA4wcAAOMHAADjBwAA4wcAAOMHAADjBwAA4wcAAOMHAADjBwAA4wcAAOMHAADjBwAA4wcAAOMHAADjBwAA4wcAAOMHAADjBwAA4wcAAOMHAADjBwAA4wcAAOMHAADjBwAA4wcAAOMHAADjBwAA4wcAAOMHAADjBwAA4wcAAOMHAADjBwAA4wcAAOMHAADjBwAA4wcAAOMHAADjBwAA4wcAAOMHAADjBwAA4wcAAOMHAADjBwAA4wcAAOMHAADjBwAA4wcAAOMHAADjBwAA4wcAAOMHAADjBwAA4wcAAOMHAADjBwAA4wcAAOMHAADjBwAA4wcAAOMHAADjBwAA4wcAAOMHAADjBwAA4wcAAOMHAADjBwAA4wcAAOMHAADjBwAA4wcAAOMHAADjBwAA4wcAAOMHAADjBwAA4wcAAOMHAADjBwAA4wcAAOMHAADjBwAA4wcAAOMHAADjBwAA4wcAAOMHAADjBwAA4wcAAOMHAADjBwAA4wcAAOMHAADjBwAA4wcAAOMHAADjBwAA4wcAAOMHAADjBwAA4wcAAOMHAADjBwAA4wcAAOMHAADjBwAA4wcAAOMHAADjBwAA4wcAAOMHAADjBwAA4wcAAOMHAADjBwAA4wcAAOMHAADjBwAA4wcAAOMHAADjBwAA4wcAAOMHAADjBwAA4wcAAOMHAADjBwAA4wcAAOMHAADjBwAA4wcAAOMHAADjBwAA4wcAAOMHAADjBwAA4wcAAOMHAADjBwAA4wcAAOMHAADjBwAA4wcAAOMHAADjBwAA4wcAAOMHAADjBwAA4wcAAOMHAADjBwAA4wcAAOMHAADjBwAA4wcAAOMHAADjBwAA4wcAAOMHAADjBwAA4wcAAOMHAADjBwAA4wcAAOMHAADjBwAA4wcAAOMHAADjBwAA4wcAAOMHAADjBwAA4wcAAOMHAADjBwAA4wcAAOMHAADjBwAA4wcAAOMHAADjBwAA4wcAAOMHAADjBwAA4wcAAOMHAADjBwAA4wcAAOMHAADjBwAA4wcAAOMHAADjBwAA4wcAAOMHAADjBwAA4wcAAOMHAADjBwAA4wcAAOMHAADjBwAA4wcAAOMHAADjBwAA4wcAAOMHAADjBwAA4wcAAOMHAADjBwAA4wcAAOMHAADjBwAA4wcAAOMHAADjBwAA4wcAAOMHAADjBwAA4wcAAOMHAADjBwAA4wcAAOMHAADjBwAA4wcAAOMHAADjBwAA4wcAAOMHAADjBwAA4wcAAOMHAADjBwAA4wcAAOMHAADjBwAA4wcAAOMHAADjBwAA4wcAAOMHAADjBwAA4wcAAOMHAADjBwAA4wcAAOMHAADjBwAA4wcAAOMHAADjBwAA4wcAAOMHAADjBwAA4wcAAOMHAADjBwAA4wcAAOMHAADjBwAA4wcAAOMHAADjBwAA4wcAAOMHAADjBwAA4wcAAOMHAADjBwAA4wcAAOMHAADjBwAA4wcAAOMHAADjBwAA4wcAAOMHAADjBwAA4wcAAOMHAADjBwAA4wcAAOMHAADjBwAA4wcAAOMHAADjBwAA4wcAAOMHAADjBwAA4wcAAOMHAADjBwAA4wcAAOMHAADjBwAA4wcAAOMHAADjBwAA4wcAAOMHAADjBwAA4wcAAOMHAADjBwAA4wcAAOMHAADjBwAA4wcAAOMHAADjBwAA4wcAAOMHAADjBwAA4wcAAOMHAADjBwAA4wcAAOMHAADjBwAA4wcAAOMHAADjBwAA4wcAAOMHAADjBwAA4wcAAOMHAADjBwAA4wcAAOMHAADjBwAA4wcAAOMHAADjBwAA4wcAAOMHAADjBwAA4wcAAOMHAADjBwAA4wcAAOMHAADjBwAA4wcAAOMHAADjBwAA4wcAAOMHAADjBwAA4wcAAOMHAADjBwAA4wcAAOMHAADjBwAA4wcAAOMHAADjBwAA4wcAAOMHAADjBwAA4wcAAOMHAADjBwAA4wcAAOMHAADjBwAA4wcAAOMHAADjBwAA4wcAAOMHAADjBwAA4wcAAOMHAADjBwAA4wcAAOMHAADjBwAA4wcAAOMHAADjBwAA4wcAAOMHAADjBwAA4wcAAOMHAADjBwAA4wcAAOMHAADjBwAA4wcAAOMHAADjBwAA4wcAAOMHAADjBwAA4wcAAOMHAADjBwAA4wcAAOMHAADjBwAA4wcAAOMHAADjBwAA4wcAAOMHAADjBwAA4wcAAOMHAADjBwAA4wcAAOMHAADjBwAA4wcAAOMHAADjBwAA4wcAAOMHAADjBwAA4wcAAOMHAADjBwAA4wcAAOMHAADjBwAA4wcAAOMHAADjBwAA4wcAAOMHAADjBwAA4wcAAOMHAADjBwAA4wcAAOMHAADjBwAA4wcAAOMHAADjBwAA4wcAAOMHAADjBwAA4wcAAOMHAADjBwAA4wcAAOMHAADjBwAA4wcAAOMHAADjBwAA4wcAAOMHAADjBwAA4wcAAOMHAADjBwAA4wcAAOMHAADjBwAA4wcAAOMHAADjBwAA4wcAAOMHAADjBwAA4wcAAOMHAADjBwAA4wcAAOMHAADjBwAA4wcAAOMHAADjBwAA4wcAAOMHAADjBwAA4wcAAOMHAADjBwAA4wcAAOMHAADjBwAA4wcAAOMHAADjBwAA4wcAAOMHAADjBwAA4wcAAOMHAADjBwAA4wcAAOMHAADjBwAA4wcAAOMHAADjBwAA4wcAAOMHAADjBwAA4wcAAOMHAADjBwAA4wcAAOMHAADjBwAA4wcAAOMHAADjBwAA4wcAAOMHAADjBwAA4wcAAOMHAADjBwAA4wcAAOMHAADjBwAA4wcAAOMHAADjBwAA4wcAAOMHAADjBwAA4wcAAOMHAADjBwAA4wcAAOMHAADjBwAA4wcAAOMHAADjBwAA4wcAAOMHAADjBwAA4wcAAOMHAADjBwAA4wcAAOMHAADjBwAA4wcAAOMHAADjBwAA4wcAAOMHAADjBwAA4wcAAOMHAADjBwAA4wcAAOMHAADjBwAA4wcAAOMHAADjBwAA4wcAAOMHAADjBwAA4wcAAOMHAADjBwAA4wcAAOMHAADjBwAA4wcAAOMHAADjBwAA4wcAAOMHAADjBwAA4wcAAOMHAADjBwAA4wcAAOMHAADjBwAA4wcAAOMHAADjBwAA4wcAAOMHAADjBwAA4wcAAOMHAADjBwAA4wcAAOMHAADjBwAA4wcAAOMHAADjBwAA4wcAAOMHAADjBwAA4wcAAOMHAADjBwAA4wcAAOMHAADjBwAA4wcAAOMHAADjBwAA4wcAAOMHAADjBwAA4wcAAOMHAADjBwAA4wcAAOMHAADjBwAA4wcAAOMHAADjBwAA4wcAAOMHAADjBwAA4wcAAOMHAADjBwAA4wcAAOMHAADjBwAA4wcAAOMHAADjBwAA4wcAAOMHAADjBwAA4wcAAOMHAADjBwAA4wcAAOMHAADjBwAA4wcAAOMHAADjBwAA4wcAAOMHAADjBwAA4wcAAOMHAADjBwAA4wcAAOMHAADjBwAA4wcAAOMHAADjBwAA4wcAAOMHAADjBwAA4wcAAOMHAADjBwAA4wcAAOMHAADjBwAA4wcAAOMHAADjBwAA4wcAAOMHAADjBwAA4wcAAOMHAADjBwAA4wcAAOMHAADjBwAA4wcAAOMHAADjBwAA4wcAAOMHAADjBwAA4wcAAOMHAADjBwAA4wcAAOMHAADjBwAA4wcAAOMHAADjBwAA4wcAAOMHAADjBwAA4wcAAOMHAADjBwAA4wcAAOMHAADjBwAA4wcAAOMHAADjBwAA4wcAAOMHAADjBwAA4wcAAOMHAADjBwAA4wcAAOMHAADjBwAA4wcAAOMHAADjBwAA4wcAAOMHAADjBwAA4wcAAOMHAADjBwAA4wcAAOMHAADjBwAA4wcAAOMHAADjBwAA4wcAAOMHAADjBwAA4wcAAOMHAADjBwAA4wcAAOMHAADjBwAA4wcAAOMHAADjBwAA4wcAAOMHAADjBwAA4wcAAOMHAADjBwAA4wcAAOMHAADjBwAA4wcAAOMHAADjBwAA4wcAAOMHAADjBwAA4wcAAOMHAADjBwAA4wcAAOMHAADjBwAA4wcAAOMHAADjBwAA4wcAAOMHAADjBwAA4wcAAOMHAADjBwAA4wcAAOMHAADjBwAA4wcAAOMHAADjBwAA4wcAAOMHAADjBwAA4wcAAOMHAADjBwAA4wcAAOMHAADjBwAA4wcAAOMHAADjBwAA4wcAAOMHAADjBwAA4wcAAOMHAADjBwAA4wcAAOMHAADjBwAA4wcAAOMHAADjBwAA4wcAAOMHAADjBwAA4wcAAOMHAADjBwAA4wcAAOMHAADjBwAA4wcAAOMHAADjBwAA4wcAAOMHAADjBwAA4wcAAOMHAADjBwAA4wcAAOMHAADjBwAA4wcAAOMHAADjBwAA4wcAAOMHAADjBwAA4wcAAOMHAADjBwAA4wcAAOMHAADjBwAA4wcAAOMHAADjBwAA4wcAAOMHAADjBwAA4wcAAOMHAADjBwAA4wcAAOMHAADjBwAA4wcAAOMHAADjBwAA4wcAAOMHAADjBwAA4wcAAOMHAADjBwAA4wcAAOMHAADjBwAA4wcAAOMHAADjBwAA4wcAAOMHAADjBwAA4wcAAOMHAADjBwAA4wcAAOMHAADjBwAA4wcAAOMHAADjBwAA4wcAAOMHAADjBwAA4wcAAOMHAADjBwAA4wcAAOMHAADjBwAA4wcAAOMHAADjBwAA4wcAAOMHAADjBwAA4wcAAOMHAADjBwAA4wcAAOMHAADjBwAA4wcAAOMHAADjBwAA4wcAAOMHAADjBwAA4wcAAOMHAADjBwAA4wcAAOMHAADjBwAA4wcAAOMHAADjBwAA4wcAAOMHAADjBwAA4wcAAOMHAADjBwAA4wcAAOMHAADjBwAA4wcAAOMHAADjBwAA4wcAAOMHAADjBwAA4wcAAOMHAADjBwAA4wcAAOMHAADjBwAA4wcAAOMHAADjBwAA4wcAAOMHAADjBwAA4wcAAOMHAADjBwAA4wcAAOMHAADjBwAA4wcAAOMHAADjBwAA4wcAAOMHAADjBwAA4wcAAOMHAADjBwAA4wcAAOMHAADjBwAA4wcAAOMHAADjBwAA4wcAAOMHAADjBwAA4wcAAOMHAADjBwAA4wcAAOMHAADjBwAA4wcAAOMHAADjBwAA4wcAAOMHAADjBwAA4wcAAOMHAADjBwAA4wcAAOMHAADjBwAA4wcAAOMHAADjBwAA4wcAAOMHAADjBwAA4wcAAOMHAADjBwAA4wcAAOMHAADjBwAA4wcAAOMHAADjBwAA4wcAAOMHAADjBwAA4wcAAOMHAADjBwAA4wcAAOMHAADjBwAA4wcAAOMHAADjBwAA4wcAAOMHAADjBwAA4wcAAOMHAADjBwAA4wcAAOMHAADjBwAA4wcAAOMHAADjBwAA4wcAAOMHAADjBwAA4wcAAOMHAADjBwAA4wcAAOMHAADjBwAA4wcAAOMHAADjBwAA4wcAAOMHAADjBwAA4wcAAOMHAADjBwAA4wcAAOMHAADjBwAA4wcAAOMHAADjBwAA4wcAAOMHAADjBwAA4wcAAOMHAADjBwAA4wcAAOMHAADjBwAA4wcAAOMHAADjBwAA4wcAAOMHAADjBwAA4wcAAOMHAADjBwAA4wcAAOMHAADjBwAA4wcAAOMHAADjBwAA4wcAAOMHAADjBwAA4wcAAOMHAADjBwAA4wcAAOMHAADjBwAA4wcAAOMHAADjBwAA4wcAAOMHAADjBwAA4wcAAOMHAADjBwAA4wcAAOMHAADjBwAA4wcAAOMHAADjBwAA4wcAAOMHAADjBwAA4wcAAOMHAADjBwAA4wcAAOMHAADjBwAA4wcAAOMHAADjBwAA4wcAAOMHAADjBwAA4wcAAOMHAADjBwAA4wcAAOMHAADjBwAA4wcAAOMHAADjBwAA4wcAAOMHAADjBwAA4wcAAOMHAADjBwAA4wcAAOMHAADjBwAA4wcAAOMHAADjBwAA4wcAAOMHAADjBwAA4wcAAOMHAADjBwAA4wcAAOMHAADjBwAA4wcAAOMHAADjBwAA4wcAAOMHAADjBwAA4wcAAOMHAADjBwAA4wcAAOMHAADjBwAA4wcAAOMHAADjBwAA4wcAAOMHAADjBwAA4wcAAOMHAADjBwAA4wcAAOMHAADjBwAA4wcAAOMHAADjBwAA4wcAAOMHAADjBwAA4wcAAOMHAADjBwAA4wcAAOMHAADjBwAA4wcAAOMHAADjBwAA4wcAAOMHAADjBwAA4wcAAOMHAADjBwAA4wcAAOMHAADjBwAA4wcAAOMHAADjBwAA4wcAAOMHAADjBwAA4wcAAOMHAADjBwAA4wcAAOMHAADjBwAA4wcAAOMHAADjBwAA4wcAAOMHAADjBwAA4wcAAOMHAADjBwAA4wcAAOMHAADjBwAA4wcAAOMHAADjBwAA4wcAAOMHAADjBwAA4wcAAOMHAADjBwAA4wcAAOMHAADjBwAA4wcAAOMHAADjBwAA4wcAAOMHAADjBwAA4wcAAOMHAADjBwAA4wcAAOMHAADjBwAA4wcAAOMHAADjBwAA4wcAAOMHAADjBwAA4wcAAOMHAADjBwAA4wcAAOMHAADjBwAA4wcAAOMHAADjBwAA4wcAAOMHAADjBwAA4wcAAOMHAADjBwAA4wcAAOMHAADjBwAA4wcAAOMHAADjBwAA4wcAAOMHAADjBwAA4wcAAOMHAADjBwAA4wcAAOMHAADjBwAA4wcAAOMHAADjBwAA4wcAAOMHAADjBwAA4wcAAOMHAADjBwAA4wcAAOMHAADjBwAA4wcAAOMHAADjBwAA4wcAAOMHAADjBwAA4wcAAOMHAADjBwAA4wcAAOMHAADjBwAA4wcAAOMHAADjBwAA4wcAAOMHAADjBwAA4wcAAOMHAADjBwAA4wcAAOMHAADjBwAA4wcAAOMHAADjBwAA4wcAAOMHAADjBwAA4wcAAOMHAADjBwAA4wcAAOMHAADjBwAA4wcAAOMHAADjBwAA4wcAAOMHAADjBwAA4wcAAOMHAADjBwAA4wcAAOMHAADjBwAA4wcAAOMHAADjBwAA4wcAAOMHAADjBwAA4wcAAOMHAADjBwAA4wcAAOMHAADjBwAA4wcAAOMHAADjBwAA4wcAAOMHAADjBwAA4wcAAOMHAADjBwAA4wcAAOMHAADjBwAA4wcAAOMHAADjBwAA4wcAAOMHAADjBwAA4wcAAOMHAADjBwAA4wcAAOMHAADjBwAA4wcAAOMHAADjBwAA4wcAAOMHAADjBwAA4wcAAOMHAADjBwAA4wcAAOMHAADjBwAA4wcAAOMHAADjBwAA4wcAAOMHAADjBwAA4wcAAOMHAADjBwAA4wcAAOMHAADjBwAA4wcAAOMHAADjBwAA4wcAAOMHAADjBwAA4wcAAOMHAADjBwAA4wcAAOMHAADjBwAA4wcAAOMHAADjBwAA4wcAAOMHAADjBwAA4wcAAOMHAADjBwAA4wcAAOMHAADjBwAA4wcAAOMHAADjBwAA4wcAAOMHAADjBwAA4wcAAOMHAADjBwAA4wcAAOMHAADjBwAA4wcAAOMHAADjBwAA4wcAAOMHAADjBwAA4wcAAOMHAADjBwAA4wcAAOMHAADjBwAA4wcAAOMHAADjBwAA4wcAAOMHAADjBwAA4wcAAOMHAADjBwAA4wcAAOMHAADjBwAA4wcAAOMHAADjBwAA4wcAAOMHAADjBwAA4wcAAOMHAADjBwAA4wcAAOMHAADjBwAA4wcAAOMHAADjBwAA4wcAAOMHAADjBwAA4wcAAOMHAADjBwAA4wcAAOMHAADjBwAA4wcAAOMHAADjBwAA4wcAAOMHAADjBwAA4wcAAOMHAADjBwAA4wcAAOMHAADjBwAA4wcAAOMHAADjBwAA4wcAAOMHAADjBwAA4wcAAOMHAADjBwAA4wcAAOMHAADjBwAA4wcAAOMHAADjBwAA4wcAAOMHAADjBwAA4wcAAOMHAADjBwAA4wcAAOMHAADjBwAA4wcAAOMHAADjBwAA4wcAAOMHAADjBwAA4wcAAOMHAADjBwAA4wcAAOMHAADjBwAA4wcAAOMHAADjBwAA4wcAAOMHAADjBwAA4wcAAOMHAADjBwAA4wcAAOMHAADjBwAA4wcAAOMHAADjBwAA4wcAAOMHAADjBwAA4wcAAOMHAADjBwAA4wcAAOMHAADjBwAA4wcAAOMHAADjBwAA4wcAAOMHAADjBwAA4wcAAOMHAADjBwAA4wcAAOMHAADjBwAA4wcAAOMHAADjBwAA4wcAAOMHAADjBwAA4wcAAOMHAADjBwAA4wcAAOMHAADjBwAA4wcAAOMHAADjBwAA4wcAAOMHAADjBwAA4wcAAOMHAADjBwAA4wcAAOMHAADjBwAA4wcAAOMHAADjBwAA4wcAAOMHAADjBwAA4wcAAOMHAADjBwAA4wcAAOMHAADjBwAA4wcAAOMHAADjBwAA4wcAAOMHAADjBwAA4wcAAOMHAADjBwAA4wcAAOMHAADjBwAA4wcAAOMHAADjBwAA4wcAAOMHAADjBwAA4wcAAOMHAADjBwAA4wcAAOMHAADjBwAA4wcAAOMHAADjBwAA4wcAAOMHAADjBwAA4wcAAOMHAADjBwAA4wcAAOMHAADjBwAA4wcAAOMHAADjBwAA4wcAAOMHAADjBwAA4wcAAOMHAADjBwAA4wcAAOMHAADjBwAA4wcAAOMHAADjBwAA4wcAAOMHAADjBwAA4wcAAA==",
          "dtype": "i4"
         },
         "xaxis": "x",
         "yaxis": "y"
        }
       ],
       "layout": {
        "barmode": "relative",
        "legend": {
         "tracegroupgap": 0
        },
        "margin": {
         "t": 60
        },
        "template": {
         "data": {
          "bar": [
           {
            "error_x": {
             "color": "#2a3f5f"
            },
            "error_y": {
             "color": "#2a3f5f"
            },
            "marker": {
             "line": {
              "color": "#E5ECF6",
              "width": 0.5
             },
             "pattern": {
              "fillmode": "overlay",
              "size": 10,
              "solidity": 0.2
             }
            },
            "type": "bar"
           }
          ],
          "barpolar": [
           {
            "marker": {
             "line": {
              "color": "#E5ECF6",
              "width": 0.5
             },
             "pattern": {
              "fillmode": "overlay",
              "size": 10,
              "solidity": 0.2
             }
            },
            "type": "barpolar"
           }
          ],
          "carpet": [
           {
            "aaxis": {
             "endlinecolor": "#2a3f5f",
             "gridcolor": "white",
             "linecolor": "white",
             "minorgridcolor": "white",
             "startlinecolor": "#2a3f5f"
            },
            "baxis": {
             "endlinecolor": "#2a3f5f",
             "gridcolor": "white",
             "linecolor": "white",
             "minorgridcolor": "white",
             "startlinecolor": "#2a3f5f"
            },
            "type": "carpet"
           }
          ],
          "choropleth": [
           {
            "colorbar": {
             "outlinewidth": 0,
             "ticks": ""
            },
            "type": "choropleth"
           }
          ],
          "contour": [
           {
            "colorbar": {
             "outlinewidth": 0,
             "ticks": ""
            },
            "colorscale": [
             [
              0,
              "#0d0887"
             ],
             [
              0.1111111111111111,
              "#46039f"
             ],
             [
              0.2222222222222222,
              "#7201a8"
             ],
             [
              0.3333333333333333,
              "#9c179e"
             ],
             [
              0.4444444444444444,
              "#bd3786"
             ],
             [
              0.5555555555555556,
              "#d8576b"
             ],
             [
              0.6666666666666666,
              "#ed7953"
             ],
             [
              0.7777777777777778,
              "#fb9f3a"
             ],
             [
              0.8888888888888888,
              "#fdca26"
             ],
             [
              1,
              "#f0f921"
             ]
            ],
            "type": "contour"
           }
          ],
          "contourcarpet": [
           {
            "colorbar": {
             "outlinewidth": 0,
             "ticks": ""
            },
            "type": "contourcarpet"
           }
          ],
          "heatmap": [
           {
            "colorbar": {
             "outlinewidth": 0,
             "ticks": ""
            },
            "colorscale": [
             [
              0,
              "#0d0887"
             ],
             [
              0.1111111111111111,
              "#46039f"
             ],
             [
              0.2222222222222222,
              "#7201a8"
             ],
             [
              0.3333333333333333,
              "#9c179e"
             ],
             [
              0.4444444444444444,
              "#bd3786"
             ],
             [
              0.5555555555555556,
              "#d8576b"
             ],
             [
              0.6666666666666666,
              "#ed7953"
             ],
             [
              0.7777777777777778,
              "#fb9f3a"
             ],
             [
              0.8888888888888888,
              "#fdca26"
             ],
             [
              1,
              "#f0f921"
             ]
            ],
            "type": "heatmap"
           }
          ],
          "histogram": [
           {
            "marker": {
             "pattern": {
              "fillmode": "overlay",
              "size": 10,
              "solidity": 0.2
             }
            },
            "type": "histogram"
           }
          ],
          "histogram2d": [
           {
            "colorbar": {
             "outlinewidth": 0,
             "ticks": ""
            },
            "colorscale": [
             [
              0,
              "#0d0887"
             ],
             [
              0.1111111111111111,
              "#46039f"
             ],
             [
              0.2222222222222222,
              "#7201a8"
             ],
             [
              0.3333333333333333,
              "#9c179e"
             ],
             [
              0.4444444444444444,
              "#bd3786"
             ],
             [
              0.5555555555555556,
              "#d8576b"
             ],
             [
              0.6666666666666666,
              "#ed7953"
             ],
             [
              0.7777777777777778,
              "#fb9f3a"
             ],
             [
              0.8888888888888888,
              "#fdca26"
             ],
             [
              1,
              "#f0f921"
             ]
            ],
            "type": "histogram2d"
           }
          ],
          "histogram2dcontour": [
           {
            "colorbar": {
             "outlinewidth": 0,
             "ticks": ""
            },
            "colorscale": [
             [
              0,
              "#0d0887"
             ],
             [
              0.1111111111111111,
              "#46039f"
             ],
             [
              0.2222222222222222,
              "#7201a8"
             ],
             [
              0.3333333333333333,
              "#9c179e"
             ],
             [
              0.4444444444444444,
              "#bd3786"
             ],
             [
              0.5555555555555556,
              "#d8576b"
             ],
             [
              0.6666666666666666,
              "#ed7953"
             ],
             [
              0.7777777777777778,
              "#fb9f3a"
             ],
             [
              0.8888888888888888,
              "#fdca26"
             ],
             [
              1,
              "#f0f921"
             ]
            ],
            "type": "histogram2dcontour"
           }
          ],
          "mesh3d": [
           {
            "colorbar": {
             "outlinewidth": 0,
             "ticks": ""
            },
            "type": "mesh3d"
           }
          ],
          "parcoords": [
           {
            "line": {
             "colorbar": {
              "outlinewidth": 0,
              "ticks": ""
             }
            },
            "type": "parcoords"
           }
          ],
          "pie": [
           {
            "automargin": true,
            "type": "pie"
           }
          ],
          "scatter": [
           {
            "fillpattern": {
             "fillmode": "overlay",
             "size": 10,
             "solidity": 0.2
            },
            "type": "scatter"
           }
          ],
          "scatter3d": [
           {
            "line": {
             "colorbar": {
              "outlinewidth": 0,
              "ticks": ""
             }
            },
            "marker": {
             "colorbar": {
              "outlinewidth": 0,
              "ticks": ""
             }
            },
            "type": "scatter3d"
           }
          ],
          "scattercarpet": [
           {
            "marker": {
             "colorbar": {
              "outlinewidth": 0,
              "ticks": ""
             }
            },
            "type": "scattercarpet"
           }
          ],
          "scattergeo": [
           {
            "marker": {
             "colorbar": {
              "outlinewidth": 0,
              "ticks": ""
             }
            },
            "type": "scattergeo"
           }
          ],
          "scattergl": [
           {
            "marker": {
             "colorbar": {
              "outlinewidth": 0,
              "ticks": ""
             }
            },
            "type": "scattergl"
           }
          ],
          "scattermap": [
           {
            "marker": {
             "colorbar": {
              "outlinewidth": 0,
              "ticks": ""
             }
            },
            "type": "scattermap"
           }
          ],
          "scattermapbox": [
           {
            "marker": {
             "colorbar": {
              "outlinewidth": 0,
              "ticks": ""
             }
            },
            "type": "scattermapbox"
           }
          ],
          "scatterpolar": [
           {
            "marker": {
             "colorbar": {
              "outlinewidth": 0,
              "ticks": ""
             }
            },
            "type": "scatterpolar"
           }
          ],
          "scatterpolargl": [
           {
            "marker": {
             "colorbar": {
              "outlinewidth": 0,
              "ticks": ""
             }
            },
            "type": "scatterpolargl"
           }
          ],
          "scatterternary": [
           {
            "marker": {
             "colorbar": {
              "outlinewidth": 0,
              "ticks": ""
             }
            },
            "type": "scatterternary"
           }
          ],
          "surface": [
           {
            "colorbar": {
             "outlinewidth": 0,
             "ticks": ""
            },
            "colorscale": [
             [
              0,
              "#0d0887"
             ],
             [
              0.1111111111111111,
              "#46039f"
             ],
             [
              0.2222222222222222,
              "#7201a8"
             ],
             [
              0.3333333333333333,
              "#9c179e"
             ],
             [
              0.4444444444444444,
              "#bd3786"
             ],
             [
              0.5555555555555556,
              "#d8576b"
             ],
             [
              0.6666666666666666,
              "#ed7953"
             ],
             [
              0.7777777777777778,
              "#fb9f3a"
             ],
             [
              0.8888888888888888,
              "#fdca26"
             ],
             [
              1,
              "#f0f921"
             ]
            ],
            "type": "surface"
           }
          ],
          "table": [
           {
            "cells": {
             "fill": {
              "color": "#EBF0F8"
             },
             "line": {
              "color": "white"
             }
            },
            "header": {
             "fill": {
              "color": "#C8D4E3"
             },
             "line": {
              "color": "white"
             }
            },
            "type": "table"
           }
          ]
         },
         "layout": {
          "annotationdefaults": {
           "arrowcolor": "#2a3f5f",
           "arrowhead": 0,
           "arrowwidth": 1
          },
          "autotypenumbers": "strict",
          "coloraxis": {
           "colorbar": {
            "outlinewidth": 0,
            "ticks": ""
           }
          },
          "colorscale": {
           "diverging": [
            [
             0,
             "#8e0152"
            ],
            [
             0.1,
             "#c51b7d"
            ],
            [
             0.2,
             "#de77ae"
            ],
            [
             0.3,
             "#f1b6da"
            ],
            [
             0.4,
             "#fde0ef"
            ],
            [
             0.5,
             "#f7f7f7"
            ],
            [
             0.6,
             "#e6f5d0"
            ],
            [
             0.7,
             "#b8e186"
            ],
            [
             0.8,
             "#7fbc41"
            ],
            [
             0.9,
             "#4d9221"
            ],
            [
             1,
             "#276419"
            ]
           ],
           "sequential": [
            [
             0,
             "#0d0887"
            ],
            [
             0.1111111111111111,
             "#46039f"
            ],
            [
             0.2222222222222222,
             "#7201a8"
            ],
            [
             0.3333333333333333,
             "#9c179e"
            ],
            [
             0.4444444444444444,
             "#bd3786"
            ],
            [
             0.5555555555555556,
             "#d8576b"
            ],
            [
             0.6666666666666666,
             "#ed7953"
            ],
            [
             0.7777777777777778,
             "#fb9f3a"
            ],
            [
             0.8888888888888888,
             "#fdca26"
            ],
            [
             1,
             "#f0f921"
            ]
           ],
           "sequentialminus": [
            [
             0,
             "#0d0887"
            ],
            [
             0.1111111111111111,
             "#46039f"
            ],
            [
             0.2222222222222222,
             "#7201a8"
            ],
            [
             0.3333333333333333,
             "#9c179e"
            ],
            [
             0.4444444444444444,
             "#bd3786"
            ],
            [
             0.5555555555555556,
             "#d8576b"
            ],
            [
             0.6666666666666666,
             "#ed7953"
            ],
            [
             0.7777777777777778,
             "#fb9f3a"
            ],
            [
             0.8888888888888888,
             "#fdca26"
            ],
            [
             1,
             "#f0f921"
            ]
           ]
          },
          "colorway": [
           "#636efa",
           "#EF553B",
           "#00cc96",
           "#ab63fa",
           "#FFA15A",
           "#19d3f3",
           "#FF6692",
           "#B6E880",
           "#FF97FF",
           "#FECB52"
          ],
          "font": {
           "color": "#2a3f5f"
          },
          "geo": {
           "bgcolor": "white",
           "lakecolor": "white",
           "landcolor": "#E5ECF6",
           "showlakes": true,
           "showland": true,
           "subunitcolor": "white"
          },
          "hoverlabel": {
           "align": "left"
          },
          "hovermode": "closest",
          "mapbox": {
           "style": "light"
          },
          "paper_bgcolor": "white",
          "plot_bgcolor": "#E5ECF6",
          "polar": {
           "angularaxis": {
            "gridcolor": "white",
            "linecolor": "white",
            "ticks": ""
           },
           "bgcolor": "#E5ECF6",
           "radialaxis": {
            "gridcolor": "white",
            "linecolor": "white",
            "ticks": ""
           }
          },
          "scene": {
           "xaxis": {
            "backgroundcolor": "#E5ECF6",
            "gridcolor": "white",
            "gridwidth": 2,
            "linecolor": "white",
            "showbackground": true,
            "ticks": "",
            "zerolinecolor": "white"
           },
           "yaxis": {
            "backgroundcolor": "#E5ECF6",
            "gridcolor": "white",
            "gridwidth": 2,
            "linecolor": "white",
            "showbackground": true,
            "ticks": "",
            "zerolinecolor": "white"
           },
           "zaxis": {
            "backgroundcolor": "#E5ECF6",
            "gridcolor": "white",
            "gridwidth": 2,
            "linecolor": "white",
            "showbackground": true,
            "ticks": "",
            "zerolinecolor": "white"
           }
          },
          "shapedefaults": {
           "line": {
            "color": "#2a3f5f"
           }
          },
          "ternary": {
           "aaxis": {
            "gridcolor": "white",
            "linecolor": "white",
            "ticks": ""
           },
           "baxis": {
            "gridcolor": "white",
            "linecolor": "white",
            "ticks": ""
           },
           "bgcolor": "#E5ECF6",
           "caxis": {
            "gridcolor": "white",
            "linecolor": "white",
            "ticks": ""
           }
          },
          "title": {
           "x": 0.05
          },
          "xaxis": {
           "automargin": true,
           "gridcolor": "white",
           "linecolor": "white",
           "ticks": "",
           "title": {
            "standoff": 15
           },
           "zerolinecolor": "white",
           "zerolinewidth": 2
          },
          "yaxis": {
           "automargin": true,
           "gridcolor": "white",
           "linecolor": "white",
           "ticks": "",
           "title": {
            "standoff": 15
           },
           "zerolinecolor": "white",
           "zerolinewidth": 2
          }
         }
        },
        "xaxis": {
         "anchor": "y",
         "domain": [
          0,
          1
         ],
         "title": {
          "text": "Journey_Year"
         }
        },
        "yaxis": {
         "anchor": "x",
         "domain": [
          0,
          1
         ],
         "title": {
          "text": "count"
         }
        }
       }
      }
     },
     "metadata": {},
     "output_type": "display_data"
    },
    {
     "data": {
      "application/vnd.plotly.v1+json": {
       "config": {
        "plotlyServerURL": "https://plot.ly"
       },
       "data": [
        {
         "bingroup": "x",
         "hovertemplate": "Dep_Hour=%{x}<br>count=%{y}<extra></extra>",
         "legendgroup": "",
         "marker": {
          "color": "#636efa",
          "pattern": {
           "shape": ""
          }
         },
         "name": "",
         "orientation": "v",
         "showlegend": false,
         "type": "histogram",
         "x": {
          "bdata": "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",
          "dtype": "i4"
         },
         "xaxis": "x",
         "yaxis": "y"
        }
       ],
       "layout": {
        "barmode": "relative",
        "legend": {
         "tracegroupgap": 0
        },
        "margin": {
         "t": 60
        },
        "template": {
         "data": {
          "bar": [
           {
            "error_x": {
             "color": "#2a3f5f"
            },
            "error_y": {
             "color": "#2a3f5f"
            },
            "marker": {
             "line": {
              "color": "#E5ECF6",
              "width": 0.5
             },
             "pattern": {
              "fillmode": "overlay",
              "size": 10,
              "solidity": 0.2
             }
            },
            "type": "bar"
           }
          ],
          "barpolar": [
           {
            "marker": {
             "line": {
              "color": "#E5ECF6",
              "width": 0.5
             },
             "pattern": {
              "fillmode": "overlay",
              "size": 10,
              "solidity": 0.2
             }
            },
            "type": "barpolar"
           }
          ],
          "carpet": [
           {
            "aaxis": {
             "endlinecolor": "#2a3f5f",
             "gridcolor": "white",
             "linecolor": "white",
             "minorgridcolor": "white",
             "startlinecolor": "#2a3f5f"
            },
            "baxis": {
             "endlinecolor": "#2a3f5f",
             "gridcolor": "white",
             "linecolor": "white",
             "minorgridcolor": "white",
             "startlinecolor": "#2a3f5f"
            },
            "type": "carpet"
           }
          ],
          "choropleth": [
           {
            "colorbar": {
             "outlinewidth": 0,
             "ticks": ""
            },
            "type": "choropleth"
           }
          ],
          "contour": [
           {
            "colorbar": {
             "outlinewidth": 0,
             "ticks": ""
            },
            "colorscale": [
             [
              0,
              "#0d0887"
             ],
             [
              0.1111111111111111,
              "#46039f"
             ],
             [
              0.2222222222222222,
              "#7201a8"
             ],
             [
              0.3333333333333333,
              "#9c179e"
             ],
             [
              0.4444444444444444,
              "#bd3786"
             ],
             [
              0.5555555555555556,
              "#d8576b"
             ],
             [
              0.6666666666666666,
              "#ed7953"
             ],
             [
              0.7777777777777778,
              "#fb9f3a"
             ],
             [
              0.8888888888888888,
              "#fdca26"
             ],
             [
              1,
              "#f0f921"
             ]
            ],
            "type": "contour"
           }
          ],
          "contourcarpet": [
           {
            "colorbar": {
             "outlinewidth": 0,
             "ticks": ""
            },
            "type": "contourcarpet"
           }
          ],
          "heatmap": [
           {
            "colorbar": {
             "outlinewidth": 0,
             "ticks": ""
            },
            "colorscale": [
             [
              0,
              "#0d0887"
             ],
             [
              0.1111111111111111,
              "#46039f"
             ],
             [
              0.2222222222222222,
              "#7201a8"
             ],
             [
              0.3333333333333333,
              "#9c179e"
             ],
             [
              0.4444444444444444,
              "#bd3786"
             ],
             [
              0.5555555555555556,
              "#d8576b"
             ],
             [
              0.6666666666666666,
              "#ed7953"
             ],
             [
              0.7777777777777778,
              "#fb9f3a"
             ],
             [
              0.8888888888888888,
              "#fdca26"
             ],
             [
              1,
              "#f0f921"
             ]
            ],
            "type": "heatmap"
           }
          ],
          "histogram": [
           {
            "marker": {
             "pattern": {
              "fillmode": "overlay",
              "size": 10,
              "solidity": 0.2
             }
            },
            "type": "histogram"
           }
          ],
          "histogram2d": [
           {
            "colorbar": {
             "outlinewidth": 0,
             "ticks": ""
            },
            "colorscale": [
             [
              0,
              "#0d0887"
             ],
             [
              0.1111111111111111,
              "#46039f"
             ],
             [
              0.2222222222222222,
              "#7201a8"
             ],
             [
              0.3333333333333333,
              "#9c179e"
             ],
             [
              0.4444444444444444,
              "#bd3786"
             ],
             [
              0.5555555555555556,
              "#d8576b"
             ],
             [
              0.6666666666666666,
              "#ed7953"
             ],
             [
              0.7777777777777778,
              "#fb9f3a"
             ],
             [
              0.8888888888888888,
              "#fdca26"
             ],
             [
              1,
              "#f0f921"
             ]
            ],
            "type": "histogram2d"
           }
          ],
          "histogram2dcontour": [
           {
            "colorbar": {
             "outlinewidth": 0,
             "ticks": ""
            },
            "colorscale": [
             [
              0,
              "#0d0887"
             ],
             [
              0.1111111111111111,
              "#46039f"
             ],
             [
              0.2222222222222222,
              "#7201a8"
             ],
             [
              0.3333333333333333,
              "#9c179e"
             ],
             [
              0.4444444444444444,
              "#bd3786"
             ],
             [
              0.5555555555555556,
              "#d8576b"
             ],
             [
              0.6666666666666666,
              "#ed7953"
             ],
             [
              0.7777777777777778,
              "#fb9f3a"
             ],
             [
              0.8888888888888888,
              "#fdca26"
             ],
             [
              1,
              "#f0f921"
             ]
            ],
            "type": "histogram2dcontour"
           }
          ],
          "mesh3d": [
           {
            "colorbar": {
             "outlinewidth": 0,
             "ticks": ""
            },
            "type": "mesh3d"
           }
          ],
          "parcoords": [
           {
            "line": {
             "colorbar": {
              "outlinewidth": 0,
              "ticks": ""
             }
            },
            "type": "parcoords"
           }
          ],
          "pie": [
           {
            "automargin": true,
            "type": "pie"
           }
          ],
          "scatter": [
           {
            "fillpattern": {
             "fillmode": "overlay",
             "size": 10,
             "solidity": 0.2
            },
            "type": "scatter"
           }
          ],
          "scatter3d": [
           {
            "line": {
             "colorbar": {
              "outlinewidth": 0,
              "ticks": ""
             }
            },
            "marker": {
             "colorbar": {
              "outlinewidth": 0,
              "ticks": ""
             }
            },
            "type": "scatter3d"
           }
          ],
          "scattercarpet": [
           {
            "marker": {
             "colorbar": {
              "outlinewidth": 0,
              "ticks": ""
             }
            },
            "type": "scattercarpet"
           }
          ],
          "scattergeo": [
           {
            "marker": {
             "colorbar": {
              "outlinewidth": 0,
              "ticks": ""
             }
            },
            "type": "scattergeo"
           }
          ],
          "scattergl": [
           {
            "marker": {
             "colorbar": {
              "outlinewidth": 0,
              "ticks": ""
             }
            },
            "type": "scattergl"
           }
          ],
          "scattermap": [
           {
            "marker": {
             "colorbar": {
              "outlinewidth": 0,
              "ticks": ""
             }
            },
            "type": "scattermap"
           }
          ],
          "scattermapbox": [
           {
            "marker": {
             "colorbar": {
              "outlinewidth": 0,
              "ticks": ""
             }
            },
            "type": "scattermapbox"
           }
          ],
          "scatterpolar": [
           {
            "marker": {
             "colorbar": {
              "outlinewidth": 0,
              "ticks": ""
             }
            },
            "type": "scatterpolar"
           }
          ],
          "scatterpolargl": [
           {
            "marker": {
             "colorbar": {
              "outlinewidth": 0,
              "ticks": ""
             }
            },
            "type": "scatterpolargl"
           }
          ],
          "scatterternary": [
           {
            "marker": {
             "colorbar": {
              "outlinewidth": 0,
              "ticks": ""
             }
            },
            "type": "scatterternary"
           }
          ],
          "surface": [
           {
            "colorbar": {
             "outlinewidth": 0,
             "ticks": ""
            },
            "colorscale": [
             [
              0,
              "#0d0887"
             ],
             [
              0.1111111111111111,
              "#46039f"
             ],
             [
              0.2222222222222222,
              "#7201a8"
             ],
             [
              0.3333333333333333,
              "#9c179e"
             ],
             [
              0.4444444444444444,
              "#bd3786"
             ],
             [
              0.5555555555555556,
              "#d8576b"
             ],
             [
              0.6666666666666666,
              "#ed7953"
             ],
             [
              0.7777777777777778,
              "#fb9f3a"
             ],
             [
              0.8888888888888888,
              "#fdca26"
             ],
             [
              1,
              "#f0f921"
             ]
            ],
            "type": "surface"
           }
          ],
          "table": [
           {
            "cells": {
             "fill": {
              "color": "#EBF0F8"
             },
             "line": {
              "color": "white"
             }
            },
            "header": {
             "fill": {
              "color": "#C8D4E3"
             },
             "line": {
              "color": "white"
             }
            },
            "type": "table"
           }
          ]
         },
         "layout": {
          "annotationdefaults": {
           "arrowcolor": "#2a3f5f",
           "arrowhead": 0,
           "arrowwidth": 1
          },
          "autotypenumbers": "strict",
          "coloraxis": {
           "colorbar": {
            "outlinewidth": 0,
            "ticks": ""
           }
          },
          "colorscale": {
           "diverging": [
            [
             0,
             "#8e0152"
            ],
            [
             0.1,
             "#c51b7d"
            ],
            [
             0.2,
             "#de77ae"
            ],
            [
             0.3,
             "#f1b6da"
            ],
            [
             0.4,
             "#fde0ef"
            ],
            [
             0.5,
             "#f7f7f7"
            ],
            [
             0.6,
             "#e6f5d0"
            ],
            [
             0.7,
             "#b8e186"
            ],
            [
             0.8,
             "#7fbc41"
            ],
            [
             0.9,
             "#4d9221"
            ],
            [
             1,
             "#276419"
            ]
           ],
           "sequential": [
            [
             0,
             "#0d0887"
            ],
            [
             0.1111111111111111,
             "#46039f"
            ],
            [
             0.2222222222222222,
             "#7201a8"
            ],
            [
             0.3333333333333333,
             "#9c179e"
            ],
            [
             0.4444444444444444,
             "#bd3786"
            ],
            [
             0.5555555555555556,
             "#d8576b"
            ],
            [
             0.6666666666666666,
             "#ed7953"
            ],
            [
             0.7777777777777778,
             "#fb9f3a"
            ],
            [
             0.8888888888888888,
             "#fdca26"
            ],
            [
             1,
             "#f0f921"
            ]
           ],
           "sequentialminus": [
            [
             0,
             "#0d0887"
            ],
            [
             0.1111111111111111,
             "#46039f"
            ],
            [
             0.2222222222222222,
             "#7201a8"
            ],
            [
             0.3333333333333333,
             "#9c179e"
            ],
            [
             0.4444444444444444,
             "#bd3786"
            ],
            [
             0.5555555555555556,
             "#d8576b"
            ],
            [
             0.6666666666666666,
             "#ed7953"
            ],
            [
             0.7777777777777778,
             "#fb9f3a"
            ],
            [
             0.8888888888888888,
             "#fdca26"
            ],
            [
             1,
             "#f0f921"
            ]
           ]
          },
          "colorway": [
           "#636efa",
           "#EF553B",
           "#00cc96",
           "#ab63fa",
           "#FFA15A",
           "#19d3f3",
           "#FF6692",
           "#B6E880",
           "#FF97FF",
           "#FECB52"
          ],
          "font": {
           "color": "#2a3f5f"
          },
          "geo": {
           "bgcolor": "white",
           "lakecolor": "white",
           "landcolor": "#E5ECF6",
           "showlakes": true,
           "showland": true,
           "subunitcolor": "white"
          },
          "hoverlabel": {
           "align": "left"
          },
          "hovermode": "closest",
          "mapbox": {
           "style": "light"
          },
          "paper_bgcolor": "white",
          "plot_bgcolor": "#E5ECF6",
          "polar": {
           "angularaxis": {
            "gridcolor": "white",
            "linecolor": "white",
            "ticks": ""
           },
           "bgcolor": "#E5ECF6",
           "radialaxis": {
            "gridcolor": "white",
            "linecolor": "white",
            "ticks": ""
           }
          },
          "scene": {
           "xaxis": {
            "backgroundcolor": "#E5ECF6",
            "gridcolor": "white",
            "gridwidth": 2,
            "linecolor": "white",
            "showbackground": true,
            "ticks": "",
            "zerolinecolor": "white"
           },
           "yaxis": {
            "backgroundcolor": "#E5ECF6",
            "gridcolor": "white",
            "gridwidth": 2,
            "linecolor": "white",
            "showbackground": true,
            "ticks": "",
            "zerolinecolor": "white"
           },
           "zaxis": {
            "backgroundcolor": "#E5ECF6",
            "gridcolor": "white",
            "gridwidth": 2,
            "linecolor": "white",
            "showbackground": true,
            "ticks": "",
            "zerolinecolor": "white"
           }
          },
          "shapedefaults": {
           "line": {
            "color": "#2a3f5f"
           }
          },
          "ternary": {
           "aaxis": {
            "gridcolor": "white",
            "linecolor": "white",
            "ticks": ""
           },
           "baxis": {
            "gridcolor": "white",
            "linecolor": "white",
            "ticks": ""
           },
           "bgcolor": "#E5ECF6",
           "caxis": {
            "gridcolor": "white",
            "linecolor": "white",
            "ticks": ""
           }
          },
          "title": {
           "x": 0.05
          },
          "xaxis": {
           "automargin": true,
           "gridcolor": "white",
           "linecolor": "white",
           "ticks": "",
           "title": {
            "standoff": 15
           },
           "zerolinecolor": "white",
           "zerolinewidth": 2
          },
          "yaxis": {
           "automargin": true,
           "gridcolor": "white",
           "linecolor": "white",
           "ticks": "",
           "title": {
            "standoff": 15
           },
           "zerolinecolor": "white",
           "zerolinewidth": 2
          }
         }
        },
        "xaxis": {
         "anchor": "y",
         "domain": [
          0,
          1
         ],
         "title": {
          "text": "Dep_Hour"
         }
        },
        "yaxis": {
         "anchor": "x",
         "domain": [
          0,
          1
         ],
         "title": {
          "text": "count"
         }
        }
       }
      }
     },
     "metadata": {},
     "output_type": "display_data"
    },
    {
     "data": {
      "application/vnd.plotly.v1+json": {
       "config": {
        "plotlyServerURL": "https://plot.ly"
       },
       "data": [
        {
         "bingroup": "x",
         "hovertemplate": "Arrival_Hour=%{x}<br>count=%{y}<extra></extra>",
         "legendgroup": "",
         "marker": {
          "color": "#636efa",
          "pattern": {
           "shape": ""
          }
         },
         "name": "",
         "orientation": "v",
         "showlegend": false,
         "type": "histogram",
         "x": {
          "bdata": "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",
          "dtype": "i4"
         },
         "xaxis": "x",
         "yaxis": "y"
        }
       ],
       "layout": {
        "barmode": "relative",
        "legend": {
         "tracegroupgap": 0
        },
        "margin": {
         "t": 60
        },
        "template": {
         "data": {
          "bar": [
           {
            "error_x": {
             "color": "#2a3f5f"
            },
            "error_y": {
             "color": "#2a3f5f"
            },
            "marker": {
             "line": {
              "color": "#E5ECF6",
              "width": 0.5
             },
             "pattern": {
              "fillmode": "overlay",
              "size": 10,
              "solidity": 0.2
             }
            },
            "type": "bar"
           }
          ],
          "barpolar": [
           {
            "marker": {
             "line": {
              "color": "#E5ECF6",
              "width": 0.5
             },
             "pattern": {
              "fillmode": "overlay",
              "size": 10,
              "solidity": 0.2
             }
            },
            "type": "barpolar"
           }
          ],
          "carpet": [
           {
            "aaxis": {
             "endlinecolor": "#2a3f5f",
             "gridcolor": "white",
             "linecolor": "white",
             "minorgridcolor": "white",
             "startlinecolor": "#2a3f5f"
            },
            "baxis": {
             "endlinecolor": "#2a3f5f",
             "gridcolor": "white",
             "linecolor": "white",
             "minorgridcolor": "white",
             "startlinecolor": "#2a3f5f"
            },
            "type": "carpet"
           }
          ],
          "choropleth": [
           {
            "colorbar": {
             "outlinewidth": 0,
             "ticks": ""
            },
            "type": "choropleth"
           }
          ],
          "contour": [
           {
            "colorbar": {
             "outlinewidth": 0,
             "ticks": ""
            },
            "colorscale": [
             [
              0,
              "#0d0887"
             ],
             [
              0.1111111111111111,
              "#46039f"
             ],
             [
              0.2222222222222222,
              "#7201a8"
             ],
             [
              0.3333333333333333,
              "#9c179e"
             ],
             [
              0.4444444444444444,
              "#bd3786"
             ],
             [
              0.5555555555555556,
              "#d8576b"
             ],
             [
              0.6666666666666666,
              "#ed7953"
             ],
             [
              0.7777777777777778,
              "#fb9f3a"
             ],
             [
              0.8888888888888888,
              "#fdca26"
             ],
             [
              1,
              "#f0f921"
             ]
            ],
            "type": "contour"
           }
          ],
          "contourcarpet": [
           {
            "colorbar": {
             "outlinewidth": 0,
             "ticks": ""
            },
            "type": "contourcarpet"
           }
          ],
          "heatmap": [
           {
            "colorbar": {
             "outlinewidth": 0,
             "ticks": ""
            },
            "colorscale": [
             [
              0,
              "#0d0887"
             ],
             [
              0.1111111111111111,
              "#46039f"
             ],
             [
              0.2222222222222222,
              "#7201a8"
             ],
             [
              0.3333333333333333,
              "#9c179e"
             ],
             [
              0.4444444444444444,
              "#bd3786"
             ],
             [
              0.5555555555555556,
              "#d8576b"
             ],
             [
              0.6666666666666666,
              "#ed7953"
             ],
             [
              0.7777777777777778,
              "#fb9f3a"
             ],
             [
              0.8888888888888888,
              "#fdca26"
             ],
             [
              1,
              "#f0f921"
             ]
            ],
            "type": "heatmap"
           }
          ],
          "histogram": [
           {
            "marker": {
             "pattern": {
              "fillmode": "overlay",
              "size": 10,
              "solidity": 0.2
             }
            },
            "type": "histogram"
           }
          ],
          "histogram2d": [
           {
            "colorbar": {
             "outlinewidth": 0,
             "ticks": ""
            },
            "colorscale": [
             [
              0,
              "#0d0887"
             ],
             [
              0.1111111111111111,
              "#46039f"
             ],
             [
              0.2222222222222222,
              "#7201a8"
             ],
             [
              0.3333333333333333,
              "#9c179e"
             ],
             [
              0.4444444444444444,
              "#bd3786"
             ],
             [
              0.5555555555555556,
              "#d8576b"
             ],
             [
              0.6666666666666666,
              "#ed7953"
             ],
             [
              0.7777777777777778,
              "#fb9f3a"
             ],
             [
              0.8888888888888888,
              "#fdca26"
             ],
             [
              1,
              "#f0f921"
             ]
            ],
            "type": "histogram2d"
           }
          ],
          "histogram2dcontour": [
           {
            "colorbar": {
             "outlinewidth": 0,
             "ticks": ""
            },
            "colorscale": [
             [
              0,
              "#0d0887"
             ],
             [
              0.1111111111111111,
              "#46039f"
             ],
             [
              0.2222222222222222,
              "#7201a8"
             ],
             [
              0.3333333333333333,
              "#9c179e"
             ],
             [
              0.4444444444444444,
              "#bd3786"
             ],
             [
              0.5555555555555556,
              "#d8576b"
             ],
             [
              0.6666666666666666,
              "#ed7953"
             ],
             [
              0.7777777777777778,
              "#fb9f3a"
             ],
             [
              0.8888888888888888,
              "#fdca26"
             ],
             [
              1,
              "#f0f921"
             ]
            ],
            "type": "histogram2dcontour"
           }
          ],
          "mesh3d": [
           {
            "colorbar": {
             "outlinewidth": 0,
             "ticks": ""
            },
            "type": "mesh3d"
           }
          ],
          "parcoords": [
           {
            "line": {
             "colorbar": {
              "outlinewidth": 0,
              "ticks": ""
             }
            },
            "type": "parcoords"
           }
          ],
          "pie": [
           {
            "automargin": true,
            "type": "pie"
           }
          ],
          "scatter": [
           {
            "fillpattern": {
             "fillmode": "overlay",
             "size": 10,
             "solidity": 0.2
            },
            "type": "scatter"
           }
          ],
          "scatter3d": [
           {
            "line": {
             "colorbar": {
              "outlinewidth": 0,
              "ticks": ""
             }
            },
            "marker": {
             "colorbar": {
              "outlinewidth": 0,
              "ticks": ""
             }
            },
            "type": "scatter3d"
           }
          ],
          "scattercarpet": [
           {
            "marker": {
             "colorbar": {
              "outlinewidth": 0,
              "ticks": ""
             }
            },
            "type": "scattercarpet"
           }
          ],
          "scattergeo": [
           {
            "marker": {
             "colorbar": {
              "outlinewidth": 0,
              "ticks": ""
             }
            },
            "type": "scattergeo"
           }
          ],
          "scattergl": [
           {
            "marker": {
             "colorbar": {
              "outlinewidth": 0,
              "ticks": ""
             }
            },
            "type": "scattergl"
           }
          ],
          "scattermap": [
           {
            "marker": {
             "colorbar": {
              "outlinewidth": 0,
              "ticks": ""
             }
            },
            "type": "scattermap"
           }
          ],
          "scattermapbox": [
           {
            "marker": {
             "colorbar": {
              "outlinewidth": 0,
              "ticks": ""
             }
            },
            "type": "scattermapbox"
           }
          ],
          "scatterpolar": [
           {
            "marker": {
             "colorbar": {
              "outlinewidth": 0,
              "ticks": ""
             }
            },
            "type": "scatterpolar"
           }
          ],
          "scatterpolargl": [
           {
            "marker": {
             "colorbar": {
              "outlinewidth": 0,
              "ticks": ""
             }
            },
            "type": "scatterpolargl"
           }
          ],
          "scatterternary": [
           {
            "marker": {
             "colorbar": {
              "outlinewidth": 0,
              "ticks": ""
             }
            },
            "type": "scatterternary"
           }
          ],
          "surface": [
           {
            "colorbar": {
             "outlinewidth": 0,
             "ticks": ""
            },
            "colorscale": [
             [
              0,
              "#0d0887"
             ],
             [
              0.1111111111111111,
              "#46039f"
             ],
             [
              0.2222222222222222,
              "#7201a8"
             ],
             [
              0.3333333333333333,
              "#9c179e"
             ],
             [
              0.4444444444444444,
              "#bd3786"
             ],
             [
              0.5555555555555556,
              "#d8576b"
             ],
             [
              0.6666666666666666,
              "#ed7953"
             ],
             [
              0.7777777777777778,
              "#fb9f3a"
             ],
             [
              0.8888888888888888,
              "#fdca26"
             ],
             [
              1,
              "#f0f921"
             ]
            ],
            "type": "surface"
           }
          ],
          "table": [
           {
            "cells": {
             "fill": {
              "color": "#EBF0F8"
             },
             "line": {
              "color": "white"
             }
            },
            "header": {
             "fill": {
              "color": "#C8D4E3"
             },
             "line": {
              "color": "white"
             }
            },
            "type": "table"
           }
          ]
         },
         "layout": {
          "annotationdefaults": {
           "arrowcolor": "#2a3f5f",
           "arrowhead": 0,
           "arrowwidth": 1
          },
          "autotypenumbers": "strict",
          "coloraxis": {
           "colorbar": {
            "outlinewidth": 0,
            "ticks": ""
           }
          },
          "colorscale": {
           "diverging": [
            [
             0,
             "#8e0152"
            ],
            [
             0.1,
             "#c51b7d"
            ],
            [
             0.2,
             "#de77ae"
            ],
            [
             0.3,
             "#f1b6da"
            ],
            [
             0.4,
             "#fde0ef"
            ],
            [
             0.5,
             "#f7f7f7"
            ],
            [
             0.6,
             "#e6f5d0"
            ],
            [
             0.7,
             "#b8e186"
            ],
            [
             0.8,
             "#7fbc41"
            ],
            [
             0.9,
             "#4d9221"
            ],
            [
             1,
             "#276419"
            ]
           ],
           "sequential": [
            [
             0,
             "#0d0887"
            ],
            [
             0.1111111111111111,
             "#46039f"
            ],
            [
             0.2222222222222222,
             "#7201a8"
            ],
            [
             0.3333333333333333,
             "#9c179e"
            ],
            [
             0.4444444444444444,
             "#bd3786"
            ],
            [
             0.5555555555555556,
             "#d8576b"
            ],
            [
             0.6666666666666666,
             "#ed7953"
            ],
            [
             0.7777777777777778,
             "#fb9f3a"
            ],
            [
             0.8888888888888888,
             "#fdca26"
            ],
            [
             1,
             "#f0f921"
            ]
           ],
           "sequentialminus": [
            [
             0,
             "#0d0887"
            ],
            [
             0.1111111111111111,
             "#46039f"
            ],
            [
             0.2222222222222222,
             "#7201a8"
            ],
            [
             0.3333333333333333,
             "#9c179e"
            ],
            [
             0.4444444444444444,
             "#bd3786"
            ],
            [
             0.5555555555555556,
             "#d8576b"
            ],
            [
             0.6666666666666666,
             "#ed7953"
            ],
            [
             0.7777777777777778,
             "#fb9f3a"
            ],
            [
             0.8888888888888888,
             "#fdca26"
            ],
            [
             1,
             "#f0f921"
            ]
           ]
          },
          "colorway": [
           "#636efa",
           "#EF553B",
           "#00cc96",
           "#ab63fa",
           "#FFA15A",
           "#19d3f3",
           "#FF6692",
           "#B6E880",
           "#FF97FF",
           "#FECB52"
          ],
          "font": {
           "color": "#2a3f5f"
          },
          "geo": {
           "bgcolor": "white",
           "lakecolor": "white",
           "landcolor": "#E5ECF6",
           "showlakes": true,
           "showland": true,
           "subunitcolor": "white"
          },
          "hoverlabel": {
           "align": "left"
          },
          "hovermode": "closest",
          "mapbox": {
           "style": "light"
          },
          "paper_bgcolor": "white",
          "plot_bgcolor": "#E5ECF6",
          "polar": {
           "angularaxis": {
            "gridcolor": "white",
            "linecolor": "white",
            "ticks": ""
           },
           "bgcolor": "#E5ECF6",
           "radialaxis": {
            "gridcolor": "white",
            "linecolor": "white",
            "ticks": ""
           }
          },
          "scene": {
           "xaxis": {
            "backgroundcolor": "#E5ECF6",
            "gridcolor": "white",
            "gridwidth": 2,
            "linecolor": "white",
            "showbackground": true,
            "ticks": "",
            "zerolinecolor": "white"
           },
           "yaxis": {
            "backgroundcolor": "#E5ECF6",
            "gridcolor": "white",
            "gridwidth": 2,
            "linecolor": "white",
            "showbackground": true,
            "ticks": "",
            "zerolinecolor": "white"
           },
           "zaxis": {
            "backgroundcolor": "#E5ECF6",
            "gridcolor": "white",
            "gridwidth": 2,
            "linecolor": "white",
            "showbackground": true,
            "ticks": "",
            "zerolinecolor": "white"
           }
          },
          "shapedefaults": {
           "line": {
            "color": "#2a3f5f"
           }
          },
          "ternary": {
           "aaxis": {
            "gridcolor": "white",
            "linecolor": "white",
            "ticks": ""
           },
           "baxis": {
            "gridcolor": "white",
            "linecolor": "white",
            "ticks": ""
           },
           "bgcolor": "#E5ECF6",
           "caxis": {
            "gridcolor": "white",
            "linecolor": "white",
            "ticks": ""
           }
          },
          "title": {
           "x": 0.05
          },
          "xaxis": {
           "automargin": true,
           "gridcolor": "white",
           "linecolor": "white",
           "ticks": "",
           "title": {
            "standoff": 15
           },
           "zerolinecolor": "white",
           "zerolinewidth": 2
          },
          "yaxis": {
           "automargin": true,
           "gridcolor": "white",
           "linecolor": "white",
           "ticks": "",
           "title": {
            "standoff": 15
           },
           "zerolinecolor": "white",
           "zerolinewidth": 2
          }
         }
        },
        "xaxis": {
         "anchor": "y",
         "domain": [
          0,
          1
         ],
         "title": {
          "text": "Arrival_Hour"
         }
        },
        "yaxis": {
         "anchor": "x",
         "domain": [
          0,
          1
         ],
         "title": {
          "text": "count"
         }
        }
       }
      }
     },
     "metadata": {},
     "output_type": "display_data"
    }
   ],
   "source": [
    "for col in num_col:\n",
    "    px.histogram(data_frame=df, x=col).show()"
   ]
  },
  {
   "cell_type": "markdown",
   "id": "380ca09e",
   "metadata": {},
   "source": [
    "# Featuer Engineering"
   ]
  },
  {
   "cell_type": "code",
   "execution_count": 163,
   "id": "ad948a09",
   "metadata": {},
   "outputs": [],
   "source": [
    "df[\"Route_Count\"] = df[\"Route\"].apply(lambda x: len(x.split(\"→\")) - 1)  "
   ]
  },
  {
   "cell_type": "code",
   "execution_count": 164,
   "id": "0dcb8f6d",
   "metadata": {},
   "outputs": [],
   "source": [
    "df[\"Is_Direct\"] = df[\"Route\"].apply(lambda x: 1 if \"non-stop\" in x else 0)"
   ]
  },
  {
   "cell_type": "code",
   "execution_count": 165,
   "id": "2efac35d",
   "metadata": {},
   "outputs": [],
   "source": [
    "df.drop('Total_Stops', axis=1, inplace=True)"
   ]
  },
  {
   "cell_type": "code",
   "execution_count": 166,
   "id": "556ed007",
   "metadata": {},
   "outputs": [],
   "source": [
    "df[\"Intermediate_Stops\"] = df[\"Route\"].apply(lambda x: len(x.split(\"→\")) - 2)  "
   ]
  },
  {
   "cell_type": "markdown",
   "id": "0d3da324",
   "metadata": {},
   "source": [
    "# Encoding"
   ]
  },
  {
   "cell_type": "code",
   "execution_count": 167,
   "id": "d0076b2a",
   "metadata": {},
   "outputs": [],
   "source": [
    "from sklearn.preprocessing import OneHotEncoder\n",
    "\n",
    "ohe = OneHotEncoder(drop='first', sparse_output=False)\n",
    "airline_encoded = ohe.fit_transform(df[['Airline']])\n",
    "airline_df = pd.DataFrame(airline_encoded, columns=ohe.get_feature_names_out(['Airline']))"
   ]
  },
  {
   "cell_type": "code",
   "execution_count": 168,
   "id": "a1dcb4b1",
   "metadata": {},
   "outputs": [],
   "source": [
    "df.drop('Airline',axis=1 ,inplace=True)"
   ]
  },
  {
   "cell_type": "code",
   "execution_count": 169,
   "id": "eea2160b",
   "metadata": {},
   "outputs": [],
   "source": [
    "airline_df.index = df.index "
   ]
  },
  {
   "cell_type": "code",
   "execution_count": 170,
   "id": "1f8843df",
   "metadata": {},
   "outputs": [],
   "source": [
    "df = pd.concat([df, airline_df], axis=1)\n"
   ]
  },
  {
   "cell_type": "code",
   "execution_count": 171,
   "id": "1f4421f8",
   "metadata": {},
   "outputs": [],
   "source": [
    "ohe = OneHotEncoder(drop='first', sparse_output=False)\n",
    "Source_encoded = ohe.fit_transform(df[['Source']])\n",
    "Source_df = pd.DataFrame(Source_encoded, columns=ohe.get_feature_names_out(['Source']))"
   ]
  },
  {
   "cell_type": "code",
   "execution_count": 172,
   "id": "e0d1223b",
   "metadata": {},
   "outputs": [],
   "source": [
    "df.drop('Source',axis=1 ,inplace=True)"
   ]
  },
  {
   "cell_type": "code",
   "execution_count": 173,
   "id": "ca314083",
   "metadata": {},
   "outputs": [],
   "source": [
    "Source_df.index = df.index"
   ]
  },
  {
   "cell_type": "code",
   "execution_count": 174,
   "id": "cc147eaa",
   "metadata": {},
   "outputs": [],
   "source": [
    "df = pd.concat([df, Source_df], axis=1)\n"
   ]
  },
  {
   "cell_type": "code",
   "execution_count": 175,
   "id": "510d6475",
   "metadata": {},
   "outputs": [],
   "source": [
    "ohe = OneHotEncoder(drop='first', sparse_output=False)\n",
    "Destination_encoded = ohe.fit_transform(df[['Destination']])\n",
    "Destination_df = pd.DataFrame(Destination_encoded, columns=ohe.get_feature_names_out(['Destination']))\n",
    "df.drop('Destination',axis=1 ,inplace=True)\n",
    "Destination_df.index = df.index\n",
    "df = pd.concat([df, Destination_df], axis=1)\n"
   ]
  },
  {
   "cell_type": "code",
   "execution_count": 176,
   "id": "fbcec9cd",
   "metadata": {},
   "outputs": [],
   "source": [
    "route_freq = df['Route'].value_counts()\n",
    "df['Route_encoded'] = df['Route'].map(route_freq)"
   ]
  },
  {
   "cell_type": "code",
   "execution_count": 177,
   "id": "089fb29b",
   "metadata": {},
   "outputs": [],
   "source": [
    "from sklearn.preprocessing import RobustScaler\n",
    "scaler = RobustScaler()\n",
    "df['Route_encoded_scaled'] = scaler.fit_transform(df[['Route_encoded']])"
   ]
  },
  {
   "cell_type": "code",
   "execution_count": 178,
   "id": "3ceb52fb",
   "metadata": {},
   "outputs": [],
   "source": [
    "df.drop('Route_encoded', axis=1, inplace=True)"
   ]
  },
  {
   "cell_type": "code",
   "execution_count": 179,
   "id": "59eb81a8",
   "metadata": {},
   "outputs": [],
   "source": [
    "df.drop('Route', axis=1, inplace=True)"
   ]
  },
  {
   "cell_type": "code",
   "execution_count": 180,
   "id": "56322718",
   "metadata": {},
   "outputs": [],
   "source": [
    "ohe = OneHotEncoder(drop='first', sparse_output=False)\n",
    "Journey_Weekday_encoded = ohe.fit_transform(df[['Journey_Weekday']])\n",
    "Journey_Weekday_df = pd.DataFrame(Journey_Weekday_encoded, columns=ohe.get_feature_names_out(['Journey_Weekday']))\n",
    "df.drop('Journey_Weekday',axis=1 ,inplace=True)\n",
    "Journey_Weekday_df.index = df.index\n",
    "df = pd.concat([df, Journey_Weekday_df], axis=1)"
   ]
  },
  {
   "cell_type": "code",
   "execution_count": 181,
   "id": "6e6289b8",
   "metadata": {},
   "outputs": [],
   "source": [
    "ohe = OneHotEncoder(drop='first', sparse_output=False)\n",
    "Additional_Info_encoded = ohe.fit_transform(df[['Additional_Info']])\n",
    "Additional_Info_df = pd.DataFrame(Additional_Info_encoded, columns=ohe.get_feature_names_out(['Additional_Info']))\n",
    "df.drop('Additional_Info',axis=1 ,inplace=True)\n",
    "Additional_Info_df.index = df.index\n",
    "df = pd.concat([df, Additional_Info_df], axis=1)"
   ]
  },
  {
   "cell_type": "markdown",
   "id": "dbecf1c8",
   "metadata": {},
   "source": [
    "#  split Data into Train and test "
   ]
  },
  {
   "cell_type": "markdown",
   "id": "31325557",
   "metadata": {},
   "source": []
  },
  {
   "cell_type": "code",
   "execution_count": 182,
   "id": "c710414c",
   "metadata": {},
   "outputs": [],
   "source": [
    "X = df.drop(columns=['Price'])"
   ]
  },
  {
   "cell_type": "code",
   "execution_count": 183,
   "id": "61c980ef",
   "metadata": {},
   "outputs": [],
   "source": [
    "y = df['Price']"
   ]
  },
  {
   "cell_type": "code",
   "execution_count": 184,
   "id": "6dadfdeb",
   "metadata": {},
   "outputs": [
    {
     "data": {
      "text/html": [
       "<div>\n",
       "<style scoped>\n",
       "    .dataframe tbody tr th:only-of-type {\n",
       "        vertical-align: middle;\n",
       "    }\n",
       "\n",
       "    .dataframe tbody tr th {\n",
       "        vertical-align: top;\n",
       "    }\n",
       "\n",
       "    .dataframe thead th {\n",
       "        text-align: right;\n",
       "    }\n",
       "</style>\n",
       "<table border=\"1\" class=\"dataframe\">\n",
       "  <thead>\n",
       "    <tr style=\"text-align: right;\">\n",
       "      <th></th>\n",
       "      <th>Duration</th>\n",
       "      <th>Journey_Day</th>\n",
       "      <th>Journey_Month</th>\n",
       "      <th>Journey_Year</th>\n",
       "      <th>Dep_Hour</th>\n",
       "      <th>Arrival_Hour</th>\n",
       "      <th>Route_Count</th>\n",
       "      <th>Is_Direct</th>\n",
       "      <th>Intermediate_Stops</th>\n",
       "      <th>Airline_Air India</th>\n",
       "      <th>Airline_GoAir</th>\n",
       "      <th>Airline_IndiGo</th>\n",
       "      <th>Airline_Jet Airways</th>\n",
       "      <th>Airline_Jet Airways Business</th>\n",
       "      <th>Airline_Multiple carriers</th>\n",
       "      <th>Airline_Multiple carriers Premium economy</th>\n",
       "      <th>Airline_SpiceJet</th>\n",
       "      <th>Airline_Trujet</th>\n",
       "      <th>Airline_Vistara</th>\n",
       "      <th>Airline_Vistara Premium economy</th>\n",
       "      <th>Source_Chennai</th>\n",
       "      <th>Source_Delhi</th>\n",
       "      <th>Source_Kolkata</th>\n",
       "      <th>Source_Mumbai</th>\n",
       "      <th>Destination_Cochin</th>\n",
       "      <th>Destination_Delhi</th>\n",
       "      <th>Destination_Hyderabad</th>\n",
       "      <th>Destination_Kolkata</th>\n",
       "      <th>Destination_New Delhi</th>\n",
       "      <th>Route_encoded_scaled</th>\n",
       "      <th>Journey_Weekday_Monday</th>\n",
       "      <th>Journey_Weekday_Saturday</th>\n",
       "      <th>Journey_Weekday_Sunday</th>\n",
       "      <th>Journey_Weekday_Thursday</th>\n",
       "      <th>Journey_Weekday_Tuesday</th>\n",
       "      <th>Journey_Weekday_Wednesday</th>\n",
       "      <th>Additional_Info_1 Short layover</th>\n",
       "      <th>Additional_Info_2 Long layover</th>\n",
       "      <th>Additional_Info_Business class</th>\n",
       "      <th>Additional_Info_Change airports</th>\n",
       "      <th>Additional_Info_In-flight meal not included</th>\n",
       "      <th>Additional_Info_No Info</th>\n",
       "      <th>Additional_Info_No check-in baggage included</th>\n",
       "      <th>Additional_Info_No info</th>\n",
       "      <th>Additional_Info_Red-eye flight</th>\n",
       "    </tr>\n",
       "  </thead>\n",
       "  <tbody>\n",
       "    <tr>\n",
       "      <th>0</th>\n",
       "      <td>170</td>\n",
       "      <td>24</td>\n",
       "      <td>3</td>\n",
       "      <td>2019</td>\n",
       "      <td>22</td>\n",
       "      <td>1</td>\n",
       "      <td>1</td>\n",
       "      <td>0</td>\n",
       "      <td>0</td>\n",
       "      <td>0.0</td>\n",
       "      <td>0.0</td>\n",
       "      <td>1.0</td>\n",
       "      <td>0.0</td>\n",
       "      <td>0.0</td>\n",
       "      <td>0.0</td>\n",
       "      <td>0.0</td>\n",
       "      <td>0.0</td>\n",
       "      <td>0.0</td>\n",
       "      <td>0.0</td>\n",
       "      <td>0.0</td>\n",
       "      <td>0.0</td>\n",
       "      <td>0.0</td>\n",
       "      <td>0.0</td>\n",
       "      <td>0.0</td>\n",
       "      <td>0.0</td>\n",
       "      <td>0.0</td>\n",
       "      <td>0.0</td>\n",
       "      <td>0.0</td>\n",
       "      <td>1.0</td>\n",
       "      <td>0.671074</td>\n",
       "      <td>0.0</td>\n",
       "      <td>0.0</td>\n",
       "      <td>1.0</td>\n",
       "      <td>0.0</td>\n",
       "      <td>0.0</td>\n",
       "      <td>0.0</td>\n",
       "      <td>0.0</td>\n",
       "      <td>0.0</td>\n",
       "      <td>0.0</td>\n",
       "      <td>0.0</td>\n",
       "      <td>0.0</td>\n",
       "      <td>0.0</td>\n",
       "      <td>0.0</td>\n",
       "      <td>1.0</td>\n",
       "      <td>0.0</td>\n",
       "    </tr>\n",
       "    <tr>\n",
       "      <th>1</th>\n",
       "      <td>445</td>\n",
       "      <td>1</td>\n",
       "      <td>5</td>\n",
       "      <td>2019</td>\n",
       "      <td>5</td>\n",
       "      <td>13</td>\n",
       "      <td>3</td>\n",
       "      <td>0</td>\n",
       "      <td>2</td>\n",
       "      <td>1.0</td>\n",
       "      <td>0.0</td>\n",
       "      <td>0.0</td>\n",
       "      <td>0.0</td>\n",
       "      <td>0.0</td>\n",
       "      <td>0.0</td>\n",
       "      <td>0.0</td>\n",
       "      <td>0.0</td>\n",
       "      <td>0.0</td>\n",
       "      <td>0.0</td>\n",
       "      <td>0.0</td>\n",
       "      <td>0.0</td>\n",
       "      <td>0.0</td>\n",
       "      <td>1.0</td>\n",
       "      <td>0.0</td>\n",
       "      <td>0.0</td>\n",
       "      <td>0.0</td>\n",
       "      <td>0.0</td>\n",
       "      <td>0.0</td>\n",
       "      <td>0.0</td>\n",
       "      <td>-0.593388</td>\n",
       "      <td>0.0</td>\n",
       "      <td>0.0</td>\n",
       "      <td>0.0</td>\n",
       "      <td>0.0</td>\n",
       "      <td>0.0</td>\n",
       "      <td>1.0</td>\n",
       "      <td>0.0</td>\n",
       "      <td>0.0</td>\n",
       "      <td>0.0</td>\n",
       "      <td>0.0</td>\n",
       "      <td>0.0</td>\n",
       "      <td>0.0</td>\n",
       "      <td>0.0</td>\n",
       "      <td>1.0</td>\n",
       "      <td>0.0</td>\n",
       "    </tr>\n",
       "    <tr>\n",
       "      <th>2</th>\n",
       "      <td>1140</td>\n",
       "      <td>9</td>\n",
       "      <td>6</td>\n",
       "      <td>2019</td>\n",
       "      <td>9</td>\n",
       "      <td>4</td>\n",
       "      <td>3</td>\n",
       "      <td>0</td>\n",
       "      <td>2</td>\n",
       "      <td>0.0</td>\n",
       "      <td>0.0</td>\n",
       "      <td>0.0</td>\n",
       "      <td>1.0</td>\n",
       "      <td>0.0</td>\n",
       "      <td>0.0</td>\n",
       "      <td>0.0</td>\n",
       "      <td>0.0</td>\n",
       "      <td>0.0</td>\n",
       "      <td>0.0</td>\n",
       "      <td>0.0</td>\n",
       "      <td>0.0</td>\n",
       "      <td>1.0</td>\n",
       "      <td>0.0</td>\n",
       "      <td>0.0</td>\n",
       "      <td>1.0</td>\n",
       "      <td>0.0</td>\n",
       "      <td>0.0</td>\n",
       "      <td>0.0</td>\n",
       "      <td>0.0</td>\n",
       "      <td>-0.564463</td>\n",
       "      <td>0.0</td>\n",
       "      <td>0.0</td>\n",
       "      <td>1.0</td>\n",
       "      <td>0.0</td>\n",
       "      <td>0.0</td>\n",
       "      <td>0.0</td>\n",
       "      <td>0.0</td>\n",
       "      <td>0.0</td>\n",
       "      <td>0.0</td>\n",
       "      <td>0.0</td>\n",
       "      <td>0.0</td>\n",
       "      <td>0.0</td>\n",
       "      <td>0.0</td>\n",
       "      <td>1.0</td>\n",
       "      <td>0.0</td>\n",
       "    </tr>\n",
       "    <tr>\n",
       "      <th>3</th>\n",
       "      <td>325</td>\n",
       "      <td>12</td>\n",
       "      <td>5</td>\n",
       "      <td>2019</td>\n",
       "      <td>18</td>\n",
       "      <td>23</td>\n",
       "      <td>2</td>\n",
       "      <td>0</td>\n",
       "      <td>1</td>\n",
       "      <td>0.0</td>\n",
       "      <td>0.0</td>\n",
       "      <td>1.0</td>\n",
       "      <td>0.0</td>\n",
       "      <td>0.0</td>\n",
       "      <td>0.0</td>\n",
       "      <td>0.0</td>\n",
       "      <td>0.0</td>\n",
       "      <td>0.0</td>\n",
       "      <td>0.0</td>\n",
       "      <td>0.0</td>\n",
       "      <td>0.0</td>\n",
       "      <td>0.0</td>\n",
       "      <td>1.0</td>\n",
       "      <td>0.0</td>\n",
       "      <td>0.0</td>\n",
       "      <td>0.0</td>\n",
       "      <td>0.0</td>\n",
       "      <td>0.0</td>\n",
       "      <td>0.0</td>\n",
       "      <td>-0.590909</td>\n",
       "      <td>0.0</td>\n",
       "      <td>0.0</td>\n",
       "      <td>1.0</td>\n",
       "      <td>0.0</td>\n",
       "      <td>0.0</td>\n",
       "      <td>0.0</td>\n",
       "      <td>0.0</td>\n",
       "      <td>0.0</td>\n",
       "      <td>0.0</td>\n",
       "      <td>0.0</td>\n",
       "      <td>0.0</td>\n",
       "      <td>0.0</td>\n",
       "      <td>0.0</td>\n",
       "      <td>1.0</td>\n",
       "      <td>0.0</td>\n",
       "    </tr>\n",
       "    <tr>\n",
       "      <th>4</th>\n",
       "      <td>285</td>\n",
       "      <td>1</td>\n",
       "      <td>3</td>\n",
       "      <td>2019</td>\n",
       "      <td>16</td>\n",
       "      <td>21</td>\n",
       "      <td>2</td>\n",
       "      <td>0</td>\n",
       "      <td>1</td>\n",
       "      <td>0.0</td>\n",
       "      <td>0.0</td>\n",
       "      <td>1.0</td>\n",
       "      <td>0.0</td>\n",
       "      <td>0.0</td>\n",
       "      <td>0.0</td>\n",
       "      <td>0.0</td>\n",
       "      <td>0.0</td>\n",
       "      <td>0.0</td>\n",
       "      <td>0.0</td>\n",
       "      <td>0.0</td>\n",
       "      <td>0.0</td>\n",
       "      <td>0.0</td>\n",
       "      <td>0.0</td>\n",
       "      <td>0.0</td>\n",
       "      <td>0.0</td>\n",
       "      <td>0.0</td>\n",
       "      <td>0.0</td>\n",
       "      <td>0.0</td>\n",
       "      <td>1.0</td>\n",
       "      <td>-0.595868</td>\n",
       "      <td>0.0</td>\n",
       "      <td>0.0</td>\n",
       "      <td>0.0</td>\n",
       "      <td>0.0</td>\n",
       "      <td>0.0</td>\n",
       "      <td>0.0</td>\n",
       "      <td>0.0</td>\n",
       "      <td>0.0</td>\n",
       "      <td>0.0</td>\n",
       "      <td>0.0</td>\n",
       "      <td>0.0</td>\n",
       "      <td>0.0</td>\n",
       "      <td>0.0</td>\n",
       "      <td>1.0</td>\n",
       "      <td>0.0</td>\n",
       "    </tr>\n",
       "    <tr>\n",
       "      <th>...</th>\n",
       "      <td>...</td>\n",
       "      <td>...</td>\n",
       "      <td>...</td>\n",
       "      <td>...</td>\n",
       "      <td>...</td>\n",
       "      <td>...</td>\n",
       "      <td>...</td>\n",
       "      <td>...</td>\n",
       "      <td>...</td>\n",
       "      <td>...</td>\n",
       "      <td>...</td>\n",
       "      <td>...</td>\n",
       "      <td>...</td>\n",
       "      <td>...</td>\n",
       "      <td>...</td>\n",
       "      <td>...</td>\n",
       "      <td>...</td>\n",
       "      <td>...</td>\n",
       "      <td>...</td>\n",
       "      <td>...</td>\n",
       "      <td>...</td>\n",
       "      <td>...</td>\n",
       "      <td>...</td>\n",
       "      <td>...</td>\n",
       "      <td>...</td>\n",
       "      <td>...</td>\n",
       "      <td>...</td>\n",
       "      <td>...</td>\n",
       "      <td>...</td>\n",
       "      <td>...</td>\n",
       "      <td>...</td>\n",
       "      <td>...</td>\n",
       "      <td>...</td>\n",
       "      <td>...</td>\n",
       "      <td>...</td>\n",
       "      <td>...</td>\n",
       "      <td>...</td>\n",
       "      <td>...</td>\n",
       "      <td>...</td>\n",
       "      <td>...</td>\n",
       "      <td>...</td>\n",
       "      <td>...</td>\n",
       "      <td>...</td>\n",
       "      <td>...</td>\n",
       "      <td>...</td>\n",
       "    </tr>\n",
       "    <tr>\n",
       "      <th>10678</th>\n",
       "      <td>150</td>\n",
       "      <td>9</td>\n",
       "      <td>4</td>\n",
       "      <td>2019</td>\n",
       "      <td>19</td>\n",
       "      <td>22</td>\n",
       "      <td>1</td>\n",
       "      <td>0</td>\n",
       "      <td>0</td>\n",
       "      <td>0.0</td>\n",
       "      <td>0.0</td>\n",
       "      <td>0.0</td>\n",
       "      <td>0.0</td>\n",
       "      <td>0.0</td>\n",
       "      <td>0.0</td>\n",
       "      <td>0.0</td>\n",
       "      <td>0.0</td>\n",
       "      <td>0.0</td>\n",
       "      <td>0.0</td>\n",
       "      <td>0.0</td>\n",
       "      <td>0.0</td>\n",
       "      <td>0.0</td>\n",
       "      <td>1.0</td>\n",
       "      <td>0.0</td>\n",
       "      <td>0.0</td>\n",
       "      <td>0.0</td>\n",
       "      <td>0.0</td>\n",
       "      <td>0.0</td>\n",
       "      <td>0.0</td>\n",
       "      <td>0.000000</td>\n",
       "      <td>0.0</td>\n",
       "      <td>0.0</td>\n",
       "      <td>0.0</td>\n",
       "      <td>0.0</td>\n",
       "      <td>1.0</td>\n",
       "      <td>0.0</td>\n",
       "      <td>0.0</td>\n",
       "      <td>0.0</td>\n",
       "      <td>0.0</td>\n",
       "      <td>0.0</td>\n",
       "      <td>0.0</td>\n",
       "      <td>0.0</td>\n",
       "      <td>0.0</td>\n",
       "      <td>1.0</td>\n",
       "      <td>0.0</td>\n",
       "    </tr>\n",
       "    <tr>\n",
       "      <th>10679</th>\n",
       "      <td>155</td>\n",
       "      <td>27</td>\n",
       "      <td>4</td>\n",
       "      <td>2019</td>\n",
       "      <td>20</td>\n",
       "      <td>23</td>\n",
       "      <td>1</td>\n",
       "      <td>0</td>\n",
       "      <td>0</td>\n",
       "      <td>1.0</td>\n",
       "      <td>0.0</td>\n",
       "      <td>0.0</td>\n",
       "      <td>0.0</td>\n",
       "      <td>0.0</td>\n",
       "      <td>0.0</td>\n",
       "      <td>0.0</td>\n",
       "      <td>0.0</td>\n",
       "      <td>0.0</td>\n",
       "      <td>0.0</td>\n",
       "      <td>0.0</td>\n",
       "      <td>0.0</td>\n",
       "      <td>0.0</td>\n",
       "      <td>1.0</td>\n",
       "      <td>0.0</td>\n",
       "      <td>0.0</td>\n",
       "      <td>0.0</td>\n",
       "      <td>0.0</td>\n",
       "      <td>0.0</td>\n",
       "      <td>0.0</td>\n",
       "      <td>0.000000</td>\n",
       "      <td>0.0</td>\n",
       "      <td>1.0</td>\n",
       "      <td>0.0</td>\n",
       "      <td>0.0</td>\n",
       "      <td>0.0</td>\n",
       "      <td>0.0</td>\n",
       "      <td>0.0</td>\n",
       "      <td>0.0</td>\n",
       "      <td>0.0</td>\n",
       "      <td>0.0</td>\n",
       "      <td>0.0</td>\n",
       "      <td>0.0</td>\n",
       "      <td>0.0</td>\n",
       "      <td>1.0</td>\n",
       "      <td>0.0</td>\n",
       "    </tr>\n",
       "    <tr>\n",
       "      <th>10680</th>\n",
       "      <td>180</td>\n",
       "      <td>27</td>\n",
       "      <td>4</td>\n",
       "      <td>2019</td>\n",
       "      <td>8</td>\n",
       "      <td>11</td>\n",
       "      <td>1</td>\n",
       "      <td>0</td>\n",
       "      <td>0</td>\n",
       "      <td>0.0</td>\n",
       "      <td>0.0</td>\n",
       "      <td>0.0</td>\n",
       "      <td>1.0</td>\n",
       "      <td>0.0</td>\n",
       "      <td>0.0</td>\n",
       "      <td>0.0</td>\n",
       "      <td>0.0</td>\n",
       "      <td>0.0</td>\n",
       "      <td>0.0</td>\n",
       "      <td>0.0</td>\n",
       "      <td>0.0</td>\n",
       "      <td>0.0</td>\n",
       "      <td>0.0</td>\n",
       "      <td>0.0</td>\n",
       "      <td>0.0</td>\n",
       "      <td>1.0</td>\n",
       "      <td>0.0</td>\n",
       "      <td>0.0</td>\n",
       "      <td>0.0</td>\n",
       "      <td>0.671074</td>\n",
       "      <td>0.0</td>\n",
       "      <td>1.0</td>\n",
       "      <td>0.0</td>\n",
       "      <td>0.0</td>\n",
       "      <td>0.0</td>\n",
       "      <td>0.0</td>\n",
       "      <td>0.0</td>\n",
       "      <td>0.0</td>\n",
       "      <td>0.0</td>\n",
       "      <td>0.0</td>\n",
       "      <td>0.0</td>\n",
       "      <td>0.0</td>\n",
       "      <td>0.0</td>\n",
       "      <td>1.0</td>\n",
       "      <td>0.0</td>\n",
       "    </tr>\n",
       "    <tr>\n",
       "      <th>10681</th>\n",
       "      <td>160</td>\n",
       "      <td>1</td>\n",
       "      <td>3</td>\n",
       "      <td>2019</td>\n",
       "      <td>11</td>\n",
       "      <td>14</td>\n",
       "      <td>1</td>\n",
       "      <td>0</td>\n",
       "      <td>0</td>\n",
       "      <td>0.0</td>\n",
       "      <td>0.0</td>\n",
       "      <td>0.0</td>\n",
       "      <td>0.0</td>\n",
       "      <td>0.0</td>\n",
       "      <td>0.0</td>\n",
       "      <td>0.0</td>\n",
       "      <td>0.0</td>\n",
       "      <td>0.0</td>\n",
       "      <td>1.0</td>\n",
       "      <td>0.0</td>\n",
       "      <td>0.0</td>\n",
       "      <td>0.0</td>\n",
       "      <td>0.0</td>\n",
       "      <td>0.0</td>\n",
       "      <td>0.0</td>\n",
       "      <td>0.0</td>\n",
       "      <td>0.0</td>\n",
       "      <td>0.0</td>\n",
       "      <td>1.0</td>\n",
       "      <td>0.671074</td>\n",
       "      <td>0.0</td>\n",
       "      <td>0.0</td>\n",
       "      <td>0.0</td>\n",
       "      <td>0.0</td>\n",
       "      <td>0.0</td>\n",
       "      <td>0.0</td>\n",
       "      <td>0.0</td>\n",
       "      <td>0.0</td>\n",
       "      <td>0.0</td>\n",
       "      <td>0.0</td>\n",
       "      <td>0.0</td>\n",
       "      <td>0.0</td>\n",
       "      <td>0.0</td>\n",
       "      <td>1.0</td>\n",
       "      <td>0.0</td>\n",
       "    </tr>\n",
       "    <tr>\n",
       "      <th>10682</th>\n",
       "      <td>500</td>\n",
       "      <td>9</td>\n",
       "      <td>5</td>\n",
       "      <td>2019</td>\n",
       "      <td>10</td>\n",
       "      <td>19</td>\n",
       "      <td>3</td>\n",
       "      <td>0</td>\n",
       "      <td>2</td>\n",
       "      <td>1.0</td>\n",
       "      <td>0.0</td>\n",
       "      <td>0.0</td>\n",
       "      <td>0.0</td>\n",
       "      <td>0.0</td>\n",
       "      <td>0.0</td>\n",
       "      <td>0.0</td>\n",
       "      <td>0.0</td>\n",
       "      <td>0.0</td>\n",
       "      <td>0.0</td>\n",
       "      <td>0.0</td>\n",
       "      <td>0.0</td>\n",
       "      <td>1.0</td>\n",
       "      <td>0.0</td>\n",
       "      <td>0.0</td>\n",
       "      <td>1.0</td>\n",
       "      <td>0.0</td>\n",
       "      <td>0.0</td>\n",
       "      <td>0.0</td>\n",
       "      <td>0.0</td>\n",
       "      <td>-0.561983</td>\n",
       "      <td>0.0</td>\n",
       "      <td>0.0</td>\n",
       "      <td>0.0</td>\n",
       "      <td>1.0</td>\n",
       "      <td>0.0</td>\n",
       "      <td>0.0</td>\n",
       "      <td>0.0</td>\n",
       "      <td>0.0</td>\n",
       "      <td>0.0</td>\n",
       "      <td>0.0</td>\n",
       "      <td>0.0</td>\n",
       "      <td>0.0</td>\n",
       "      <td>0.0</td>\n",
       "      <td>1.0</td>\n",
       "      <td>0.0</td>\n",
       "    </tr>\n",
       "  </tbody>\n",
       "</table>\n",
       "<p>10462 rows × 45 columns</p>\n",
       "</div>"
      ],
      "text/plain": [
       "       Duration  Journey_Day  Journey_Month  Journey_Year  Dep_Hour  \\\n",
       "0           170           24              3          2019        22   \n",
       "1           445            1              5          2019         5   \n",
       "2          1140            9              6          2019         9   \n",
       "3           325           12              5          2019        18   \n",
       "4           285            1              3          2019        16   \n",
       "...         ...          ...            ...           ...       ...   \n",
       "10678       150            9              4          2019        19   \n",
       "10679       155           27              4          2019        20   \n",
       "10680       180           27              4          2019         8   \n",
       "10681       160            1              3          2019        11   \n",
       "10682       500            9              5          2019        10   \n",
       "\n",
       "       Arrival_Hour  Route_Count  Is_Direct  Intermediate_Stops  \\\n",
       "0                 1            1          0                   0   \n",
       "1                13            3          0                   2   \n",
       "2                 4            3          0                   2   \n",
       "3                23            2          0                   1   \n",
       "4                21            2          0                   1   \n",
       "...             ...          ...        ...                 ...   \n",
       "10678            22            1          0                   0   \n",
       "10679            23            1          0                   0   \n",
       "10680            11            1          0                   0   \n",
       "10681            14            1          0                   0   \n",
       "10682            19            3          0                   2   \n",
       "\n",
       "       Airline_Air India  Airline_GoAir  Airline_IndiGo  Airline_Jet Airways  \\\n",
       "0                    0.0            0.0             1.0                  0.0   \n",
       "1                    1.0            0.0             0.0                  0.0   \n",
       "2                    0.0            0.0             0.0                  1.0   \n",
       "3                    0.0            0.0             1.0                  0.0   \n",
       "4                    0.0            0.0             1.0                  0.0   \n",
       "...                  ...            ...             ...                  ...   \n",
       "10678                0.0            0.0             0.0                  0.0   \n",
       "10679                1.0            0.0             0.0                  0.0   \n",
       "10680                0.0            0.0             0.0                  1.0   \n",
       "10681                0.0            0.0             0.0                  0.0   \n",
       "10682                1.0            0.0             0.0                  0.0   \n",
       "\n",
       "       Airline_Jet Airways Business  Airline_Multiple carriers  \\\n",
       "0                               0.0                        0.0   \n",
       "1                               0.0                        0.0   \n",
       "2                               0.0                        0.0   \n",
       "3                               0.0                        0.0   \n",
       "4                               0.0                        0.0   \n",
       "...                             ...                        ...   \n",
       "10678                           0.0                        0.0   \n",
       "10679                           0.0                        0.0   \n",
       "10680                           0.0                        0.0   \n",
       "10681                           0.0                        0.0   \n",
       "10682                           0.0                        0.0   \n",
       "\n",
       "       Airline_Multiple carriers Premium economy  Airline_SpiceJet  \\\n",
       "0                                            0.0               0.0   \n",
       "1                                            0.0               0.0   \n",
       "2                                            0.0               0.0   \n",
       "3                                            0.0               0.0   \n",
       "4                                            0.0               0.0   \n",
       "...                                          ...               ...   \n",
       "10678                                        0.0               0.0   \n",
       "10679                                        0.0               0.0   \n",
       "10680                                        0.0               0.0   \n",
       "10681                                        0.0               0.0   \n",
       "10682                                        0.0               0.0   \n",
       "\n",
       "       Airline_Trujet  Airline_Vistara  Airline_Vistara Premium economy  \\\n",
       "0                 0.0              0.0                              0.0   \n",
       "1                 0.0              0.0                              0.0   \n",
       "2                 0.0              0.0                              0.0   \n",
       "3                 0.0              0.0                              0.0   \n",
       "4                 0.0              0.0                              0.0   \n",
       "...               ...              ...                              ...   \n",
       "10678             0.0              0.0                              0.0   \n",
       "10679             0.0              0.0                              0.0   \n",
       "10680             0.0              0.0                              0.0   \n",
       "10681             0.0              1.0                              0.0   \n",
       "10682             0.0              0.0                              0.0   \n",
       "\n",
       "       Source_Chennai  Source_Delhi  Source_Kolkata  Source_Mumbai  \\\n",
       "0                 0.0           0.0             0.0            0.0   \n",
       "1                 0.0           0.0             1.0            0.0   \n",
       "2                 0.0           1.0             0.0            0.0   \n",
       "3                 0.0           0.0             1.0            0.0   \n",
       "4                 0.0           0.0             0.0            0.0   \n",
       "...               ...           ...             ...            ...   \n",
       "10678             0.0           0.0             1.0            0.0   \n",
       "10679             0.0           0.0             1.0            0.0   \n",
       "10680             0.0           0.0             0.0            0.0   \n",
       "10681             0.0           0.0             0.0            0.0   \n",
       "10682             0.0           1.0             0.0            0.0   \n",
       "\n",
       "       Destination_Cochin  Destination_Delhi  Destination_Hyderabad  \\\n",
       "0                     0.0                0.0                    0.0   \n",
       "1                     0.0                0.0                    0.0   \n",
       "2                     1.0                0.0                    0.0   \n",
       "3                     0.0                0.0                    0.0   \n",
       "4                     0.0                0.0                    0.0   \n",
       "...                   ...                ...                    ...   \n",
       "10678                 0.0                0.0                    0.0   \n",
       "10679                 0.0                0.0                    0.0   \n",
       "10680                 0.0                1.0                    0.0   \n",
       "10681                 0.0                0.0                    0.0   \n",
       "10682                 1.0                0.0                    0.0   \n",
       "\n",
       "       Destination_Kolkata  Destination_New Delhi  Route_encoded_scaled  \\\n",
       "0                      0.0                    1.0              0.671074   \n",
       "1                      0.0                    0.0             -0.593388   \n",
       "2                      0.0                    0.0             -0.564463   \n",
       "3                      0.0                    0.0             -0.590909   \n",
       "4                      0.0                    1.0             -0.595868   \n",
       "...                    ...                    ...                   ...   \n",
       "10678                  0.0                    0.0              0.000000   \n",
       "10679                  0.0                    0.0              0.000000   \n",
       "10680                  0.0                    0.0              0.671074   \n",
       "10681                  0.0                    1.0              0.671074   \n",
       "10682                  0.0                    0.0             -0.561983   \n",
       "\n",
       "       Journey_Weekday_Monday  Journey_Weekday_Saturday  \\\n",
       "0                         0.0                       0.0   \n",
       "1                         0.0                       0.0   \n",
       "2                         0.0                       0.0   \n",
       "3                         0.0                       0.0   \n",
       "4                         0.0                       0.0   \n",
       "...                       ...                       ...   \n",
       "10678                     0.0                       0.0   \n",
       "10679                     0.0                       1.0   \n",
       "10680                     0.0                       1.0   \n",
       "10681                     0.0                       0.0   \n",
       "10682                     0.0                       0.0   \n",
       "\n",
       "       Journey_Weekday_Sunday  Journey_Weekday_Thursday  \\\n",
       "0                         1.0                       0.0   \n",
       "1                         0.0                       0.0   \n",
       "2                         1.0                       0.0   \n",
       "3                         1.0                       0.0   \n",
       "4                         0.0                       0.0   \n",
       "...                       ...                       ...   \n",
       "10678                     0.0                       0.0   \n",
       "10679                     0.0                       0.0   \n",
       "10680                     0.0                       0.0   \n",
       "10681                     0.0                       0.0   \n",
       "10682                     0.0                       1.0   \n",
       "\n",
       "       Journey_Weekday_Tuesday  Journey_Weekday_Wednesday  \\\n",
       "0                          0.0                        0.0   \n",
       "1                          0.0                        1.0   \n",
       "2                          0.0                        0.0   \n",
       "3                          0.0                        0.0   \n",
       "4                          0.0                        0.0   \n",
       "...                        ...                        ...   \n",
       "10678                      1.0                        0.0   \n",
       "10679                      0.0                        0.0   \n",
       "10680                      0.0                        0.0   \n",
       "10681                      0.0                        0.0   \n",
       "10682                      0.0                        0.0   \n",
       "\n",
       "       Additional_Info_1 Short layover  Additional_Info_2 Long layover  \\\n",
       "0                                  0.0                             0.0   \n",
       "1                                  0.0                             0.0   \n",
       "2                                  0.0                             0.0   \n",
       "3                                  0.0                             0.0   \n",
       "4                                  0.0                             0.0   \n",
       "...                                ...                             ...   \n",
       "10678                              0.0                             0.0   \n",
       "10679                              0.0                             0.0   \n",
       "10680                              0.0                             0.0   \n",
       "10681                              0.0                             0.0   \n",
       "10682                              0.0                             0.0   \n",
       "\n",
       "       Additional_Info_Business class  Additional_Info_Change airports  \\\n",
       "0                                 0.0                              0.0   \n",
       "1                                 0.0                              0.0   \n",
       "2                                 0.0                              0.0   \n",
       "3                                 0.0                              0.0   \n",
       "4                                 0.0                              0.0   \n",
       "...                               ...                              ...   \n",
       "10678                             0.0                              0.0   \n",
       "10679                             0.0                              0.0   \n",
       "10680                             0.0                              0.0   \n",
       "10681                             0.0                              0.0   \n",
       "10682                             0.0                              0.0   \n",
       "\n",
       "       Additional_Info_In-flight meal not included  Additional_Info_No Info  \\\n",
       "0                                              0.0                      0.0   \n",
       "1                                              0.0                      0.0   \n",
       "2                                              0.0                      0.0   \n",
       "3                                              0.0                      0.0   \n",
       "4                                              0.0                      0.0   \n",
       "...                                            ...                      ...   \n",
       "10678                                          0.0                      0.0   \n",
       "10679                                          0.0                      0.0   \n",
       "10680                                          0.0                      0.0   \n",
       "10681                                          0.0                      0.0   \n",
       "10682                                          0.0                      0.0   \n",
       "\n",
       "       Additional_Info_No check-in baggage included  Additional_Info_No info  \\\n",
       "0                                               0.0                      1.0   \n",
       "1                                               0.0                      1.0   \n",
       "2                                               0.0                      1.0   \n",
       "3                                               0.0                      1.0   \n",
       "4                                               0.0                      1.0   \n",
       "...                                             ...                      ...   \n",
       "10678                                           0.0                      1.0   \n",
       "10679                                           0.0                      1.0   \n",
       "10680                                           0.0                      1.0   \n",
       "10681                                           0.0                      1.0   \n",
       "10682                                           0.0                      1.0   \n",
       "\n",
       "       Additional_Info_Red-eye flight  \n",
       "0                                 0.0  \n",
       "1                                 0.0  \n",
       "2                                 0.0  \n",
       "3                                 0.0  \n",
       "4                                 0.0  \n",
       "...                               ...  \n",
       "10678                             0.0  \n",
       "10679                             0.0  \n",
       "10680                             0.0  \n",
       "10681                             0.0  \n",
       "10682                             0.0  \n",
       "\n",
       "[10462 rows x 45 columns]"
      ]
     },
     "execution_count": 184,
     "metadata": {},
     "output_type": "execute_result"
    }
   ],
   "source": [
    "X\n"
   ]
  },
  {
   "cell_type": "code",
   "execution_count": 185,
   "id": "ba41ed86",
   "metadata": {},
   "outputs": [],
   "source": [
    "from sklearn.model_selection import train_test_split\n",
    "X_train, X_test, y_train, y_test = train_test_split(\n",
    "    X, y, test_size=0.2, random_state=42\n",
    ")"
   ]
  },
  {
   "cell_type": "code",
   "execution_count": 186,
   "id": "447a2a6b",
   "metadata": {},
   "outputs": [],
   "source": [
    "from sklearn.preprocessing import StandardScaler\n",
    "\n",
    "scaler = StandardScaler()\n",
    "\n",
    "X_train_scaled = scaler.fit_transform(X_train)\n",
    "X_test_scaled = scaler.transform(X_test)"
   ]
  },
  {
   "cell_type": "markdown",
   "id": "96fdcc57",
   "metadata": {},
   "source": [
    "# Machine Learning"
   ]
  },
  {
   "cell_type": "markdown",
   "id": "6aa2639a",
   "metadata": {},
   "source": [
    "# LinearRegression"
   ]
  },
  {
   "cell_type": "code",
   "execution_count": 187,
   "id": "f562adc8",
   "metadata": {},
   "outputs": [
    {
     "data": {
      "text/html": [
       "<style>#sk-container-id-7 {\n",
       "  /* Definition of color scheme common for light and dark mode */\n",
       "  --sklearn-color-text: #000;\n",
       "  --sklearn-color-text-muted: #666;\n",
       "  --sklearn-color-line: gray;\n",
       "  /* Definition of color scheme for unfitted estimators */\n",
       "  --sklearn-color-unfitted-level-0: #fff5e6;\n",
       "  --sklearn-color-unfitted-level-1: #f6e4d2;\n",
       "  --sklearn-color-unfitted-level-2: #ffe0b3;\n",
       "  --sklearn-color-unfitted-level-3: chocolate;\n",
       "  /* Definition of color scheme for fitted estimators */\n",
       "  --sklearn-color-fitted-level-0: #f0f8ff;\n",
       "  --sklearn-color-fitted-level-1: #d4ebff;\n",
       "  --sklearn-color-fitted-level-2: #b3dbfd;\n",
       "  --sklearn-color-fitted-level-3: cornflowerblue;\n",
       "\n",
       "  /* Specific color for light theme */\n",
       "  --sklearn-color-text-on-default-background: var(--sg-text-color, var(--theme-code-foreground, var(--jp-content-font-color1, black)));\n",
       "  --sklearn-color-background: var(--sg-background-color, var(--theme-background, var(--jp-layout-color0, white)));\n",
       "  --sklearn-color-border-box: var(--sg-text-color, var(--theme-code-foreground, var(--jp-content-font-color1, black)));\n",
       "  --sklearn-color-icon: #696969;\n",
       "\n",
       "  @media (prefers-color-scheme: dark) {\n",
       "    /* Redefinition of color scheme for dark theme */\n",
       "    --sklearn-color-text-on-default-background: var(--sg-text-color, var(--theme-code-foreground, var(--jp-content-font-color1, white)));\n",
       "    --sklearn-color-background: var(--sg-background-color, var(--theme-background, var(--jp-layout-color0, #111)));\n",
       "    --sklearn-color-border-box: var(--sg-text-color, var(--theme-code-foreground, var(--jp-content-font-color1, white)));\n",
       "    --sklearn-color-icon: #878787;\n",
       "  }\n",
       "}\n",
       "\n",
       "#sk-container-id-7 {\n",
       "  color: var(--sklearn-color-text);\n",
       "}\n",
       "\n",
       "#sk-container-id-7 pre {\n",
       "  padding: 0;\n",
       "}\n",
       "\n",
       "#sk-container-id-7 input.sk-hidden--visually {\n",
       "  border: 0;\n",
       "  clip: rect(1px 1px 1px 1px);\n",
       "  clip: rect(1px, 1px, 1px, 1px);\n",
       "  height: 1px;\n",
       "  margin: -1px;\n",
       "  overflow: hidden;\n",
       "  padding: 0;\n",
       "  position: absolute;\n",
       "  width: 1px;\n",
       "}\n",
       "\n",
       "#sk-container-id-7 div.sk-dashed-wrapped {\n",
       "  border: 1px dashed var(--sklearn-color-line);\n",
       "  margin: 0 0.4em 0.5em 0.4em;\n",
       "  box-sizing: border-box;\n",
       "  padding-bottom: 0.4em;\n",
       "  background-color: var(--sklearn-color-background);\n",
       "}\n",
       "\n",
       "#sk-container-id-7 div.sk-container {\n",
       "  /* jupyter's `normalize.less` sets `[hidden] { display: none; }`\n",
       "     but bootstrap.min.css set `[hidden] { display: none !important; }`\n",
       "     so we also need the `!important` here to be able to override the\n",
       "     default hidden behavior on the sphinx rendered scikit-learn.org.\n",
       "     See: https://github.com/scikit-learn/scikit-learn/issues/21755 */\n",
       "  display: inline-block !important;\n",
       "  position: relative;\n",
       "}\n",
       "\n",
       "#sk-container-id-7 div.sk-text-repr-fallback {\n",
       "  display: none;\n",
       "}\n",
       "\n",
       "div.sk-parallel-item,\n",
       "div.sk-serial,\n",
       "div.sk-item {\n",
       "  /* draw centered vertical line to link estimators */\n",
       "  background-image: linear-gradient(var(--sklearn-color-text-on-default-background), var(--sklearn-color-text-on-default-background));\n",
       "  background-size: 2px 100%;\n",
       "  background-repeat: no-repeat;\n",
       "  background-position: center center;\n",
       "}\n",
       "\n",
       "/* Parallel-specific style estimator block */\n",
       "\n",
       "#sk-container-id-7 div.sk-parallel-item::after {\n",
       "  content: \"\";\n",
       "  width: 100%;\n",
       "  border-bottom: 2px solid var(--sklearn-color-text-on-default-background);\n",
       "  flex-grow: 1;\n",
       "}\n",
       "\n",
       "#sk-container-id-7 div.sk-parallel {\n",
       "  display: flex;\n",
       "  align-items: stretch;\n",
       "  justify-content: center;\n",
       "  background-color: var(--sklearn-color-background);\n",
       "  position: relative;\n",
       "}\n",
       "\n",
       "#sk-container-id-7 div.sk-parallel-item {\n",
       "  display: flex;\n",
       "  flex-direction: column;\n",
       "}\n",
       "\n",
       "#sk-container-id-7 div.sk-parallel-item:first-child::after {\n",
       "  align-self: flex-end;\n",
       "  width: 50%;\n",
       "}\n",
       "\n",
       "#sk-container-id-7 div.sk-parallel-item:last-child::after {\n",
       "  align-self: flex-start;\n",
       "  width: 50%;\n",
       "}\n",
       "\n",
       "#sk-container-id-7 div.sk-parallel-item:only-child::after {\n",
       "  width: 0;\n",
       "}\n",
       "\n",
       "/* Serial-specific style estimator block */\n",
       "\n",
       "#sk-container-id-7 div.sk-serial {\n",
       "  display: flex;\n",
       "  flex-direction: column;\n",
       "  align-items: center;\n",
       "  background-color: var(--sklearn-color-background);\n",
       "  padding-right: 1em;\n",
       "  padding-left: 1em;\n",
       "}\n",
       "\n",
       "\n",
       "/* Toggleable style: style used for estimator/Pipeline/ColumnTransformer box that is\n",
       "clickable and can be expanded/collapsed.\n",
       "- Pipeline and ColumnTransformer use this feature and define the default style\n",
       "- Estimators will overwrite some part of the style using the `sk-estimator` class\n",
       "*/\n",
       "\n",
       "/* Pipeline and ColumnTransformer style (default) */\n",
       "\n",
       "#sk-container-id-7 div.sk-toggleable {\n",
       "  /* Default theme specific background. It is overwritten whether we have a\n",
       "  specific estimator or a Pipeline/ColumnTransformer */\n",
       "  background-color: var(--sklearn-color-background);\n",
       "}\n",
       "\n",
       "/* Toggleable label */\n",
       "#sk-container-id-7 label.sk-toggleable__label {\n",
       "  cursor: pointer;\n",
       "  display: flex;\n",
       "  width: 100%;\n",
       "  margin-bottom: 0;\n",
       "  padding: 0.5em;\n",
       "  box-sizing: border-box;\n",
       "  text-align: center;\n",
       "  align-items: start;\n",
       "  justify-content: space-between;\n",
       "  gap: 0.5em;\n",
       "}\n",
       "\n",
       "#sk-container-id-7 label.sk-toggleable__label .caption {\n",
       "  font-size: 0.6rem;\n",
       "  font-weight: lighter;\n",
       "  color: var(--sklearn-color-text-muted);\n",
       "}\n",
       "\n",
       "#sk-container-id-7 label.sk-toggleable__label-arrow:before {\n",
       "  /* Arrow on the left of the label */\n",
       "  content: \"▸\";\n",
       "  float: left;\n",
       "  margin-right: 0.25em;\n",
       "  color: var(--sklearn-color-icon);\n",
       "}\n",
       "\n",
       "#sk-container-id-7 label.sk-toggleable__label-arrow:hover:before {\n",
       "  color: var(--sklearn-color-text);\n",
       "}\n",
       "\n",
       "/* Toggleable content - dropdown */\n",
       "\n",
       "#sk-container-id-7 div.sk-toggleable__content {\n",
       "  max-height: 0;\n",
       "  max-width: 0;\n",
       "  overflow: hidden;\n",
       "  text-align: left;\n",
       "  /* unfitted */\n",
       "  background-color: var(--sklearn-color-unfitted-level-0);\n",
       "}\n",
       "\n",
       "#sk-container-id-7 div.sk-toggleable__content.fitted {\n",
       "  /* fitted */\n",
       "  background-color: var(--sklearn-color-fitted-level-0);\n",
       "}\n",
       "\n",
       "#sk-container-id-7 div.sk-toggleable__content pre {\n",
       "  margin: 0.2em;\n",
       "  border-radius: 0.25em;\n",
       "  color: var(--sklearn-color-text);\n",
       "  /* unfitted */\n",
       "  background-color: var(--sklearn-color-unfitted-level-0);\n",
       "}\n",
       "\n",
       "#sk-container-id-7 div.sk-toggleable__content.fitted pre {\n",
       "  /* unfitted */\n",
       "  background-color: var(--sklearn-color-fitted-level-0);\n",
       "}\n",
       "\n",
       "#sk-container-id-7 input.sk-toggleable__control:checked~div.sk-toggleable__content {\n",
       "  /* Expand drop-down */\n",
       "  max-height: 200px;\n",
       "  max-width: 100%;\n",
       "  overflow: auto;\n",
       "}\n",
       "\n",
       "#sk-container-id-7 input.sk-toggleable__control:checked~label.sk-toggleable__label-arrow:before {\n",
       "  content: \"▾\";\n",
       "}\n",
       "\n",
       "/* Pipeline/ColumnTransformer-specific style */\n",
       "\n",
       "#sk-container-id-7 div.sk-label input.sk-toggleable__control:checked~label.sk-toggleable__label {\n",
       "  color: var(--sklearn-color-text);\n",
       "  background-color: var(--sklearn-color-unfitted-level-2);\n",
       "}\n",
       "\n",
       "#sk-container-id-7 div.sk-label.fitted input.sk-toggleable__control:checked~label.sk-toggleable__label {\n",
       "  background-color: var(--sklearn-color-fitted-level-2);\n",
       "}\n",
       "\n",
       "/* Estimator-specific style */\n",
       "\n",
       "/* Colorize estimator box */\n",
       "#sk-container-id-7 div.sk-estimator input.sk-toggleable__control:checked~label.sk-toggleable__label {\n",
       "  /* unfitted */\n",
       "  background-color: var(--sklearn-color-unfitted-level-2);\n",
       "}\n",
       "\n",
       "#sk-container-id-7 div.sk-estimator.fitted input.sk-toggleable__control:checked~label.sk-toggleable__label {\n",
       "  /* fitted */\n",
       "  background-color: var(--sklearn-color-fitted-level-2);\n",
       "}\n",
       "\n",
       "#sk-container-id-7 div.sk-label label.sk-toggleable__label,\n",
       "#sk-container-id-7 div.sk-label label {\n",
       "  /* The background is the default theme color */\n",
       "  color: var(--sklearn-color-text-on-default-background);\n",
       "}\n",
       "\n",
       "/* On hover, darken the color of the background */\n",
       "#sk-container-id-7 div.sk-label:hover label.sk-toggleable__label {\n",
       "  color: var(--sklearn-color-text);\n",
       "  background-color: var(--sklearn-color-unfitted-level-2);\n",
       "}\n",
       "\n",
       "/* Label box, darken color on hover, fitted */\n",
       "#sk-container-id-7 div.sk-label.fitted:hover label.sk-toggleable__label.fitted {\n",
       "  color: var(--sklearn-color-text);\n",
       "  background-color: var(--sklearn-color-fitted-level-2);\n",
       "}\n",
       "\n",
       "/* Estimator label */\n",
       "\n",
       "#sk-container-id-7 div.sk-label label {\n",
       "  font-family: monospace;\n",
       "  font-weight: bold;\n",
       "  display: inline-block;\n",
       "  line-height: 1.2em;\n",
       "}\n",
       "\n",
       "#sk-container-id-7 div.sk-label-container {\n",
       "  text-align: center;\n",
       "}\n",
       "\n",
       "/* Estimator-specific */\n",
       "#sk-container-id-7 div.sk-estimator {\n",
       "  font-family: monospace;\n",
       "  border: 1px dotted var(--sklearn-color-border-box);\n",
       "  border-radius: 0.25em;\n",
       "  box-sizing: border-box;\n",
       "  margin-bottom: 0.5em;\n",
       "  /* unfitted */\n",
       "  background-color: var(--sklearn-color-unfitted-level-0);\n",
       "}\n",
       "\n",
       "#sk-container-id-7 div.sk-estimator.fitted {\n",
       "  /* fitted */\n",
       "  background-color: var(--sklearn-color-fitted-level-0);\n",
       "}\n",
       "\n",
       "/* on hover */\n",
       "#sk-container-id-7 div.sk-estimator:hover {\n",
       "  /* unfitted */\n",
       "  background-color: var(--sklearn-color-unfitted-level-2);\n",
       "}\n",
       "\n",
       "#sk-container-id-7 div.sk-estimator.fitted:hover {\n",
       "  /* fitted */\n",
       "  background-color: var(--sklearn-color-fitted-level-2);\n",
       "}\n",
       "\n",
       "/* Specification for estimator info (e.g. \"i\" and \"?\") */\n",
       "\n",
       "/* Common style for \"i\" and \"?\" */\n",
       "\n",
       ".sk-estimator-doc-link,\n",
       "a:link.sk-estimator-doc-link,\n",
       "a:visited.sk-estimator-doc-link {\n",
       "  float: right;\n",
       "  font-size: smaller;\n",
       "  line-height: 1em;\n",
       "  font-family: monospace;\n",
       "  background-color: var(--sklearn-color-background);\n",
       "  border-radius: 1em;\n",
       "  height: 1em;\n",
       "  width: 1em;\n",
       "  text-decoration: none !important;\n",
       "  margin-left: 0.5em;\n",
       "  text-align: center;\n",
       "  /* unfitted */\n",
       "  border: var(--sklearn-color-unfitted-level-1) 1pt solid;\n",
       "  color: var(--sklearn-color-unfitted-level-1);\n",
       "}\n",
       "\n",
       ".sk-estimator-doc-link.fitted,\n",
       "a:link.sk-estimator-doc-link.fitted,\n",
       "a:visited.sk-estimator-doc-link.fitted {\n",
       "  /* fitted */\n",
       "  border: var(--sklearn-color-fitted-level-1) 1pt solid;\n",
       "  color: var(--sklearn-color-fitted-level-1);\n",
       "}\n",
       "\n",
       "/* On hover */\n",
       "div.sk-estimator:hover .sk-estimator-doc-link:hover,\n",
       ".sk-estimator-doc-link:hover,\n",
       "div.sk-label-container:hover .sk-estimator-doc-link:hover,\n",
       ".sk-estimator-doc-link:hover {\n",
       "  /* unfitted */\n",
       "  background-color: var(--sklearn-color-unfitted-level-3);\n",
       "  color: var(--sklearn-color-background);\n",
       "  text-decoration: none;\n",
       "}\n",
       "\n",
       "div.sk-estimator.fitted:hover .sk-estimator-doc-link.fitted:hover,\n",
       ".sk-estimator-doc-link.fitted:hover,\n",
       "div.sk-label-container:hover .sk-estimator-doc-link.fitted:hover,\n",
       ".sk-estimator-doc-link.fitted:hover {\n",
       "  /* fitted */\n",
       "  background-color: var(--sklearn-color-fitted-level-3);\n",
       "  color: var(--sklearn-color-background);\n",
       "  text-decoration: none;\n",
       "}\n",
       "\n",
       "/* Span, style for the box shown on hovering the info icon */\n",
       ".sk-estimator-doc-link span {\n",
       "  display: none;\n",
       "  z-index: 9999;\n",
       "  position: relative;\n",
       "  font-weight: normal;\n",
       "  right: .2ex;\n",
       "  padding: .5ex;\n",
       "  margin: .5ex;\n",
       "  width: min-content;\n",
       "  min-width: 20ex;\n",
       "  max-width: 50ex;\n",
       "  color: var(--sklearn-color-text);\n",
       "  box-shadow: 2pt 2pt 4pt #999;\n",
       "  /* unfitted */\n",
       "  background: var(--sklearn-color-unfitted-level-0);\n",
       "  border: .5pt solid var(--sklearn-color-unfitted-level-3);\n",
       "}\n",
       "\n",
       ".sk-estimator-doc-link.fitted span {\n",
       "  /* fitted */\n",
       "  background: var(--sklearn-color-fitted-level-0);\n",
       "  border: var(--sklearn-color-fitted-level-3);\n",
       "}\n",
       "\n",
       ".sk-estimator-doc-link:hover span {\n",
       "  display: block;\n",
       "}\n",
       "\n",
       "/* \"?\"-specific style due to the `<a>` HTML tag */\n",
       "\n",
       "#sk-container-id-7 a.estimator_doc_link {\n",
       "  float: right;\n",
       "  font-size: 1rem;\n",
       "  line-height: 1em;\n",
       "  font-family: monospace;\n",
       "  background-color: var(--sklearn-color-background);\n",
       "  border-radius: 1rem;\n",
       "  height: 1rem;\n",
       "  width: 1rem;\n",
       "  text-decoration: none;\n",
       "  /* unfitted */\n",
       "  color: var(--sklearn-color-unfitted-level-1);\n",
       "  border: var(--sklearn-color-unfitted-level-1) 1pt solid;\n",
       "}\n",
       "\n",
       "#sk-container-id-7 a.estimator_doc_link.fitted {\n",
       "  /* fitted */\n",
       "  border: var(--sklearn-color-fitted-level-1) 1pt solid;\n",
       "  color: var(--sklearn-color-fitted-level-1);\n",
       "}\n",
       "\n",
       "/* On hover */\n",
       "#sk-container-id-7 a.estimator_doc_link:hover {\n",
       "  /* unfitted */\n",
       "  background-color: var(--sklearn-color-unfitted-level-3);\n",
       "  color: var(--sklearn-color-background);\n",
       "  text-decoration: none;\n",
       "}\n",
       "\n",
       "#sk-container-id-7 a.estimator_doc_link.fitted:hover {\n",
       "  /* fitted */\n",
       "  background-color: var(--sklearn-color-fitted-level-3);\n",
       "}\n",
       "</style><div id=\"sk-container-id-7\" class=\"sk-top-container\"><div class=\"sk-text-repr-fallback\"><pre>LinearRegression()</pre><b>In a Jupyter environment, please rerun this cell to show the HTML representation or trust the notebook. <br />On GitHub, the HTML representation is unable to render, please try loading this page with nbviewer.org.</b></div><div class=\"sk-container\" hidden><div class=\"sk-item\"><div class=\"sk-estimator fitted sk-toggleable\"><input class=\"sk-toggleable__control sk-hidden--visually\" id=\"sk-estimator-id-7\" type=\"checkbox\" checked><label for=\"sk-estimator-id-7\" class=\"sk-toggleable__label fitted sk-toggleable__label-arrow\"><div><div>LinearRegression</div></div><div><a class=\"sk-estimator-doc-link fitted\" rel=\"noreferrer\" target=\"_blank\" href=\"https://scikit-learn.org/1.6/modules/generated/sklearn.linear_model.LinearRegression.html\">?<span>Documentation for LinearRegression</span></a><span class=\"sk-estimator-doc-link fitted\">i<span>Fitted</span></span></div></label><div class=\"sk-toggleable__content fitted\"><pre>LinearRegression()</pre></div> </div></div></div></div>"
      ],
      "text/plain": [
       "LinearRegression()"
      ]
     },
     "execution_count": 187,
     "metadata": {},
     "output_type": "execute_result"
    }
   ],
   "source": [
    "from sklearn.linear_model import LinearRegression, Ridge, Lasso\n",
    "from sklearn.metrics import mean_squared_error, r2_score\n",
    "lr = LinearRegression()\n",
    "lr.fit(X_train_scaled , y_train)"
   ]
  },
  {
   "cell_type": "code",
   "execution_count": 188,
   "id": "a0a40db1",
   "metadata": {},
   "outputs": [],
   "source": [
    "y_pred_train = lr.predict(X_train_scaled)\n",
    "y_pred_test = lr.predict(X_test_scaled)"
   ]
  },
  {
   "cell_type": "code",
   "execution_count": 189,
   "id": "fa82776b",
   "metadata": {},
   "outputs": [
    {
     "name": "stdout",
     "output_type": "stream",
     "text": [
      "Train RMSE: 2447.64, R2: 0.72\n",
      "Test RMSE: 2580.03, R2: 0.68\n"
     ]
    }
   ],
   "source": [
    "# Train performance\n",
    "rmse_train = np.sqrt(mean_squared_error(y_train, y_pred_train))\n",
    "r2_train = r2_score(y_train, y_pred_train)\n",
    "\n",
    "# Test performance\n",
    "rmse_test = np.sqrt(mean_squared_error(y_test, y_pred_test))\n",
    "r2_test = r2_score(y_test, y_pred_test)\n",
    "\n",
    "print(f\"Train RMSE: {rmse_train:.2f}, R2: {r2_train:.2f}\")\n",
    "print(f\"Test RMSE: {rmse_test:.2f}, R2: {r2_test:.2f}\")\n"
   ]
  },
  {
   "cell_type": "markdown",
   "id": "85dee0cd",
   "metadata": {},
   "source": [
    "# Gradient Descent"
   ]
  },
  {
   "cell_type": "code",
   "execution_count": 190,
   "id": "d7ad6576",
   "metadata": {},
   "outputs": [
    {
     "name": "stdout",
     "output_type": "stream",
     "text": [
      "72.13229600182048\n",
      "68.22537457692871\n"
     ]
    },
    {
     "name": "stderr",
     "output_type": "stream",
     "text": [
      "c:\\Users\\Root\\anaconda3\\envs\\m_l\\lib\\site-packages\\sklearn\\linear_model\\_stochastic_gradient.py:1608: ConvergenceWarning:\n",
      "\n",
      "Maximum number of iteration reached before convergence. Consider increasing max_iter to improve the fit.\n",
      "\n"
     ]
    }
   ],
   "source": [
    "from sklearn.linear_model import SGDRegressor\n",
    "\n",
    "\n",
    "\n",
    "gsd = SGDRegressor(max_iter=10000, alpha=0.001, learning_rate=\"adaptive\", eta0=0.01)\n",
    "gsd.fit(X_train_scaled , y_train)\n",
    "print(gsd.score(X_train_scaled , y_train ) * 100)\n",
    "print(gsd.score(X_test_scaled , y_test ) * 100)"
   ]
  },
  {
   "cell_type": "markdown",
   "id": "5b1a4f99",
   "metadata": {},
   "source": [
    "# Polynomial"
   ]
  },
  {
   "cell_type": "code",
   "execution_count": 191,
   "id": "2665b976",
   "metadata": {},
   "outputs": [],
   "source": [
    "from sklearn.preprocessing import PolynomialFeatures \n",
    "pl  = PolynomialFeatures(degree=2)\n",
    "X_train_poly = pl.fit_transform(X_train_scaled)  \n",
    "X_test_poly  = pl.transform(X_test_scaled)      "
   ]
  },
  {
   "cell_type": "code",
   "execution_count": 192,
   "id": "10d7d82c",
   "metadata": {},
   "outputs": [
    {
     "data": {
      "text/html": [
       "<style>#sk-container-id-8 {\n",
       "  /* Definition of color scheme common for light and dark mode */\n",
       "  --sklearn-color-text: #000;\n",
       "  --sklearn-color-text-muted: #666;\n",
       "  --sklearn-color-line: gray;\n",
       "  /* Definition of color scheme for unfitted estimators */\n",
       "  --sklearn-color-unfitted-level-0: #fff5e6;\n",
       "  --sklearn-color-unfitted-level-1: #f6e4d2;\n",
       "  --sklearn-color-unfitted-level-2: #ffe0b3;\n",
       "  --sklearn-color-unfitted-level-3: chocolate;\n",
       "  /* Definition of color scheme for fitted estimators */\n",
       "  --sklearn-color-fitted-level-0: #f0f8ff;\n",
       "  --sklearn-color-fitted-level-1: #d4ebff;\n",
       "  --sklearn-color-fitted-level-2: #b3dbfd;\n",
       "  --sklearn-color-fitted-level-3: cornflowerblue;\n",
       "\n",
       "  /* Specific color for light theme */\n",
       "  --sklearn-color-text-on-default-background: var(--sg-text-color, var(--theme-code-foreground, var(--jp-content-font-color1, black)));\n",
       "  --sklearn-color-background: var(--sg-background-color, var(--theme-background, var(--jp-layout-color0, white)));\n",
       "  --sklearn-color-border-box: var(--sg-text-color, var(--theme-code-foreground, var(--jp-content-font-color1, black)));\n",
       "  --sklearn-color-icon: #696969;\n",
       "\n",
       "  @media (prefers-color-scheme: dark) {\n",
       "    /* Redefinition of color scheme for dark theme */\n",
       "    --sklearn-color-text-on-default-background: var(--sg-text-color, var(--theme-code-foreground, var(--jp-content-font-color1, white)));\n",
       "    --sklearn-color-background: var(--sg-background-color, var(--theme-background, var(--jp-layout-color0, #111)));\n",
       "    --sklearn-color-border-box: var(--sg-text-color, var(--theme-code-foreground, var(--jp-content-font-color1, white)));\n",
       "    --sklearn-color-icon: #878787;\n",
       "  }\n",
       "}\n",
       "\n",
       "#sk-container-id-8 {\n",
       "  color: var(--sklearn-color-text);\n",
       "}\n",
       "\n",
       "#sk-container-id-8 pre {\n",
       "  padding: 0;\n",
       "}\n",
       "\n",
       "#sk-container-id-8 input.sk-hidden--visually {\n",
       "  border: 0;\n",
       "  clip: rect(1px 1px 1px 1px);\n",
       "  clip: rect(1px, 1px, 1px, 1px);\n",
       "  height: 1px;\n",
       "  margin: -1px;\n",
       "  overflow: hidden;\n",
       "  padding: 0;\n",
       "  position: absolute;\n",
       "  width: 1px;\n",
       "}\n",
       "\n",
       "#sk-container-id-8 div.sk-dashed-wrapped {\n",
       "  border: 1px dashed var(--sklearn-color-line);\n",
       "  margin: 0 0.4em 0.5em 0.4em;\n",
       "  box-sizing: border-box;\n",
       "  padding-bottom: 0.4em;\n",
       "  background-color: var(--sklearn-color-background);\n",
       "}\n",
       "\n",
       "#sk-container-id-8 div.sk-container {\n",
       "  /* jupyter's `normalize.less` sets `[hidden] { display: none; }`\n",
       "     but bootstrap.min.css set `[hidden] { display: none !important; }`\n",
       "     so we also need the `!important` here to be able to override the\n",
       "     default hidden behavior on the sphinx rendered scikit-learn.org.\n",
       "     See: https://github.com/scikit-learn/scikit-learn/issues/21755 */\n",
       "  display: inline-block !important;\n",
       "  position: relative;\n",
       "}\n",
       "\n",
       "#sk-container-id-8 div.sk-text-repr-fallback {\n",
       "  display: none;\n",
       "}\n",
       "\n",
       "div.sk-parallel-item,\n",
       "div.sk-serial,\n",
       "div.sk-item {\n",
       "  /* draw centered vertical line to link estimators */\n",
       "  background-image: linear-gradient(var(--sklearn-color-text-on-default-background), var(--sklearn-color-text-on-default-background));\n",
       "  background-size: 2px 100%;\n",
       "  background-repeat: no-repeat;\n",
       "  background-position: center center;\n",
       "}\n",
       "\n",
       "/* Parallel-specific style estimator block */\n",
       "\n",
       "#sk-container-id-8 div.sk-parallel-item::after {\n",
       "  content: \"\";\n",
       "  width: 100%;\n",
       "  border-bottom: 2px solid var(--sklearn-color-text-on-default-background);\n",
       "  flex-grow: 1;\n",
       "}\n",
       "\n",
       "#sk-container-id-8 div.sk-parallel {\n",
       "  display: flex;\n",
       "  align-items: stretch;\n",
       "  justify-content: center;\n",
       "  background-color: var(--sklearn-color-background);\n",
       "  position: relative;\n",
       "}\n",
       "\n",
       "#sk-container-id-8 div.sk-parallel-item {\n",
       "  display: flex;\n",
       "  flex-direction: column;\n",
       "}\n",
       "\n",
       "#sk-container-id-8 div.sk-parallel-item:first-child::after {\n",
       "  align-self: flex-end;\n",
       "  width: 50%;\n",
       "}\n",
       "\n",
       "#sk-container-id-8 div.sk-parallel-item:last-child::after {\n",
       "  align-self: flex-start;\n",
       "  width: 50%;\n",
       "}\n",
       "\n",
       "#sk-container-id-8 div.sk-parallel-item:only-child::after {\n",
       "  width: 0;\n",
       "}\n",
       "\n",
       "/* Serial-specific style estimator block */\n",
       "\n",
       "#sk-container-id-8 div.sk-serial {\n",
       "  display: flex;\n",
       "  flex-direction: column;\n",
       "  align-items: center;\n",
       "  background-color: var(--sklearn-color-background);\n",
       "  padding-right: 1em;\n",
       "  padding-left: 1em;\n",
       "}\n",
       "\n",
       "\n",
       "/* Toggleable style: style used for estimator/Pipeline/ColumnTransformer box that is\n",
       "clickable and can be expanded/collapsed.\n",
       "- Pipeline and ColumnTransformer use this feature and define the default style\n",
       "- Estimators will overwrite some part of the style using the `sk-estimator` class\n",
       "*/\n",
       "\n",
       "/* Pipeline and ColumnTransformer style (default) */\n",
       "\n",
       "#sk-container-id-8 div.sk-toggleable {\n",
       "  /* Default theme specific background. It is overwritten whether we have a\n",
       "  specific estimator or a Pipeline/ColumnTransformer */\n",
       "  background-color: var(--sklearn-color-background);\n",
       "}\n",
       "\n",
       "/* Toggleable label */\n",
       "#sk-container-id-8 label.sk-toggleable__label {\n",
       "  cursor: pointer;\n",
       "  display: flex;\n",
       "  width: 100%;\n",
       "  margin-bottom: 0;\n",
       "  padding: 0.5em;\n",
       "  box-sizing: border-box;\n",
       "  text-align: center;\n",
       "  align-items: start;\n",
       "  justify-content: space-between;\n",
       "  gap: 0.5em;\n",
       "}\n",
       "\n",
       "#sk-container-id-8 label.sk-toggleable__label .caption {\n",
       "  font-size: 0.6rem;\n",
       "  font-weight: lighter;\n",
       "  color: var(--sklearn-color-text-muted);\n",
       "}\n",
       "\n",
       "#sk-container-id-8 label.sk-toggleable__label-arrow:before {\n",
       "  /* Arrow on the left of the label */\n",
       "  content: \"▸\";\n",
       "  float: left;\n",
       "  margin-right: 0.25em;\n",
       "  color: var(--sklearn-color-icon);\n",
       "}\n",
       "\n",
       "#sk-container-id-8 label.sk-toggleable__label-arrow:hover:before {\n",
       "  color: var(--sklearn-color-text);\n",
       "}\n",
       "\n",
       "/* Toggleable content - dropdown */\n",
       "\n",
       "#sk-container-id-8 div.sk-toggleable__content {\n",
       "  max-height: 0;\n",
       "  max-width: 0;\n",
       "  overflow: hidden;\n",
       "  text-align: left;\n",
       "  /* unfitted */\n",
       "  background-color: var(--sklearn-color-unfitted-level-0);\n",
       "}\n",
       "\n",
       "#sk-container-id-8 div.sk-toggleable__content.fitted {\n",
       "  /* fitted */\n",
       "  background-color: var(--sklearn-color-fitted-level-0);\n",
       "}\n",
       "\n",
       "#sk-container-id-8 div.sk-toggleable__content pre {\n",
       "  margin: 0.2em;\n",
       "  border-radius: 0.25em;\n",
       "  color: var(--sklearn-color-text);\n",
       "  /* unfitted */\n",
       "  background-color: var(--sklearn-color-unfitted-level-0);\n",
       "}\n",
       "\n",
       "#sk-container-id-8 div.sk-toggleable__content.fitted pre {\n",
       "  /* unfitted */\n",
       "  background-color: var(--sklearn-color-fitted-level-0);\n",
       "}\n",
       "\n",
       "#sk-container-id-8 input.sk-toggleable__control:checked~div.sk-toggleable__content {\n",
       "  /* Expand drop-down */\n",
       "  max-height: 200px;\n",
       "  max-width: 100%;\n",
       "  overflow: auto;\n",
       "}\n",
       "\n",
       "#sk-container-id-8 input.sk-toggleable__control:checked~label.sk-toggleable__label-arrow:before {\n",
       "  content: \"▾\";\n",
       "}\n",
       "\n",
       "/* Pipeline/ColumnTransformer-specific style */\n",
       "\n",
       "#sk-container-id-8 div.sk-label input.sk-toggleable__control:checked~label.sk-toggleable__label {\n",
       "  color: var(--sklearn-color-text);\n",
       "  background-color: var(--sklearn-color-unfitted-level-2);\n",
       "}\n",
       "\n",
       "#sk-container-id-8 div.sk-label.fitted input.sk-toggleable__control:checked~label.sk-toggleable__label {\n",
       "  background-color: var(--sklearn-color-fitted-level-2);\n",
       "}\n",
       "\n",
       "/* Estimator-specific style */\n",
       "\n",
       "/* Colorize estimator box */\n",
       "#sk-container-id-8 div.sk-estimator input.sk-toggleable__control:checked~label.sk-toggleable__label {\n",
       "  /* unfitted */\n",
       "  background-color: var(--sklearn-color-unfitted-level-2);\n",
       "}\n",
       "\n",
       "#sk-container-id-8 div.sk-estimator.fitted input.sk-toggleable__control:checked~label.sk-toggleable__label {\n",
       "  /* fitted */\n",
       "  background-color: var(--sklearn-color-fitted-level-2);\n",
       "}\n",
       "\n",
       "#sk-container-id-8 div.sk-label label.sk-toggleable__label,\n",
       "#sk-container-id-8 div.sk-label label {\n",
       "  /* The background is the default theme color */\n",
       "  color: var(--sklearn-color-text-on-default-background);\n",
       "}\n",
       "\n",
       "/* On hover, darken the color of the background */\n",
       "#sk-container-id-8 div.sk-label:hover label.sk-toggleable__label {\n",
       "  color: var(--sklearn-color-text);\n",
       "  background-color: var(--sklearn-color-unfitted-level-2);\n",
       "}\n",
       "\n",
       "/* Label box, darken color on hover, fitted */\n",
       "#sk-container-id-8 div.sk-label.fitted:hover label.sk-toggleable__label.fitted {\n",
       "  color: var(--sklearn-color-text);\n",
       "  background-color: var(--sklearn-color-fitted-level-2);\n",
       "}\n",
       "\n",
       "/* Estimator label */\n",
       "\n",
       "#sk-container-id-8 div.sk-label label {\n",
       "  font-family: monospace;\n",
       "  font-weight: bold;\n",
       "  display: inline-block;\n",
       "  line-height: 1.2em;\n",
       "}\n",
       "\n",
       "#sk-container-id-8 div.sk-label-container {\n",
       "  text-align: center;\n",
       "}\n",
       "\n",
       "/* Estimator-specific */\n",
       "#sk-container-id-8 div.sk-estimator {\n",
       "  font-family: monospace;\n",
       "  border: 1px dotted var(--sklearn-color-border-box);\n",
       "  border-radius: 0.25em;\n",
       "  box-sizing: border-box;\n",
       "  margin-bottom: 0.5em;\n",
       "  /* unfitted */\n",
       "  background-color: var(--sklearn-color-unfitted-level-0);\n",
       "}\n",
       "\n",
       "#sk-container-id-8 div.sk-estimator.fitted {\n",
       "  /* fitted */\n",
       "  background-color: var(--sklearn-color-fitted-level-0);\n",
       "}\n",
       "\n",
       "/* on hover */\n",
       "#sk-container-id-8 div.sk-estimator:hover {\n",
       "  /* unfitted */\n",
       "  background-color: var(--sklearn-color-unfitted-level-2);\n",
       "}\n",
       "\n",
       "#sk-container-id-8 div.sk-estimator.fitted:hover {\n",
       "  /* fitted */\n",
       "  background-color: var(--sklearn-color-fitted-level-2);\n",
       "}\n",
       "\n",
       "/* Specification for estimator info (e.g. \"i\" and \"?\") */\n",
       "\n",
       "/* Common style for \"i\" and \"?\" */\n",
       "\n",
       ".sk-estimator-doc-link,\n",
       "a:link.sk-estimator-doc-link,\n",
       "a:visited.sk-estimator-doc-link {\n",
       "  float: right;\n",
       "  font-size: smaller;\n",
       "  line-height: 1em;\n",
       "  font-family: monospace;\n",
       "  background-color: var(--sklearn-color-background);\n",
       "  border-radius: 1em;\n",
       "  height: 1em;\n",
       "  width: 1em;\n",
       "  text-decoration: none !important;\n",
       "  margin-left: 0.5em;\n",
       "  text-align: center;\n",
       "  /* unfitted */\n",
       "  border: var(--sklearn-color-unfitted-level-1) 1pt solid;\n",
       "  color: var(--sklearn-color-unfitted-level-1);\n",
       "}\n",
       "\n",
       ".sk-estimator-doc-link.fitted,\n",
       "a:link.sk-estimator-doc-link.fitted,\n",
       "a:visited.sk-estimator-doc-link.fitted {\n",
       "  /* fitted */\n",
       "  border: var(--sklearn-color-fitted-level-1) 1pt solid;\n",
       "  color: var(--sklearn-color-fitted-level-1);\n",
       "}\n",
       "\n",
       "/* On hover */\n",
       "div.sk-estimator:hover .sk-estimator-doc-link:hover,\n",
       ".sk-estimator-doc-link:hover,\n",
       "div.sk-label-container:hover .sk-estimator-doc-link:hover,\n",
       ".sk-estimator-doc-link:hover {\n",
       "  /* unfitted */\n",
       "  background-color: var(--sklearn-color-unfitted-level-3);\n",
       "  color: var(--sklearn-color-background);\n",
       "  text-decoration: none;\n",
       "}\n",
       "\n",
       "div.sk-estimator.fitted:hover .sk-estimator-doc-link.fitted:hover,\n",
       ".sk-estimator-doc-link.fitted:hover,\n",
       "div.sk-label-container:hover .sk-estimator-doc-link.fitted:hover,\n",
       ".sk-estimator-doc-link.fitted:hover {\n",
       "  /* fitted */\n",
       "  background-color: var(--sklearn-color-fitted-level-3);\n",
       "  color: var(--sklearn-color-background);\n",
       "  text-decoration: none;\n",
       "}\n",
       "\n",
       "/* Span, style for the box shown on hovering the info icon */\n",
       ".sk-estimator-doc-link span {\n",
       "  display: none;\n",
       "  z-index: 9999;\n",
       "  position: relative;\n",
       "  font-weight: normal;\n",
       "  right: .2ex;\n",
       "  padding: .5ex;\n",
       "  margin: .5ex;\n",
       "  width: min-content;\n",
       "  min-width: 20ex;\n",
       "  max-width: 50ex;\n",
       "  color: var(--sklearn-color-text);\n",
       "  box-shadow: 2pt 2pt 4pt #999;\n",
       "  /* unfitted */\n",
       "  background: var(--sklearn-color-unfitted-level-0);\n",
       "  border: .5pt solid var(--sklearn-color-unfitted-level-3);\n",
       "}\n",
       "\n",
       ".sk-estimator-doc-link.fitted span {\n",
       "  /* fitted */\n",
       "  background: var(--sklearn-color-fitted-level-0);\n",
       "  border: var(--sklearn-color-fitted-level-3);\n",
       "}\n",
       "\n",
       ".sk-estimator-doc-link:hover span {\n",
       "  display: block;\n",
       "}\n",
       "\n",
       "/* \"?\"-specific style due to the `<a>` HTML tag */\n",
       "\n",
       "#sk-container-id-8 a.estimator_doc_link {\n",
       "  float: right;\n",
       "  font-size: 1rem;\n",
       "  line-height: 1em;\n",
       "  font-family: monospace;\n",
       "  background-color: var(--sklearn-color-background);\n",
       "  border-radius: 1rem;\n",
       "  height: 1rem;\n",
       "  width: 1rem;\n",
       "  text-decoration: none;\n",
       "  /* unfitted */\n",
       "  color: var(--sklearn-color-unfitted-level-1);\n",
       "  border: var(--sklearn-color-unfitted-level-1) 1pt solid;\n",
       "}\n",
       "\n",
       "#sk-container-id-8 a.estimator_doc_link.fitted {\n",
       "  /* fitted */\n",
       "  border: var(--sklearn-color-fitted-level-1) 1pt solid;\n",
       "  color: var(--sklearn-color-fitted-level-1);\n",
       "}\n",
       "\n",
       "/* On hover */\n",
       "#sk-container-id-8 a.estimator_doc_link:hover {\n",
       "  /* unfitted */\n",
       "  background-color: var(--sklearn-color-unfitted-level-3);\n",
       "  color: var(--sklearn-color-background);\n",
       "  text-decoration: none;\n",
       "}\n",
       "\n",
       "#sk-container-id-8 a.estimator_doc_link.fitted:hover {\n",
       "  /* fitted */\n",
       "  background-color: var(--sklearn-color-fitted-level-3);\n",
       "}\n",
       "</style><div id=\"sk-container-id-8\" class=\"sk-top-container\"><div class=\"sk-text-repr-fallback\"><pre>LinearRegression()</pre><b>In a Jupyter environment, please rerun this cell to show the HTML representation or trust the notebook. <br />On GitHub, the HTML representation is unable to render, please try loading this page with nbviewer.org.</b></div><div class=\"sk-container\" hidden><div class=\"sk-item\"><div class=\"sk-estimator fitted sk-toggleable\"><input class=\"sk-toggleable__control sk-hidden--visually\" id=\"sk-estimator-id-8\" type=\"checkbox\" checked><label for=\"sk-estimator-id-8\" class=\"sk-toggleable__label fitted sk-toggleable__label-arrow\"><div><div>LinearRegression</div></div><div><a class=\"sk-estimator-doc-link fitted\" rel=\"noreferrer\" target=\"_blank\" href=\"https://scikit-learn.org/1.6/modules/generated/sklearn.linear_model.LinearRegression.html\">?<span>Documentation for LinearRegression</span></a><span class=\"sk-estimator-doc-link fitted\">i<span>Fitted</span></span></div></label><div class=\"sk-toggleable__content fitted\"><pre>LinearRegression()</pre></div> </div></div></div></div>"
      ],
      "text/plain": [
       "LinearRegression()"
      ]
     },
     "execution_count": 192,
     "metadata": {},
     "output_type": "execute_result"
    }
   ],
   "source": [
    "lr = LinearRegression()\n",
    "lr.fit(X_train_poly, y_train)  "
   ]
  },
  {
   "cell_type": "code",
   "execution_count": 193,
   "id": "9aa22e61",
   "metadata": {},
   "outputs": [
    {
     "data": {
      "text/plain": [
       "84.09"
      ]
     },
     "execution_count": 193,
     "metadata": {},
     "output_type": "execute_result"
    }
   ],
   "source": [
    "round(lr.score(X_train_poly , y_train) * 100, 2)"
   ]
  },
  {
   "cell_type": "code",
   "execution_count": 194,
   "id": "9e66eaf4",
   "metadata": {},
   "outputs": [
    {
     "data": {
      "text/plain": [
       "74.99"
      ]
     },
     "execution_count": 194,
     "metadata": {},
     "output_type": "execute_result"
    }
   ],
   "source": [
    "round(lr.score(X_test_poly , y_test) * 100, 2)"
   ]
  },
  {
   "cell_type": "markdown",
   "id": "f18a4d27",
   "metadata": {},
   "source": [
    "# Regularization"
   ]
  },
  {
   "cell_type": "code",
   "execution_count": 195,
   "id": "09d97d23",
   "metadata": {},
   "outputs": [
    {
     "name": "stderr",
     "output_type": "stream",
     "text": [
      "c:\\Users\\Root\\anaconda3\\envs\\m_l\\lib\\site-packages\\sklearn\\linear_model\\_coordinate_descent.py:695: ConvergenceWarning:\n",
      "\n",
      "Objective did not converge. You might want to increase the number of iterations, check the scale of the features or consider increasing regularisation. Duality gap: 1.252e+10, tolerance: 1.801e+07\n",
      "\n"
     ]
    },
    {
     "data": {
      "text/html": [
       "<style>#sk-container-id-9 {\n",
       "  /* Definition of color scheme common for light and dark mode */\n",
       "  --sklearn-color-text: #000;\n",
       "  --sklearn-color-text-muted: #666;\n",
       "  --sklearn-color-line: gray;\n",
       "  /* Definition of color scheme for unfitted estimators */\n",
       "  --sklearn-color-unfitted-level-0: #fff5e6;\n",
       "  --sklearn-color-unfitted-level-1: #f6e4d2;\n",
       "  --sklearn-color-unfitted-level-2: #ffe0b3;\n",
       "  --sklearn-color-unfitted-level-3: chocolate;\n",
       "  /* Definition of color scheme for fitted estimators */\n",
       "  --sklearn-color-fitted-level-0: #f0f8ff;\n",
       "  --sklearn-color-fitted-level-1: #d4ebff;\n",
       "  --sklearn-color-fitted-level-2: #b3dbfd;\n",
       "  --sklearn-color-fitted-level-3: cornflowerblue;\n",
       "\n",
       "  /* Specific color for light theme */\n",
       "  --sklearn-color-text-on-default-background: var(--sg-text-color, var(--theme-code-foreground, var(--jp-content-font-color1, black)));\n",
       "  --sklearn-color-background: var(--sg-background-color, var(--theme-background, var(--jp-layout-color0, white)));\n",
       "  --sklearn-color-border-box: var(--sg-text-color, var(--theme-code-foreground, var(--jp-content-font-color1, black)));\n",
       "  --sklearn-color-icon: #696969;\n",
       "\n",
       "  @media (prefers-color-scheme: dark) {\n",
       "    /* Redefinition of color scheme for dark theme */\n",
       "    --sklearn-color-text-on-default-background: var(--sg-text-color, var(--theme-code-foreground, var(--jp-content-font-color1, white)));\n",
       "    --sklearn-color-background: var(--sg-background-color, var(--theme-background, var(--jp-layout-color0, #111)));\n",
       "    --sklearn-color-border-box: var(--sg-text-color, var(--theme-code-foreground, var(--jp-content-font-color1, white)));\n",
       "    --sklearn-color-icon: #878787;\n",
       "  }\n",
       "}\n",
       "\n",
       "#sk-container-id-9 {\n",
       "  color: var(--sklearn-color-text);\n",
       "}\n",
       "\n",
       "#sk-container-id-9 pre {\n",
       "  padding: 0;\n",
       "}\n",
       "\n",
       "#sk-container-id-9 input.sk-hidden--visually {\n",
       "  border: 0;\n",
       "  clip: rect(1px 1px 1px 1px);\n",
       "  clip: rect(1px, 1px, 1px, 1px);\n",
       "  height: 1px;\n",
       "  margin: -1px;\n",
       "  overflow: hidden;\n",
       "  padding: 0;\n",
       "  position: absolute;\n",
       "  width: 1px;\n",
       "}\n",
       "\n",
       "#sk-container-id-9 div.sk-dashed-wrapped {\n",
       "  border: 1px dashed var(--sklearn-color-line);\n",
       "  margin: 0 0.4em 0.5em 0.4em;\n",
       "  box-sizing: border-box;\n",
       "  padding-bottom: 0.4em;\n",
       "  background-color: var(--sklearn-color-background);\n",
       "}\n",
       "\n",
       "#sk-container-id-9 div.sk-container {\n",
       "  /* jupyter's `normalize.less` sets `[hidden] { display: none; }`\n",
       "     but bootstrap.min.css set `[hidden] { display: none !important; }`\n",
       "     so we also need the `!important` here to be able to override the\n",
       "     default hidden behavior on the sphinx rendered scikit-learn.org.\n",
       "     See: https://github.com/scikit-learn/scikit-learn/issues/21755 */\n",
       "  display: inline-block !important;\n",
       "  position: relative;\n",
       "}\n",
       "\n",
       "#sk-container-id-9 div.sk-text-repr-fallback {\n",
       "  display: none;\n",
       "}\n",
       "\n",
       "div.sk-parallel-item,\n",
       "div.sk-serial,\n",
       "div.sk-item {\n",
       "  /* draw centered vertical line to link estimators */\n",
       "  background-image: linear-gradient(var(--sklearn-color-text-on-default-background), var(--sklearn-color-text-on-default-background));\n",
       "  background-size: 2px 100%;\n",
       "  background-repeat: no-repeat;\n",
       "  background-position: center center;\n",
       "}\n",
       "\n",
       "/* Parallel-specific style estimator block */\n",
       "\n",
       "#sk-container-id-9 div.sk-parallel-item::after {\n",
       "  content: \"\";\n",
       "  width: 100%;\n",
       "  border-bottom: 2px solid var(--sklearn-color-text-on-default-background);\n",
       "  flex-grow: 1;\n",
       "}\n",
       "\n",
       "#sk-container-id-9 div.sk-parallel {\n",
       "  display: flex;\n",
       "  align-items: stretch;\n",
       "  justify-content: center;\n",
       "  background-color: var(--sklearn-color-background);\n",
       "  position: relative;\n",
       "}\n",
       "\n",
       "#sk-container-id-9 div.sk-parallel-item {\n",
       "  display: flex;\n",
       "  flex-direction: column;\n",
       "}\n",
       "\n",
       "#sk-container-id-9 div.sk-parallel-item:first-child::after {\n",
       "  align-self: flex-end;\n",
       "  width: 50%;\n",
       "}\n",
       "\n",
       "#sk-container-id-9 div.sk-parallel-item:last-child::after {\n",
       "  align-self: flex-start;\n",
       "  width: 50%;\n",
       "}\n",
       "\n",
       "#sk-container-id-9 div.sk-parallel-item:only-child::after {\n",
       "  width: 0;\n",
       "}\n",
       "\n",
       "/* Serial-specific style estimator block */\n",
       "\n",
       "#sk-container-id-9 div.sk-serial {\n",
       "  display: flex;\n",
       "  flex-direction: column;\n",
       "  align-items: center;\n",
       "  background-color: var(--sklearn-color-background);\n",
       "  padding-right: 1em;\n",
       "  padding-left: 1em;\n",
       "}\n",
       "\n",
       "\n",
       "/* Toggleable style: style used for estimator/Pipeline/ColumnTransformer box that is\n",
       "clickable and can be expanded/collapsed.\n",
       "- Pipeline and ColumnTransformer use this feature and define the default style\n",
       "- Estimators will overwrite some part of the style using the `sk-estimator` class\n",
       "*/\n",
       "\n",
       "/* Pipeline and ColumnTransformer style (default) */\n",
       "\n",
       "#sk-container-id-9 div.sk-toggleable {\n",
       "  /* Default theme specific background. It is overwritten whether we have a\n",
       "  specific estimator or a Pipeline/ColumnTransformer */\n",
       "  background-color: var(--sklearn-color-background);\n",
       "}\n",
       "\n",
       "/* Toggleable label */\n",
       "#sk-container-id-9 label.sk-toggleable__label {\n",
       "  cursor: pointer;\n",
       "  display: flex;\n",
       "  width: 100%;\n",
       "  margin-bottom: 0;\n",
       "  padding: 0.5em;\n",
       "  box-sizing: border-box;\n",
       "  text-align: center;\n",
       "  align-items: start;\n",
       "  justify-content: space-between;\n",
       "  gap: 0.5em;\n",
       "}\n",
       "\n",
       "#sk-container-id-9 label.sk-toggleable__label .caption {\n",
       "  font-size: 0.6rem;\n",
       "  font-weight: lighter;\n",
       "  color: var(--sklearn-color-text-muted);\n",
       "}\n",
       "\n",
       "#sk-container-id-9 label.sk-toggleable__label-arrow:before {\n",
       "  /* Arrow on the left of the label */\n",
       "  content: \"▸\";\n",
       "  float: left;\n",
       "  margin-right: 0.25em;\n",
       "  color: var(--sklearn-color-icon);\n",
       "}\n",
       "\n",
       "#sk-container-id-9 label.sk-toggleable__label-arrow:hover:before {\n",
       "  color: var(--sklearn-color-text);\n",
       "}\n",
       "\n",
       "/* Toggleable content - dropdown */\n",
       "\n",
       "#sk-container-id-9 div.sk-toggleable__content {\n",
       "  max-height: 0;\n",
       "  max-width: 0;\n",
       "  overflow: hidden;\n",
       "  text-align: left;\n",
       "  /* unfitted */\n",
       "  background-color: var(--sklearn-color-unfitted-level-0);\n",
       "}\n",
       "\n",
       "#sk-container-id-9 div.sk-toggleable__content.fitted {\n",
       "  /* fitted */\n",
       "  background-color: var(--sklearn-color-fitted-level-0);\n",
       "}\n",
       "\n",
       "#sk-container-id-9 div.sk-toggleable__content pre {\n",
       "  margin: 0.2em;\n",
       "  border-radius: 0.25em;\n",
       "  color: var(--sklearn-color-text);\n",
       "  /* unfitted */\n",
       "  background-color: var(--sklearn-color-unfitted-level-0);\n",
       "}\n",
       "\n",
       "#sk-container-id-9 div.sk-toggleable__content.fitted pre {\n",
       "  /* unfitted */\n",
       "  background-color: var(--sklearn-color-fitted-level-0);\n",
       "}\n",
       "\n",
       "#sk-container-id-9 input.sk-toggleable__control:checked~div.sk-toggleable__content {\n",
       "  /* Expand drop-down */\n",
       "  max-height: 200px;\n",
       "  max-width: 100%;\n",
       "  overflow: auto;\n",
       "}\n",
       "\n",
       "#sk-container-id-9 input.sk-toggleable__control:checked~label.sk-toggleable__label-arrow:before {\n",
       "  content: \"▾\";\n",
       "}\n",
       "\n",
       "/* Pipeline/ColumnTransformer-specific style */\n",
       "\n",
       "#sk-container-id-9 div.sk-label input.sk-toggleable__control:checked~label.sk-toggleable__label {\n",
       "  color: var(--sklearn-color-text);\n",
       "  background-color: var(--sklearn-color-unfitted-level-2);\n",
       "}\n",
       "\n",
       "#sk-container-id-9 div.sk-label.fitted input.sk-toggleable__control:checked~label.sk-toggleable__label {\n",
       "  background-color: var(--sklearn-color-fitted-level-2);\n",
       "}\n",
       "\n",
       "/* Estimator-specific style */\n",
       "\n",
       "/* Colorize estimator box */\n",
       "#sk-container-id-9 div.sk-estimator input.sk-toggleable__control:checked~label.sk-toggleable__label {\n",
       "  /* unfitted */\n",
       "  background-color: var(--sklearn-color-unfitted-level-2);\n",
       "}\n",
       "\n",
       "#sk-container-id-9 div.sk-estimator.fitted input.sk-toggleable__control:checked~label.sk-toggleable__label {\n",
       "  /* fitted */\n",
       "  background-color: var(--sklearn-color-fitted-level-2);\n",
       "}\n",
       "\n",
       "#sk-container-id-9 div.sk-label label.sk-toggleable__label,\n",
       "#sk-container-id-9 div.sk-label label {\n",
       "  /* The background is the default theme color */\n",
       "  color: var(--sklearn-color-text-on-default-background);\n",
       "}\n",
       "\n",
       "/* On hover, darken the color of the background */\n",
       "#sk-container-id-9 div.sk-label:hover label.sk-toggleable__label {\n",
       "  color: var(--sklearn-color-text);\n",
       "  background-color: var(--sklearn-color-unfitted-level-2);\n",
       "}\n",
       "\n",
       "/* Label box, darken color on hover, fitted */\n",
       "#sk-container-id-9 div.sk-label.fitted:hover label.sk-toggleable__label.fitted {\n",
       "  color: var(--sklearn-color-text);\n",
       "  background-color: var(--sklearn-color-fitted-level-2);\n",
       "}\n",
       "\n",
       "/* Estimator label */\n",
       "\n",
       "#sk-container-id-9 div.sk-label label {\n",
       "  font-family: monospace;\n",
       "  font-weight: bold;\n",
       "  display: inline-block;\n",
       "  line-height: 1.2em;\n",
       "}\n",
       "\n",
       "#sk-container-id-9 div.sk-label-container {\n",
       "  text-align: center;\n",
       "}\n",
       "\n",
       "/* Estimator-specific */\n",
       "#sk-container-id-9 div.sk-estimator {\n",
       "  font-family: monospace;\n",
       "  border: 1px dotted var(--sklearn-color-border-box);\n",
       "  border-radius: 0.25em;\n",
       "  box-sizing: border-box;\n",
       "  margin-bottom: 0.5em;\n",
       "  /* unfitted */\n",
       "  background-color: var(--sklearn-color-unfitted-level-0);\n",
       "}\n",
       "\n",
       "#sk-container-id-9 div.sk-estimator.fitted {\n",
       "  /* fitted */\n",
       "  background-color: var(--sklearn-color-fitted-level-0);\n",
       "}\n",
       "\n",
       "/* on hover */\n",
       "#sk-container-id-9 div.sk-estimator:hover {\n",
       "  /* unfitted */\n",
       "  background-color: var(--sklearn-color-unfitted-level-2);\n",
       "}\n",
       "\n",
       "#sk-container-id-9 div.sk-estimator.fitted:hover {\n",
       "  /* fitted */\n",
       "  background-color: var(--sklearn-color-fitted-level-2);\n",
       "}\n",
       "\n",
       "/* Specification for estimator info (e.g. \"i\" and \"?\") */\n",
       "\n",
       "/* Common style for \"i\" and \"?\" */\n",
       "\n",
       ".sk-estimator-doc-link,\n",
       "a:link.sk-estimator-doc-link,\n",
       "a:visited.sk-estimator-doc-link {\n",
       "  float: right;\n",
       "  font-size: smaller;\n",
       "  line-height: 1em;\n",
       "  font-family: monospace;\n",
       "  background-color: var(--sklearn-color-background);\n",
       "  border-radius: 1em;\n",
       "  height: 1em;\n",
       "  width: 1em;\n",
       "  text-decoration: none !important;\n",
       "  margin-left: 0.5em;\n",
       "  text-align: center;\n",
       "  /* unfitted */\n",
       "  border: var(--sklearn-color-unfitted-level-1) 1pt solid;\n",
       "  color: var(--sklearn-color-unfitted-level-1);\n",
       "}\n",
       "\n",
       ".sk-estimator-doc-link.fitted,\n",
       "a:link.sk-estimator-doc-link.fitted,\n",
       "a:visited.sk-estimator-doc-link.fitted {\n",
       "  /* fitted */\n",
       "  border: var(--sklearn-color-fitted-level-1) 1pt solid;\n",
       "  color: var(--sklearn-color-fitted-level-1);\n",
       "}\n",
       "\n",
       "/* On hover */\n",
       "div.sk-estimator:hover .sk-estimator-doc-link:hover,\n",
       ".sk-estimator-doc-link:hover,\n",
       "div.sk-label-container:hover .sk-estimator-doc-link:hover,\n",
       ".sk-estimator-doc-link:hover {\n",
       "  /* unfitted */\n",
       "  background-color: var(--sklearn-color-unfitted-level-3);\n",
       "  color: var(--sklearn-color-background);\n",
       "  text-decoration: none;\n",
       "}\n",
       "\n",
       "div.sk-estimator.fitted:hover .sk-estimator-doc-link.fitted:hover,\n",
       ".sk-estimator-doc-link.fitted:hover,\n",
       "div.sk-label-container:hover .sk-estimator-doc-link.fitted:hover,\n",
       ".sk-estimator-doc-link.fitted:hover {\n",
       "  /* fitted */\n",
       "  background-color: var(--sklearn-color-fitted-level-3);\n",
       "  color: var(--sklearn-color-background);\n",
       "  text-decoration: none;\n",
       "}\n",
       "\n",
       "/* Span, style for the box shown on hovering the info icon */\n",
       ".sk-estimator-doc-link span {\n",
       "  display: none;\n",
       "  z-index: 9999;\n",
       "  position: relative;\n",
       "  font-weight: normal;\n",
       "  right: .2ex;\n",
       "  padding: .5ex;\n",
       "  margin: .5ex;\n",
       "  width: min-content;\n",
       "  min-width: 20ex;\n",
       "  max-width: 50ex;\n",
       "  color: var(--sklearn-color-text);\n",
       "  box-shadow: 2pt 2pt 4pt #999;\n",
       "  /* unfitted */\n",
       "  background: var(--sklearn-color-unfitted-level-0);\n",
       "  border: .5pt solid var(--sklearn-color-unfitted-level-3);\n",
       "}\n",
       "\n",
       ".sk-estimator-doc-link.fitted span {\n",
       "  /* fitted */\n",
       "  background: var(--sklearn-color-fitted-level-0);\n",
       "  border: var(--sklearn-color-fitted-level-3);\n",
       "}\n",
       "\n",
       ".sk-estimator-doc-link:hover span {\n",
       "  display: block;\n",
       "}\n",
       "\n",
       "/* \"?\"-specific style due to the `<a>` HTML tag */\n",
       "\n",
       "#sk-container-id-9 a.estimator_doc_link {\n",
       "  float: right;\n",
       "  font-size: 1rem;\n",
       "  line-height: 1em;\n",
       "  font-family: monospace;\n",
       "  background-color: var(--sklearn-color-background);\n",
       "  border-radius: 1rem;\n",
       "  height: 1rem;\n",
       "  width: 1rem;\n",
       "  text-decoration: none;\n",
       "  /* unfitted */\n",
       "  color: var(--sklearn-color-unfitted-level-1);\n",
       "  border: var(--sklearn-color-unfitted-level-1) 1pt solid;\n",
       "}\n",
       "\n",
       "#sk-container-id-9 a.estimator_doc_link.fitted {\n",
       "  /* fitted */\n",
       "  border: var(--sklearn-color-fitted-level-1) 1pt solid;\n",
       "  color: var(--sklearn-color-fitted-level-1);\n",
       "}\n",
       "\n",
       "/* On hover */\n",
       "#sk-container-id-9 a.estimator_doc_link:hover {\n",
       "  /* unfitted */\n",
       "  background-color: var(--sklearn-color-unfitted-level-3);\n",
       "  color: var(--sklearn-color-background);\n",
       "  text-decoration: none;\n",
       "}\n",
       "\n",
       "#sk-container-id-9 a.estimator_doc_link.fitted:hover {\n",
       "  /* fitted */\n",
       "  background-color: var(--sklearn-color-fitted-level-3);\n",
       "}\n",
       "</style><div id=\"sk-container-id-9\" class=\"sk-top-container\"><div class=\"sk-text-repr-fallback\"><pre>Lasso(alpha=0.5)</pre><b>In a Jupyter environment, please rerun this cell to show the HTML representation or trust the notebook. <br />On GitHub, the HTML representation is unable to render, please try loading this page with nbviewer.org.</b></div><div class=\"sk-container\" hidden><div class=\"sk-item\"><div class=\"sk-estimator fitted sk-toggleable\"><input class=\"sk-toggleable__control sk-hidden--visually\" id=\"sk-estimator-id-9\" type=\"checkbox\" checked><label for=\"sk-estimator-id-9\" class=\"sk-toggleable__label fitted sk-toggleable__label-arrow\"><div><div>Lasso</div></div><div><a class=\"sk-estimator-doc-link fitted\" rel=\"noreferrer\" target=\"_blank\" href=\"https://scikit-learn.org/1.6/modules/generated/sklearn.linear_model.Lasso.html\">?<span>Documentation for Lasso</span></a><span class=\"sk-estimator-doc-link fitted\">i<span>Fitted</span></span></div></label><div class=\"sk-toggleable__content fitted\"><pre>Lasso(alpha=0.5)</pre></div> </div></div></div></div>"
      ],
      "text/plain": [
       "Lasso(alpha=0.5)"
      ]
     },
     "execution_count": 195,
     "metadata": {},
     "output_type": "execute_result"
    }
   ],
   "source": [
    "from sklearn.linear_model import Lasso\n",
    "lass  = Lasso(alpha=0.5)\n",
    "lass.fit(X_train_poly , y_train)"
   ]
  },
  {
   "cell_type": "code",
   "execution_count": 196,
   "id": "7ec329a5",
   "metadata": {},
   "outputs": [
    {
     "data": {
      "text/plain": [
       "84.06"
      ]
     },
     "execution_count": 196,
     "metadata": {},
     "output_type": "execute_result"
    }
   ],
   "source": [
    "round(lass.score(X_train_poly , y_train) * 100, 2)"
   ]
  },
  {
   "cell_type": "code",
   "execution_count": 197,
   "id": "5da4cb4a",
   "metadata": {},
   "outputs": [
    {
     "data": {
      "text/plain": [
       "77.0"
      ]
     },
     "execution_count": 197,
     "metadata": {},
     "output_type": "execute_result"
    }
   ],
   "source": [
    "round(lass.score(X_test_poly , y_test) * 100, 2)"
   ]
  },
  {
   "cell_type": "code",
   "execution_count": null,
   "id": "1b11bb16",
   "metadata": {},
   "outputs": [],
   "source": []
  },
  {
   "cell_type": "markdown",
   "id": "99a7cbd8",
   "metadata": {},
   "source": []
  }
 ],
 "metadata": {
  "kernelspec": {
   "display_name": "m_l",
   "language": "python",
   "name": "python3"
  },
  "language_info": {
   "codemirror_mode": {
    "name": "ipython",
    "version": 3
   },
   "file_extension": ".py",
   "mimetype": "text/x-python",
   "name": "python",
   "nbconvert_exporter": "python",
   "pygments_lexer": "ipython3",
   "version": "3.9.21"
  }
 },
 "nbformat": 4,
 "nbformat_minor": 5
}
